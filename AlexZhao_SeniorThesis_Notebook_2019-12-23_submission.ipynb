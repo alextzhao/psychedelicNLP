{
 "cells": [
  {
   "cell_type": "markdown",
   "metadata": {
    "colab_type": "text",
    "id": "x9A-7AYkMFLr"
   },
   "source": [
    "# Dimensions of Non-Ordinary Experiences: Natural Language Processing of Trascendent Experience Reports\n",
    "\n",
    "`Senior Thesis [EAS 499]`\n",
    "\n",
    "`University of Pennsylvania, Fall 2019`\n",
    "\n",
    "#### Author: **Alex Tianheng Zhao**  \n",
    "> `alexzhao@seas.upenn.edu`  \n",
    "> Department of Computer and Information, School of Engineering and Applied Science, University of Pennsylvania  \n",
    "> Department of Statistics, The Wharton School, University of Pennsylvania  \n",
    "> 🌐[`personal website`](https://alextzhao.io), [`github`](https://github.com/alextzhao), [`linkedin`](https://www.linkedin.com/in/alextzhao), [`ORCID`](https://orcid.org/0000-0001-6745-5980)\n",
    "\n",
    "\n",
    "#### **Max Mintz, PhD**  \n",
    "> `mintz@cis.upenn.edu`  \n",
    "> Coordinator, Senior Thesis Program, Department of Computer and Information Science  \n",
    "> University of Pennsylvania  \n",
    "\n",
    "\n",
    "## **Thesis Advisors**\n",
    "> **Chris Callison-Burch, PhD**  \n",
    "> `ccb@upenn.edu`  \n",
    "> Department of Computer and Information Science (SEAS), University of Pennsylvania  \n",
    " \n",
    "> **Lyle Ungar, PhD**  \n",
    "> `ungar@cis.upenn.edu`  \n",
    "> Department of Computer and Information Science; additional appoints in the Departments of Bioengineering (SEAS); Genomics and Computational Biology (Penn Medicine); Operations, Informations, and Decisions (Wharton); Psychology (SAS), University of Pennsylvania  \n",
    "\n",
    "\n",
    "### **Useful Links:**\n",
    "- Thesis Related:\n",
    "    - [Thesis Master Document](https://docs.google.com/document/d/1dk1xXyfHqfdn5Tld-KZu7toiNYQeJHQv7BUlG7uSqP4/edit#)\n",
    "    - [Thesis Scratch Paper](https://docs.google.com/document/d/1BP5Z2J9tJvRJB5J-hthQIGrdSnD0Bcvctd7kHqbUUKw/edit?usp=sharing)  \n",
    "    - [Thesis Codebase](https://github.com/alextzhao/psychedelicNLP)\n",
    "- Helpful Tutorials and Tips\n",
    "     - Excellent Series from `Towards Data Science`:\n",
    "         - [A Practitioner's Guide to Natural Language Processing (Part I): Processing & Understanding Text](https://towardsdatascience.com/a-practitioners-guide-to-natural-language-processing-part-i-processing-understanding-text-9f4abfd13e72)\n",
    "         - [Feature Engineering: Continuous Numeric Data](https://towardsdatascience.com/understanding-feature-engineering-part-1-continuous-numeric-data-da4e47099a7b)\n",
    "         - [Feature Engineering: Categorical Data](https://homes.cs.washington.edu/~pedrod/papers/cacm12.pdf)\n",
    "         - [Feature Engineering: Text Data Basics](https://towardsdatascience.com/understanding-feature-engineering-part-3-traditional-methods-for-text-data-f6f7d70acd41)\n",
    "         - [Feature Engineering: Text Data Advanced](https://towardsdatascience.com/understanding-feature-engineering-part-4-deep-learning-methods-for-text-data-96c44370bbfa)\n",
    "     - [A few userful things to know about machine learning](https://homes.cs.washington.edu/~pedrod/papers/cacm12.pdf)\n",
    "     - [LDA: Excellent Talk by Christine Doig on Topic Models](http://chdoig.github.io/pygotham-topic-modeling/#/)\n",
    "     - [Markdown Cheatsheet](https://github.com/adam-p/markdown-here/wiki/Markdown-Cheatsheet#links)\n",
    "     - [Using R and Python together](https://stackoverflow.com/questions/39008069/r-and-python-in-one-jupyter-notebook); [python, R dataframe interoperability](https://rpy2.github.io/doc/latest/html/pandas.html); [R and python pipelining](https://blog.revolutionanalytics.com/2016/01/pipelining-r-python.html)\n",
    "     - [Translate dplyr to pandas](https://pandas.pydata.org/pandas-docs/stable/getting_started/comparison/comparison_with_r.html)\n",
    "     - [Basic pandas tutorial](https://pandas.pydata.org/pandas-docs/stable/getting_started/10min.html#min)\n",
    "     - [Recommended dependencies for pandas](https://pandas.pydata.org/pandas-docs/stable/install.html#install-recommended-dependencies)\n",
    "     - [Pandas: Working with Text Data](https://pandas.pydata.org/pandas-docs/stable/user_guide/text.html)  \n",
    "     - [sklearn reference](https://scikit-learn.org/stable/modules/classes.html): handy documentation, and provides broad-strokes ontology for machine learning techniques\n",
    "     - [Introduction to Machine Learning with sklearn](https://scikit-learn.org/stable/tutorial/basic/tutorial.html)\n",
    "     - [Sample pipeline for text feature extraction and evaluation](https://scikit-learn.org/stable/auto_examples/model_selection/grid_search_text_feature_extraction.html#sphx-glr-auto-examples-model-selection-grid-search-text-feature-extraction-py): using `sklearn`\n",
    "     - [Comparison of performances of different classifiers](https://scikit-learn.org/stable/auto_examples/classification/plot_classifier_comparison.html#sphx-glr-auto-examples-classification-plot-classifier-comparison-py): from `sklearn`, super cool\n",
    "     - TODO: [Citing sklearn](https://scikit-learn.org/stable/about.html#citing-scikit-learn)\n",
    "     - [Contributing to sklearn](https://scikit-learn.org/stable/developers/contributing.html)\n",
    "     - [Manually Creating a table of contents](https://medium.com/@sambozek/ipython-er-jupyter-table-of-contents-69bb72cf39d3)\n",
    "     - [Automaticaly Creating Table of Contents](https://jupyter-contrib-nbextensions.readthedocs.io/en/latest/nbextensions/toc2/README.html)\n",
    "     - [Python Data Science Handbook](https://github.com/jakevdp/PythonDataScienceHandbook): Free Jupyter Notebooks\n",
    "     - [Configuring jupyter notebook with extensions](https://github.com/Jupyter-contrib/jupyter_nbextensions_configurator)\n",
    "- Publishing my thesis:\n",
    "    - [Jupyter Notebook Viewer](https://nbviewer.jupyter.org/)\n",
    "    - [Hiding Code Cells for Better Viewing Experience](https://chris-said.io/2016/02/13/how-to-make-polished-jupyter-presentations-with-optional-code-visibility/)\n",
    "    - [Cool Preloaders](https://icons8.com/preloaders/)\n",
    "   \n",
    "\n",
    "![Pandas Indexing Cheatsheet](./pandas_indexing_cheatsheet.png)\n",
    "- Notes to self:\n",
    "    - `~/opt/anaconda3/lib/python3.7/site-packages/jupyter_contrib_nbextensions/nbextensions/toc2` path to nbextensions toc2\n",
    "    - [fixing nbextensions](https://github.com/ipython-contrib/jupyter_contrib_nbextensions/issues/1090)\n"
   ]
  },
  {
   "cell_type": "markdown",
   "metadata": {
    "colab_type": "text",
    "id": "UrGwu3iCMFLu"
   },
   "source": [
    "# [ Cover Page End ]  \n",
    "\n",
    "<br /> \n",
    "<br /> \n",
    "<br /> \n",
    "<br /> \n",
    "<br /> \n",
    "<br /> \n",
    "<br /> \n",
    "<br /> \n",
    "<br /> \n",
    "<br /> \n",
    "<br /> \n",
    "<br /> \n",
    "<br /> \n",
    "<br /> \n",
    "<br /> \n",
    "<br /> \n",
    "<br /> "
   ]
  },
  {
   "cell_type": "markdown",
   "metadata": {
    "colab_type": "text",
    "id": "xQ1O5-3rMFLu"
   },
   "source": [
    "# Table of Contents\n",
    "`TODO`\n",
    "\n",
    "<br /> \n",
    "<br /> \n",
    "<br /> \n",
    "<br /> \n",
    "<br /> \n",
    "<br /> \n",
    "<br /> \n",
    "<br /> \n",
    "<br /> \n",
    "<br /> \n",
    "<br /> \n",
    "<br /> \n",
    "<br /> \n",
    "<br /> \n",
    "<br /> \n",
    "<br /> \n",
    "<br /> "
   ]
  },
  {
   "cell_type": "markdown",
   "metadata": {
    "colab_type": "text",
    "id": "yYkZN-G6MFLv"
   },
   "source": [
    "# 1. Abstract\n",
    "\n",
    "Using natural language processing (NLP) techniques on approximately 30,000 reports of transcendent experiences, we examine and better understand the dimensions of non-ordinary states of consciousness. The primary data source is the Vaults of Erowid, which consists of approximately 25K psychedelic trip reports. Through this work, we identify the hidden topics of subjective experiences through topic modelling, clusters of similar experiences, and visualize the dimensions of subjective experiences through word clouds and other visualization techniques. We also demonstrate the ability to predict (with fairly high confidence) the origins (i.e.: psychedelic drug of choice, set and setting) of such transcendent experiences. Finally, we place this research in historical and academic context, and make a proposal for a more connected and blissful future.\n",
    "\n",
    "For link to the work in progress codebase, see the [public project github](https://github.com/alextzhao/psychedelicNLP)\n",
    "\n",
    "<br /> \n",
    "<br /> \n",
    "<br /> \n",
    "<br /> \n",
    "<br /> \n",
    "<br /> \n",
    "<br /> \n",
    "<br /> \n",
    "<br /> \n",
    "<br /> \n",
    "<br /> \n",
    "<br /> \n",
    "<br /> \n",
    "<br /> \n",
    "<br /> \n",
    "<br /> \n",
    "<br /> "
   ]
  },
  {
   "cell_type": "markdown",
   "metadata": {
    "colab_type": "text",
    "id": "Uo-U8oO0MFLw"
   },
   "source": [
    "# 2. Background and Signifinance\n",
    "\n",
    "## 2.1 What are Psychedelics\n",
    "\n",
    "todo insert brief legal background\n",
    "\n",
    "**_Psychedelics_** (from the Greek *psyche*: mind, *delos*: make visible, reveal; together meaning “mind manifesting”, coined in a letter from Humphrey Osmond to Aldous Huxley), are “substances that induce a heightened state of consciousness characterised by a hyperconnected brain state” (todo). The most well known “classical psychedelics”, some of which have been used by indigenous cultures for thousands of years, activate the serotonin system, in particular by agonizing the 5HT-2A serotonin receptor subtype. These classical psychedelics include Lysergic Acid Di-amide (LSD, semi-synthetic psychedelic derived from the ergot fungi), Psilocybin (inactive prodrug to the psychoactive Psilocin, found in certain mushrooms), Di-mythyltryptamine (DMT, the active ingredient in the powerful, indigenous Amazonian brew Ayahuasca), and Mescaline (found in Peyote Cactus). Newer psychedelics such as 2-CB, 5-Methoxy-Dimethyltryptamine (5-Meo-DMT, found in multiple plant species and most famously the Sonoran Desert Toad) are also often classified under the term hallucinogen or psychedelic. Other related drugs such as 3,4-Methylenedioxymethamphetamine (MDMA) are often referred to as psychedelic drugs, but are more correctly classified as an empathogen or entactogen (todo) (meaning “touching within”,  from the Greek en: within), the Latin tactus: touch and the Greek -gen: produce)\n",
    "\n",
    "\n",
    "## 2.2 Motivation: Why This Thesis Exists\n",
    "\n",
    "On September 4th, 2019, Johns Hopkins University launched the Johns Hopkins Center for Psychedelics and Consciousness Research, with $17 million dollars in research funding. The center is thought to be the largest of its kind in the world, and sets to study addition, PTSD, addiction, depression, anorexia nervosa, trauma, and other mental “illnesses” with psychedelics and traditional forms of therapy. \n",
    "\n",
    "After decades of suppression and moral hazard, psychedelics are making a return to legitimate research as a novel and surprisingly effective treatment modality for multiple extremely difficult conditions, including but not limited to end of life anxiety (todo), treatment-resistant depression (todo), post traumatic stress disorder (PTSD) (todo), alcohol and nicotine addiction (todo), sexual and racial trauma, and alzheimer’s (todo). Psychedelics have also shown dramatic results for “well-people”, including being able to reliably induce “mystical-type experiences” (todo), increase creativity, and is correlated with greatly enhanced feelings of religious devotion (todo). Beyond clinical studies, animal studies with octopi have demonstrated MDMA increasing feelings of social connectedness (todo); In vitro studies have shown enhanced neuroplasticity (todo Victor preprint), orchestrated brain activity; Brain imaging studies, primarily out of Imperial College London and University College London, have shown psychedelics quiet the default mode network (todo), induce hyperconnected and entropic brain states (todo), and proposed a mechanism for action for psychedelics, formalized as the Free Energy Principle and RHEBUS (todo). Selena Atasoy of Oxford University has also recently demonstrated that the brain under psychedelics has more high energy resonant states, while remaining hyper-coherent and highly orchestrated, using a novel technique called Connectome Specific Harmonic Waves (CSHW). The Qualia Research Institute (QRI) has also recently proposed the Symmetry Theory of Valence (STV), which posits that symmetries in resonant brain states as modelled by a high dimensional mathematical objects, is correlated with experiential valence.\n",
    "\n",
    "With all the exciting work being done in the psychedelics landscape (call it “psychedemia”), be it clinical, neuroscientific, or anthropological, little work has been done on understanding what the psychedelic trip actually consists of, and understanding qualitatively and quantitatively the dimensions of the psychedelic subjective experience. Current work by Imperial College and Oxford (todo) are showing promising results for understanding both the macro and micro phenomenology of psychedelic experiences. Using natural language as a low-dimensional, inadequately wanting proxy, we can begin to understand the hallmark subjective signatures of different substances, and potentially identify novel neuro-targets for clinical interventions to reduce suffering, as well as gain a deeper understanding of mechanisms of action for psychedelic substances, if such a mechanistic understanding is even possible. It is the sincere hope that through this work, we may begin to demystify the subjective dimensions that characterize psychedelic experiences, and lay the foundations for more informed clinical and societal support structures that may alleviate unnecessary mental suffering and enrich the lives of well-people.  \n",
    "\n",
    "This thesis seeks to extend the current work by using techniques from machine learning, and in particular natural language processing, on a corpus of psychedelic trip reports retrieved from multiple sources, including chiefly, the Vaults of Erowid. We will present the results factually, with minimal layers of interpretation and meticulous documentation for high reproducibility, clarifying our assumptions and processes whenever appropriate. It is our hope that this work may be ope\n",
    "n-sourced and beneficial to clinical researchers, psychologists, neuroscientists, machine learning engineers, social scientists, and/or the lay people community as a whole. If not for some deep, metaphysical takeaway, perhaps for some lighthearted, jovial pass time.\n",
    "\n"
   ]
  },
  {
   "cell_type": "markdown",
   "metadata": {
    "colab_type": "text",
    "id": "m9VXuSY1Csv9"
   },
   "source": [
    "## 2.3 Hacky Origins: The Real Reason Why This Thesis Exists\n",
    "\n",
    "In the spring of 2019, Victor Acero, Rahul Sood, Margaret < last name omitted > and I cofounded Penn Society for Psychedelic Science (PSPS), scrambled together the inaugural Intercollegiate Psychedelics Summit, [IPS 2019](https://pennpsychedelics.org/ips2019), at the University of Pennsylvania, which drew about 150 students and 8 speakers, including Frederick Barrett and Manoj Doss from JHU's Center for Psychedeelics and Consciousness Research (Psychedelics Research Unit at the time) and David Nutt, president of the European Brain Council and researcher at Imperial College London's Psychedelics Research Unit. Feeling slightly burnt out from planning the summit in 4 months, we took the summer to recharge, with Victor Acero and Emily Cribas (now PSPS Operational Director) hosting 2 journal clubs over the summer and the remaining cofounders in different corners of the world, recuperating from a very intense 4 months.\n",
    "\n",
    "Come fall of 2019, we reconvened with great enthusiasm, and collectively ratified PSPS's constitution and bylaws, estalished the **Board of Directors** structure, and welcomed 6 new team members onto the **PSPS Council**, which supports the PSPS General Member Body. One of the new members was **Yev Barkalov** (`@yevbar`), who is one of the most talented software engineers and self-proclaimed hackers I know, having founded `Hack the Fog` (San Francisco's first high school hackathon) and attended 30+ hackathons just for fun. Around late September, we began working on establishing [PSPSLabs](https://pennpsychedelics.org/pspslabs), which is an innovative lab for psychedelic projects within the umbrella of PSPS. Think GoogleX, but for psychedelics and consciousness related projects. We were setting up PSPSLabs to provide a nest for potentially impactful, consciousness expanding projects to grow and blossom, and our hope was that through our work, we may enrich the experiences of those around us in safe and responsible ways. With the ethos of silicon valley and a deep, humbling belief that the responsible marrying of tech and science can potentially bring positivity and value to those around us, we began brainstorming projects we could work on for fun to share with the world. Yev and I began calling regularly for hours at a time, sharing resources, chatting about the recent developments in psychedelia, and coming up with random ideas.\n",
    "\n",
    "One of the projects that blossomed into our shared consciousness on one such call was [**EveryQualia**](https://everyqualia.org), a search engine for psychedelic trip reports. We were super curious what the experiences of others were like on psychedelic drugs. We began looking at the Johns Hopkins and Imperial College London survey studies, which had super interesting findings such as how the subjective rating of ego dissolution correlated with the quieting of the default mode network (todo), and how a single high dose psilocyin session let to significant decreaes in depressive symptons (as measured by survey results). After looking at a few studies, we began wondering — is there more out there? The surveys were good because they were rigorous and comparable between subjects, but a few numbers and scales could hardly capture the ineffability, noetic quality, and richness of psychedelic experiences! We became extremely fasincated by free style trip reports, unburdened by the limiting and valve reducing nature of surveys. Alas, after poking around for a while, we realized that there was no good search engine for psychedelic trip reports! There were various reddit threads and personal stories scattered here and there but no centralized data source. Then we found Erowid, which contained a massive archive of about 35,000 trip reports (as of Dec 9, 2019) The Vaults of Erowid was a treasure trove of information. Indeed, Erowid is one of the oldest and most trusted sources for information about hundreds and thousands of drugs, psychedelics and otherwise. We thought we could start by scraping Erowid and saving the trip reports to a database, build a simple webapp frontend, and use something like Algolia (search as a service API) to provide smooth realtime search functionality of the massive Erowid trip report. And just like that, EveryQualia [V0](v0.everyqualia.org) was born, live with about 10K trip reports (we didn't have any money, and Algolia was limited to 10K data objects. Also: if Earth and Fire Erowid are reading this, we apologize for bombarding your serves with our scrapers, and note we totally deserved to be blocked).\n",
    "\n",
    "Yev became driving technological powerhouse behind EveryQualia while I dipped deeper into Machine Learning and Natural Language Processing techniques, having taken `CIS 350: Computational Linguistics` with Chris Callison-Burch in the spring of 2019 and now taking `CIS 520: Machine Learning` with Lyle Ungar. With version 0 of our webapp, we had real time search and a groovy interface to read trip reports, which was awesome, but we still didn't have a way to visualize any large scale patterns that were present in the corpus. Since machine learning is all about learning generalizable patterns from massive amounts of data, using machine learning, and in particular natural language processing on a psychedelics report corpus, seemed like a natural extension. Not only would writing this thesis deepen my understanding of the theoretical foundations of machine learning, it also felt like a valuable launching pad for NLP technology that we plan to integrate into EveryQualia. I will say, at this point in a time, just how grateful I am to have two mentors and past professors to sign on as advisors to this rather unconventional thesis. Thank you\n",
    "\n"
   ]
  },
  {
   "cell_type": "markdown",
   "metadata": {
    "colab_type": "text",
    "id": "80IcYljlMFLx"
   },
   "source": [
    "## 2.4 Previous Work\n",
    "\n",
    "A research team of the [Chemical Youth Project](https://chemicalyouth.org/) at University of Amsterdam published a fantastic visualization in 2016. This project analyzed 20,534 reports, focusing on a select subset of substances, and analyzed the demographics, language, sustance co-use, and dosage trends in the Erowid Corpus.  As of Dec 9, 2019, their website is not live for unkonwn reasons, but a July 23, 2019 archived version can be found [here](http://web.archive.org/web/20190723023239/https://chemicalyouth.org/visualising-erowid/). The visulizations done by this team is absolutely stellar, and the reader is invited to check out their work before reading this thesis to get a better feel for the Erowid Dataset.\n",
    "\n",
    "\n",
    "\n",
    "\n",
    "## 2.5 Intended Audience\n",
    "\n",
    "There is no single mold of an audience for which this thesis is written. A reader who is familiar with the basics of linear algebra and statistics, in particular the basic concepts and notations of vectors, matrices, and probability distributionsm will find the thesis straighforward to follow especially at times when there are slight conceptual leaps. A few sections contain more advanced probability theory, but those can be skipped without sacrificing the overall narrative structure of the thesis. No prior knowledge is assumed about techniques in machine learning and natural language processing (NLP), as the foundations will be presented from first principles by first relying on intuition and supported by mathematics for those interested. The final sections of the thesis consists of musings, extensions, and bonus content for the curious reader, and contain a few non-technical elaborations intertwined with technical notes.\n",
    "\n",
    "This thesis was as much as an empirical exercise as it was a theoretical exercise, written in a rather didactic manner as an self-exercise to test my own understanding of the material and ability to convey not only what was done but also the theory of why what was done is appropriate.\n",
    "\n",
    "Perhaps more important than prior knowledge for the reader is an innate curiosity, a child-like delight in exploring new frontiers; one who is drawn to principles of foundational interconnectedness and not afraid to embrace concepts that seem at first challenging for the unitiated, yet delightful for the persistent, may find this thesis enjoyable.\n",
    "\n",
    "A note: due to scope and time constraints, a few state of the art techniques such as finetuning BERT and GPT 2 language models were researched and planned, but not fully explored. I have left those sections in the table of contents, a deference to what was conceived, and a gentle reminder to future self that even a thesis is a work in progress and doesn't have to be absolutely \"perfect\".\n",
    "\n",
    "\n",
    "## 2.5 The Machine Learning Pipeline\n",
    "\n",
    "The field of machine learning is very broad, and indeed a complete overview of what machine learning would fill a complete tome and certainly out of scope for this thesis. That being said, there are a few generalizable insights and principles that are very important to mention. They are highly inspired by Professor Pedro Domingos's excellent paper, [A Few Useful Things to Know about Machine Learning](https://homes.cs.washington.edu/~pedrod/papers/cacm12.pdf) and my work in progress computer science and statistics education\n",
    "- machine learning is about generalizing from examples\n",
    "- machine learning algorithms take _data_ as inputs, and attempt to find _patterns_ in the data, in order to accomplish some task(s) of interest\n",
    "- There are a few key types of problems in machine learning, and often the first step to translating theory into practice is recognizing the type of problem you're trying so solve:\n",
    "    (1) **Regression** problems are about predicting _continuous_ outcomes **y** from a collection of continuous or categorical features **X**, such as predicting housing prices (**y**) from \\[ square footage (continuous feature), and whether it's in a good neighborhood (categorical feature) \\] (**X**); Regression is a _supervised_ problem because it requires labelled training data **y**\n",
    "    (2) **Classification** problems are about predicting discrete class labels **y** from a collection of continuous or categorical features **X**, such as classifying whether a person has a heart condition (discrete **y**) based on \\[ blood pressure (continuous feature), and smoking habits (discrete feature) \\]; Classification is a _supervised_ problem because it requires labelled training data **y**\n",
    "    (3) **Clustering** problems are about finding clusters of observations that are most “similar” to each other, such as finding customers who are similar, or mushrooms specifies are most closely related to each other; Clustering is an _unsupervised_ problem because it doesn't require labelled training data **y**: the patterns are discovered directly from the observations.\n",
    "\n",
    "\n",
    "\n",
    "This thesis employs the [CRISP-DM](https://citeseerx.ist.psu.edu/viewdoc/download?doi=10.1.1.198.5133&rep=rep1&type=pdf) (Cross Industry Standard Process for Data Mining) pipeline, which is a widely used open standard by professional data scientists as a standard data mining approach\n",
    "\n",
    "![CRISP-DM Model](./images/infographic_CRISP-DM.png)\n",
    "[`CRISP-DM Model Infographic Source`](https://towardsdatascience.com/understanding-feature-engineering-part-1-continuous-numeric-data-da4e47099a7b)\n",
    "\n",
    "\n",
    "\n",
    "Lessons Learned:\n",
    "- a lot of work happens organically, and cannot be forced\n",
    "- Iterative mindset is key\n",
    "- Machine learning is about finding generalizable patterns\n",
    "- The algorithms chosen can significally impact conclusions. Many papers use black box algorithms and present results as if they are facts, but initial conditions and design decisions can very quickly change \"facts\" into approximations.\n",
    "- Machine learnign is largealy about finding generalizable patterns from data\n",
    "- todo: see the 12 lessons paper.\n",
    "\n",
    "\n",
    "< todo: i'm getting a little too distracted here >\n",
    "\n",
    "<br /> \n",
    "<br /> \n",
    "<br /> \n",
    "<br /> \n",
    "<br /> \n",
    "<br /> \n",
    "<br /> \n",
    "<br /> \n",
    "<br /> \n",
    "<br /> \n",
    "<br /> \n",
    "<br /> \n",
    "<br /> \n",
    "<br /> \n",
    "<br /> \n",
    "<br /> \n",
    "<br /> \n",
    "\n"
   ]
  },
  {
   "cell_type": "markdown",
   "metadata": {
    "colab_type": "text",
    "id": "KZglPg2jMFLy"
   },
   "source": [
    "# 3. Data Acquisition and Origins\n",
    "\n",
    "\n",
    "The first step to any machine learning or natural language processing project is to acquire the data. In this section, we describe the data source and data scraping process."
   ]
  },
  {
   "cell_type": "markdown",
   "metadata": {
    "colab_type": "text",
    "id": "skPb_heUE6r9"
   },
   "source": [
    "## 3.0 Switching Between Local Jupyter and Colab Development Environments\n",
    "\n",
    "N.B.: This codeblock exists to switch between Jupyter and Google Colab developement environments, and is applicable only to readers who wish to run the notebook. Change the `root_path` variable to the appropriate path in order to reproduce the code."
   ]
  },
  {
   "cell_type": "code",
   "execution_count": 10,
   "metadata": {
    "colab": {
     "base_uri": "https://localhost:8080/",
     "height": 52
    },
    "colab_type": "code",
    "id": "7b4Wy64SXF63",
    "outputId": "5b7568a8-f5c9-4d08-f07f-59c89fa0b935"
   },
   "outputs": [
    {
     "name": "stdout",
     "output_type": "stream",
     "text": [
      "root_path now set to .\n"
     ]
    }
   ],
   "source": [
    "# toggle between local and Google Colab Development Environment\n",
    "# Uncomment below if using colab environment\n",
    "# from google.colab import drive\n",
    "# drive.mount('/content/gdrive')\n",
    "\n",
    "# if developing locally, set is_colab to False\n",
    "is_colab = False\n",
    "root_path = '/content/gdrive/My Drive/UPenn/UPenn_fall-2019/[EAS 499] Senior Thesis f2019' if is_colab else \".\"   #change dir to your project folder\n",
    "print(\"root_path now set to {}\".format(root_path))"
   ]
  },
  {
   "cell_type": "markdown",
   "metadata": {
    "colab_type": "text",
    "id": "4xZgXG6WMFLy"
   },
   "source": [
    "## 3.1 Data Sources\n",
    "\n",
    "With v0 of EveryQualia, we downloaded the May 2012 Erowid Archive from `http://de1.erowid.org/erowid_archives/` (most recent as of Dec 9, 2019). This download contains the entire mirror of the Erowid website from May 1st, 2012, and contains 19924 experience reports, each as its own html document. `@Yevbar` maintains a mirror of all the trip report raw files on his github, at [Old Erowid Scraper](https://github.com/yevbar/old-erowid-scraper).\n",
    "\n",
    "\n",
    "One of the earliest and biggest unknowns for this thesis was whether there was going to be enough data on which to perform any meaningful analysis, since machine learning algorithms typically require a sizable amount of data. Early conversations with Lyle Ungar and Chris Callison-Burch suggested that a corpus of 200-300K reports was desirable. Since psychedelics are still, as of Dec 9, 2019, a Schedule 1 controlled substance, reports of psychedelic expereinces are not very easy to find, as every published account after the early 1970's is tantamount to admitting a federal. As such, a considerable amount of effort that is not necessarily documented here was really looking for sources for psychedelic trip reports. Feelers to the Johns Hopkins team revealed that the session reports in their clinical trials are private and not available to use for this thesis, and conversations with friends in the industry regarding an upcoming Johns Hopkins global survey study that would be the largest of its kind in the world revealed that it was still in IRB stages. Conversations with researchers at University of Oxford, who are also doing fascinating work with natural language processing on transcendent experiences accounts, revealved that their studies are based on in person interviews, which the researchers personally and painstakingly conducted, and are based on the transcriptions of in person interviews. Further details about this study cannot be shared in this thesis as their work serves as the basis of an upcoming PhD thesis, the details of which is not yet public as of this writing. And since in parallel to Penn Society for Psychedelic Science, a couple of us from Penn, Harvard, Princeton (and 14 other schools, as of Dec 9, 2019) are growing the [Intercollegiate Psychedelics Network (IPN)](https://ipnpsychedelics.org), multiple conversations were had with other student leaders about setting up an Intercollegiate Psychedelics Archive, or IPN Archives, containing not only our respective club processes but also be a central source of aggregating trip reports from students. Indeed, there were some initial efforts of making this happen, but due to legal considerations, we decideed to hold off for now until the legal climate was more amenable, for our personal safety and the wellbeing of our respective student organization.\n",
    "\n",
    "And such, efforts were directed to other online sources, such as various reddit forum, and informal messaging boards, but none of which contained structured enough data at high enough quantities as Erowid. David Yaden, a PhD candidate with Martin Seligman and Lyle Ungar, is doing fantastic work in assembling [The Varieties Corpus](https://www.varietiescorpus.com/corpus), which is not yet available to the public and researchers. A natural extension of this thesis is to incorporate David's data in future work.\n",
    "\n",
    "As my conversations with Yev progressed, he decided to try once again scraping Erowid live. Note that Erowid has prety strict guidelines for crawlers, including:\n",
    "- Run your spider only during off-peak hours (between midnight and 5am PST)\n",
    "- Limit your robot to 10 file hits per second during off-peak hours and 2 file hits per second during peak hours.\n",
    "- Robots must properly identify themselves. Archiving and spidering robots that do not identify themselves or that falsify their agent name will result in your IP(s) being blocked. Please set up your spider to do very short runs (less than 100 pages) and test it while you monitor the robot before simply launching it against our site and walking away.\n",
    "\n",
    "Running a crawler at full speed (10 pages / second) non stop, crawling all 35,000 trip reports currently live (as of Dec 9, 2019), would take a full hour. This doesn't seem like a lot, but in reality the crawling limits are much lower, including a 1000 pages / day limit, and in practice we got repeated blocked and it often took several hours to crawl 1000 pages. We entertained the idea of spinning up multiple EC2 instances and using a distributed architecture to crawl Erowid (Yev actually wrote the code, and the idea was that each crawler would have a different IP address to \"fool\" Erowid). But this would be dishonest, and having not received an email reply from Erowid + a variety of other reasons, I decided to not to proceed with scraping the entirety of Erowid. Indeed, this is an extension for further research.\n",
    "\n",
    "Some important links about using the Erowid Experience Vaults:\n",
    "- [Erowid Spider Guidelins](https://www.erowid.org/general/about/about_archives1.shtml)\n",
    "- [About the Erowid Experience Vault](https://www.erowid.org/experiences/exp_about.cgi)  ([`archive-20191208`](http://web.archive.org/web/20191208050510/https://www.erowid.org/experiences/exp_abou.cgi))\n",
    "- [Erowid Experience Vault Review Process](https://www.erowid.org/experiences/exp_info1.shtml)  ([`archive-2019-1208`](http://web.archive.org/web/20191208064512/https://www.erowid.org/experiences/exp_info1.shtml))\n",
    "- [Erowid Downloadable Archives Collection](http://de1.erowid.org/erowid_archives/)\n"
   ]
  },
  {
   "cell_type": "markdown",
   "metadata": {
    "colab_type": "text",
    "id": "w2-CsbZNMFLz"
   },
   "source": [
    "## 3.2 Data Scraping Procedure\n",
    "\n",
    "In the end, we decided to stick with the corpus of EveryQualia v0, which was the May 1, 2012 archive of the full Erowid website from `http://de1.erowid.org/erowid_archives/`. To extract the data into a usable format, we unarchived the disk image, mounted it to disk, and navigated to the folder containing 19934 html files (see [here](https://github.com/yevbar/old-erowid-scraper/tree/master/trippy-search/experiences)). The following script was used to extract the report body, report title, and report substance(s) into a csv file:\n",
    "\n",
    "```python\n",
    "import csv\n",
    "from lxml import html\n",
    "from os import listdir\n",
    "from os.path import isfile, join\n",
    "\n",
    "def trip_reports_to_csv():\n",
    "    trip_csv = \"trips.csv\"\n",
    "    columns = [\"report\", \"title\", \"substance\"]\n",
    "    mypath = \"experiences\"\n",
    "    onlyfiles = [join(mypath, f) for f in listdir(mypath) if isfile(join(mypath, f))]\n",
    "\n",
    "    with open(trip_csv, \"w\") as trip_csv:\n",
    "        trip_writer = csv.writer(trip_csv, delimiter=',', quotechar='\"', quoting=csv.QUOTE_MINIMAL)\n",
    "        trip_writer.writerow(columns)\n",
    "        for f in onlyfiles:\n",
    "            with open(f, \"r\", encoding='utf-8', errors='ignore') as f_:\n",
    "                try:\n",
    "                    page = f_.read()\n",
    "                    tree = html.fromstring(page)\n",
    "                    report = ''.join(tree.xpath('//div[@class=\"report-text-surround\"]/text()')).strip()\n",
    "                    title = tree.xpath('//div[@class=\"title\"]/text()')[0]\n",
    "                    substance = tree.xpath('//div[@class=\"substance\"]/text()')[0]\n",
    "                    trip_writer.writerow([report, title, substance])\n",
    "                except:\n",
    "                    pass\n",
    "                \n",
    "trip_reports_to_csv()\n",
    "```\n",
    "\n",
    "The package [lxml.html](https://lxml.de/lxmlhtml.html) was used to match xpaths, with credits to Yev Barkalov for the xpaths that correctly matched the correct div elements for desired sections. In all, the script took about 1 hour to run on our hardware (rough estimate). It should be noted that there was certain demographics information such as gender, age, and publication date that were available, but were not included in the analysis of this thesis. These certainly hold promise for future research."
   ]
  },
  {
   "cell_type": "markdown",
   "metadata": {
    "colab_type": "text",
    "id": "gC1P39U0MFL0"
   },
   "source": [
    "## 3.3 The Data: Raw and Unfiltered"
   ]
  },
  {
   "cell_type": "markdown",
   "metadata": {
    "colab_type": "text",
    "id": "xtgGt_FXMFL1"
   },
   "source": [
    "In total, there were 19924 substance, report having a `report` body, a `title`, and a `substance` field."
   ]
  },
  {
   "cell_type": "code",
   "execution_count": 0,
   "metadata": {
    "colab": {
     "base_uri": "https://localhost:8080/",
     "height": 158
    },
    "colab_type": "code",
    "id": "_-pvViyjMFL2",
    "outputId": "69b9d07d-b3aa-40b2-b06b-a1537fcac863"
   },
   "outputs": [
    {
     "name": "stdout",
     "output_type": "stream",
     "text": [
      "<class 'pandas.core.frame.DataFrame'>\n",
      "RangeIndex: 19924 entries, 0 to 19923\n",
      "Data columns (total 3 columns):\n",
      "report       19915 non-null object\n",
      "title        19924 non-null object\n",
      "substance    19924 non-null object\n",
      "dtypes: object(3)\n",
      "memory usage: 467.1+ KB\n"
     ]
    }
   ],
   "source": [
    "import pandas as pd\n",
    "\n",
    "trips_raw_filepath = '{}/trips.csv'.format(root_path)\n",
    "pd_tripReports = pd.read_csv(trips_raw_filepath)\n",
    "pd.set_option('display.width', 80)\n",
    "pd_tripReports.shape\n",
    "pd_tripReports.info()\n",
    "# TODO: Make this pretty\n"
   ]
  },
  {
   "cell_type": "code",
   "execution_count": 0,
   "metadata": {
    "colab": {
     "base_uri": "https://localhost:8080/",
     "height": 197
    },
    "colab_type": "code",
    "id": "Yhzm5koOMFL6",
    "outputId": "d21789a1-c037-4ba3-cd2b-6012365c4733"
   },
   "outputs": [
    {
     "data": {
      "text/html": [
       "<div>\n",
       "<style scoped>\n",
       "    .dataframe tbody tr th:only-of-type {\n",
       "        vertical-align: middle;\n",
       "    }\n",
       "\n",
       "    .dataframe tbody tr th {\n",
       "        vertical-align: top;\n",
       "    }\n",
       "\n",
       "    .dataframe thead th {\n",
       "        text-align: right;\n",
       "    }\n",
       "</style>\n",
       "<table border=\"1\" class=\"dataframe\">\n",
       "  <thead>\n",
       "    <tr style=\"text-align: right;\">\n",
       "      <th></th>\n",
       "      <th>report</th>\n",
       "      <th>title</th>\n",
       "      <th>substance</th>\n",
       "    </tr>\n",
       "  </thead>\n",
       "  <tbody>\n",
       "    <tr>\n",
       "      <th>0</th>\n",
       "      <td>After having had some success with other forms...</td>\n",
       "      <td>Sideways World</td>\n",
       "      <td>Salvia divinorum (5x extract)</td>\n",
       "    </tr>\n",
       "    <tr>\n",
       "      <th>1</th>\n",
       "      <td>Me and a couple of my buddies decided one nigh...</td>\n",
       "      <td>Physical Wellbeing = Crucial</td>\n",
       "      <td>Mushrooms</td>\n",
       "    </tr>\n",
       "    <tr>\n",
       "      <th>2</th>\n",
       "      <td>My girlfriend and I had been saving the methyl...</td>\n",
       "      <td>The Artful Dodger</td>\n",
       "      <td>Methylone</td>\n",
       "    </tr>\n",
       "    <tr>\n",
       "      <th>3</th>\n",
       "      <td>I just want to warn anybody taking Lithium (or...</td>\n",
       "      <td>Seizure Inducing Combo</td>\n",
       "      <td>LSD &amp; Lithium</td>\n",
       "    </tr>\n",
       "    <tr>\n",
       "      <th>4</th>\n",
       "      <td>I have had several attempts before this to bre...</td>\n",
       "      <td>Enlightenment Through a Chemical Catalyst</td>\n",
       "      <td>5-MeO-DMT</td>\n",
       "    </tr>\n",
       "  </tbody>\n",
       "</table>\n",
       "</div>"
      ],
      "text/plain": [
       "                                              report  ...                      substance\n",
       "0  After having had some success with other forms...  ...  Salvia divinorum (5x extract)\n",
       "1  Me and a couple of my buddies decided one nigh...  ...                      Mushrooms\n",
       "2  My girlfriend and I had been saving the methyl...  ...                      Methylone\n",
       "3  I just want to warn anybody taking Lithium (or...  ...                  LSD & Lithium\n",
       "4  I have had several attempts before this to bre...  ...                      5-MeO-DMT\n",
       "\n",
       "[5 rows x 3 columns]"
      ]
     },
     "execution_count": 7,
     "metadata": {
      "tags": []
     },
     "output_type": "execute_result"
    }
   ],
   "source": [
    "# First 6 entries of the data\n",
    "pd_tripReports.head()"
   ]
  },
  {
   "cell_type": "code",
   "execution_count": 0,
   "metadata": {
    "colab": {
     "base_uri": "https://localhost:8080/",
     "height": 197
    },
    "colab_type": "code",
    "id": "3HqUZg4NMFL8",
    "outputId": "0ab5b587-54d5-428e-df78-a815ba499b28",
    "scrolled": true
   },
   "outputs": [
    {
     "data": {
      "text/html": [
       "<div>\n",
       "<style scoped>\n",
       "    .dataframe tbody tr th:only-of-type {\n",
       "        vertical-align: middle;\n",
       "    }\n",
       "\n",
       "    .dataframe tbody tr th {\n",
       "        vertical-align: top;\n",
       "    }\n",
       "\n",
       "    .dataframe thead th {\n",
       "        text-align: right;\n",
       "    }\n",
       "</style>\n",
       "<table border=\"1\" class=\"dataframe\">\n",
       "  <thead>\n",
       "    <tr style=\"text-align: right;\">\n",
       "      <th></th>\n",
       "      <th>report</th>\n",
       "      <th>title</th>\n",
       "      <th>substance</th>\n",
       "    </tr>\n",
       "  </thead>\n",
       "  <tbody>\n",
       "    <tr>\n",
       "      <th>19919</th>\n",
       "      <td>First off - I want to answer the question, 'Do...</td>\n",
       "      <td>My Truth About Seeds...</td>\n",
       "      <td>Morning Glory</td>\n",
       "    </tr>\n",
       "    <tr>\n",
       "      <th>19920</th>\n",
       "      <td>It was actually my mom who got me on Ritalin. ...</td>\n",
       "      <td>The Help I Hate to Love</td>\n",
       "      <td>Methylphenidate (Ritalin)</td>\n",
       "    </tr>\n",
       "    <tr>\n",
       "      <th>19921</th>\n",
       "      <td>This being a hopefully useful report on low-do...</td>\n",
       "      <td>Meeting the Spirit Plus a Territorial Dog</td>\n",
       "      <td>Peruvian torch cacti</td>\n",
       "    </tr>\n",
       "    <tr>\n",
       "      <th>19922</th>\n",
       "      <td>This journal shall hopefully be a guide for me...</td>\n",
       "      <td>A Journey Journal</td>\n",
       "      <td>Salvia divinorum (5x extract)</td>\n",
       "    </tr>\n",
       "    <tr>\n",
       "      <th>19923</th>\n",
       "      <td>I ingested 12-15mg of 2ce orally.\\n\\n\\n\\nI dum...</td>\n",
       "      <td>A Late Winter's Trip</td>\n",
       "      <td>2C-E</td>\n",
       "    </tr>\n",
       "  </tbody>\n",
       "</table>\n",
       "</div>"
      ],
      "text/plain": [
       "                                                  report  ...                      substance\n",
       "19919  First off - I want to answer the question, 'Do...  ...                  Morning Glory\n",
       "19920  It was actually my mom who got me on Ritalin. ...  ...      Methylphenidate (Ritalin)\n",
       "19921  This being a hopefully useful report on low-do...  ...           Peruvian torch cacti\n",
       "19922  This journal shall hopefully be a guide for me...  ...  Salvia divinorum (5x extract)\n",
       "19923  I ingested 12-15mg of 2ce orally.\\n\\n\\n\\nI dum...  ...                           2C-E\n",
       "\n",
       "[5 rows x 3 columns]"
      ]
     },
     "execution_count": 8,
     "metadata": {
      "tags": []
     },
     "output_type": "execute_result"
    }
   ],
   "source": [
    "# Last 6 entries of the data\n",
    "pd_tripReports.tail()"
   ]
  },
  {
   "cell_type": "code",
   "execution_count": 0,
   "metadata": {
    "colab": {
     "base_uri": "https://localhost:8080/",
     "height": 54
    },
    "colab_type": "code",
    "id": "cyu-XQGuMFL_",
    "outputId": "31f3b4a0-1ef5-4409-8a34-0e7d4edc32b0"
   },
   "outputs": [
    {
     "data": {
      "text/plain": [
       "'Title: a journey journal\\n Substance: salvia divinorum (5x extract)\\n Report: this journal shall hopefully be a guide for me into better understanding the effects of salvia divinorum. like many journals i have attempted to write, they all end in lack of desire to finish them. i plan to make this journal different. it is my hope that i describe each experience in the fullest extent to better understand the unique nature of this plant. \\n\\n\\n\\n9/19/2002\\n\\n\\n\\ni received two grams of 5x extract. i was excited for my first experience and called over my friend to watch over me, since it was my first time and i did not know how i would react.\\n\\n\\n\\ni prepared my water pipe and put a miniscule amount into the bowl, and lit it up. i inhaled and held the smoke, which wasnt much. after exhaling, i did not feel much until about a minute, when i felt a mild buzz but not much else. i was disappointed but decided to try more. i put a equal amount of salvia in the bowl and lit up again. i did not feel anything much.\\n\\n\\n\\ni decided that i was not doing enough, so about ten minutes later; i filled the bowl with a decent amount and lit it up. upon exhaling, i did not feel anything right away, but then it hit me. i was amazed at this feeling and commented that i could not believe that this drug was legal. \\n\\n\\n\\nall of a sudden, my body felt as if it were covered in ants. i was very itchy and sweaty and threw off my over-shirt and was about to take off my t-shirt when i said, no, this is just the drug. i pulled my shirt back down. i began to talk in a high-pitched voice, saying nonsensical things.\\n\\n\\n\\nmy perspective radically changed. i was standing at the edge of a cliff with my back to the precipice and beyond it was nothing. nothing existed beyond the cliff. my universe shrunk till all it included was my field of vision in front of me. my universe was only 50 square feet, and that seemed fine. i was still in my room, but i did not recognize it as such. i was in a different place, not unpleasant but interesting/weird (for lack of a better word). i stayed in that universe till i came down.\\n\\n\\n\\nmy next conscious thought was that of me cleaning out my pipe in the sink in preparation for another trip. my friend brought a video camera to record this trip. i went back to my room and chilled for a few minutes and then refilled the pipe and lit up. after two inhales to clear the chamber, i did not have much perspective shifting, but mostly an extreme stoning effect similar to weed but noticeably different. i mentioned how i was amazed that my second exhale did not contain that much smoke. i also had a vague feeling that as i was talking, i was part of a childrens television show, explaining things to the viewers. i also mentioned the television feeling. i began to come down then, and i turned on my cd player and laid on my bed, attempting to have visuals, but to no avail.\\n\\n\\n\\ni was feeling mildly disappointed, so i decided to inhale some nitrous. it gave me the typical nitrous rush, and i commented how i wished i could feel like this all the time, but neither drug intensified the other. \\n\\n\\n\\nthe effects wearing off, i thought about what i had experienced. it was a nice trip, but not quite a introspective and spiritual experience. however, i do feel that i started on a good level and plan to continue exploring consciousness with salvia.\\n\\n\\n\\n9/21/2002\\n\\n\\n\\nit has been two days since my first experience with salvia. i enjoyed my first experience immensely, but i found i was a tad disappointed that i did not experience any introspective or mind-altering states.\\n\\n\\n\\nabout 3:30pm, i load the bowl almost to the top with salvia. i clear the chamber and wait. i feel the familiar itch/sweat that i expect will be common to all my salvia experiences. it is not wholly unpleasant, but it is more comfortable without a shirt and a/c.\\n\\n\\n\\ni felt the salvia begin to take hold. however, it is only a mild stoning effect and i decide that i must smoke another bowl as to achieve the desired effects. i loaded up the bowl with more and smoke it fully.\\n\\n\\n\\nthis is where my trip truly starts. when i finished exhaling, i stared at the windowsill and a feeling of dj vu came over me. i couldnt help but feel that i had done this (smoking salvia) for many years. i began to feel like i was experiencing a childhood all the way through to fatherhood in an incredibly short amount of time. i had conversations with my best friend as we grew up and played together. as we got older, we each had children of our own and reminisced about the old days and the fun we had and the fun our children were having now.\\n\\n\\n\\ni then stopped and tried to fight the experience. i said out loud, what are you doing? and other things of the like, not fully understanding what i was experiencing. i then decided not to fight it and laid down on my bed and closed my eyes.\\n\\n\\n\\nas i laid there with eyes closed, a multi-colored spiral/vortex began to swirl in my minds eye. it made one loop and started to form another loop underneath the previous one when i realized that this loop was alive and many intelligent organisms lived within it. the loop continued to move and i could hear the organisms talking.\\n\\n\\n\\na mother was explaining to her child how each loop represented the generation before them. i understood that i was witnessing new births and that i was the creator of all these beings. the mother kept explaining how old the generations before them were, but none were as old as the ancient entity. i was that entity. i was the creator, the vessel for these beings. the mother told her child that one day, she might take him to talk to the ancient entity, but that he might not talk back. as i listened to me being described as an ancient entity, i began to think of my own beginnings, when i played with my friend and my growing up. during the conversation about meeting the entity, the loop stopped spiraling and turned into a ribbon, resembling a sine wave, and continued to move in that fashion.\\n\\n\\n\\nafter a while, i began to get annoyed at these creatures, feeling that they had no right to be inside me and using me as a vessel for their own existence. i opened my eyes and grabbed at paper and pen, and with great difficulty wrote these words:\\n\\n\\n\\nafter i wrote this, i laid back down and began to come off of the plateau. i laid there for a bit, attempting to absorb what i had just experienced, but i was still heavily under the influence.\\n\\n\\n\\ni thought that this would be a perfect time for some nitrous, so i prepared a balloon and inhaled it. i did not think i inhaled enough, but then i peaked and felt as if a giant hand was bending me forward and turning me upside down. i straightened up and came off the nitrous, in a good, but exhausted mood. i wandered around my room for a bit and then called my friend, stating that i had an amazing trip, but was not yet ready to describe it.\\n\\n\\n\\ni laid back down, almost completely devoid of any effects, and thought about what i had just experienced, and realized that i had my first, and amazing, introspective trip. i felt so special and so blown away. i dozed for about a half an hour and woke up and watched some tv. i got dinner and am now writing this. i feel great and the only word that comes to my mind is wow. i have so much respect for this plant and am grateful for the insight that it has granted me.\\n\\n\\n\\n9/24/2002\\n\\n\\n\\nat 2:30, i load up and attempt to smoke but accidentally blow half the bowl out. i gathered up most of it, but i must be very careful from now on, since the salvia is such a light herb. i take two full hits.\\n\\n\\n\\nright after the first hit, i am aware of the effects and the itch/sweat starts. i strip off my shirt after the second exhale. the psychotropic effects begin.\\n\\n\\n\\ni become aware that the waterpipe is alive. it is a person and it talks to me and says that i must put it on the ground. i comply and as i do this, i realize that my entertainment system plus several other random points in space have become alive as well. they start to make fun of me and comment on what a sloppy job i did at moving the pipe to the ground. they laugh at me and i wonder what has made them act this way. i talk back at them, telling them to shut up and mind their own business. it is at this point that i realize that the drug has hold of me. \\n\\n\\n\\ni close my eyes and a wide brownish loop forms, with vague edges. it appears to sparkle with electricity, but the electricity itself is also brown. i see that the loop is actually made up of eight distinct pieces and that each piece represents each different entity living in my room (the ones that were laughing at me). all of a sudden the loop breaks towards the top at one of the junctions between two pieces. the loop becomes a snake-like thing and moves/loops away, out of my field of vision. it then comes back into my field of vision and rushes at me and goes inside my head.\\n\\n\\n\\nthe snake-like thing takes control of my brain and begins to tell me to do things. it specifically tells me to masturbate. i cannot help myself and i am aware that i quickly undo my pants and begin the deed. i kneel onto the ground, and after what seemed like an indefinitely long time, i felt a light tingling as i ejaculated into the trashcan. there was very little feeling involved and compared to other masturbation sessions, it was at the bottom of the scale.  \\n\\n\\n\\ni laid back down on the bed and listen to the music. i have huey lewis its alright playing. as i listen, i am aware that i had picked out one of the voices within the song and was listening specifically to his part. the rest of the music was there, but i could hear every note of that particular part, which i am almost sure was the baritone. i then play piano man by billy joel and i notice that i have picked out the bass guitar part, and have just been listening to that.\\n\\n\\n\\nas i come off the plateau, i sit up and realize that i have a paper due tomorrow and feel compelled to find the information regarding it. i begin searching through my notebooks and papers, finding myself unable to stop moving for five minutes. i am rapidly searching, but to no avail. i clean up all the notebooks and then check the computer and find the information.\\n\\n\\n\\nthe after-effects slowly tapering off, i wanted to clean my pipe, but my roommate was in the kitchen, so i watched tv until he was gone. i cleaned the pipe and begin typing this.\\n\\n\\n\\nas i become more experienced with salvia and use this one drug repeatedly, i begin to find certain aspects that are similar to each trip. i get the itch/sweat seconds after smoking but it quickly dissipates. my perception of reality changes at the plateau. each trip has yielded different perceptual changes, but that is to be expected and i hope that two trips will never be the same. i also realize that after the plateau, my memory is a bit fuzzy. i cannot recall very well what i did on the comedown. during the after-effects, i begin to understand what i have experienced. \\n\\n\\n\\nregarding the effects, i do not realize am i feeling them until a minute into the effect. it is almost as if two brains are working simultaneously. my conscious brain is having the trip while the unconscious brain realizes that something is happening a bit later.\\n\\n\\n\\nsalvia leaves a sort of heaviness in my brain, kind of like after a huge test. i hypothesize that this is due to the fact that my brain did work hard, attempting to understand and comprehend the world around it while under the influence of this wonderful conscious-altering drug.\\n\\n\\n\\n9/24/2002\\n\\n\\n\\nthis is not a report of a trip that i had, just my observations with others were on salvia. j, d, and r were to partake of some this evening. \\n\\n\\n\\nj went first and after a monster hit, started coughing and then it must have hit him because he started rubbing his tongue and then licking himself on the sleeve. i encouraged him to take the rest, so he did and remained in a weird state for about 15 minutes. as i was packing a new bowl, he threw an empty box of cigarette at me. it hit me in the head and he apologized profusely and with great sincerity, more than i have ever seen him do. he said he felt like he was more stoned than he ever was for about 5 minutes.\\n\\n\\n\\nd took some and just sat there, eyes glancing around. he mentioned that it felt like j was a doll and j was talking to him, which apparently seemed very weird for a doll.\\n\\n\\n\\nr smoked next and stood up with great difficulty and mentioned something about going out to the lake. he addressed us as grandma and grandpa. he also said, and j confirmed, that he felt leaden to the porch, like he couldnt move.\\n\\n\\n\\nthat was the extent of their trips to the best of my knowledge because i did not discuss it with them in length, but i now know that people have similar reactions to salvia. \\n\\n\\n\\n10/11/2002\\n\\n\\n\\ni received 5 grams of 5x extract a week back, so i prepared and smoked a large bowl of my new batch of salvia (approximately two hits). i felt the familiar itch/sweat, but nothing much else. i was a tad disappointed that i did not feel much. at one point, i think i was mildly aware that my room was a penthouse at the top of an expensive apartment complex, but i cannot be sure. mostly, i was attempting to force the effects to happen. i think i need to construct a larger, better bong so that i can take more salvia in. perhaps this batch isnt as potent as the last one. i will build a new bong and attempt to have a better trip this week.\\n\\n\\n\\n10/31/2002\\n\\n\\n\\ni had a great trip with my new bong. also had s take a few hits and he had a good trip as well. this trip was hard to understand, but i will try to describe it. i was looking out the window and my frame of view contained the lake, horizon, lava lamp, my arm, and s in the chair. i did not recognize them at for what they were, but as one giant slate as if they were painted on it. i just stared at this canvas and it seemed like my arm was connected to the horizon and an invisible energy was flowing from it into the horizon. s moved and i became upset because it felt like the canvas was ripped, so i yelled for him to stop moving around. i slowly came back to reality and did not do much reflecting, but watched s take a good couple hits, which obviously sent him somewhere because he asked wheres my brother? he thought he was back in his old house. he came back to baseline and we talked about our trips for fifteen minutes, reflecting on how pleasant the trip was and how weird of a drug salvia is.\\n\\n\\n\\n12/02/2002\\n\\n\\n\\nk and i smoke one bowl together; a hit each. no real discernable effects on my part except a heaviness in my right hand that lasted for about 20 seconds. k just stared out the window for about half a minute. i think i am the only one who can take a hit of salvia without coughing. everyone who has smoked it, minus s, has coughed, and most of them are veteran weed smokers. i am sure the lack of effects was due to the extremely small amount i smoked and not the quality of the salvia. it is a few months old, and even though i keep it in a glass jar, i am not sure how long salvinorin a stays active. when i have a good chunk of time to myself, i will do a massive salvia trip, but since finals are arriving, it will have to wait. \\n\\n\\n\\n4/25/2003\\n\\n\\n\\nit has been a while since i smoked any salvia. on this particular night, i am tripping on 3.5 grams of mushrooms and 40mg of amt. i have done about 20 nitrous hits as well. i put ein deutsches requiem on the stereo and take a nice fatty hit.\\n\\n\\n\\nit hits me right away. the typical salvia mindshift occurs and once again am staring at a foreign horizon. my entertainment center has become a mountain range, shifting in color and growing in intensity. the music begins to take me to a place of unwant, so i attempt to change it. i find that i cannot recognize the cd remote and fumble with it for a bit before falling to the floor.\\n\\n\\n\\ni begin to talk. at the time it made perfect sense to me, but after a minute of talking, i realized i was just saying gibberish. i shake my head and try to think of what i was saying but then a new phrase pops into my head: wagons. a fraction of a second later i add to words flowers for cup, so the phrase became flowers for cupwagons. what this means i have no idea. this is all i can remember form the salvia portion of the trip.\\n\\n\\n\\nperhaps the phrase was induced by a song (vangelis messages) i was listening to, and although no lyrics form the phrase, the rhythmic patterns of the song could have formed the words in my head. \\n\\n\\n\\nas i type this entry almost four months later than the experience, that phrase has crossed through my mind many of times, for i feel it is a connection to my subconscious. i will discover the true meaning of this phrase and the link i share with it and salvia. salvia divinorum is the weirdest psychedelic i have tried to date, and i feel that there is still much to be learned.\\n\\n\\n\\n7/20/2003\\n\\n\\n\\non a day off from camp, i sit on the deck with my brother smoking a bowl of nugs. we decide to smoke a small bowl of salvia each. he hits first and sits in silence as i inhale. the mindshift occurs and my own body becomes a mountain range shaped like an upright backwards c. with every word i speak, invisible energies shoot from the top of the c to the bottom, and i imagine what it would be like if i was listening to music, particularly vangelis messages (the song i feel that i share a transcendental connection with). \\n\\n\\n\\ni turn to my brother and start talking. i am talking nonsense but the words make sense. the friday wagons are coming, b. you know they areyou know they are. he laughs and mentions how fucked up he feels and that he doesnt know what the hell is going on; internal as well as external. \\n\\n\\n\\nthe next day, i realize that the word wagons is somehow connected with salvia and myself. friday and flowers are just two beginnings for the phrase.\\n\\n\\n\\ntyped on the same day as the previous entry. it feels a bit unfair to the journal and myself to be sharing these entries having months to think about the experiences. however, i share them in better understanding this strange phrase. more salvia is needed and perhaps a new prefix will surface for the wagons phrase. i must make sure that it truly surfaces and is not just forced into existence by my desire to discover.\\n\\n\\n\\ni am starting a new journey this year. i have assimilated most of my experiences from the previous year and am ready to delve deeper into myself. i know who i am. now i must go beyond knowing. i will discover what that is this year. \\n\\n\\n\\n9/1/03  12/29/03\\n\\n\\n\\nas i have gotten lazy, i did not record the salvia experiences this year after they occurred. however, numerous trips were taken and were quite similar since the dosage and source did not differ.\\n\\n\\n\\ni smoked salvia about eight times. each trip took place in my chair that although not aesthetically pleasing, serves its purpose well. they were fun but nothing spectacular. i learned that flowers for cupwagons means nothing and that alcohol and salvia do not mix. this semester sucked ass. i am tired. i am depressed.'"
      ]
     },
     "execution_count": 92,
     "metadata": {
      "tags": []
     },
     "output_type": "execute_result"
    }
   ],
   "source": [
    "# An example trip report\n",
    "report19922 = pd_tripReports.loc[19922]\n",
    "report19922[\"title\"]\n",
    "\n",
    "\"Title: {}\\n Substance: {}\\n Report: {}\".format(report19922[\"title\"], report19922[\"substance\"], report19922[\"report\"])\n"
   ]
  },
  {
   "cell_type": "markdown",
   "metadata": {
    "colab_type": "text",
    "id": "oPpyYInoMFMB"
   },
   "source": [
    "<br /> \n",
    "<br /> \n",
    "<br /> \n",
    "<br /> \n",
    "<br /> \n",
    "<br /> \n",
    "<br /> \n",
    "<br /> \n",
    "<br /> \n",
    "<br /> \n",
    "<br /> \n",
    "<br /> \n",
    "<br /> \n",
    "<br /> \n",
    "<br /> \n",
    "<br /> \n",
    "<br /> "
   ]
  },
  {
   "cell_type": "markdown",
   "metadata": {
    "colab_type": "text",
    "id": "R4msJphSMFMC"
   },
   "source": [
    "# 4. Data Cleaning and Exploratory Data Analysis (EDA)\n",
    "\n",
    "\n"
   ]
  },
  {
   "cell_type": "markdown",
   "metadata": {
    "colab_type": "text",
    "id": "u8fV7T4fMFMC"
   },
   "source": [
    "## 4.1 Machine Learning, and the Natural Language Processing Pipeline"
   ]
  },
  {
   "cell_type": "markdown",
   "metadata": {
    "colab_type": "text",
    "id": "48jhuMzMMFMD"
   },
   "source": [
    "![The NLP Pipeline](./images/infographic_nlp-pipeline.png)\n",
    "[`Infographic Source`](https://towardsdatascience.com/a-practitioners-guide-to-natural-language-processing-part-i-processing-understanding-text-9f4abfd13e72)"
   ]
  },
  {
   "cell_type": "markdown",
   "metadata": {
    "colab_type": "text",
    "id": "D3oCmCOpMFME"
   },
   "source": [
    "Now that we have a collection of documents, i.e.: transcendent experience reports, obtained from the Erowid Experience Vaults, we can continue with the remainder of our analysis. Nautural Language Processing (NLP) is a subfield of machine learning, and deals primarily with unstructured textual data. The above graphic outlines the high level standard workflow for an NLP project, which includes:\n",
    "- `Text Pre-processing`: since the web is messy and unpredictable, we need to clean our data appropriately and perform some pre-processing to prepare our data for subsequent analysis\n",
    "- `Text Parsing & Exploratory Data Analysis`: what structures exist in the text, such as parts of speech or named entities (e.g.:  `TOM` can be an organization (`ORG`) or a person (`PER`) depending on context) - text parsing helps us construct better understand underlying structures of the text; exploratory data analysis (EDA) is the process of playing and understanding the data. It's as if the data is a person, and you're asking it questions over coffee to get to know them better. No way of conversation is particularly better than another, and data scientists can rely on tried and true techniques or get creative.\n",
    "- `Text Representation & Feature Engineering`: as mentioned in section 2.4, the chosen _representation_ of the data, as well as the features extracted from the raw data, are extremely important. Just as a landscape artist needs to choose the angle and form of the mountain he is painting, selecting the scenes and objects (features) to include to represent spring time, a data scientist needs to choose the methods of representing the text, and select features to highlight. More frequent than not, a \"feature\" in natural language processing is a vector of integeters or real numbers (e.g.: counts of words per document). \n",
    "\n",
    "- `Modeling and / or Pattern Mining`: depending on the task at hand and data (i.e.: metadata, labels etc.) available to us, we can use supervised or unsupervised techniques, topic modelling techniques, clustering to find similar groups, dimensionality reduction to visualize the data. The remainder of the thesis touch upon the above techniques, with particular emphasis on topic modelling.\n",
    "\n",
    "- `Evaluation & Deployment`: Once we have a model, we need to have a way to understand how well it performs. That is the topic of Evaluation, a crucial part of the natural language processing and machine learning pipeline. Without sound evaluation metrics, we have created a model, not a _good_ model. Indeed, unsupervised learning techniques are typically hard to evaluate, and in this thesis we propose a few metics for topic modelling, and note that improving evaluation metrics is a further area of research.\n",
    "\n",
    "\n",
    "Note that the workflow above has been drawn linearly, but the NLP pipeline in reality has many loops — extracting features, finding patterns, and asking questions about the data do not occur in a vaccuum. We present our work below linearly for structure, but the process of getting to know the data and writing this thesis was far from linear."
   ]
  },
  {
   "cell_type": "markdown",
   "metadata": {
    "colab_type": "text",
    "id": "CjTBEHInMFMF"
   },
   "source": [
    "## 4.2 Text Preprocessing\n",
    "\n",
    "\n",
    "### 4.2.1 Overview of Text Preprocessing\n",
    "\n",
    "Text Preprocessing refers to a broad class of techniques that pre-processes the text before any analysis is done. It's analogous to a rough sieve filtering out the largest rocks, cleaning and normalizing the corpus on a high level. Note that there is no \"canonical process\" to perform text pre-processing. In practice, the types of preprocessing done depends on the type of data, the quantity of data, trial and error. Steps marked with `*` are those that are most frequently used.\n",
    "\n",
    "- `* Remove extra spaces`\n",
    "- `* Make all text lowercase`\n",
    "- `* Remove stopwords`\n",
    "- `* Tokenization`\n",
    "- `* Normalize accented characters`\n",
    "- `* Remove special characters`\n",
    "- `Remove rougue `html`/`xml` tags`\n",
    "- `Remove numbers`\n",
    "- `Expanding contractions`\n",
    "- `Stemming`\n",
    "- `Lemmatization`\n",
    "\n",
    "For those interested, here is some more detail on each step:\n",
    "- `* Remove extra spaces`: \n",
    "> a whitespace is not just a whitespace in NLP; they can be `space` or `\\tab`, and depending on the parse, one needs to deal with newline characters such as `\\n` or `\\r`. Stripping away unecessary whitespace to find word boundaries is a crucial step in pre-processing. This is most commonly done with `str.strip()`\n",
    "- `* Make all text lowercase`:\n",
    "> should `wow` be treated the same as `WOW`? In sentiment analysis tasks, capitalizations matter very much, as the presence of caps often connote delight. In other tasks that are more informational based, capitalization add noise and unwanted dimensionality. This is most commonly done with  `str.lower()`\n",
    "- `* Remove stopwords`: \n",
    ">words such as `a` and `the` and `and` and `is` occur so frequently in the english language that they often don't add any meaningful information to the task at hand, so we pre-empt noise by adding them to a `stopwords` list and remove them from our corpus. Care must be taken with stopwords as by adding a word to a stopwords list we are a priori claiming that word does not add value. Indeed, men tend to use `the` more than women, so a classifier that predicts gender would be well served to include the presence or counts of `the` as a feature (Lyle Ungar).\n",
    "- `* Tokenization`: \n",
    ">The process of dividing a big chunk of text into individual units. In english, this is fairly straightforward: use individual words as tokens, or individual characters if we're building a character-level model. We also have to consider whether to make puntuations tokens, and whether we include any ngrams, e.g.: a bigram such as `cat jumped` or trigram such as `you are beautiful` separately as tokens, in addition to the individual words `cat`, `jumped`, `beautiful` etc. Tokenization is considerably harder for languages that don't have spaces, such as Chinese. In practice, we use built in tokenizers such as `nltk` or `spaCy`\n",
    "- `* Normalize accented characters`:\n",
    ">e.g.: `á` to `a`. Useful for english, but for other languages accented characters may have special meaning and usage. This is most commonly done with `unicodedata.normalize` and built in `sklearn` functionality\n",
    "- `Remove rougue `html`/`xml` tags`:\n",
    "> websites are written in `html`(`xml`), `css`, and `js`; If a website is a human being, `html` is the skeleton and meat, `css` is the makeup, and `js` provides the instruction for interactivity. As we know, sometimes bones break, but the human is still functioning — likewise, an `html` or `xml` file might be slightly corrupted, but the browser will still render the webpage. After we've scraped the webpage, we remove those `html` tags that are extraneous, so all we are left is the meat. This is most commonly done with packages such as `Beautiful Soup`\n",
    "- `Remove numbers`:\n",
    "> If we were designing a system to answer questions like `what is the population of norway`, numbers in the original data set is crucial. Other times, number add only noise. Depending on the problem at hand, the data scientist makes an informed decision of whether to remove numbers This is most commonly done with `regex`, or regular expressions, patterns that \"match\" to types of text. For example, the `regex` that matche to a 1 or more numbers is `[0-9]+`\n",
    "- `Expanding contractions`:\n",
    "> e.g.: `don't` to `do not`. Once again, this is optional and depends on the task and availability of data. Indeed, Lyle Ungar remarks this has been highly optional in his work.\n",
    "- `* Remove special characters`:\n",
    "> do special characters such as `<`, `!`, `#` add value? Indeed, sentiment analysis algorithms often look for `!`, and if we were analyzing twitter data, `#` are important. In other cases, special characters are treated as gibberish and removed.\n",
    "- `Stemming`:\n",
    "> `Stemming` refers to the often crude procedure of removing the ends of words to find the \"word stem\"; e.g.: walks -> walk;`Porter Stemmer`, `Lovins Stemmer`, `Paice Stemmer` are three examples of commonly used stemming algorithm. Some `Porter Stemmer` rules are found below ([source](https://nlp.stanford.edu/IR-book/html/htmledition/stemming-and-lemmatization-1.html))\n",
    "> ![Stemming Example](./images/infographic_stemming-inflections.png)\n",
    ">[`Stemming Graphics Source`](https://towardsdatascience.com/a-practitioners-guide-to-natural-language-processing-part-i-processing-understanding-text-9f4abfd13e72)\n",
    "> Here's an example of Porter Stemming rules, from the Stanford IR book\n",
    ">![Example of Porter Stemmer](images/infographic_porter-stemmer.png)\n",
    "\n",
    "- `Lemmatization`: \n",
    "> `Lemmatization`, to quote verbatim [Stanford's Information Retrival Texbook](https://nlp.stanford.edu/IR-book/html/htmledition/stemming-and-lemmatization-1.html), \"usually refers to doing things properly with the use of a vocabulary and morphological analysis of words, normally aiming to remove inflectional endings only and to return the base or dictionary form of a word, which is known as the lemma\". In other words, lemmatization returns the \"cannonical\" form of a word.\n",
    "> Some examples of lemmatization: ([source](https://www.geeksforgeeks.org/python-lemmatization-with-nltk/))\n",
    "> - rocks : rock\n",
    "> - corpora : corpus\n",
    "> - better : good\n",
    "> In a very real sense, lemmatization is a more complex procedure and can often produce more desirable results  \n",
    "However, it is interesting to note that with sufficiently large datasets in industrial machine learning applications (such as those done at Google), stemming and lemmatization are uncommonly used (**source**: in conversation with [Lyle Ungar](https://www.cis.upenn.edu/~ungar/))\n",
    "\n",
    "\n",
    "- Finally, save cleaned text to disk: e.g.: `news_df.to_csv('news.csv', index=False, encoding='utf-8')`, OR use pickle dump, for ease of retrieval and use later\n",
    "\n",
    "Note: Text preprossing procedures draws inspiration from [here](https://towardsdatascience.com/creating-word-clouds-with-python-f2077c8de5cc) and [A Practitioner's Guide to Natural Language Processing (Part I) — Processing & Understanding Text](https://towardsdatascience.com/a-practitioners-guide-to-natural-language-processing-part-i-processing-understanding-text-9f4abfd13e72), as well as Professor `Chris Callison-Burch's` [Computational Liguistics Class](http://computational-linguistics-class.org/)"
   ]
  },
  {
   "cell_type": "markdown",
   "metadata": {
    "colab_type": "text",
    "id": "eL_wswq5MFMF"
   },
   "source": [
    "### 4.2.2 The Details of Text Pre-processing\n"
   ]
  },
  {
   "cell_type": "code",
   "execution_count": 0,
   "metadata": {
    "colab": {
     "base_uri": "https://localhost:8080/",
     "height": 34
    },
    "colab_type": "code",
    "id": "Q0H3CY5dMFMG",
    "outputId": "be69ef3a-7e3d-40b5-97c2-dd0c9ce894ae",
    "scrolled": true
   },
   "outputs": [
    {
     "name": "stdout",
     "output_type": "stream",
     "text": [
      "Section 4.2.2 Text Pre-processing: done loading packages\n"
     ]
    }
   ],
   "source": [
    "# Heavily adapted from: https://towardsdatascience.com/a-practitioners-guide-to-natural-language-processing-part-i-processing-understanding-text-9f4abfd13e72\n",
    "### Getting the right packages\n",
    "\n",
    "# for Colab only\n",
    "# !pip install spacy\n",
    "# !python -m spacy download en_core_web_sm\n",
    "# !python -m spacy download en_core_web_md\n",
    "# !python -m spacy download en_core_web_lg\n",
    "\n",
    "import pandas as pd\n",
    "import spacy\n",
    "import pandas as pd\n",
    "import numpy as np\n",
    "import nltk\n",
    "from nltk.tokenize.toktok import ToktokTokenizer\n",
    "import re\n",
    "from bs4 import BeautifulSoup\n",
    "import unicodedata\n",
    "# From Spacy: English multi-task CNN trained on OntoNotes, with GloVe vectors trained on Common Crawl. Assigns word vectors, context-specific token vectors, POS tags, dependency parse and named entities.\n",
    "nlp = spacy.load('en_core_web_md', parse=True, tag=True, entity=True)\n",
    "tokenizer = ToktokTokenizer()\n",
    "\n",
    "print(\"Section 4.2.2 Text Pre-processing: done loading packages\")\n",
    "\n",
    "##### Recall the list of preprocessing tasks\n",
    "# - `* Remove extra spaces`\n",
    "# - `* Make all text lowercase`\n",
    "# - `* Remove stopwords`\n",
    "# - `* Tokenization`\n",
    "# - `* Normalize accented characters`\n",
    "# - `Remove rougue `html`/`xml` tags`\n",
    "# - `Remove numbers`\n",
    "# - `Expanding contractions`\n",
    "# - `Stemming`\n",
    "# - `Lemmatization`"
   ]
  },
  {
   "cell_type": "code",
   "execution_count": 0,
   "metadata": {
    "colab": {},
    "colab_type": "code",
    "collapsed": true,
    "id": "c2zN6axvMFMI",
    "scrolled": true
   },
   "outputs": [],
   "source": [
    "# Option to reimport the data\n",
    "pd_tripReports = pd.read_csv(trips_raw_filepath)"
   ]
  },
  {
   "cell_type": "code",
   "execution_count": 0,
   "metadata": {
    "colab": {
     "base_uri": "https://localhost:8080/",
     "height": 197
    },
    "colab_type": "code",
    "id": "yR97tVtIMFMK",
    "outputId": "0ef37777-5a6e-4e09-8472-44fec26d53f8"
   },
   "outputs": [
    {
     "data": {
      "text/html": [
       "<div>\n",
       "<style scoped>\n",
       "    .dataframe tbody tr th:only-of-type {\n",
       "        vertical-align: middle;\n",
       "    }\n",
       "\n",
       "    .dataframe tbody tr th {\n",
       "        vertical-align: top;\n",
       "    }\n",
       "\n",
       "    .dataframe thead th {\n",
       "        text-align: right;\n",
       "    }\n",
       "</style>\n",
       "<table border=\"1\" class=\"dataframe\">\n",
       "  <thead>\n",
       "    <tr style=\"text-align: right;\">\n",
       "      <th></th>\n",
       "      <th>report</th>\n",
       "      <th>title</th>\n",
       "      <th>substance</th>\n",
       "    </tr>\n",
       "  </thead>\n",
       "  <tbody>\n",
       "    <tr>\n",
       "      <th>0</th>\n",
       "      <td>after having had some success with other forms...</td>\n",
       "      <td>sideways world</td>\n",
       "      <td>salvia divinorum (5x extract)</td>\n",
       "    </tr>\n",
       "    <tr>\n",
       "      <th>1</th>\n",
       "      <td>me and a couple of my buddies decided one nigh...</td>\n",
       "      <td>physical wellbeing = crucial</td>\n",
       "      <td>mushrooms</td>\n",
       "    </tr>\n",
       "    <tr>\n",
       "      <th>2</th>\n",
       "      <td>my girlfriend and i had been saving the methyl...</td>\n",
       "      <td>the artful dodger</td>\n",
       "      <td>methylone</td>\n",
       "    </tr>\n",
       "    <tr>\n",
       "      <th>3</th>\n",
       "      <td>i just want to warn anybody taking lithium (or...</td>\n",
       "      <td>seizure inducing combo</td>\n",
       "      <td>lsd &amp; lithium</td>\n",
       "    </tr>\n",
       "    <tr>\n",
       "      <th>4</th>\n",
       "      <td>i have had several attempts before this to bre...</td>\n",
       "      <td>enlightenment through a chemical catalyst</td>\n",
       "      <td>5-meo-dmt</td>\n",
       "    </tr>\n",
       "  </tbody>\n",
       "</table>\n",
       "</div>"
      ],
      "text/plain": [
       "                                              report  \\\n",
       "0  after having had some success with other forms...   \n",
       "1  me and a couple of my buddies decided one nigh...   \n",
       "2  my girlfriend and i had been saving the methyl...   \n",
       "3  i just want to warn anybody taking lithium (or...   \n",
       "4  i have had several attempts before this to bre...   \n",
       "\n",
       "                                       title                      substance  \n",
       "0                             sideways world  salvia divinorum (5x extract)  \n",
       "1               physical wellbeing = crucial                      mushrooms  \n",
       "2                          the artful dodger                      methylone  \n",
       "3                     seizure inducing combo                  lsd & lithium  \n",
       "4  enlightenment through a chemical catalyst                      5-meo-dmt  "
      ]
     },
     "execution_count": 42,
     "metadata": {
      "tags": []
     },
     "output_type": "execute_result"
    }
   ],
   "source": [
    "# make text lowercase\n",
    "pd_tripReports[\"report\"] = pd_tripReports[\"report\"].str.lower()\n",
    "pd_tripReports[\"title\"] = pd_tripReports[\"title\"].str.lower()\n",
    "pd_tripReports[\"substance\"] = pd_tripReports[\"substance\"].str.lower()\n",
    "\n",
    "pd_tripReports.head()"
   ]
  },
  {
   "cell_type": "code",
   "execution_count": 0,
   "metadata": {
    "colab": {
     "base_uri": "https://localhost:8080/",
     "height": 70
    },
    "colab_type": "code",
    "id": "TliDcqKMMFMN",
    "outputId": "ec2da1c6-d2fb-4b8a-803d-a06efa55df89"
   },
   "outputs": [
    {
     "name": "stderr",
     "output_type": "stream",
     "text": [
      "[nltk_data] Downloading package stopwords to\n",
      "[nltk_data]     /Users/alextzhao/nltk_data...\n",
      "[nltk_data]   Package stopwords is already up-to-date!\n"
     ]
    },
    {
     "data": {
      "text/plain": [
       "', , stopwords , computer not'"
      ]
     },
     "execution_count": 43,
     "metadata": {
      "tags": []
     },
     "output_type": "execute_result"
    }
   ],
   "source": [
    "# Prepare stopwords\n",
    "nltk.download('stopwords')\n",
    "stopword_list = nltk.corpus.stopwords.words('english')\n",
    "stopword_list.remove('no')\n",
    "stopword_list.remove('not')\n",
    "\n",
    "# Remove stopwords\n",
    "def remove_stopwords(text, is_lower_case=False):\n",
    "    tokens = tokenizer.tokenize(text)\n",
    "    tokens = [token.strip() for token in tokens]\n",
    "    if is_lower_case:\n",
    "        filtered_tokens = [token for token in tokens if token not in stopword_list]\n",
    "    else:\n",
    "        filtered_tokens = [token for token in tokens if token.lower() not in stopword_list]\n",
    "    filtered_text = ' '.join(filtered_tokens)    \n",
    "    return filtered_text\n",
    "\n",
    "remove_stopwords(\"The, and, if are stopwords, computer is not\")"
   ]
  },
  {
   "cell_type": "code",
   "execution_count": 0,
   "metadata": {
    "colab": {
     "base_uri": "https://localhost:8080/",
     "height": 34
    },
    "colab_type": "code",
    "id": "aHdZTC6cMFMP",
    "outputId": "09d3a889-334f-4990-e8d1-07ca55a69c52"
   },
   "outputs": [
    {
     "data": {
      "text/plain": [
       "'Some Accented text'"
      ]
     },
     "execution_count": 44,
     "metadata": {
      "tags": []
     },
     "output_type": "execute_result"
    }
   ],
   "source": [
    "# * Normalize accented characters\n",
    "def remove_accented_chars(text):\n",
    "    text = unicodedata.normalize('NFKD', text).encode('ascii', 'ignore').decode('utf-8', 'ignore')\n",
    "    return text\n",
    "\n",
    "remove_accented_chars('Sómě Áccěntěd těxt') # example"
   ]
  },
  {
   "cell_type": "code",
   "execution_count": 0,
   "metadata": {
    "colab": {
     "base_uri": "https://localhost:8080/",
     "height": 34
    },
    "colab_type": "code",
    "id": "cbiWUdWkMFMS",
    "outputId": "c0e8c527-3411-4ad5-d19b-30cd9e9f800e"
   },
   "outputs": [
    {
     "data": {
      "text/plain": [
       "'Some important text'"
      ]
     },
     "execution_count": 45,
     "metadata": {
      "tags": []
     },
     "output_type": "execute_result"
    }
   ],
   "source": [
    "# Remove rougue `html`/`xml` tags\n",
    "def strip_html_tags(text):\n",
    "    soup = BeautifulSoup(text, \"html.parser\")\n",
    "    stripped_text = soup.get_text()\n",
    "    return stripped_text\n",
    "\n",
    "strip_html_tags('<html><h2>Some important text</h2></html>') # example"
   ]
  },
  {
   "cell_type": "code",
   "execution_count": 0,
   "metadata": {
    "colab": {
     "base_uri": "https://localhost:8080/",
     "height": 34
    },
    "colab_type": "code",
    "id": "asbo2_jXMFMU",
    "outputId": "603179f6-0087-4383-a0c1-c60e1c369c55"
   },
   "outputs": [
    {
     "data": {
      "text/plain": [
       "'Well this was fun What do you think '"
      ]
     },
     "execution_count": 46,
     "metadata": {
      "tags": []
     },
     "output_type": "execute_result"
    }
   ],
   "source": [
    "# Remove Special Characters\n",
    "def remove_special_characters(text, remove_digits=False):\n",
    "    pattern = r'[^a-zA-z0-9\\s]' if not remove_digits else r'[^a-zA-z\\s]'\n",
    "    text = re.sub(pattern, '', text)\n",
    "    return text\n",
    "\n",
    "remove_special_characters(\"Well this was fun! What do you think? 123#@!\", \n",
    "                          remove_digits=True) # example\n",
    "\n"
   ]
  },
  {
   "cell_type": "code",
   "execution_count": 0,
   "metadata": {
    "colab": {
     "base_uri": "https://localhost:8080/",
     "height": 34
    },
    "colab_type": "code",
    "id": "pVJEv1HhMFMW",
    "outputId": "5601dc65-0cbb-4a79-d13b-2601df72c1b7"
   },
   "outputs": [
    {
     "data": {
      "text/plain": [
       "'My system keep crashing! hi crash yesterday, our crash daili'"
      ]
     },
     "execution_count": 47,
     "metadata": {
      "tags": []
     },
     "output_type": "execute_result"
    }
   ],
   "source": [
    "# Simple Stemmer based on Porter Stemmer\n",
    "# Lyle Ungar recommends not using a stemmer\n",
    "def simple_stemmer(text):\n",
    "    ps = nltk.porter.PorterStemmer()\n",
    "    text = ' '.join([ps.stem(word) for word in text.split()])\n",
    "    return text\n",
    "\n",
    "simple_stemmer(\"My system keeps crashing! his crashed yesterday, ours crashes daily\") # example"
   ]
  },
  {
   "cell_type": "code",
   "execution_count": 0,
   "metadata": {
    "colab": {
     "base_uri": "https://localhost:8080/",
     "height": 34
    },
    "colab_type": "code",
    "id": "FKuEnHZHMFMZ",
    "outputId": "32ac2d36-d17f-40f1-ad0f-3b50a0b8682b"
   },
   "outputs": [
    {
     "data": {
      "text/plain": [
       "'My system keep crash ! his crashed yesterday , ours crash daily'"
      ]
     },
     "execution_count": 48,
     "metadata": {
      "tags": []
     },
     "output_type": "execute_result"
    }
   ],
   "source": [
    "# Lemmatize Text\n",
    "# Lyle Ungar recommends not using a lemmatizer\n",
    "def lemmatize_text(text):\n",
    "    text = nlp(text)\n",
    "    text = ' '.join([word.lemma_ if word.lemma_ != '-PRON-' else word.text for word in text])\n",
    "    return text\n",
    "\n",
    "lemmatize_text(\"My system keeps crashing! his crashed yesterday, ours crashes daily\") # example"
   ]
  },
  {
   "cell_type": "code",
   "execution_count": 0,
   "metadata": {
    "colab": {},
    "colab_type": "code",
    "collapsed": true,
    "id": "yVrPHApjMFMb"
   },
   "outputs": [],
   "source": [
    "# pd_tripReports.columns.str.lower().str.strip().str.lower()\n",
    "# # pd_tripReports.columns.str.lower().strip()\n",
    "# # pd_tripReports.columns = pd_tripReports.columns.str.strip().str.lower().str.replace('.', '_')\\n\",\n",
    "\n",
    "# Adapted from https://towardsdatascience.com/a-practitioners-guide-to-natural-language-processing-part-i-processing-understanding-text-9f4abfd13e72\n",
    "def normalize_corpus(corpus, html_stripping=True,\n",
    "                     accented_char_removal=True, text_lower_case=True, \n",
    "                     special_char_removal=False, text_lemmatization=False, \n",
    "                     text_stemming = False, stopword_removal=True, \n",
    "                     remove_digits=True, contraction_expansion = False):\n",
    "    \"\"\"\n",
    "    Input: corpus, list of documents\n",
    "    Output: normalized_corpus, list of normalized documents that have been preprocessed\n",
    "    \"\"\"\n",
    "    normalized_corpus = []\n",
    "    # normalize each document in the corpus\n",
    "    for doc in corpus:\n",
    "        # strip HTML\n",
    "        if html_stripping:\n",
    "            doc = strip_html_tags(doc)\n",
    "        # remove accented characters\n",
    "        if accented_char_removal:\n",
    "            doc = remove_accented_chars(doc)\n",
    "        # expand contractions    \n",
    "        if contraction_expansion:\n",
    "            doc = expand_contractions(doc)\n",
    "        # lowercase the text    \n",
    "        if text_lower_case:\n",
    "            doc = doc.lower()\n",
    "        # remove extra newlines\n",
    "        doc = re.sub(r'[\\r|\\n|\\r\\n]+', ' ',doc)\n",
    "        # stem text: caution when stemming + lemmatizing text at the same time\n",
    "        if text_stemming:\n",
    "            doc = simple_stemmer(text)\n",
    "        # lemmatize text\n",
    "        if text_lemmatization:\n",
    "            doc = lemmatize_text(doc)\n",
    "        # remove special characters and\\or digits    \n",
    "        if special_char_removal:\n",
    "            # insert spaces between special characters to isolate them    \n",
    "            special_char_pattern = re.compile(r'([{.(-)!}])')\n",
    "            doc = special_char_pattern.sub(\" \\\\1 \", doc)\n",
    "            doc = remove_special_characters(doc, remove_digits=remove_digits)  \n",
    "        # remove extra whitespace\n",
    "        doc = re.sub(' +', ' ', doc)\n",
    "        # remove stopwords\n",
    "        if stopword_removal:\n",
    "            doc = remove_stopwords(doc, is_lower_case=text_lower_case)\n",
    "            \n",
    "        normalized_corpus.append(doc)\n",
    "        \n",
    "    return normalized_corpus"
   ]
  },
  {
   "cell_type": "code",
   "execution_count": 0,
   "metadata": {
    "colab": {},
    "colab_type": "code",
    "collapsed": true,
    "id": "7aioWOgNMFMd"
   },
   "outputs": [],
   "source": [
    "## Preprocess our corpus\n",
    "## Long run time: ~ 2 min\n",
    "\n",
    "# pd_tripReports.info()\n",
    "pd_tripReports.dtypes\n",
    "pd_tripReports[\"report\"] = pd_tripReports[\"report\"].astype('str')\n",
    "pd_tripReports[\"title\"] = pd_tripReports[\"title\"].astype('str')\n",
    "pd_tripReports[\"substance\"] = pd_tripReports[\"substance\"].astype('str')\n",
    "\n",
    "corpus_list = pd_tripReports[\"report\"].to_list()\n",
    "corpus_list_normalized = normalize_corpus(corpus_list)\n",
    "\n",
    "pd_tripReports_normalized = pd_tripReports\n",
    "pd_tripReports_normalized[\"report\"] = pd.Series(corpus_list_normalized)"
   ]
  },
  {
   "cell_type": "code",
   "execution_count": 0,
   "metadata": {
    "colab": {
     "base_uri": "https://localhost:8080/",
     "height": 54
    },
    "colab_type": "code",
    "collapsed": true,
    "id": "XJuAUGH2MFMg",
    "outputId": "adc328ce-878d-41fa-8314-9d4a64eb7233"
   },
   "outputs": [
    {
     "data": {
      "text/plain": [
       "'journal shall hopefully guide better understanding effects salvia divinorum. like many journals attempted write , end lack desire finish them. plan make journal different. hope describe experience fullest extent better understand unique nature plant. 9/19/2002 received two grams 5x extract. excited first experience called friend watch , since first time not know would react. prepared water pipe put miniscule amount bowl , lit up. inhaled held smoke , wasnt much. exhaling , not feel much minute , felt mild buzz not much else. disappointed decided try more. put equal amount salvia bowl lit again. not feel anything much. decided not enough , ten minutes later ; filled bowl decent amount lit up. upon exhaling , not feel anything right away , hit me. amazed feeling commented could not believe drug legal. sudden , body felt covered ants. itchy sweaty threw over-shirt take t-shirt said , no , drug. pulled shirt back down. began talk high-pitched voice , saying nonsensical things. perspective radically changed. standing edge cliff back precipice beyond nothing. nothing existed beyond cliff. universe shrunk till included field vision front me. universe 50 square feet , seemed fine. still room , not recognize such. different place , not unpleasant interesting/weird ( lack better word ) . stayed universe till came down. next conscious thought cleaning pipe sink preparation another trip. friend brought video camera record trip. went back room chilled minutes refilled pipe lit up. two inhales clear chamber , not much perspective shifting , mostly extreme stoning effect similar weed noticeably different. mentioned amazed second exhale not contain much smoke. also vague feeling talking , part childrens television show , explaining things viewers. also mentioned television feeling. began come , turned cd player laid bed , attempting visuals , no avail. feeling mildly disappointed , decided inhale nitrous. gave typical nitrous rush , commented wished could feel like time , neither drug intensified other. effects wearing , thought experienced. nice trip , not quite introspective spiritual experience. however , feel started good level plan continue exploring consciousness salvia. 9/21/2002 two days since first experience salvia. enjoyed first experience immensely , found tad disappointed not experience introspective mind-altering states. 3 : 30pm , load bowl almost top salvia. clear chamber wait. feel familiar itch/sweat expect common salvia experiences. not wholly unpleasant , comfortable without shirt a/c. felt salvia begin take hold. however , mild stoning effect decide must smoke another bowl achieve desired effects. loaded bowl smoke fully. trip truly starts. finished exhaling , stared windowsill feeling dj vu came me. couldnt help feel done ( smoking salvia ) many years. began feel like experiencing childhood way fatherhood incredibly short amount time. conversations best friend grew played together. got older , children reminisced old days fun fun children now. stopped tried fight experience. said loud , ? things like , not fully understanding experiencing. decided not fight laid bed closed eyes. laid eyes closed , multi-colored spiral/vortex began swirl minds eye. made one loop started form another loop underneath previous one realized loop alive many intelligent organisms lived within it. loop continued move could hear organisms talking. mother explaining child loop represented generation them. understood witnessing new births creator beings. mother kept explaining old generations , none old ancient entity. entity. creator , vessel beings. mother told child one day , might take talk ancient entity , might not talk back. listened described ancient entity , began think beginnings , played friend growing up. conversation meeting entity , loop stopped spiraling turned ribbon , resembling sine wave , continued move fashion. , began get annoyed creatures , feeling no right inside using vessel existence. opened eyes grabbed paper pen , great difficulty wrote words : wrote , laid back began come plateau. laid bit , attempting absorb experienced , still heavily influence. thought would perfect time nitrous , prepared balloon inhaled it. not think inhaled enough , peaked felt giant hand bending forward turning upside down. straightened came nitrous , good , exhausted mood. wandered around room bit called friend , stating amazing trip , not yet ready describe it. laid back , almost completely devoid effects , thought experienced , realized first , amazing , introspective trip. felt special blown away. dozed half hour woke watched tv. got dinner writing this. feel great word comes mind wow. much respect plant grateful insight granted me. 9/24/2002 2 : 30 , load attempt smoke accidentally blow half bowl out. gathered , must careful , since salvia light herb. take two full hits. right first hit , aware effects itch/sweat starts. strip shirt second exhale. psychotropic effects begin. become aware waterpipe alive. person talks says must put ground. comply , realize entertainment system plus several random points space become alive well. start make fun comment sloppy job moving pipe ground. laugh wonder made act way. talk back , telling shut mind business. point realize drug hold me. close eyes wide brownish loop forms , vague edges. appears sparkle electricity , electricity also brown. see loop actually made eight distinct pieces piece represents different entity living room ( ones laughing ) . sudden loop breaks towards top one junctions two pieces. loop becomes snake-like thing moves/loops away , field vision. comes back field vision rushes goes inside head. snake-like thing takes control brain begins tell things. specifically tells masturbate. cannot help aware quickly undo pants begin deed. kneel onto ground , seemed like indefinitely long time , felt light tingling ejaculated trashcan. little feeling involved compared masturbation sessions , bottom scale. laid back bed listen music. huey lewis alright playing. listen , aware picked one voices within song listening specifically part. rest music , could hear every note particular part , almost sure baritone. play piano man billy joel notice picked bass guitar part , listening that. come plateau , sit realize paper due tomorrow feel compelled find information regarding it. begin searching notebooks papers , finding unable stop moving five minutes. rapidly searching , no avail. clean notebooks check computer find information. after-effects slowly tapering , wanted clean pipe , roommate kitchen , watched tv gone. cleaned pipe begin typing this. become experienced salvia use one drug repeatedly , begin find certain aspects similar trip. get itch/sweat seconds smoking quickly dissipates. perception reality changes plateau. trip yielded different perceptual changes , expected hope two trips never same. also realize plateau , memory bit fuzzy. cannot recall well comedown. after-effects , begin understand experienced. regarding effects , not realize feeling minute effect. almost two brains working simultaneously. conscious brain trip unconscious brain realizes something happening bit later. salvia leaves sort heaviness brain , kind like huge test. hypothesize due fact brain work hard , attempting understand comprehend world around influence wonderful conscious-altering drug. 9/24/2002 not report trip , observations others salvia. j , , r partake evening. j went first monster hit , started coughing must hit started rubbing tongue licking sleeve. encouraged take rest , remained weird state 15 minutes. packing new bowl , threw empty box cigarette me. hit head apologized profusely great sincerity , ever seen do. said felt like stoned ever 5 minutes. took sat , eyes glancing around. mentioned felt like j doll j talking , apparently seemed weird doll. r smoked next stood great difficulty mentioned something going lake. addressed us grandma grandpa. also said , j confirmed , felt leaden porch , like couldnt move. extent trips best knowledge not discuss length , know people similar reactions salvia. 10/11/2002 received 5 grams 5x extract week back , prepared smoked large bowl new batch salvia ( approximately two hits ) . felt familiar itch/sweat , nothing much else. tad disappointed not feel much. one point , think mildly aware room penthouse top expensive apartment complex , cannot sure. mostly , attempting force effects happen. think need construct larger , better bong take salvia in. perhaps batch isnt potent last one. build new bong attempt better trip week. 10/31/2002 great trip new bong. also take hits good trip well. trip hard understand , try describe it. looking window frame view contained lake , horizon , lava lamp , arm , chair. not recognize , one giant slate painted it. stared canvas seemed like arm connected horizon invisible energy flowing horizon. moved became upset felt like canvas ripped , yelled stop moving around. slowly came back reality not much reflecting , watched take good couple hits , obviously sent somewhere asked wheres brother ? thought back old house. came back baseline talked trips fifteen minutes , reflecting pleasant trip weird drug salvia is. 12/02/2002 k smoke one bowl together ; hit each. no real discernable effects part except heaviness right hand lasted 20 seconds. k stared window half minute. think one take hit salvia without coughing. everyone smoked , minus , coughed , veteran weed smokers. sure lack effects due extremely small amount smoked not quality salvia. months old , even though keep glass jar , not sure long salvinorin stays active. good chunk time , massive salvia trip , since finals arriving , wait. 4/25/2003 since smoked salvia. particular night , tripping 3.5 grams mushrooms 40mg amt. done 20 nitrous hits well. put ein deutsches requiem stereo take nice fatty hit. hits right away. typical salvia mindshift occurs staring foreign horizon. entertainment center become mountain range , shifting color growing intensity. music begins take place unwant , attempt change it. find cannot recognize cd remote fumble bit falling floor. begin talk. time made perfect sense , minute talking , realized saying gibberish. shake head try think saying new phrase pops head : wagons. fraction second later add words flowers cup , phrase became flowers cupwagons. means no idea. remember form salvia portion trip. perhaps phrase induced song ( vangelis messages ) listening , although no lyrics form phrase , rhythmic patterns song could formed words head. type entry almost four months later experience , phrase crossed mind many times , feel connection subconscious. discover true meaning phrase link share salvia. salvia divinorum weirdest psychedelic tried date , feel still much learned. 7/20/2003 day camp , sit deck brother smoking bowl nugs. decide smoke small bowl salvia each. hits first sits silence inhale. mindshift occurs body becomes mountain range shaped like upright backwards c. every word speak , invisible energies shoot top c bottom , imagine would like listening music , particularly vangelis messages ( song feel share transcendental connection ) . turn brother start talking. talking nonsense words make sense. friday wagons coming , b. know areyou know are. laughs mentions fucked feels doesnt know hell going ; internal well external. next day , realize word wagons somehow connected salvia myself. friday flowers two beginnings phrase. typed day previous entry. feels bit unfair journal sharing entries months think experiences. however , share better understanding strange phrase. salvia needed perhaps new prefix surface wagons phrase. must make sure truly surfaces not forced existence desire discover. starting new journey year. assimilated experiences previous year ready delve deeper myself. know am. must go beyond knowing. discover year. 9/1/03 12/29/03 gotten lazy , not record salvia experiences year occurred. however , numerous trips taken quite similar since dosage source not differ. smoked salvia eight times. trip took place chair although not aesthetically pleasing , serves purpose well. fun nothing spectacular. learned flowers cupwagons means nothing alcohol salvia not mix. semester sucked ass. tired. depressed .'"
      ]
     },
     "execution_count": 22,
     "metadata": {
      "tags": []
     },
     "output_type": "execute_result"
    }
   ],
   "source": [
    "# example trip report not preprocessed\n",
    "pd_tripReports.loc[19922, \"report\"]"
   ]
  },
  {
   "cell_type": "code",
   "execution_count": 0,
   "metadata": {
    "colab": {
     "base_uri": "https://localhost:8080/",
     "height": 54
    },
    "colab_type": "code",
    "collapsed": true,
    "id": "fRlgV2dPeaeL",
    "outputId": "6d78ed79-5442-4cac-dec1-84e5eab12c6a"
   },
   "outputs": [
    {
     "data": {
      "text/plain": [
       "'journal shall hopefully guide better understanding effects salvia divinorum. like many journals attempted write , end lack desire finish them. plan make journal different. hope describe experience fullest extent better understand unique nature plant. 9/19/2002 received two grams 5x extract. excited first experience called friend watch , since first time not know would react. prepared water pipe put miniscule amount bowl , lit up. inhaled held smoke , wasnt much. exhaling , not feel much minute , felt mild buzz not much else. disappointed decided try more. put equal amount salvia bowl lit again. not feel anything much. decided not enough , ten minutes later ; filled bowl decent amount lit up. upon exhaling , not feel anything right away , hit me. amazed feeling commented could not believe drug legal. sudden , body felt covered ants. itchy sweaty threw over-shirt take t-shirt said , no , drug. pulled shirt back down. began talk high-pitched voice , saying nonsensical things. perspective radically changed. standing edge cliff back precipice beyond nothing. nothing existed beyond cliff. universe shrunk till included field vision front me. universe 50 square feet , seemed fine. still room , not recognize such. different place , not unpleasant interesting/weird ( lack better word ) . stayed universe till came down. next conscious thought cleaning pipe sink preparation another trip. friend brought video camera record trip. went back room chilled minutes refilled pipe lit up. two inhales clear chamber , not much perspective shifting , mostly extreme stoning effect similar weed noticeably different. mentioned amazed second exhale not contain much smoke. also vague feeling talking , part childrens television show , explaining things viewers. also mentioned television feeling. began come , turned cd player laid bed , attempting visuals , no avail. feeling mildly disappointed , decided inhale nitrous. gave typical nitrous rush , commented wished could feel like time , neither drug intensified other. effects wearing , thought experienced. nice trip , not quite introspective spiritual experience. however , feel started good level plan continue exploring consciousness salvia. 9/21/2002 two days since first experience salvia. enjoyed first experience immensely , found tad disappointed not experience introspective mind-altering states. 3 : 30pm , load bowl almost top salvia. clear chamber wait. feel familiar itch/sweat expect common salvia experiences. not wholly unpleasant , comfortable without shirt a/c. felt salvia begin take hold. however , mild stoning effect decide must smoke another bowl achieve desired effects. loaded bowl smoke fully. trip truly starts. finished exhaling , stared windowsill feeling dj vu came me. couldnt help feel done ( smoking salvia ) many years. began feel like experiencing childhood way fatherhood incredibly short amount time. conversations best friend grew played together. got older , children reminisced old days fun fun children now. stopped tried fight experience. said loud , ? things like , not fully understanding experiencing. decided not fight laid bed closed eyes. laid eyes closed , multi-colored spiral/vortex began swirl minds eye. made one loop started form another loop underneath previous one realized loop alive many intelligent organisms lived within it. loop continued move could hear organisms talking. mother explaining child loop represented generation them. understood witnessing new births creator beings. mother kept explaining old generations , none old ancient entity. entity. creator , vessel beings. mother told child one day , might take talk ancient entity , might not talk back. listened described ancient entity , began think beginnings , played friend growing up. conversation meeting entity , loop stopped spiraling turned ribbon , resembling sine wave , continued move fashion. , began get annoyed creatures , feeling no right inside using vessel existence. opened eyes grabbed paper pen , great difficulty wrote words : wrote , laid back began come plateau. laid bit , attempting absorb experienced , still heavily influence. thought would perfect time nitrous , prepared balloon inhaled it. not think inhaled enough , peaked felt giant hand bending forward turning upside down. straightened came nitrous , good , exhausted mood. wandered around room bit called friend , stating amazing trip , not yet ready describe it. laid back , almost completely devoid effects , thought experienced , realized first , amazing , introspective trip. felt special blown away. dozed half hour woke watched tv. got dinner writing this. feel great word comes mind wow. much respect plant grateful insight granted me. 9/24/2002 2 : 30 , load attempt smoke accidentally blow half bowl out. gathered , must careful , since salvia light herb. take two full hits. right first hit , aware effects itch/sweat starts. strip shirt second exhale. psychotropic effects begin. become aware waterpipe alive. person talks says must put ground. comply , realize entertainment system plus several random points space become alive well. start make fun comment sloppy job moving pipe ground. laugh wonder made act way. talk back , telling shut mind business. point realize drug hold me. close eyes wide brownish loop forms , vague edges. appears sparkle electricity , electricity also brown. see loop actually made eight distinct pieces piece represents different entity living room ( ones laughing ) . sudden loop breaks towards top one junctions two pieces. loop becomes snake-like thing moves/loops away , field vision. comes back field vision rushes goes inside head. snake-like thing takes control brain begins tell things. specifically tells masturbate. cannot help aware quickly undo pants begin deed. kneel onto ground , seemed like indefinitely long time , felt light tingling ejaculated trashcan. little feeling involved compared masturbation sessions , bottom scale. laid back bed listen music. huey lewis alright playing. listen , aware picked one voices within song listening specifically part. rest music , could hear every note particular part , almost sure baritone. play piano man billy joel notice picked bass guitar part , listening that. come plateau , sit realize paper due tomorrow feel compelled find information regarding it. begin searching notebooks papers , finding unable stop moving five minutes. rapidly searching , no avail. clean notebooks check computer find information. after-effects slowly tapering , wanted clean pipe , roommate kitchen , watched tv gone. cleaned pipe begin typing this. become experienced salvia use one drug repeatedly , begin find certain aspects similar trip. get itch/sweat seconds smoking quickly dissipates. perception reality changes plateau. trip yielded different perceptual changes , expected hope two trips never same. also realize plateau , memory bit fuzzy. cannot recall well comedown. after-effects , begin understand experienced. regarding effects , not realize feeling minute effect. almost two brains working simultaneously. conscious brain trip unconscious brain realizes something happening bit later. salvia leaves sort heaviness brain , kind like huge test. hypothesize due fact brain work hard , attempting understand comprehend world around influence wonderful conscious-altering drug. 9/24/2002 not report trip , observations others salvia. j , , r partake evening. j went first monster hit , started coughing must hit started rubbing tongue licking sleeve. encouraged take rest , remained weird state 15 minutes. packing new bowl , threw empty box cigarette me. hit head apologized profusely great sincerity , ever seen do. said felt like stoned ever 5 minutes. took sat , eyes glancing around. mentioned felt like j doll j talking , apparently seemed weird doll. r smoked next stood great difficulty mentioned something going lake. addressed us grandma grandpa. also said , j confirmed , felt leaden porch , like couldnt move. extent trips best knowledge not discuss length , know people similar reactions salvia. 10/11/2002 received 5 grams 5x extract week back , prepared smoked large bowl new batch salvia ( approximately two hits ) . felt familiar itch/sweat , nothing much else. tad disappointed not feel much. one point , think mildly aware room penthouse top expensive apartment complex , cannot sure. mostly , attempting force effects happen. think need construct larger , better bong take salvia in. perhaps batch isnt potent last one. build new bong attempt better trip week. 10/31/2002 great trip new bong. also take hits good trip well. trip hard understand , try describe it. looking window frame view contained lake , horizon , lava lamp , arm , chair. not recognize , one giant slate painted it. stared canvas seemed like arm connected horizon invisible energy flowing horizon. moved became upset felt like canvas ripped , yelled stop moving around. slowly came back reality not much reflecting , watched take good couple hits , obviously sent somewhere asked wheres brother ? thought back old house. came back baseline talked trips fifteen minutes , reflecting pleasant trip weird drug salvia is. 12/02/2002 k smoke one bowl together ; hit each. no real discernable effects part except heaviness right hand lasted 20 seconds. k stared window half minute. think one take hit salvia without coughing. everyone smoked , minus , coughed , veteran weed smokers. sure lack effects due extremely small amount smoked not quality salvia. months old , even though keep glass jar , not sure long salvinorin stays active. good chunk time , massive salvia trip , since finals arriving , wait. 4/25/2003 since smoked salvia. particular night , tripping 3.5 grams mushrooms 40mg amt. done 20 nitrous hits well. put ein deutsches requiem stereo take nice fatty hit. hits right away. typical salvia mindshift occurs staring foreign horizon. entertainment center become mountain range , shifting color growing intensity. music begins take place unwant , attempt change it. find cannot recognize cd remote fumble bit falling floor. begin talk. time made perfect sense , minute talking , realized saying gibberish. shake head try think saying new phrase pops head : wagons. fraction second later add words flowers cup , phrase became flowers cupwagons. means no idea. remember form salvia portion trip. perhaps phrase induced song ( vangelis messages ) listening , although no lyrics form phrase , rhythmic patterns song could formed words head. type entry almost four months later experience , phrase crossed mind many times , feel connection subconscious. discover true meaning phrase link share salvia. salvia divinorum weirdest psychedelic tried date , feel still much learned. 7/20/2003 day camp , sit deck brother smoking bowl nugs. decide smoke small bowl salvia each. hits first sits silence inhale. mindshift occurs body becomes mountain range shaped like upright backwards c. every word speak , invisible energies shoot top c bottom , imagine would like listening music , particularly vangelis messages ( song feel share transcendental connection ) . turn brother start talking. talking nonsense words make sense. friday wagons coming , b. know areyou know are. laughs mentions fucked feels doesnt know hell going ; internal well external. next day , realize word wagons somehow connected salvia myself. friday flowers two beginnings phrase. typed day previous entry. feels bit unfair journal sharing entries months think experiences. however , share better understanding strange phrase. salvia needed perhaps new prefix surface wagons phrase. must make sure truly surfaces not forced existence desire discover. starting new journey year. assimilated experiences previous year ready delve deeper myself. know am. must go beyond knowing. discover year. 9/1/03 12/29/03 gotten lazy , not record salvia experiences year occurred. however , numerous trips taken quite similar since dosage source not differ. smoked salvia eight times. trip took place chair although not aesthetically pleasing , serves purpose well. fun nothing spectacular. learned flowers cupwagons means nothing alcohol salvia not mix. semester sucked ass. tired. depressed .'"
      ]
     },
     "execution_count": 23,
     "metadata": {
      "tags": []
     },
     "output_type": "execute_result"
    }
   ],
   "source": [
    "# example trip report preprocessed\n",
    "pd_tripReports_normalized.loc[19922, \"report\"]"
   ]
  },
  {
   "cell_type": "code",
   "execution_count": 0,
   "metadata": {
    "colab": {},
    "colab_type": "code",
    "collapsed": true,
    "id": "sSSV4mAqfDYK"
   },
   "outputs": [],
   "source": [
    "# save preprocessed file to disk\n",
    "pd_tripReports.to_csv('{}/trips_normed-html-accent-special-digits'.format(root_path), index=False, encoding='utf-8')\n"
   ]
  },
  {
   "cell_type": "markdown",
   "metadata": {
    "colab_type": "text",
    "id": "GKQB52eEMFMl"
   },
   "source": [
    "Because the pre-processing, especially the removal of stopwords takes a substantial amount of time to run, we store a serialized version of the object so we may retrive it later at a substantially faster rate; see [pickle tutorial](https://www.journaldev.com/15638/python-pickle-example)"
   ]
  },
  {
   "cell_type": "code",
   "execution_count": 0,
   "metadata": {
    "colab": {},
    "colab_type": "code",
    "collapsed": true,
    "id": "ihvtolHwMFMm"
   },
   "outputs": [],
   "source": [
    "# OPTIONAL\n",
    "## Use this cell as a template to save and load large data files; \n",
    "## replace filenames appropriately;\n",
    "## current code saves and loads `reports_text_tokenized`\n",
    "\n",
    "import pickle\n",
    "\n",
    "### Stores the tokenized reports:\n",
    "with open('', 'wb') as out_file:\n",
    "    pickle.dump(reports_text_tokenized, out_file)\n",
    "    \n",
    "### Loads the tokenized reports:\n",
    "with open('reports_tokenized_map', 'rb') as in_file:\n",
    "    reports_text_tokenized = pickle.load(in_file)"
   ]
  },
  {
   "cell_type": "markdown",
   "metadata": {
    "colab_type": "text",
    "id": "DheynHhTMFMq"
   },
   "source": [
    "#### A note on preparing stopwords\n",
    "\n",
    "The removal of stopwords (typically commonly occuring, low information content words) in natural language processing is in itself an art. Both automatic detection of stopwords (Wilbur & Sirotkin, 1992) and dictionary approaches have been widely used. For example, `nltk` has 179 stopwords , `wordcloud` package has 192 stopwords,`sklearn` has 318 stopwords, with 116 words shared between all three lists. Some examples of these shared stopwords are 'how', 'itself', 'an', 'ours', 'who', 'had', 'once', 'before', 'yours', and 'the', which are among the most common words in the English language.\n",
    "\n",
    "Here we (1) use `nltk` and `wordcloud` stopwords as a baseline (exclude `sklearn` stopwords because of [known issues](https://scikit-learn.org/stable/modules/feature_extraction.html#stop-words) and (2) add all alternative spellings of drugs observed from EDA to our stopwords list; Note that the latter is an optional, concious design decision: we can leave the drug names be (in which case they would show up disproportionately in the word clouds), or we can remove all drug names from the reports and focus on non drug names that correlate with particular reports. In total, our psychedelic drug corpus has 2783 unique spellings / mispellings of drug names. In total, our stopword list consisits of 2999 unique stopwords."
   ]
  },
  {
   "cell_type": "code",
   "execution_count": 0,
   "metadata": {
    "colab": {
     "base_uri": "https://localhost:8080/",
     "height": 238
    },
    "colab_type": "code",
    "collapsed": true,
    "id": "dYWLawV4MFMq",
    "outputId": "5d8a0e40-2b61-4a42-dfe7-1b7b9390a214"
   },
   "outputs": [
    {
     "ename": "NameError",
     "evalue": "ignored",
     "output_type": "error",
     "traceback": [
      "\u001b[0;31m---------------------------------------------------------------------------\u001b[0m",
      "\u001b[0;31mNameError\u001b[0m                                 Traceback (most recent call last)",
      "\u001b[0;32m<ipython-input-26-b7ade4967c3a>\u001b[0m in \u001b[0;36m<module>\u001b[0;34m()\u001b[0m\n\u001b[1;32m      1\u001b[0m \u001b[0;32mfrom\u001b[0m \u001b[0msklearn\u001b[0m\u001b[0;34m.\u001b[0m\u001b[0mfeature_extraction\u001b[0m \u001b[0;32mimport\u001b[0m \u001b[0mstop_words\u001b[0m\u001b[0;34m\u001b[0m\u001b[0;34m\u001b[0m\u001b[0m\n\u001b[1;32m      2\u001b[0m \u001b[0mlen\u001b[0m\u001b[0;34m(\u001b[0m\u001b[0mstop_words\u001b[0m\u001b[0;34m.\u001b[0m\u001b[0mENGLISH_STOP_WORDS\u001b[0m\u001b[0;34m)\u001b[0m \u001b[0;31m#sklearn\u001b[0m\u001b[0;34m\u001b[0m\u001b[0;34m\u001b[0m\u001b[0m\n\u001b[0;32m----> 3\u001b[0;31m \u001b[0mlen\u001b[0m\u001b[0;34m(\u001b[0m\u001b[0mnltk_stopwords\u001b[0m\u001b[0;34m.\u001b[0m\u001b[0mwords\u001b[0m\u001b[0;34m(\u001b[0m\u001b[0;34m'english'\u001b[0m\u001b[0;34m)\u001b[0m\u001b[0;34m)\u001b[0m \u001b[0;31m#nltk\u001b[0m\u001b[0;34m\u001b[0m\u001b[0;34m\u001b[0m\u001b[0m\n\u001b[0m\u001b[1;32m      4\u001b[0m \u001b[0mlen\u001b[0m\u001b[0;34m(\u001b[0m\u001b[0mwordcloud_STOPWORDS\u001b[0m\u001b[0;34m)\u001b[0m \u001b[0;31m#wordcloud\u001b[0m\u001b[0;34m\u001b[0m\u001b[0;34m\u001b[0m\u001b[0m\n\u001b[1;32m      5\u001b[0m \u001b[0mlen\u001b[0m\u001b[0;34m(\u001b[0m\u001b[0msubstances_all_alternative_spellings\u001b[0m\u001b[0;34m)\u001b[0m \u001b[0;31m#all substance spellings\u001b[0m\u001b[0;34m\u001b[0m\u001b[0;34m\u001b[0m\u001b[0m\n",
      "\u001b[0;31mNameError\u001b[0m: name 'nltk_stopwords' is not defined"
     ]
    }
   ],
   "source": [
    "# Number of stopwords for each dictionary\n",
    "from sklearn.feature_extraction import stop_words\n",
    "len(stop_words.ENGLISH_STOP_WORDS) #sklearn\n",
    "len(nltk_stopwords.words('english')) #nltk\n",
    "len(wordcloud_STOPWORDS) #wordcloud\n",
    "len(substances_all_alternative_spellings) #all substance spellings\n",
    "\n",
    "# overlap between sklearn, nltk, and wordcloud stopwords\n",
    "overlapped_stopwords = []\n",
    "overlap_stopwords = [word for word in stop_words.ENGLISH_STOP_WORDS if word in nltk_stopwords.words('english') and word in wordcloud_STOPWORDS]\n",
    "print(overlap[:20])\n"
   ]
  },
  {
   "cell_type": "code",
   "execution_count": 0,
   "metadata": {
    "colab": {},
    "colab_type": "code",
    "id": "ErrtMxPkMFMt",
    "outputId": "b3e63099-c1ba-4638-ecdd-c5e93e4449c1"
   },
   "outputs": [
    {
     "data": {
      "text/plain": [
       "2999"
      ]
     },
     "execution_count": 33,
     "metadata": {
      "tags": []
     },
     "output_type": "execute_result"
    }
   ],
   "source": [
    "# Retrieve all alternative spellings for substances\n",
    "# Using R, we found out how many unique substance spellings there were, and stored in `substances_unique` textfile\n",
    "with open('substances_unique') as f:\n",
    "    substances_all_alternative_spellings = f.readlines()\n",
    "substances_all_alternative_spellings = [spelling.strip().replace(\"'\", \"\") for spelling in substances_all_alternative_spellings]\n",
    "substances_all_alternative_spellings[:30]\n",
    "\n",
    "## prepare stopwords\n",
    "stopword_list = []\n",
    "stopwords_nltk = nltk_stopwords.words('english')\n",
    "stopwords_wordcloud = list(wordcloud_STOPWORDS)\n",
    "stopword_list.extend(stopwords_nltk + stopwords_wordcloud + substances_all_alternative_spellings)\n",
    "# deduplicate list\n",
    "stopword_list = list(dict.fromkeys(stopword_list))\n",
    "\n",
    "# How many unique stopwords in total do we have?\n",
    "len(stopword_list)"
   ]
  },
  {
   "cell_type": "code",
   "execution_count": 0,
   "metadata": {
    "colab": {},
    "colab_type": "code",
    "collapsed": true,
    "id": "SMI_2d7wMFMv",
    "outputId": "389499f5-d3d6-4571-ebfb-236a4cb6458f"
   },
   "outputs": [
    {
     "ename": "NameError",
     "evalue": "name 'nltk' is not defined",
     "output_type": "error",
     "traceback": [
      "\u001b[0;31m---------------------------------------------------------------------------\u001b[0m",
      "\u001b[0;31mNameError\u001b[0m                                 Traceback (most recent call last)",
      "\u001b[0;32m<ipython-input-1-7e1a2ea6f571>\u001b[0m in \u001b[0;36m<module>\u001b[0;34m\u001b[0m\n\u001b[1;32m      2\u001b[0m \u001b[0;31m# TODO: Adapt\u001b[0m\u001b[0;34m\u001b[0m\u001b[0;34m\u001b[0m\u001b[0;34m\u001b[0m\u001b[0m\n\u001b[1;32m      3\u001b[0m \u001b[0;31m# TODO: Vectorize for pandas dataframe\u001b[0m\u001b[0;34m\u001b[0m\u001b[0;34m\u001b[0m\u001b[0;34m\u001b[0m\u001b[0m\n\u001b[0;32m----> 4\u001b[0;31m \u001b[0mwpt\u001b[0m \u001b[0;34m=\u001b[0m \u001b[0mnltk\u001b[0m\u001b[0;34m.\u001b[0m\u001b[0mWordPunctTokenizer\u001b[0m\u001b[0;34m(\u001b[0m\u001b[0;34m)\u001b[0m\u001b[0;34m\u001b[0m\u001b[0;34m\u001b[0m\u001b[0m\n\u001b[0m\u001b[1;32m      5\u001b[0m \u001b[0mstop_words\u001b[0m \u001b[0;34m=\u001b[0m \u001b[0mnltk\u001b[0m\u001b[0;34m.\u001b[0m\u001b[0mcorpus\u001b[0m\u001b[0;34m.\u001b[0m\u001b[0mstopwords\u001b[0m\u001b[0;34m.\u001b[0m\u001b[0mwords\u001b[0m\u001b[0;34m(\u001b[0m\u001b[0;34m'english'\u001b[0m\u001b[0;34m)\u001b[0m\u001b[0;34m\u001b[0m\u001b[0;34m\u001b[0m\u001b[0m\n\u001b[1;32m      6\u001b[0m \u001b[0;34m\u001b[0m\u001b[0m\n",
      "\u001b[0;31mNameError\u001b[0m: name 'nltk' is not defined"
     ]
    }
   ],
   "source": [
    "# Code from: https://towardsdatascience.com/understanding-feature-engineering-part-3-traditional-methods-for-text-data-f6f7d70acd41\n",
    "# TODO: Adapt\n",
    "# TODO: Vectorize for pandas dataframe\n",
    "wpt = nltk.WordPunctTokenizer()\n",
    "stop_words = nltk.corpus.stopwords.words('english')\n",
    "\n",
    "def normalize_document(doc):\n",
    "    # lower case and remove special characters\\whitespaces\n",
    "    doc = re.sub(r'[^a-zA-Z\\s]', '', doc, re.I|re.A)\n",
    "    doc = doc.lower()\n",
    "    doc = doc.strip()\n",
    "    # tokenize document\n",
    "    tokens = wpt.tokenize(doc)\n",
    "    # filter stopwords out of document\n",
    "    filtered_tokens = [token for token in tokens if token not in stop_words]\n",
    "    # re-create document from filtered tokens\n",
    "    doc = ' '.join(filtered_tokens)\n",
    "    return doc\n",
    "\n",
    "normalize_corpus = np.vectorize(normalize_document)"
   ]
  },
  {
   "cell_type": "code",
   "execution_count": 0,
   "metadata": {
    "colab": {},
    "colab_type": "code",
    "collapsed": true,
    "id": "hSVekR2oMFM0"
   },
   "outputs": [],
   "source": [
    "# NOTE: Long Run Time\n",
    "\n",
    "# Tokenize the text\n",
    "reports_text_tokenized = {}\n",
    "\n",
    "# reports_text is {substance: text} mapping\n",
    "# NOTE: This code takes an extremely long time to run\n",
    "for substance in reports_text:\n",
    "    substance_text = reports_text[substance]\n",
    "    tokens = nltk.word_tokenize(substance_text)    \n",
    "    tokens = [token.strip().lower() for token in tokens]\n",
    "    substance_tokenized_text = ' '.join([token for token in tokens if token not in stopword_list])\n",
    "    \n",
    "    reports_text_tokenized[substance] = substance_tokenized_text\n"
   ]
  },
  {
   "cell_type": "markdown",
   "metadata": {
    "colab_type": "text",
    "id": "yKTfJkwhMFM2"
   },
   "source": [
    "\n",
    "\n",
    "### 4.2.3 Insights from Text Pre-processing\n",
    "\n",
    "TODO\n",
    "\n"
   ]
  },
  {
   "cell_type": "markdown",
   "metadata": {
    "colab_type": "text",
    "id": "VO0awhnqMFM3"
   },
   "source": [
    "## 4.3 Data Wrangling and Exploratory Data Analysis (EDA)\n",
    "\n",
    "After preliminiary data preprocessing (cleaning), we perform data wrangling and Exploratory Data Analysis. Data Wrangling describes a suite of procedures to get the data into the right format, to \"wrangle\" with the data so that we can use it in subsequent analysis. Exploratory Data Analysis (EDA) refers broadly to understanding the data better by attempting to visualize it, ask it questions, and to better understand what we are working with.\n",
    "\n",
    "EDA was mostly performed in R, in particular using `dplyr`, and was performed directly on the raw data. For reproducibility, the executible R code is also reproduced below; very similar procedures can be used with `pandas`.\n"
   ]
  },
  {
   "cell_type": "code",
   "execution_count": 0,
   "metadata": {
    "colab": {},
    "colab_type": "code",
    "collapsed": true,
    "id": "otGkXu3tMFNA"
   },
   "outputs": [],
   "source": [
    "# Sets up the ability to use R in a jupyter notebook\n",
    "# https://stackoverflow.com/questions/39008069/r-and-python-in-one-jupyter-notebook\n",
    "# To use R, add %%R to the beginning of a cell, before any code and any comments\n",
    "%load_ext rpy2.ipython"
   ]
  },
  {
   "cell_type": "code",
   "execution_count": 0,
   "metadata": {
    "colab": {},
    "colab_type": "code",
    "id": "AfdXCcvRMFNC",
    "outputId": "2a13cf28-2fd4-48e5-881b-0e9d4b446576"
   },
   "outputs": [
    {
     "name": "stderr",
     "output_type": "stream",
     "text": [
      "R[write to console]: Loading required package: pacman\n",
      "\n"
     ]
    }
   ],
   "source": [
    "%%R\n",
    "# Installs the proper R packages\n",
    "if(!require('pacman')) {\n",
    "  install.packages('pacman', repos = \"http://cran.us.r-project.org\")\n",
    "}\n",
    "pacman::p_load(dplyr, leaps, car, tidyverse, GGally, reshape2, data.table, ggcorrplot, bestglm, glmnet, mapproj, pROC, data.tale, tm, SnowballC, wordcloud, RColorBrewer, reshape2) \n"
   ]
  },
  {
   "cell_type": "code",
   "execution_count": 0,
   "metadata": {
    "colab": {},
    "colab_type": "code",
    "id": "Q0sf6ZCVMFNE",
    "outputId": "8f16bcd9-3720-499a-f545-74aff3a9bf9b"
   },
   "outputs": [
    {
     "name": "stdout",
     "output_type": "stream",
     "text": [
      "[1] 19924\n"
     ]
    }
   ],
   "source": [
    "%%R\n",
    "\n",
    "## Read in the raw trip reports\n",
    "tripReports <- fread(\"trips.csv\")\n",
    "tripReports.df <- as.data.frame(tripReports)\n",
    "# glimpse(tripReports)\n",
    "\n",
    "# Number of trip reports in our dataset: 19924\n",
    "nrow(tripReports)"
   ]
  },
  {
   "cell_type": "code",
   "execution_count": 0,
   "metadata": {
    "colab": {},
    "colab_type": "code",
    "id": "0xxHdIEYMFNI",
    "outputId": "1dcaa9f9-5d58-40ef-ded3-20ebabb32593"
   },
   "outputs": [
    {
     "name": "stdout",
     "output_type": "stream",
     "text": [
      "                        substance\n",
      " 1: Salvia divinorum (5x extract)\n",
      " 2:                     Mushrooms\n",
      " 3:                     Methylone\n",
      " 4:                 LSD & Lithium\n",
      " 5:                     5-MeO-DMT\n",
      " 6: Salvia divinorum (6x extract)\n",
      " 7:                      Cannabis\n",
      " 8:                        2C-T-2\n",
      " 9:                         6-APB\n",
      "10:                       2-C-T-2\n"
     ]
    }
   ],
   "source": [
    "%%R\n",
    "# Examine the substances present in the dataset, writing to output file\n",
    "tripReports %>% select(substance) %>% write.table(file = \"substances-all\", append=FALSE, col.names = FALSE, row.names = FALSE, sep = \"\\n\")\n",
    "\n",
    "# # Examine the substances present in the dataset, display\n",
    "tripReports %>% select(substance) %>% head(n=10)"
   ]
  },
  {
   "cell_type": "code",
   "execution_count": 0,
   "metadata": {
    "colab": {},
    "colab_type": "code",
    "id": "tBg7mYbhMFNK",
    "outputId": "ca8d3f7a-80e2-4f18-96e9-e6ae7a0a2dcd"
   },
   "outputs": [
    {
     "name": "stdout",
     "output_type": "stream",
     "text": [
      "Observations: 19,924\n",
      "Variables: 24\n",
      "$ report                    \u001b[3m\u001b[90m<chr>\u001b[39m\u001b[23m \"After having had some success with other f…\n",
      "$ title                     \u001b[3m\u001b[90m<chr>\u001b[39m\u001b[23m \"Sideways World\", \"Physical Wellbeing = Cru…\n",
      "$ substance                 \u001b[3m\u001b[90m<chr>\u001b[39m\u001b[23m \"salvia divinorum (5x extract)\", \"mushrooms…\n",
      "$ substance.mushrooms       \u001b[3m\u001b[90m<dbl>\u001b[39m\u001b[23m 0, 1, 0, 0, 0, 0, 0, 0, 0, 0, 0, 1, 0, 0, 0…\n",
      "$ substance.lsd             \u001b[3m\u001b[90m<dbl>\u001b[39m\u001b[23m 0, 0, 0, 1, 0, 0, 0, 0, 0, 0, 0, 0, 0, 0, 0…\n",
      "$ substance.mescaline       \u001b[3m\u001b[90m<dbl>\u001b[39m\u001b[23m 0, 0, 0, 0, 0, 0, 0, 0, 0, 0, 0, 0, 0, 0, 0…\n",
      "$ substance.cannabis        \u001b[3m\u001b[90m<dbl>\u001b[39m\u001b[23m 0, 0, 0, 0, 0, 0, 1, 0, 0, 0, 0, 1, 0, 0, 0…\n",
      "$ substance.mdma            \u001b[3m\u001b[90m<dbl>\u001b[39m\u001b[23m 0, 0, 0, 0, 0, 0, 0, 0, 0, 0, 0, 0, 0, 0, 0…\n",
      "$ substance.ayahuasca       \u001b[3m\u001b[90m<dbl>\u001b[39m\u001b[23m 0, 0, 0, 0, 0, 0, 0, 0, 0, 0, 0, 0, 0, 0, 0…\n",
      "$ substance.nitrous_oxide   \u001b[3m\u001b[90m<dbl>\u001b[39m\u001b[23m 0, 0, 0, 0, 0, 0, 0, 0, 0, 0, 0, 0, 0, 0, 0…\n",
      "$ substance.salvia          \u001b[3m\u001b[90m<dbl>\u001b[39m\u001b[23m 1, 0, 0, 0, 0, 1, 0, 0, 0, 0, 0, 0, 0, 0, 0…\n",
      "$ substance.methamphetamine \u001b[3m\u001b[90m<dbl>\u001b[39m\u001b[23m 0, 0, 1, 0, 0, 0, 0, 0, 0, 0, 0, 0, 0, 1, 0…\n",
      "$ substance.dmt             \u001b[3m\u001b[90m<dbl>\u001b[39m\u001b[23m 0, 0, 0, 0, 0, 0, 0, 0, 0, 0, 0, 0, 0, 0, 0…\n",
      "$ substance.5_meo_dmt       \u001b[3m\u001b[90m<dbl>\u001b[39m\u001b[23m 0, 0, 0, 0, 1, 0, 0, 0, 0, 0, 0, 0, 0, 0, 0…\n",
      "$ substance.alcohol         \u001b[3m\u001b[90m<dbl>\u001b[39m\u001b[23m 0, 0, 0, 0, 0, 0, 0, 0, 0, 0, 0, 0, 0, 0, 0…\n",
      "$ substance.ketamine        \u001b[3m\u001b[90m<dbl>\u001b[39m\u001b[23m 0, 0, 0, 0, 0, 0, 0, 0, 0, 0, 0, 0, 0, 0, 0…\n",
      "$ substance.ibogaine        \u001b[3m\u001b[90m<dbl>\u001b[39m\u001b[23m 0, 0, 0, 0, 0, 0, 0, 0, 0, 0, 0, 0, 0, 0, 0…\n",
      "$ substance.pcp             \u001b[3m\u001b[90m<dbl>\u001b[39m\u001b[23m 0, 0, 0, 0, 0, 0, 0, 0, 0, 0, 0, 0, 0, 0, 0…\n",
      "$ substance.kava            \u001b[3m\u001b[90m<dbl>\u001b[39m\u001b[23m 0, 0, 0, 0, 0, 0, 0, 0, 0, 0, 0, 0, 0, 0, 0…\n",
      "$ substance.kratom          \u001b[3m\u001b[90m<dbl>\u001b[39m\u001b[23m 0, 0, 0, 0, 0, 0, 0, 0, 0, 0, 0, 0, 1, 0, 0…\n",
      "$ substance.morning_glory   \u001b[3m\u001b[90m<dbl>\u001b[39m\u001b[23m 0, 0, 0, 0, 0, 0, 0, 0, 0, 0, 0, 0, 0, 0, 0…\n",
      "$ substance.syrian_rue      \u001b[3m\u001b[90m<dbl>\u001b[39m\u001b[23m 0, 0, 0, 0, 0, 0, 0, 0, 0, 0, 0, 0, 0, 0, 0…\n",
      "$ substance.unknown         \u001b[3m\u001b[90m<dbl>\u001b[39m\u001b[23m 0, 0, 0, 0, 0, 0, 0, 0, 0, 0, 0, 0, 0, 0, 0…\n",
      "$ substance.UNK             \u001b[3m\u001b[90m<dbl>\u001b[39m\u001b[23m 0, 0, 0, 0, 0, 0, 0, 0, 0, 0, 0, 0, 0, 0, 0…\n"
     ]
    }
   ],
   "source": [
    "%%R\n",
    "\n",
    "## Manipulate the dataframe to have 1 hot encoding for substances\n",
    "tripReports$substance <- tolower(tripReports$substance)\n",
    "tripReports <- as.data.frame(tripReports)\n",
    "\n",
    "# Explicity define the substance of interest\n",
    "substances.of.interest <- c(\"substance.mushrooms\", \"substance.lsd\", \"substance.mescaline\", \"substance.cannabis\", \"substance.mdma\", \"substance.ayahuasca\", \"substance.nitrous_oxide\", \"substance.salvia\", \"substance.methamphetamine\", \"substance.dmt\", \"substance.5_meo_dmt\", \"substance.alcohol\", \"substance.ketamine\", \"substance.ibogaine\", \"substance.pcp\", \"substance.kava\", \"substance.kratom\", \"substance.morning_glory\", \"substance.syrian_rue\", \"substance.unknown\", \"substance.UNK\")\n",
    "\n",
    "for (sub in substances.of.interest) {\n",
    "  tripReports[sub] = 0\n",
    "}\n",
    "\n",
    "### Adding one hot encodings to the substances\n",
    "tripReports$substance.mushrooms[grepl(\"mushroom|mushhrooms|mushooms|psilocin|psilocybin|psilocybe\", tripReports$substance)] <- 1\n",
    "tripReports$substance.lsd[grepl(\"lysergic acid|lsd\", tripReports$substance)] <- 1\n",
    "tripReports$substance.mescaline[grepl(\"mescaline|peyote\", tripReports$substance)] <- 1\n",
    "tripReports$substance.cannabis[grepl(\"cannabis|canabis|cannabbis|cannabinoid|cannabus|cannibis|cannibus| thc \", tripReports$substance)] <- 1\n",
    "tripReports$substance.mdma[grepl(\"mdma|ecstacy|ecstasy|ectasy|molly\", tripReports$substance)] <- 1\n",
    "tripReports$substance.ayahuasca[grepl(\"ayahuasca|ayahausca|ayahusca|p. viridis|p.viridis|b.caapi|b. caapi|cappi|viridis\", tripReports$substance)] <- 1\n",
    "tripReports$substance.nitrous_oxide[grepl(\"nitric|nitrites|nitrogen|nitrous|whippets\", tripReports$substance)] <- 1\n",
    "tripReports$substance.salvia[grepl(\"salia|saliva|salivia|sally|salva|salvia|salvinorin\", tripReports$substance)] <- 1\n",
    "tripReports$substance.methamphetamine[grepl(\"met|meth|methampetamine|methamphetamine|speed\", tripReports$substance)] <- 1\n",
    "# dmt\n",
    "tripReports$substance.dmt[grepl(\"nn-dmt\", tripReports$substance)] <- 1\n",
    "tripReports$substance.dmt[tripReports$substance == \"dmt\"] <- 1 # cannot just grep dmt otherwise this will include 5-meo-dmt\n",
    "#5-meo-dmt\n",
    "tripReports$substance.5_meo_dmt[grepl(\"5 meo-dmt|5-meo dmt|5-meo-dmt|5meo-dmt\", tripReports$substance)] <- 1\n",
    "tripReports$substance.alcohol[grepl(\"alchohol|alcohol\", tripReports$substance)] <- 1\n",
    "tripReports$substance.ketamine[grepl(\"ketamin|ketamine\", tripReports$substance)] <- 1\n",
    "tripReports$substance.ibogaine[grepl(\"iboga|ibogaine\", tripReports$substance)] <- 1\n",
    "tripReports$substance.pcp[grepl(\"pcp\", tripReports$substance)] <- 1\n",
    "tripReports$substance.kava[grepl(\"kava\", tripReports$substance)] <- 1\n",
    "tripReports$substance.kratom[grepl(\"kratom\", tripReports$substance)] <- 1\n",
    "tripReports$substance.morning_glory[grepl(\"glory|glories\", tripReports$substance)] <- 1\n",
    "tripReports$substance.syrian_rue[grepl(\"syrian rue|rue\", tripReports$substance)] <- 1\n",
    "tripReports$substance.unknown[grepl(\"unknown|unidentified|unkown\", tripReports$substance)] <- 1\n",
    "\n",
    "glimpse(tripReports)\n"
   ]
  },
  {
   "cell_type": "code",
   "execution_count": 0,
   "metadata": {
    "colab": {},
    "colab_type": "code",
    "id": "glNrrY1jMFNM",
    "outputId": "750d892a-adf9-495f-ec2c-8f1cf014a240"
   },
   "outputs": [
    {
     "name": "stdout",
     "output_type": "stream",
     "text": [
      "                   substance count\n",
      "1         substance.cannabis  3110\n",
      "2        substance.mushrooms  1686\n",
      "3           substance.salvia  1556\n",
      "4             substance.mdma  1188\n",
      "5              substance.lsd  1131\n",
      "6  substance.methamphetamine   929\n",
      "7          substance.alcohol   928\n",
      "8    substance.morning_glory   427\n",
      "9    substance.nitrous_oxide   300\n",
      "10       substance.5_meo_dmt   297\n",
      "11      substance.syrian_rue   293\n",
      "12        substance.ketamine   289\n",
      "13          substance.kratom   207\n",
      "14       substance.ayahuasca   172\n",
      "15             substance.dmt   167\n",
      "16            substance.kava   167\n",
      "17             substance.pcp    81\n",
      "18       substance.mescaline    73\n",
      "19         substance.unknown    47\n",
      "20        substance.ibogaine    43\n",
      "21             substance.UNK     0\n"
     ]
    }
   ],
   "source": [
    "%%R\n",
    "\n",
    "## Number of reports containing each substance: NOTE: a report might have more than one substance\n",
    "tripSubstances <- tripReports %>% select(-report, -title, -substance)\n",
    "tripReportsCount <- data.frame(substance = names(tripSubstances), count = colSums(tripSubstances))\n",
    "tripReportsCountSorted <- tripReportsCount %>% arrange(desc(count))\n",
    "tripReportsCountSorted"
   ]
  },
  {
   "cell_type": "code",
   "execution_count": 0,
   "metadata": {
    "colab": {},
    "colab_type": "code",
    "id": "Sl876IpoMFNO",
    "outputId": "283eceba-65de-485c-b229-0aad0b870a40",
    "scrolled": true
   },
   "outputs": [
    {
     "name": "stdout",
     "output_type": "stream",
     "text": [
      "Observations: 19,924\n",
      "Variables: 25\n",
      "$ report                    \u001b[3m\u001b[90m<chr>\u001b[39m\u001b[23m \"After having had some success with other f…\n",
      "$ title                     \u001b[3m\u001b[90m<chr>\u001b[39m\u001b[23m \"Sideways World\", \"Physical Wellbeing = Cru…\n",
      "$ substance                 \u001b[3m\u001b[90m<chr>\u001b[39m\u001b[23m \"salvia divinorum (5x extract)\", \"mushrooms…\n",
      "$ substance.mushrooms       \u001b[3m\u001b[90m<dbl>\u001b[39m\u001b[23m 0, 1, 0, 0, 0, 0, 0, 0, 0, 0, 0, 1, 0, 0, 0…\n",
      "$ substance.lsd             \u001b[3m\u001b[90m<dbl>\u001b[39m\u001b[23m 0, 0, 0, 1, 0, 0, 0, 0, 0, 0, 0, 0, 0, 0, 0…\n",
      "$ substance.mescaline       \u001b[3m\u001b[90m<dbl>\u001b[39m\u001b[23m 0, 0, 0, 0, 0, 0, 0, 0, 0, 0, 0, 0, 0, 0, 0…\n",
      "$ substance.cannabis        \u001b[3m\u001b[90m<dbl>\u001b[39m\u001b[23m 0, 0, 0, 0, 0, 0, 1, 0, 0, 0, 0, 1, 0, 0, 0…\n",
      "$ substance.mdma            \u001b[3m\u001b[90m<dbl>\u001b[39m\u001b[23m 0, 0, 0, 0, 0, 0, 0, 0, 0, 0, 0, 0, 0, 0, 0…\n",
      "$ substance.ayahuasca       \u001b[3m\u001b[90m<dbl>\u001b[39m\u001b[23m 0, 0, 0, 0, 0, 0, 0, 0, 0, 0, 0, 0, 0, 0, 0…\n",
      "$ substance.nitrous_oxide   \u001b[3m\u001b[90m<dbl>\u001b[39m\u001b[23m 0, 0, 0, 0, 0, 0, 0, 0, 0, 0, 0, 0, 0, 0, 0…\n",
      "$ substance.salvia          \u001b[3m\u001b[90m<dbl>\u001b[39m\u001b[23m 1, 0, 0, 0, 0, 1, 0, 0, 0, 0, 0, 0, 0, 0, 0…\n",
      "$ substance.methamphetamine \u001b[3m\u001b[90m<dbl>\u001b[39m\u001b[23m 0, 0, 1, 0, 0, 0, 0, 0, 0, 0, 0, 0, 0, 1, 0…\n",
      "$ substance.dmt             \u001b[3m\u001b[90m<dbl>\u001b[39m\u001b[23m 0, 0, 0, 0, 0, 0, 0, 0, 0, 0, 0, 0, 0, 0, 0…\n",
      "$ substance.5_meo_dmt       \u001b[3m\u001b[90m<dbl>\u001b[39m\u001b[23m 0, 0, 0, 0, 1, 0, 0, 0, 0, 0, 0, 0, 0, 0, 0…\n",
      "$ substance.alcohol         \u001b[3m\u001b[90m<dbl>\u001b[39m\u001b[23m 0, 0, 0, 0, 0, 0, 0, 0, 0, 0, 0, 0, 0, 0, 0…\n",
      "$ substance.ketamine        \u001b[3m\u001b[90m<dbl>\u001b[39m\u001b[23m 0, 0, 0, 0, 0, 0, 0, 0, 0, 0, 0, 0, 0, 0, 0…\n",
      "$ substance.ibogaine        \u001b[3m\u001b[90m<dbl>\u001b[39m\u001b[23m 0, 0, 0, 0, 0, 0, 0, 0, 0, 0, 0, 0, 0, 0, 0…\n",
      "$ substance.pcp             \u001b[3m\u001b[90m<dbl>\u001b[39m\u001b[23m 0, 0, 0, 0, 0, 0, 0, 0, 0, 0, 0, 0, 0, 0, 0…\n",
      "$ substance.kava            \u001b[3m\u001b[90m<dbl>\u001b[39m\u001b[23m 0, 0, 0, 0, 0, 0, 0, 0, 0, 0, 0, 0, 0, 0, 0…\n",
      "$ substance.kratom          \u001b[3m\u001b[90m<dbl>\u001b[39m\u001b[23m 0, 0, 0, 0, 0, 0, 0, 0, 0, 0, 0, 0, 1, 0, 0…\n",
      "$ substance.morning_glory   \u001b[3m\u001b[90m<dbl>\u001b[39m\u001b[23m 0, 0, 0, 0, 0, 0, 0, 0, 0, 0, 0, 0, 0, 0, 0…\n",
      "$ substance.syrian_rue      \u001b[3m\u001b[90m<dbl>\u001b[39m\u001b[23m 0, 0, 0, 0, 0, 0, 0, 0, 0, 0, 0, 0, 0, 0, 0…\n",
      "$ substance.unknown         \u001b[3m\u001b[90m<dbl>\u001b[39m\u001b[23m 0, 0, 0, 0, 0, 0, 0, 0, 0, 0, 0, 0, 0, 0, 0…\n",
      "$ substance.UNK             \u001b[3m\u001b[90m<dbl>\u001b[39m\u001b[23m 0, 0, 0, 0, 0, 0, 0, 0, 0, 0, 0, 0, 0, 0, 0…\n",
      "$ substance.unique_label    \u001b[3m\u001b[90m<chr>\u001b[39m\u001b[23m \"substance.salvia\", \"substance.mushrooms\", …\n"
     ]
    }
   ],
   "source": [
    "%%R\n",
    "\n",
    "## Find reports with only one unique substance\n",
    "# Note: Long run time ~ 40 seconds\n",
    "\n",
    "tripReports$substance.unique_label <- \"NA\"\n",
    "# glimpse(tripReports)\n",
    "uniqueSubstanceRows <- tripReports %>% select(-report, -title, -substance, -substance.unique_label) %>% rowSums() == 1\n",
    "\n",
    "for (row in 1:nrow(tripReports)) {\n",
    "  # this row contains a unique substance\n",
    "  if (uniqueSubstanceRows[row]) {\n",
    "    for (substance in substances.of.interest) {\n",
    "      if (tripReports[row, substance] == 1) {\n",
    "        tripReports[row, ]$substance.unique_label<- substance\n",
    "      } \n",
    "    }\n",
    "  }\n",
    "}\n",
    "\n",
    "glimpse(tripReports)\n",
    "\n"
   ]
  },
  {
   "cell_type": "code",
   "execution_count": 0,
   "metadata": {
    "colab": {},
    "colab_type": "code",
    "collapsed": true,
    "id": "c_KLZHVAMFNR"
   },
   "outputs": [],
   "source": [
    "%%R\n",
    "\n",
    "# TEMP, SAVE: Use this code to save the encoded table for future use in multiple formats\n",
    "save(tripReports, file=\"tripReportsEncoded.Rda\")\n",
    "write.table(tripReports, file=\"tripReportsEncodedTable\", sep = \";;\", row.names = TRUE, col.names = TRUE )\n",
    "write.csv(tripReports, file=\"tripReportsEncoded.csv\", sep = \",\", row.names = TRUE, col.names = TRUE)"
   ]
  },
  {
   "cell_type": "code",
   "execution_count": 0,
   "metadata": {
    "colab": {},
    "colab_type": "code",
    "id": "BPPhehWzMFNT",
    "outputId": "135f5d2c-734a-45d8-86f1-f70f00fac37e"
   },
   "outputs": [
    {
     "name": "stdout",
     "output_type": "stream",
     "text": [
      "Observations: 21\n",
      "Variables: 2\n",
      "$ substance \u001b[3m\u001b[90m<chr>\u001b[39m\u001b[23m \"NA\", \"substance.cannabis\", \"substance.salvia\", \"substance.…\n",
      "$ count     \u001b[3m\u001b[90m<int>\u001b[39m\u001b[23m 11569, 1609, 1270, 1094, 747, 746, 696, 409, 328, 250, 171,…\n"
     ]
    },
    {
     "name": "stderr",
     "output_type": "stream",
     "text": [
      "R[write to console]: Error in withVisible({ : object 'tripRerpotsCount_merged' not found\n",
      "Calls: <Anonymous> -> <Anonymous> -> withVisible\n",
      "\n",
      "R[write to console]: In addition: \n",
      "R[write to console]: Warning messages:\n",
      "\n",
      "R[write to console]: 1: \n",
      "R[write to console]: In write.csv(tripReports, file = \"tripReportsEncoded.csv\", sep = \",\",  :\n",
      "R[write to console]: \n",
      " \n",
      "R[write to console]:  attempt to set 'col.names' ignored\n",
      "\n",
      "R[write to console]: 2: \n",
      "R[write to console]: In write.csv(tripReports, file = \"tripReportsEncoded.csv\", sep = \",\",  :\n",
      "R[write to console]: \n",
      " \n",
      "R[write to console]:  attempt to set 'sep' ignored\n",
      "\n"
     ]
    },
    {
     "name": "stdout",
     "output_type": "stream",
     "text": [
      "\n",
      "Error in withVisible({ : object 'tripRerpotsCount_merged' not found\n",
      "Calls: <Anonymous> -> <Anonymous> -> withVisible\n"
     ]
    }
   ],
   "source": [
    "%%R\n",
    "\n",
    "#### Create a data frame that combines the count for reports containing a substance and reports that are uniquely a single substance\n",
    "tripReportsUniqueSubstanceCountSorted <- tripReports %>% group_by(substance.unique_label) %>% summarise(count = n()) %>% arrange(desc(count))\n",
    "colnames(tripReportsUniqueSubstanceCountSorted) = c(\"substance\", \"count\")\n",
    "tripReportsUniqueSubstanceCountSorted %>% glimpse()\n",
    "\n",
    "tripReportsCount_merged <- merge(tripReportsCountSorted, tripReportsUniqueSubstanceCountSorted, by=\"substance\")\n",
    "colnames(tripReportsCount_merged) = c(\"substance\", \"n_includes_substance\", \"n_single_substance\")"
   ]
  },
  {
   "cell_type": "code",
   "execution_count": 0,
   "metadata": {
    "colab": {},
    "colab_type": "code",
    "id": "N8AnR8I6MFNV",
    "outputId": "79cb60c4-5df8-4eb1-c8ef-b506082e2f22"
   },
   "outputs": [
    {
     "name": "stdout",
     "output_type": "stream",
     "text": [
      "                   substance n_includes_substance n_single_substance\n",
      "1         substance.cannabis                 3110               1609\n",
      "2        substance.mushrooms                 1686               1094\n",
      "3           substance.salvia                 1556               1270\n",
      "4             substance.mdma                 1188                747\n",
      "5              substance.lsd                 1131                696\n",
      "6  substance.methamphetamine                  929                746\n",
      "7          substance.alcohol                  928                409\n",
      "8    substance.morning_glory                  427                328\n",
      "9    substance.nitrous_oxide                  300                155\n",
      "10       substance.5_meo_dmt                  297                250\n",
      "11      substance.syrian_rue                  293                164\n",
      "12        substance.ketamine                  289                170\n",
      "13          substance.kratom                  207                171\n",
      "14       substance.ayahuasca                  172                114\n",
      "15             substance.dmt                  167                167\n",
      "16            substance.kava                  167                131\n",
      "17             substance.pcp                   81                 38\n",
      "18       substance.mescaline                   73                 44\n",
      "19         substance.unknown                   47                 13\n",
      "20        substance.ibogaine                   43                 39\n"
     ]
    }
   ],
   "source": [
    "%%R\n",
    "\n",
    "# EXPORT: Table of selected substances and their counts\n",
    "tripReportsCount_merged %>% arrange(desc(n_includes_substance))"
   ]
  },
  {
   "cell_type": "code",
   "execution_count": 0,
   "metadata": {
    "colab": {},
    "colab_type": "code",
    "id": "SzsL1wIfMFNY",
    "outputId": "90b15b2d-e7e3-40c7-c020-ada4ba80ef02"
   },
   "outputs": [
    {
     "name": "stderr",
     "output_type": "stream",
     "text": [
      "R[write to console]: Using substance as id variables\n",
      "\n"
     ]
    },
    {
     "data": {
      "image/png": "[encoded data removed]"
     },
     "metadata": {
      "tags": []
     },
     "output_type": "display_data"
    }
   ],
   "source": [
    "%%R\n",
    "\n",
    "## This data frame that encodes how many trip reports contains a substance and how many reports are uniquely such a substance'\n",
    "tripReportsCount_merged.long <- reshape2::melt(tripReportsCount_merged)\n",
    "# EXPORT: Graph of distribution of substances\n",
    "tripReportsCount_merged.long %>% ggplot( aes(x = reorder(substance, -value), y = value, fill=variable)) + geom_bar(stat=\"identity\", position = \"dodge\") + theme(axis.text.x = element_text(angle = 67.5, hjust = 1)) + ggtitle(\"Count of Substances Present in Trip Reports\") + xlab(\"substance\") + ylab(\"count\") + labs(fill = \"Number of Reports\")"
   ]
  },
  {
   "cell_type": "markdown",
   "metadata": {
    "colab_type": "text",
    "id": "MWDBLzlPMFM6"
   },
   "source": [
    "### 4.3.1 Treatment of `substance` column\n",
    "\n",
    "The `substance` column is of type string, and describes what substance(s) were associated with a particular trip report. It turns out that users often co-consume multiple substances at once, and may convey that fact differently in different formats as plaintext. For example, supposed a user has had `lsd`, `mushrooms`, and `lithium` in a single session. They may record this fact as `lsd, mushrooms, and lithium`, `lsd, lithium & mushrooms`, `mushrooms, lsd and lithium` or in another way, using freely `,`, `and`, and `&` as delimiters. As such, great care had to be taken using `grep`, regular expressions, and multiple string operations to label each report with a collection of substances in a standardized format. \n",
    "\n",
    "We also observed a tremendous number of unique substances in the `substance` column. Here we describe a few notable characteristics, and key procedures we performed:\n",
    "- `2783` unique spellings for substances, spanning mistakes, alternative spellings, and parenthetical clarifications (e.g.: `mda? (sold as ecstasy)`. A few ubstances such as `2-cb` had no alternative spellings, while `salvia` had 130 unique spellings! (a few examples taken verbatim include: `salvia`, `sally divinorum (5x extract)`, `salvia d`, `saliva`, `salvinorin-a`)\n",
    "- Due to the overwhelming number of alternative spellings, and mistakes, manual deduplication was necessary with expert knowledge. After manual depuplication, we had `1379` unique substance labels. It is very possible that I have missed a considerable chunck of duplicated entries, and an interesting task in itself is to further analyze the substance names.\n",
    "- The substance names were standardized with the format `substance.<normalized-name>`\n",
    "    \n",
    "\n",
    "With these considerations, we used one hot encoding to denote the presence of a substance, and also added a `substance.unique_label` column for denoting those reports that only feature one substance.\n",
    "    "
   ]
  },
  {
   "cell_type": "code",
   "execution_count": 2,
   "metadata": {
    "colab": {},
    "colab_type": "code",
    "id": "pGVD-kq9Csyk",
    "outputId": "db445c94-1ca6-479e-e35a-c097cdf0c4a3"
   },
   "outputs": [
    {
     "ename": "ModuleNotFoundError",
     "evalue": "No module named 'pandas'",
     "output_type": "error",
     "traceback": [
      "\u001b[0;31m---------------------------------------------------------------------------\u001b[0m",
      "\u001b[0;31mModuleNotFoundError\u001b[0m                       Traceback (most recent call last)",
      "\u001b[0;32m<ipython-input-2-eb8d3436597a>\u001b[0m in \u001b[0;36m<module>\u001b[0;34m\u001b[0m\n\u001b[1;32m      1\u001b[0m \u001b[0;31m# Results of the encoding\u001b[0m\u001b[0;34m\u001b[0m\u001b[0;34m\u001b[0m\u001b[0;34m\u001b[0m\u001b[0m\n\u001b[1;32m      2\u001b[0m \u001b[0;34m\u001b[0m\u001b[0m\n\u001b[0;32m----> 3\u001b[0;31m \u001b[0;32mimport\u001b[0m \u001b[0mpandas\u001b[0m \u001b[0;32mas\u001b[0m \u001b[0mpd\u001b[0m\u001b[0;34m\u001b[0m\u001b[0;34m\u001b[0m\u001b[0m\n\u001b[0m\u001b[1;32m      4\u001b[0m \u001b[0mroot_path\u001b[0m \u001b[0;34m=\u001b[0m \u001b[0;34m\".\"\u001b[0m\u001b[0;34m\u001b[0m\u001b[0;34m\u001b[0m\u001b[0m\n\u001b[1;32m      5\u001b[0m \u001b[0mpd_trips_encoded_from_R\u001b[0m \u001b[0;34m=\u001b[0m \u001b[0mpd\u001b[0m\u001b[0;34m.\u001b[0m\u001b[0mread_csv\u001b[0m\u001b[0;34m(\u001b[0m\u001b[0;34m'{}/tripReportsEncoded.csv'\u001b[0m\u001b[0;34m.\u001b[0m\u001b[0mformat\u001b[0m\u001b[0;34m(\u001b[0m\u001b[0mroot_path\u001b[0m\u001b[0;34m)\u001b[0m\u001b[0;34m)\u001b[0m\u001b[0;34m\u001b[0m\u001b[0;34m\u001b[0m\u001b[0m\n",
      "\u001b[0;31mModuleNotFoundError\u001b[0m: No module named 'pandas'"
     ]
    }
   ],
   "source": [
    "# Results of the encoding\n",
    "\n",
    "import pandas as pd\n",
    "root_path = \".\"\n",
    "pd_trips_encoded_from_R = pd.read_csv('{}/tripReportsEncoded.csv'.format(root_path))\n",
    "pd_trips_encoded_from_R.head()"
   ]
  },
  {
   "cell_type": "code",
   "execution_count": 1,
   "metadata": {
    "colab": {},
    "colab_type": "code",
    "id": "sF1b9s4CCsyl",
    "outputId": "80c320d0-f216-4c25-ea39-a6863c3a5aea",
    "scrolled": true
   },
   "outputs": [
    {
     "ename": "NameError",
     "evalue": "name 'pd_trips_encoded_from_R' is not defined",
     "output_type": "error",
     "traceback": [
      "\u001b[0;31m---------------------------------------------------------------------------\u001b[0m",
      "\u001b[0;31mNameError\u001b[0m                                 Traceback (most recent call last)",
      "\u001b[0;32m<ipython-input-1-5c1feebdb608>\u001b[0m in \u001b[0;36m<module>\u001b[0;34m\u001b[0m\n\u001b[1;32m      2\u001b[0m \u001b[0;31m# EXPORT\u001b[0m\u001b[0;34m\u001b[0m\u001b[0;34m\u001b[0m\u001b[0;34m\u001b[0m\u001b[0m\n\u001b[1;32m      3\u001b[0m \u001b[0;31m# pre-process the encoded data frame to be the \"master data frame\" for subsequent analysis\u001b[0m\u001b[0;34m\u001b[0m\u001b[0;34m\u001b[0m\u001b[0;34m\u001b[0m\u001b[0m\n\u001b[0;32m----> 4\u001b[0;31m \u001b[0mpd_trips_encoded_from_R\u001b[0m\u001b[0;34m.\u001b[0m\u001b[0mdtypes\u001b[0m\u001b[0;34m\u001b[0m\u001b[0;34m\u001b[0m\u001b[0m\n\u001b[0m\u001b[1;32m      5\u001b[0m \u001b[0mpd_trips_encoded_from_R\u001b[0m\u001b[0;34m[\u001b[0m\u001b[0;34m\"report\"\u001b[0m\u001b[0;34m]\u001b[0m \u001b[0;34m=\u001b[0m \u001b[0mpd_trips_encoded_from_R\u001b[0m\u001b[0;34m[\u001b[0m\u001b[0;34m\"report\"\u001b[0m\u001b[0;34m]\u001b[0m\u001b[0;34m.\u001b[0m\u001b[0mastype\u001b[0m\u001b[0;34m(\u001b[0m\u001b[0;34m'str'\u001b[0m\u001b[0;34m)\u001b[0m\u001b[0;34m\u001b[0m\u001b[0;34m\u001b[0m\u001b[0m\n\u001b[1;32m      6\u001b[0m \u001b[0mpd_trips_encoded_from_R\u001b[0m\u001b[0;34m[\u001b[0m\u001b[0;34m\"title\"\u001b[0m\u001b[0;34m]\u001b[0m \u001b[0;34m=\u001b[0m \u001b[0mpd_trips_encoded_from_R\u001b[0m\u001b[0;34m[\u001b[0m\u001b[0;34m\"title\"\u001b[0m\u001b[0;34m]\u001b[0m\u001b[0;34m.\u001b[0m\u001b[0mastype\u001b[0m\u001b[0;34m(\u001b[0m\u001b[0;34m'str'\u001b[0m\u001b[0;34m)\u001b[0m\u001b[0;34m\u001b[0m\u001b[0;34m\u001b[0m\u001b[0m\n",
      "\u001b[0;31mNameError\u001b[0m: name 'pd_trips_encoded_from_R' is not defined"
     ]
    }
   ],
   "source": [
    "# CAUTION: Long Run Time\n",
    "# EXPORT\n",
    "# pre-process the encoded data frame to be the \"master data frame\" for subsequent analysis\n",
    "pd_trips_encoded_from_R.dtypes\n",
    "pd_trips_encoded_from_R[\"report\"] = pd_trips_encoded_from_R[\"report\"].astype('str')\n",
    "pd_trips_encoded_from_R[\"title\"] = pd_trips_encoded_from_R[\"title\"].astype('str')\n",
    "pd_trips_encoded_from_R[\"substance\"] = pd_trips_encoded_from_R[\"substance\"].astype('str')\n",
    "\n",
    "corpus_list_encoded = pd_trips_encoded_from_R[\"report\"].to_list()\n",
    "corpus_list_encoded_normalized = normalize_corpus(corpus_list_encoded)\n",
    "\n",
    "pd_trips_encoded_normalized = pd_trips_encoded_from_R\n",
    "pd_trips_encoded_normalized[\"report\"] = pd.Series(corpus_list_encoded_normalized)\n",
    "\n",
    "# change column names to better fit pandas workflow\n",
    "pd_trips_encoded_normalized.columns = pd_trips_encoded_normalized.columns.str.replace('.', '_')\n",
    "\n",
    "# encoded and pre-processed data frame\n",
    "pd_trips_encoded_normalized.head()\n"
   ]
  },
  {
   "cell_type": "markdown",
   "metadata": {
    "colab_type": "text",
    "id": "PQeY7facMFM7"
   },
   "source": [
    "### 4.3.2 Facts about the Data\n",
    "\n",
    "TODO\n",
    "\n",
    "- average length of trip reports, character level + word level\n",
    "- mistribution of the length of trip reports\n",
    "- most frequently co-consumed substances\n",
    "- distribution of the number of labels for different reports\n",
    "- distribution of the number of labels for each substance: e.g.: are reports with `cannabis` frequently not just cannabis? normalize using proportion of trip reports;\n",
    "- think more critically about treatment of longtail; do we simply label substances not within the top 20 substances as `<UNK>`? If so, how do we treat them in bayesian methods? My intuition is telling me that I should include all of them in trip report generation, but not in classification tasks;\n",
    "\n"
   ]
  },
  {
   "cell_type": "markdown",
   "metadata": {
    "colab_type": "text",
    "id": "ji6UVIgVMFM8"
   },
   "source": [
    "### 4.3.3 Addressing Substance co-occurence\n",
    "\n",
    "TODO\n",
    "\n"
   ]
  },
  {
   "cell_type": "markdown",
   "metadata": {
    "colab_type": "text",
    "id": "PgS72yzBMFM9"
   },
   "source": [
    "### 4.3.4 Text Parsing: Language Syntax and Structure\n",
    "\n",
    "TODO\n",
    "\n",
    "\n",
    "[Referece](https://towardsdatascience.com/a-practitioners-guide-to-natural-language-processing-part-i-processing-understanding-text-9f4abfd13e72)\n",
    "- POS tagging: What are the top nouns, verbs, adjectives etc. associated with each substance?\n",
    "- Shallow parsing or chunking\n",
    "- Constituency Parsing\n",
    "- Dependency Parsing\n"
   ]
  },
  {
   "cell_type": "markdown",
   "metadata": {
    "colab_type": "text",
    "id": "vCF-7LBMMFM-"
   },
   "source": [
    "### 4.3.5 Text Parsing: Named Entity Recognition\n",
    "TODO\n",
    "\n",
    "- TODO: This can absolutely be part of EDA!!\n",
    "\n",
    "![Named Entity Recognition Example](./images/infographic_NER.png)"
   ]
  },
  {
   "cell_type": "code",
   "execution_count": 0,
   "metadata": {
    "colab": {},
    "colab_type": "code",
    "collapsed": true,
    "id": "TG9ZKDodCsyq"
   },
   "outputs": [],
   "source": [
    "from spacy import displacy\n",
    "\n",
    "sentence = str(news_df.iloc[1].full_text)\n",
    "sentence_nlp = nlp(sentence)\n",
    "\n",
    "# visualize named entities\n",
    "displacy.render(sentence_nlp, style='ent', jupyter=True)"
   ]
  },
  {
   "cell_type": "markdown",
   "metadata": {
    "colab_type": "text",
    "id": "AtL_hbqDMFM-"
   },
   "source": [
    "### 4.3.6 Text Parsing: Sentiment Analysis\n",
    "- TODO: Show distribution of sentiment across all trip reports"
   ]
  },
  {
   "cell_type": "markdown",
   "metadata": {
    "colab_type": "text",
    "id": "7_07skQvMFM_"
   },
   "source": [
    "### 4.3.7 Treatment of the Longtail\n",
    "\n",
    "As mentioned, there were a substantial number of substance in the corpus, and it was unfeasible to analyze all the substances. In the end we decided to focus on 20 labels, which was chosen both for their pharmalogical properties (psychedelics or most closely resembling psychedelics), and also their frequencies. All the substances chosen in the following list were among the most frequently occuring substances in the corpus\n",
    "\n",
    "- substance.mushrooms\n",
    "- substance.lsd\n",
    "- substance.mescaline\n",
    "- substance.cannabis\n",
    "- substance.mdma\n",
    "- substance.ayahuasca\n",
    "- substance.nitrous_oxide\n",
    "- substance.salvia\n",
    "- substance.methamphetamine\n",
    "- substance.dmt\n",
    "- substance.5_meo_dmt\n",
    "- substance.alcohol\n",
    "- substance.ketamine\n",
    "- substance.ibogaine\n",
    "- substance.pcp\n",
    "- substance.kava\n",
    "- substance.kratom\n",
    "- substance.morning_glory\n",
    "- substance.syrian_rue\n",
    "- substance.unknown\n"
   ]
  },
  {
   "cell_type": "markdown",
   "metadata": {
    "colab_type": "text",
    "id": "T2hZ6KUTMFNA"
   },
   "source": [
    "\n",
    "## 4.4 The Data: Clean and Filtered\n",
    "\n",
    "The following data frame represents the data that has been cleaned, filtered, and encoded, and will be used in all subsequent analysis."
   ]
  },
  {
   "cell_type": "code",
   "execution_count": 0,
   "metadata": {
    "colab": {},
    "colab_type": "code",
    "collapsed": true,
    "id": "nUsjFoUjCsyy"
   },
   "outputs": [],
   "source": [
    "# Saving the cleaned, filtered, and encoded data to file\n",
    "# pd_trips_encoded_normalized.to_csv(\"pd_trips_encoded_normalized.csv\", index = False)"
   ]
  },
  {
   "cell_type": "code",
   "execution_count": 4,
   "metadata": {},
   "outputs": [],
   "source": [
    "# README: Use the following import to load the cleaned data back into memory\n",
    "# EXPORT:\n",
    "import pandas as pd\n",
    "\n",
    "pd_trips_encoded_normalized = pd.read_csv(\"pd_trips_encoded_normalized.csv\")"
   ]
  },
  {
   "cell_type": "code",
   "execution_count": 6,
   "metadata": {
    "colab": {},
    "colab_type": "code",
    "id": "hEw8aAZfMFNa",
    "outputId": "b3524c3c-d251-4f9f-d028-a6e3c8281631"
   },
   "outputs": [
    {
     "data": {
      "text/html": [
       "<div>\n",
       "<style scoped>\n",
       "    .dataframe tbody tr th:only-of-type {\n",
       "        vertical-align: middle;\n",
       "    }\n",
       "\n",
       "    .dataframe tbody tr th {\n",
       "        vertical-align: top;\n",
       "    }\n",
       "\n",
       "    .dataframe thead th {\n",
       "        text-align: right;\n",
       "    }\n",
       "</style>\n",
       "<table border=\"1\" class=\"dataframe\">\n",
       "  <thead>\n",
       "    <tr style=\"text-align: right;\">\n",
       "      <th></th>\n",
       "      <th>Unnamed: 0</th>\n",
       "      <th>report</th>\n",
       "      <th>title</th>\n",
       "      <th>substance</th>\n",
       "      <th>substance_mushrooms</th>\n",
       "      <th>substance_lsd</th>\n",
       "      <th>substance_mescaline</th>\n",
       "      <th>substance_cannabis</th>\n",
       "      <th>substance_mdma</th>\n",
       "      <th>substance_ayahuasca</th>\n",
       "      <th>...</th>\n",
       "      <th>substance_ketamine</th>\n",
       "      <th>substance_ibogaine</th>\n",
       "      <th>substance_pcp</th>\n",
       "      <th>substance_kava</th>\n",
       "      <th>substance_kratom</th>\n",
       "      <th>substance_morning_glory</th>\n",
       "      <th>substance_syrian_rue</th>\n",
       "      <th>substance_unknown</th>\n",
       "      <th>substance_UNK</th>\n",
       "      <th>substance_unique_label</th>\n",
       "    </tr>\n",
       "  </thead>\n",
       "  <tbody>\n",
       "    <tr>\n",
       "      <th>0</th>\n",
       "      <td>1</td>\n",
       "      <td>success forms legal highs , decided experiment...</td>\n",
       "      <td>Sideways World</td>\n",
       "      <td>salvia divinorum (5x extract)</td>\n",
       "      <td>0</td>\n",
       "      <td>0</td>\n",
       "      <td>0</td>\n",
       "      <td>0</td>\n",
       "      <td>0</td>\n",
       "      <td>0</td>\n",
       "      <td>...</td>\n",
       "      <td>0</td>\n",
       "      <td>0</td>\n",
       "      <td>0</td>\n",
       "      <td>0</td>\n",
       "      <td>0</td>\n",
       "      <td>0</td>\n",
       "      <td>0</td>\n",
       "      <td>0</td>\n",
       "      <td>0</td>\n",
       "      <td>substance.salvia</td>\n",
       "    </tr>\n",
       "    <tr>\n",
       "      <th>1</th>\n",
       "      <td>2</td>\n",
       "      <td>couple buddies decided one night past february...</td>\n",
       "      <td>Physical Wellbeing = Crucial</td>\n",
       "      <td>mushrooms</td>\n",
       "      <td>1</td>\n",
       "      <td>0</td>\n",
       "      <td>0</td>\n",
       "      <td>0</td>\n",
       "      <td>0</td>\n",
       "      <td>0</td>\n",
       "      <td>...</td>\n",
       "      <td>0</td>\n",
       "      <td>0</td>\n",
       "      <td>0</td>\n",
       "      <td>0</td>\n",
       "      <td>0</td>\n",
       "      <td>0</td>\n",
       "      <td>0</td>\n",
       "      <td>0</td>\n",
       "      <td>0</td>\n",
       "      <td>substance.mushrooms</td>\n",
       "    </tr>\n",
       "    <tr>\n",
       "      <th>2</th>\n",
       "      <td>3</td>\n",
       "      <td>girlfriend saving methylone special occasion ,...</td>\n",
       "      <td>The Artful Dodger</td>\n",
       "      <td>methylone</td>\n",
       "      <td>0</td>\n",
       "      <td>0</td>\n",
       "      <td>0</td>\n",
       "      <td>0</td>\n",
       "      <td>0</td>\n",
       "      <td>0</td>\n",
       "      <td>...</td>\n",
       "      <td>0</td>\n",
       "      <td>0</td>\n",
       "      <td>0</td>\n",
       "      <td>0</td>\n",
       "      <td>0</td>\n",
       "      <td>0</td>\n",
       "      <td>0</td>\n",
       "      <td>0</td>\n",
       "      <td>0</td>\n",
       "      <td>substance.methamphetamine</td>\n",
       "    </tr>\n",
       "    <tr>\n",
       "      <th>3</th>\n",
       "      <td>4</td>\n",
       "      <td>want warn anybody taking lithium ( probably ps...</td>\n",
       "      <td>Seizure Inducing Combo</td>\n",
       "      <td>lsd &amp; lithium</td>\n",
       "      <td>0</td>\n",
       "      <td>1</td>\n",
       "      <td>0</td>\n",
       "      <td>0</td>\n",
       "      <td>0</td>\n",
       "      <td>0</td>\n",
       "      <td>...</td>\n",
       "      <td>0</td>\n",
       "      <td>0</td>\n",
       "      <td>0</td>\n",
       "      <td>0</td>\n",
       "      <td>0</td>\n",
       "      <td>0</td>\n",
       "      <td>0</td>\n",
       "      <td>0</td>\n",
       "      <td>0</td>\n",
       "      <td>substance.lsd</td>\n",
       "    </tr>\n",
       "    <tr>\n",
       "      <th>4</th>\n",
       "      <td>5</td>\n",
       "      <td>several attempts breakthrough 5-meo-dmt. belie...</td>\n",
       "      <td>Enlightenment Through a Chemical Catalyst</td>\n",
       "      <td>5-meo-dmt</td>\n",
       "      <td>0</td>\n",
       "      <td>0</td>\n",
       "      <td>0</td>\n",
       "      <td>0</td>\n",
       "      <td>0</td>\n",
       "      <td>0</td>\n",
       "      <td>...</td>\n",
       "      <td>0</td>\n",
       "      <td>0</td>\n",
       "      <td>0</td>\n",
       "      <td>0</td>\n",
       "      <td>0</td>\n",
       "      <td>0</td>\n",
       "      <td>0</td>\n",
       "      <td>0</td>\n",
       "      <td>0</td>\n",
       "      <td>substance.5_meo_dmt</td>\n",
       "    </tr>\n",
       "    <tr>\n",
       "      <th>5</th>\n",
       "      <td>6</td>\n",
       "      <td>interesting experience salvia nights ago want ...</td>\n",
       "      <td>Park Overhangs and Dog Hair</td>\n",
       "      <td>salvia divinorum (6x extract)</td>\n",
       "      <td>0</td>\n",
       "      <td>0</td>\n",
       "      <td>0</td>\n",
       "      <td>0</td>\n",
       "      <td>0</td>\n",
       "      <td>0</td>\n",
       "      <td>...</td>\n",
       "      <td>0</td>\n",
       "      <td>0</td>\n",
       "      <td>0</td>\n",
       "      <td>0</td>\n",
       "      <td>0</td>\n",
       "      <td>0</td>\n",
       "      <td>0</td>\n",
       "      <td>0</td>\n",
       "      <td>0</td>\n",
       "      <td>substance.salvia</td>\n",
       "    </tr>\n",
       "  </tbody>\n",
       "</table>\n",
       "<p>6 rows × 26 columns</p>\n",
       "</div>"
      ],
      "text/plain": [
       "   Unnamed: 0                                             report  \\\n",
       "0           1  success forms legal highs , decided experiment...   \n",
       "1           2  couple buddies decided one night past february...   \n",
       "2           3  girlfriend saving methylone special occasion ,...   \n",
       "3           4  want warn anybody taking lithium ( probably ps...   \n",
       "4           5  several attempts breakthrough 5-meo-dmt. belie...   \n",
       "5           6  interesting experience salvia nights ago want ...   \n",
       "\n",
       "                                       title                      substance  \\\n",
       "0                             Sideways World  salvia divinorum (5x extract)   \n",
       "1               Physical Wellbeing = Crucial                      mushrooms   \n",
       "2                          The Artful Dodger                      methylone   \n",
       "3                     Seizure Inducing Combo                  lsd & lithium   \n",
       "4  Enlightenment Through a Chemical Catalyst                      5-meo-dmt   \n",
       "5                Park Overhangs and Dog Hair  salvia divinorum (6x extract)   \n",
       "\n",
       "   substance_mushrooms  substance_lsd  substance_mescaline  \\\n",
       "0                    0              0                    0   \n",
       "1                    1              0                    0   \n",
       "2                    0              0                    0   \n",
       "3                    0              1                    0   \n",
       "4                    0              0                    0   \n",
       "5                    0              0                    0   \n",
       "\n",
       "   substance_cannabis  substance_mdma  substance_ayahuasca  ...  \\\n",
       "0                   0               0                    0  ...   \n",
       "1                   0               0                    0  ...   \n",
       "2                   0               0                    0  ...   \n",
       "3                   0               0                    0  ...   \n",
       "4                   0               0                    0  ...   \n",
       "5                   0               0                    0  ...   \n",
       "\n",
       "   substance_ketamine  substance_ibogaine  substance_pcp  substance_kava  \\\n",
       "0                   0                   0              0               0   \n",
       "1                   0                   0              0               0   \n",
       "2                   0                   0              0               0   \n",
       "3                   0                   0              0               0   \n",
       "4                   0                   0              0               0   \n",
       "5                   0                   0              0               0   \n",
       "\n",
       "   substance_kratom  substance_morning_glory  substance_syrian_rue  \\\n",
       "0                 0                        0                     0   \n",
       "1                 0                        0                     0   \n",
       "2                 0                        0                     0   \n",
       "3                 0                        0                     0   \n",
       "4                 0                        0                     0   \n",
       "5                 0                        0                     0   \n",
       "\n",
       "   substance_unknown  substance_UNK     substance_unique_label  \n",
       "0                  0              0           substance.salvia  \n",
       "1                  0              0        substance.mushrooms  \n",
       "2                  0              0  substance.methamphetamine  \n",
       "3                  0              0              substance.lsd  \n",
       "4                  0              0        substance.5_meo_dmt  \n",
       "5                  0              0           substance.salvia  \n",
       "\n",
       "[6 rows x 26 columns]"
      ]
     },
     "execution_count": 6,
     "metadata": {},
     "output_type": "execute_result"
    }
   ],
   "source": [
    "# first 6 rows of the cleaned data\n",
    "pd_trips_encoded_normalized.head(n=6)"
   ]
  },
  {
   "cell_type": "markdown",
   "metadata": {
    "colab_type": "text",
    "id": "CKaS38QhMFNb"
   },
   "source": [
    "\n",
    "<br /> \n",
    "<br /> \n",
    "<br /> \n",
    "<br /> \n",
    "<br /> \n",
    "<br /> \n",
    "<br /> \n",
    "<br /> \n",
    "<br /> \n",
    "<br /> \n",
    "<br /> \n",
    "<br /> \n",
    "<br /> \n",
    "<br /> \n",
    "<br /> \n",
    "<br /> \n",
    "<br /> "
   ]
  },
  {
   "cell_type": "markdown",
   "metadata": {
    "colab_type": "text",
    "id": "Xl-VjIXkMFNc"
   },
   "source": [
    "\n",
    "\n",
    "# 5. Text Presentation and Feature Engineering"
   ]
  },
  {
   "cell_type": "markdown",
   "metadata": {
    "colab_type": "text",
    "id": "fM6_hS1AMFNd"
   },
   "source": [
    "## 5.1 Word as Vectors\n",
    "\n",
    "For those unfamiliar with natural language processing, we introduce a simple but very central and powerful idea: **_each `word` can be represented as a vector of real numbers_**. This may seem counterintuitive, but the ability to represent words as vectors is absolutely key to our ability to perform analysis on unstructured text — almost all machine learning algorithms take vectors or matrixes as inputs and vector representations open us to a world of vector and matrix operations such as dot products and cosine similarity, which allow us to ask (and answer) questions such as _`how **similar** are two words?`_ intelligently and precisely.\n",
    "\n",
    "![word as vectors intuition](./images/infographic_word-as-vectors-overview.png)\n",
    "[`Infographic Source`](https://medium.com/@jayeshbahire/introduction-to-word-vectors-ea1d4e4b84bf)\n",
    "\n",
    "In the above infographic, each word is represented by 4 numbers, or 4 dimensions, representing a word's `animal`-ness, `domesticated`-ness, `pet`-ness, `fluffy`-ness. With this, we can ask whether a monkey is more similar to an elephant or more similar to a cheetah using cosine similiarity."
   ]
  },
  {
   "cell_type": "code",
   "execution_count": 0,
   "metadata": {
    "colab": {},
    "colab_type": "code",
    "id": "F_qOR6vgCsy4",
    "outputId": "f586b784-3cd6-4d79-c425-6e7f53378a80"
   },
   "outputs": [
    {
     "data": {
      "text/plain": [
       "0.8251926299381945"
      ]
     },
     "execution_count": 62,
     "metadata": {
      "tags": []
     },
     "output_type": "execute_result"
    }
   ],
   "source": [
    "# Illustration of cosine similarity\n",
    "# It looks like a monkey is more similar to a cheetah than it is to an elephant!\n",
    "monkey = np.array([-0.02, -0.67, -0.21, -0.48])\n",
    "elephant = np.array([-0.04, -0.09, 0.11, -0.06])\n",
    "cheetah = np.array([0.27, -0.28, -0.2, -0.43])\n",
    "\n",
    "# cosine similarity relies on the intuition that the smaller the angle between two vectors, the more similar they are\n",
    "def cos_sim(v1, v2):\n",
    "    sim = np.dot(v1, v2) / (np.sqrt(sum(v1**2)) * np.sqrt(sum(v2**2)))\n",
    "    return sim\n",
    "\n",
    "cos_sim(monkey, elephant) # 0.4926634171010775\n",
    "cos_sim(monkey, cheetah) # 0.8251926299381945"
   ]
  },
  {
   "cell_type": "markdown",
   "metadata": {
    "colab_type": "text",
    "id": "8DbzXiXgCsy6"
   },
   "source": [
    "**Words are represented as vectors mainly in two ways (see [here](https://medium.com/@jayeshbahire/introduction-to-word-vectors-ea1d4e4b84bf) also):**\n",
    "1. count of word / context co-occurences\n",
    "2. vectors that naturally arise from trying to predict the context of a word (GloVE, Skipgram models)\n",
    "\n",
    "\n",
    "The first class of methods relies on the distributional hypothesis in linguistic (todo), which formalized the intuition that _words that co-occur together in the same contexts tend to be more similar_. There are two main ways to construct vectors this way:\n",
    "- **`term-document matrix`**: Very briefly, supposed we had a vocabulary (unique tokens) of size V, and a collection of documents (such as wikipedia pages) of size D. We can make a V x D matrix `TDM`, with words as the rows and documents as the columns. The position M(i, j) would then how many times word i occurs in document j. Just like that, we have created a *term-document matrix*, one of the most important building blocks in natural language processing. Recall that each row represents a word, and each row is a vector of dimension D. In this precise way, we have just represented each of the V words in our vocabulary as a vector of dimension D.\n",
    "- **`term-term matrix`**: now, instead of using a V X D matrix, we can make a V x V matrix `TTM`, and figure out a sensible way to populate the elements. One intuitive way is to take a \"sliding window\" with some width over the text, and count how many times some word j occurs in the context window of word i. That count would then go into TTM(i, j). In this way, each word is represented as V dimensional vector.\n",
    "\n",
    "Note that because V and D are often on the order of millions, these vector representations are absolutely huge, and many fields would be 0. For this reason, these are also called **_sparse_ vector embeddings**.\n",
    "\n",
    "\n",
    "The second class of methods rely on the intuition that if we use words as inputs to peform some machine learning task (such as predicting the most likely surrounding context words given a current word using a neural network, say), the weights and biases learned by the neural network will act as a \"good\" approximations for the vector representation of the word. \n",
    "\n",
    "The most commonly used models are `Word2Vec` (CBOW and Negative Skip Gram Sampling) by Google, `GloVe Model` from Stanford University, and `FastText Model` by Facebook. Although the three models rely on different machine learning tasks, they all rely on randomly intialized vectors converging to vector approximatiosn of words as the machine learning task trains. The exact details are beyond the scope of this thesis, but there are 3 very important takeaways: (1) The dimensions of the word vectors are arbitrary and user specified, (2) The numbers in the learned vectors don't have _intrinsic_ meaning like how the ones in the sparse representations above do. The learned vector for a word is an abstract embedding in a higher dimensional space, derived from a particular training corpus and particular algorithm. There is no _single_ vector that **_is_** a particular word. Finally, (3) Since the dimensions are user specified they are typically kept to around 100 to 300, and as such these word vectors are often called **_dense vector embeddings_**\n",
    "\n",
    "For those interested, here are three infographics that provide some context for the different algorithms, examples of embeddings learned, and links to the original papers that described the different papers. Notice here that words in the `Word2Vec` are 100-dimensional vector embeddings, and words in the `GloVe` example are 300-dimensional vector emeddings. Indeed, multiple pre trained models with different initial configurations (such as dimension of embedding and size of training corpus) are readily available for use. For a deeper yet approachable introduction to word embeddings arising from deep learning models, Diparjan Sarka's [article](https://towardsdatascience.com/understanding-feature-engineering-part-4-deep-learning-methods-for-text-data-96c44370bbfa) on Towards Data Science is an excellent place to start\n",
    "![Word2Vec Models](./images/infographic_dl-wordvec-word2vec.png)\n",
    "![GloVe Models](./images/infographic_dl-wordvec-glove.png)\n",
    "![Fasttext Models](./images/infographic_dl-wordvec-fasttext.png)"
   ]
  },
  {
   "cell_type": "markdown",
   "metadata": {
    "colab_type": "text",
    "id": "KTiGqA6xMFNd"
   },
   "source": [
    "## 5.2 Documents as Vectors\n",
    "\n",
    "Once the idea that words can be represented as vectors sinks in, the idea that entire documents can be represented as vectors feel very intuitive. Recall in the previous section we saw a **`term-document matrix`**, which was a V x D matrix with terms as rows and documents as columns. Taking the rows, we represented each term as a D-dimensional vector. On the flip side, if we simply took the columns, we could represent documents as V dimensional vectors. This results in a **sparse embedding** of a document.\n",
    "\n",
    "We can also utilize the fact that documents are a collection of words, each of which can be represented by a vector. As such, we can simply take the average of all the word vectors in a document, and call that our document vector. This results in a **dense embedding** that represents a document. In practice, this seemingly naive method of averaging works surprisingly well, and the intuition of averaging word vectors is agnostic to which word embedding was chosen, be it `GloVe`, `Word2Vec`, `FastText` or a DIY embeddng. One commonly used document embedding is Google's `Doc2Vec`, which, as you might have guessed, builds on top of `Word2Vec` word embeddings.\n",
    "\n",
    "\n",
    "\n",
    "## 5.3 Vectorizing our Corpus with Bag of Word (BOW) Features\n",
    "\n",
    "Now that we have introduced the important intuition that words and documents can be represented as vectors, we can bring this theory into practice and vectorize our corpus. Let us begin with the basics and slowly get more complex. "
   ]
  },
  {
   "cell_type": "markdown",
   "metadata": {
    "colab_type": "text",
    "id": "14C-PaCjMFNe"
   },
   "source": [
    "### 5.3.1 Term-Document Counts: The Very Basics\n",
    "\n",
    "This corresponds to constructing the aforementioned `term-document matrix`, where we constructed a V x D matrix from the corpus, where each document is represented with a V dimensional vector. `sklean` has a built in vectorzier called `CountVectorizer` which we can use directly on our normalized corpus. As an implementation detail, this procedure actually produces a **`document-term matrix`**, which is the aforementioned `term-document matrix` flipped along the diagnal. Practically, this creates a D x V matrix with documents as rows and terms as columns, with all else the same. Moving forward, we will adopt the convention of keeping documents as rows and terms as columns."
   ]
  },
  {
   "cell_type": "code",
   "execution_count": 11,
   "metadata": {
    "colab": {
     "base_uri": "https://localhost:8080/",
     "height": 567
    },
    "colab_type": "code",
    "id": "zzNVwXnKCsy8",
    "outputId": "933748cf-e2d4-4d26-abff-be904525fc10",
    "scrolled": true
   },
   "outputs": [
    {
     "data": {
      "text/html": [
       "<div>\n",
       "<style scoped>\n",
       "    .dataframe tbody tr th:only-of-type {\n",
       "        vertical-align: middle;\n",
       "    }\n",
       "\n",
       "    .dataframe tbody tr th {\n",
       "        vertical-align: top;\n",
       "    }\n",
       "\n",
       "    .dataframe thead th {\n",
       "        text-align: right;\n",
       "    }\n",
       "</style>\n",
       "<table border=\"1\" class=\"dataframe\">\n",
       "  <thead>\n",
       "    <tr style=\"text-align: right;\">\n",
       "      <th></th>\n",
       "      <th>Unnamed: 0</th>\n",
       "      <th>report</th>\n",
       "      <th>title</th>\n",
       "      <th>substance</th>\n",
       "      <th>substance_mushrooms</th>\n",
       "      <th>substance_lsd</th>\n",
       "      <th>substance_mescaline</th>\n",
       "      <th>substance_cannabis</th>\n",
       "      <th>substance_mdma</th>\n",
       "      <th>substance_ayahuasca</th>\n",
       "      <th>...</th>\n",
       "      <th>substance_ketamine</th>\n",
       "      <th>substance_ibogaine</th>\n",
       "      <th>substance_pcp</th>\n",
       "      <th>substance_kava</th>\n",
       "      <th>substance_kratom</th>\n",
       "      <th>substance_morning_glory</th>\n",
       "      <th>substance_syrian_rue</th>\n",
       "      <th>substance_unknown</th>\n",
       "      <th>substance_UNK</th>\n",
       "      <th>substance_unique_label</th>\n",
       "    </tr>\n",
       "  </thead>\n",
       "  <tbody>\n",
       "    <tr>\n",
       "      <th>0</th>\n",
       "      <td>1</td>\n",
       "      <td>success forms legal highs , decided experiment...</td>\n",
       "      <td>Sideways World</td>\n",
       "      <td>salvia divinorum (5x extract)</td>\n",
       "      <td>0</td>\n",
       "      <td>0</td>\n",
       "      <td>0</td>\n",
       "      <td>0</td>\n",
       "      <td>0</td>\n",
       "      <td>0</td>\n",
       "      <td>...</td>\n",
       "      <td>0</td>\n",
       "      <td>0</td>\n",
       "      <td>0</td>\n",
       "      <td>0</td>\n",
       "      <td>0</td>\n",
       "      <td>0</td>\n",
       "      <td>0</td>\n",
       "      <td>0</td>\n",
       "      <td>0</td>\n",
       "      <td>substance.salvia</td>\n",
       "    </tr>\n",
       "    <tr>\n",
       "      <th>1</th>\n",
       "      <td>2</td>\n",
       "      <td>couple buddies decided one night past february...</td>\n",
       "      <td>Physical Wellbeing = Crucial</td>\n",
       "      <td>mushrooms</td>\n",
       "      <td>1</td>\n",
       "      <td>0</td>\n",
       "      <td>0</td>\n",
       "      <td>0</td>\n",
       "      <td>0</td>\n",
       "      <td>0</td>\n",
       "      <td>...</td>\n",
       "      <td>0</td>\n",
       "      <td>0</td>\n",
       "      <td>0</td>\n",
       "      <td>0</td>\n",
       "      <td>0</td>\n",
       "      <td>0</td>\n",
       "      <td>0</td>\n",
       "      <td>0</td>\n",
       "      <td>0</td>\n",
       "      <td>substance.mushrooms</td>\n",
       "    </tr>\n",
       "    <tr>\n",
       "      <th>2</th>\n",
       "      <td>3</td>\n",
       "      <td>girlfriend saving methylone special occasion ,...</td>\n",
       "      <td>The Artful Dodger</td>\n",
       "      <td>methylone</td>\n",
       "      <td>0</td>\n",
       "      <td>0</td>\n",
       "      <td>0</td>\n",
       "      <td>0</td>\n",
       "      <td>0</td>\n",
       "      <td>0</td>\n",
       "      <td>...</td>\n",
       "      <td>0</td>\n",
       "      <td>0</td>\n",
       "      <td>0</td>\n",
       "      <td>0</td>\n",
       "      <td>0</td>\n",
       "      <td>0</td>\n",
       "      <td>0</td>\n",
       "      <td>0</td>\n",
       "      <td>0</td>\n",
       "      <td>substance.methamphetamine</td>\n",
       "    </tr>\n",
       "    <tr>\n",
       "      <th>3</th>\n",
       "      <td>4</td>\n",
       "      <td>want warn anybody taking lithium ( probably ps...</td>\n",
       "      <td>Seizure Inducing Combo</td>\n",
       "      <td>lsd &amp; lithium</td>\n",
       "      <td>0</td>\n",
       "      <td>1</td>\n",
       "      <td>0</td>\n",
       "      <td>0</td>\n",
       "      <td>0</td>\n",
       "      <td>0</td>\n",
       "      <td>...</td>\n",
       "      <td>0</td>\n",
       "      <td>0</td>\n",
       "      <td>0</td>\n",
       "      <td>0</td>\n",
       "      <td>0</td>\n",
       "      <td>0</td>\n",
       "      <td>0</td>\n",
       "      <td>0</td>\n",
       "      <td>0</td>\n",
       "      <td>substance.lsd</td>\n",
       "    </tr>\n",
       "    <tr>\n",
       "      <th>4</th>\n",
       "      <td>5</td>\n",
       "      <td>several attempts breakthrough 5-meo-dmt. belie...</td>\n",
       "      <td>Enlightenment Through a Chemical Catalyst</td>\n",
       "      <td>5-meo-dmt</td>\n",
       "      <td>0</td>\n",
       "      <td>0</td>\n",
       "      <td>0</td>\n",
       "      <td>0</td>\n",
       "      <td>0</td>\n",
       "      <td>0</td>\n",
       "      <td>...</td>\n",
       "      <td>0</td>\n",
       "      <td>0</td>\n",
       "      <td>0</td>\n",
       "      <td>0</td>\n",
       "      <td>0</td>\n",
       "      <td>0</td>\n",
       "      <td>0</td>\n",
       "      <td>0</td>\n",
       "      <td>0</td>\n",
       "      <td>substance.5_meo_dmt</td>\n",
       "    </tr>\n",
       "  </tbody>\n",
       "</table>\n",
       "<p>5 rows × 26 columns</p>\n",
       "</div>"
      ],
      "text/plain": [
       "   Unnamed: 0                                             report  \\\n",
       "0           1  success forms legal highs , decided experiment...   \n",
       "1           2  couple buddies decided one night past february...   \n",
       "2           3  girlfriend saving methylone special occasion ,...   \n",
       "3           4  want warn anybody taking lithium ( probably ps...   \n",
       "4           5  several attempts breakthrough 5-meo-dmt. belie...   \n",
       "\n",
       "                                       title                      substance  \\\n",
       "0                             Sideways World  salvia divinorum (5x extract)   \n",
       "1               Physical Wellbeing = Crucial                      mushrooms   \n",
       "2                          The Artful Dodger                      methylone   \n",
       "3                     Seizure Inducing Combo                  lsd & lithium   \n",
       "4  Enlightenment Through a Chemical Catalyst                      5-meo-dmt   \n",
       "\n",
       "   substance_mushrooms  substance_lsd  substance_mescaline  \\\n",
       "0                    0              0                    0   \n",
       "1                    1              0                    0   \n",
       "2                    0              0                    0   \n",
       "3                    0              1                    0   \n",
       "4                    0              0                    0   \n",
       "\n",
       "   substance_cannabis  substance_mdma  substance_ayahuasca  ...  \\\n",
       "0                   0               0                    0  ...   \n",
       "1                   0               0                    0  ...   \n",
       "2                   0               0                    0  ...   \n",
       "3                   0               0                    0  ...   \n",
       "4                   0               0                    0  ...   \n",
       "\n",
       "   substance_ketamine  substance_ibogaine  substance_pcp  substance_kava  \\\n",
       "0                   0                   0              0               0   \n",
       "1                   0                   0              0               0   \n",
       "2                   0                   0              0               0   \n",
       "3                   0                   0              0               0   \n",
       "4                   0                   0              0               0   \n",
       "\n",
       "   substance_kratom  substance_morning_glory  substance_syrian_rue  \\\n",
       "0                 0                        0                     0   \n",
       "1                 0                        0                     0   \n",
       "2                 0                        0                     0   \n",
       "3                 0                        0                     0   \n",
       "4                 0                        0                     0   \n",
       "\n",
       "   substance_unknown  substance_UNK     substance_unique_label  \n",
       "0                  0              0           substance.salvia  \n",
       "1                  0              0        substance.mushrooms  \n",
       "2                  0              0  substance.methamphetamine  \n",
       "3                  0              0              substance.lsd  \n",
       "4                  0              0        substance.5_meo_dmt  \n",
       "\n",
       "[5 rows x 26 columns]"
      ]
     },
     "execution_count": 11,
     "metadata": {},
     "output_type": "execute_result"
    }
   ],
   "source": [
    "# OPTIONAL: In case Kernel dies, use this to load back dataset\n",
    "import pandas as pd\n",
    "pd_trips_encoded_normalized = pd.read_csv('{}/pd_trips_encoded_normalized.csv'.format(root_path))\n",
    "# with open('pd_trips_encoded_normalized.csv', 'rb') as in_file:\n",
    "#     pd_trips_encoded_normalized = pickle.load(in_file)\n",
    "pd_trips_encoded_normalized.head()"
   ]
  },
  {
   "cell_type": "code",
   "execution_count": 14,
   "metadata": {
    "colab": {
     "base_uri": "https://localhost:8080/",
     "height": 34
    },
    "colab_type": "code",
    "id": "059EGHDpCszC",
    "outputId": "0e124423-e877-40bc-8fa5-aaa97a354dc1"
   },
   "outputs": [
    {
     "data": {
      "text/plain": [
       "0"
      ]
     },
     "execution_count": 14,
     "metadata": {},
     "output_type": "execute_result"
    }
   ],
   "source": [
    "# TODO: for some very strange reason, reading the csv file back resulted in np.nan trip reports\n",
    "pd_trips_encoded_normalized[\"report\"].isnull().sum()\n",
    "# dropna: https://stackoverflow.com/questions/13413590/how-to-drop-rows-of-pandas-dataframe-whose-value-in-a-certain-column-is-nan\n",
    "pd_trips_encoded_normalized.dropna(subset=['report'], inplace=True)\n",
    "pd_trips_encoded_normalized[\"report\"].isnull().sum()\n"
   ]
  },
  {
   "cell_type": "code",
   "execution_count": 45,
   "metadata": {
    "colab": {
     "base_uri": "https://localhost:8080/",
     "height": 426
    },
    "colab_type": "code",
    "id": "um9Ak6lNMFNe",
    "outputId": "514b82b3-f8f4-42d3-9c16-b1f49f3132f2"
   },
   "outputs": [
    {
     "data": {
      "text/html": [
       "<div>\n",
       "<style scoped>\n",
       "    .dataframe tbody tr th:only-of-type {\n",
       "        vertical-align: middle;\n",
       "    }\n",
       "\n",
       "    .dataframe tbody tr th {\n",
       "        vertical-align: top;\n",
       "    }\n",
       "\n",
       "    .dataframe thead th {\n",
       "        text-align: right;\n",
       "    }\n",
       "</style>\n",
       "<table border=\"1\" class=\"dataframe\">\n",
       "  <thead>\n",
       "    <tr style=\"text-align: right;\">\n",
       "      <th></th>\n",
       "      <th>00</th>\n",
       "      <th>000</th>\n",
       "      <th>0000</th>\n",
       "      <th>00000</th>\n",
       "      <th>00000000</th>\n",
       "      <th>00000000000000000000000000003</th>\n",
       "      <th>00005</th>\n",
       "      <th>0001</th>\n",
       "      <th>0001g</th>\n",
       "      <th>0002</th>\n",
       "      <th>...</th>\n",
       "      <th>zzzs</th>\n",
       "      <th>zzzzang</th>\n",
       "      <th>zzzzz</th>\n",
       "      <th>zzzzzz</th>\n",
       "      <th>zzzzzzzap</th>\n",
       "      <th>zzzzzzzzz</th>\n",
       "      <th>zzzzzzzzzuuuuurrrrrrzzzz</th>\n",
       "      <th>zzzzzzzzzzzzzzzzzzzzzzzz</th>\n",
       "      <th>zzzzzzzzzzzzzzzzzzzzzzzzzzzzzzzzzzzzzzzzz</th>\n",
       "      <th>zzzzzzzzzzzzzzzzzzzzzzzzzzzzzzzzzzzzzzzzzzzzzzzzzzzzzzzzzzzzzzzzzzzzzzzzzzzzzzzzzzzzzzzzzzzzzzzzzzzzzzzzzzzzzzzzz</th>\n",
       "    </tr>\n",
       "  </thead>\n",
       "  <tbody>\n",
       "    <tr>\n",
       "      <th>0</th>\n",
       "      <td>0</td>\n",
       "      <td>0</td>\n",
       "      <td>0</td>\n",
       "      <td>0</td>\n",
       "      <td>0</td>\n",
       "      <td>0</td>\n",
       "      <td>0</td>\n",
       "      <td>0</td>\n",
       "      <td>0</td>\n",
       "      <td>0</td>\n",
       "      <td>...</td>\n",
       "      <td>0</td>\n",
       "      <td>0</td>\n",
       "      <td>0</td>\n",
       "      <td>0</td>\n",
       "      <td>0</td>\n",
       "      <td>0</td>\n",
       "      <td>0</td>\n",
       "      <td>0</td>\n",
       "      <td>0</td>\n",
       "      <td>0</td>\n",
       "    </tr>\n",
       "    <tr>\n",
       "      <th>1</th>\n",
       "      <td>0</td>\n",
       "      <td>0</td>\n",
       "      <td>0</td>\n",
       "      <td>0</td>\n",
       "      <td>0</td>\n",
       "      <td>0</td>\n",
       "      <td>0</td>\n",
       "      <td>0</td>\n",
       "      <td>0</td>\n",
       "      <td>0</td>\n",
       "      <td>...</td>\n",
       "      <td>0</td>\n",
       "      <td>0</td>\n",
       "      <td>0</td>\n",
       "      <td>0</td>\n",
       "      <td>0</td>\n",
       "      <td>0</td>\n",
       "      <td>0</td>\n",
       "      <td>0</td>\n",
       "      <td>0</td>\n",
       "      <td>0</td>\n",
       "    </tr>\n",
       "    <tr>\n",
       "      <th>2</th>\n",
       "      <td>0</td>\n",
       "      <td>0</td>\n",
       "      <td>0</td>\n",
       "      <td>0</td>\n",
       "      <td>0</td>\n",
       "      <td>0</td>\n",
       "      <td>0</td>\n",
       "      <td>0</td>\n",
       "      <td>0</td>\n",
       "      <td>0</td>\n",
       "      <td>...</td>\n",
       "      <td>0</td>\n",
       "      <td>0</td>\n",
       "      <td>0</td>\n",
       "      <td>0</td>\n",
       "      <td>0</td>\n",
       "      <td>0</td>\n",
       "      <td>0</td>\n",
       "      <td>0</td>\n",
       "      <td>0</td>\n",
       "      <td>0</td>\n",
       "    </tr>\n",
       "    <tr>\n",
       "      <th>3</th>\n",
       "      <td>0</td>\n",
       "      <td>0</td>\n",
       "      <td>0</td>\n",
       "      <td>0</td>\n",
       "      <td>0</td>\n",
       "      <td>0</td>\n",
       "      <td>0</td>\n",
       "      <td>0</td>\n",
       "      <td>0</td>\n",
       "      <td>0</td>\n",
       "      <td>...</td>\n",
       "      <td>0</td>\n",
       "      <td>0</td>\n",
       "      <td>0</td>\n",
       "      <td>0</td>\n",
       "      <td>0</td>\n",
       "      <td>0</td>\n",
       "      <td>0</td>\n",
       "      <td>0</td>\n",
       "      <td>0</td>\n",
       "      <td>0</td>\n",
       "    </tr>\n",
       "    <tr>\n",
       "      <th>4</th>\n",
       "      <td>0</td>\n",
       "      <td>0</td>\n",
       "      <td>0</td>\n",
       "      <td>0</td>\n",
       "      <td>0</td>\n",
       "      <td>0</td>\n",
       "      <td>0</td>\n",
       "      <td>0</td>\n",
       "      <td>0</td>\n",
       "      <td>0</td>\n",
       "      <td>...</td>\n",
       "      <td>0</td>\n",
       "      <td>0</td>\n",
       "      <td>0</td>\n",
       "      <td>0</td>\n",
       "      <td>0</td>\n",
       "      <td>0</td>\n",
       "      <td>0</td>\n",
       "      <td>0</td>\n",
       "      <td>0</td>\n",
       "      <td>0</td>\n",
       "    </tr>\n",
       "    <tr>\n",
       "      <th>...</th>\n",
       "      <td>...</td>\n",
       "      <td>...</td>\n",
       "      <td>...</td>\n",
       "      <td>...</td>\n",
       "      <td>...</td>\n",
       "      <td>...</td>\n",
       "      <td>...</td>\n",
       "      <td>...</td>\n",
       "      <td>...</td>\n",
       "      <td>...</td>\n",
       "      <td>...</td>\n",
       "      <td>...</td>\n",
       "      <td>...</td>\n",
       "      <td>...</td>\n",
       "      <td>...</td>\n",
       "      <td>...</td>\n",
       "      <td>...</td>\n",
       "      <td>...</td>\n",
       "      <td>...</td>\n",
       "      <td>...</td>\n",
       "      <td>...</td>\n",
       "    </tr>\n",
       "    <tr>\n",
       "      <th>19910</th>\n",
       "      <td>0</td>\n",
       "      <td>0</td>\n",
       "      <td>0</td>\n",
       "      <td>0</td>\n",
       "      <td>0</td>\n",
       "      <td>0</td>\n",
       "      <td>0</td>\n",
       "      <td>0</td>\n",
       "      <td>0</td>\n",
       "      <td>0</td>\n",
       "      <td>...</td>\n",
       "      <td>0</td>\n",
       "      <td>0</td>\n",
       "      <td>0</td>\n",
       "      <td>0</td>\n",
       "      <td>0</td>\n",
       "      <td>0</td>\n",
       "      <td>0</td>\n",
       "      <td>0</td>\n",
       "      <td>0</td>\n",
       "      <td>0</td>\n",
       "    </tr>\n",
       "    <tr>\n",
       "      <th>19911</th>\n",
       "      <td>0</td>\n",
       "      <td>0</td>\n",
       "      <td>0</td>\n",
       "      <td>0</td>\n",
       "      <td>0</td>\n",
       "      <td>0</td>\n",
       "      <td>0</td>\n",
       "      <td>0</td>\n",
       "      <td>0</td>\n",
       "      <td>0</td>\n",
       "      <td>...</td>\n",
       "      <td>0</td>\n",
       "      <td>0</td>\n",
       "      <td>0</td>\n",
       "      <td>0</td>\n",
       "      <td>0</td>\n",
       "      <td>0</td>\n",
       "      <td>0</td>\n",
       "      <td>0</td>\n",
       "      <td>0</td>\n",
       "      <td>0</td>\n",
       "    </tr>\n",
       "    <tr>\n",
       "      <th>19912</th>\n",
       "      <td>0</td>\n",
       "      <td>0</td>\n",
       "      <td>0</td>\n",
       "      <td>0</td>\n",
       "      <td>0</td>\n",
       "      <td>0</td>\n",
       "      <td>0</td>\n",
       "      <td>0</td>\n",
       "      <td>0</td>\n",
       "      <td>0</td>\n",
       "      <td>...</td>\n",
       "      <td>0</td>\n",
       "      <td>0</td>\n",
       "      <td>0</td>\n",
       "      <td>0</td>\n",
       "      <td>0</td>\n",
       "      <td>0</td>\n",
       "      <td>0</td>\n",
       "      <td>0</td>\n",
       "      <td>0</td>\n",
       "      <td>0</td>\n",
       "    </tr>\n",
       "    <tr>\n",
       "      <th>19913</th>\n",
       "      <td>0</td>\n",
       "      <td>0</td>\n",
       "      <td>0</td>\n",
       "      <td>0</td>\n",
       "      <td>0</td>\n",
       "      <td>0</td>\n",
       "      <td>0</td>\n",
       "      <td>0</td>\n",
       "      <td>0</td>\n",
       "      <td>0</td>\n",
       "      <td>...</td>\n",
       "      <td>0</td>\n",
       "      <td>0</td>\n",
       "      <td>0</td>\n",
       "      <td>0</td>\n",
       "      <td>0</td>\n",
       "      <td>0</td>\n",
       "      <td>0</td>\n",
       "      <td>0</td>\n",
       "      <td>0</td>\n",
       "      <td>0</td>\n",
       "    </tr>\n",
       "    <tr>\n",
       "      <th>19914</th>\n",
       "      <td>0</td>\n",
       "      <td>0</td>\n",
       "      <td>0</td>\n",
       "      <td>0</td>\n",
       "      <td>0</td>\n",
       "      <td>0</td>\n",
       "      <td>0</td>\n",
       "      <td>0</td>\n",
       "      <td>0</td>\n",
       "      <td>0</td>\n",
       "      <td>...</td>\n",
       "      <td>0</td>\n",
       "      <td>0</td>\n",
       "      <td>0</td>\n",
       "      <td>0</td>\n",
       "      <td>0</td>\n",
       "      <td>0</td>\n",
       "      <td>0</td>\n",
       "      <td>0</td>\n",
       "      <td>0</td>\n",
       "      <td>0</td>\n",
       "    </tr>\n",
       "  </tbody>\n",
       "</table>\n",
       "<p>19915 rows × 107108 columns</p>\n",
       "</div>"
      ],
      "text/plain": [
       "       00  000  0000  00000  00000000  00000000000000000000000000003  00005  \\\n",
       "0       0    0     0      0         0                              0      0   \n",
       "1       0    0     0      0         0                              0      0   \n",
       "2       0    0     0      0         0                              0      0   \n",
       "3       0    0     0      0         0                              0      0   \n",
       "4       0    0     0      0         0                              0      0   \n",
       "...    ..  ...   ...    ...       ...                            ...    ...   \n",
       "19910   0    0     0      0         0                              0      0   \n",
       "19911   0    0     0      0         0                              0      0   \n",
       "19912   0    0     0      0         0                              0      0   \n",
       "19913   0    0     0      0         0                              0      0   \n",
       "19914   0    0     0      0         0                              0      0   \n",
       "\n",
       "       0001  0001g  0002  ...  zzzs  zzzzang  zzzzz  zzzzzz  zzzzzzzap  \\\n",
       "0         0      0     0  ...     0        0      0       0          0   \n",
       "1         0      0     0  ...     0        0      0       0          0   \n",
       "2         0      0     0  ...     0        0      0       0          0   \n",
       "3         0      0     0  ...     0        0      0       0          0   \n",
       "4         0      0     0  ...     0        0      0       0          0   \n",
       "...     ...    ...   ...  ...   ...      ...    ...     ...        ...   \n",
       "19910     0      0     0  ...     0        0      0       0          0   \n",
       "19911     0      0     0  ...     0        0      0       0          0   \n",
       "19912     0      0     0  ...     0        0      0       0          0   \n",
       "19913     0      0     0  ...     0        0      0       0          0   \n",
       "19914     0      0     0  ...     0        0      0       0          0   \n",
       "\n",
       "       zzzzzzzzz  zzzzzzzzzuuuuurrrrrrzzzz  zzzzzzzzzzzzzzzzzzzzzzzz  \\\n",
       "0              0                         0                         0   \n",
       "1              0                         0                         0   \n",
       "2              0                         0                         0   \n",
       "3              0                         0                         0   \n",
       "4              0                         0                         0   \n",
       "...          ...                       ...                       ...   \n",
       "19910          0                         0                         0   \n",
       "19911          0                         0                         0   \n",
       "19912          0                         0                         0   \n",
       "19913          0                         0                         0   \n",
       "19914          0                         0                         0   \n",
       "\n",
       "       zzzzzzzzzzzzzzzzzzzzzzzzzzzzzzzzzzzzzzzzz  \\\n",
       "0                                              0   \n",
       "1                                              0   \n",
       "2                                              0   \n",
       "3                                              0   \n",
       "4                                              0   \n",
       "...                                          ...   \n",
       "19910                                          0   \n",
       "19911                                          0   \n",
       "19912                                          0   \n",
       "19913                                          0   \n",
       "19914                                          0   \n",
       "\n",
       "       zzzzzzzzzzzzzzzzzzzzzzzzzzzzzzzzzzzzzzzzzzzzzzzzzzzzzzzzzzzzzzzzzzzzzzzzzzzzzzzzzzzzzzzzzzzzzzzzzzzzzzzzzzzzzzzzz  \n",
       "0                                                      0                                                                  \n",
       "1                                                      0                                                                  \n",
       "2                                                      0                                                                  \n",
       "3                                                      0                                                                  \n",
       "4                                                      0                                                                  \n",
       "...                                                  ...                                                                  \n",
       "19910                                                  0                                                                  \n",
       "19911                                                  0                                                                  \n",
       "19912                                                  0                                                                  \n",
       "19913                                                  0                                                                  \n",
       "19914                                                  0                                                                  \n",
       "\n",
       "[19915 rows x 107108 columns]"
      ]
     },
     "execution_count": 45,
     "metadata": {},
     "output_type": "execute_result"
    }
   ],
   "source": [
    "# Code adapted from: \n",
    "# https://towardsdatascience.com/understanding-feature-engineering-part-3-traditional-methods-for-text-data-f6f7d70acd41\n",
    "from sklearn.feature_extraction.text import CountVectorizer\n",
    "\n",
    "# CountVectorizer expects a list of documents; i.e.: [string]\n",
    "norm_corpus = pd_trips_encoded_normalized[\"report\"].to_list()\n",
    "len(norm_corpus) # 19924 reports\n",
    "\n",
    "# instead of using raw counts, we can divide matrix(i, j) by sum over column j to get a proporition\n",
    "# min_df = minimum document frequency\n",
    "# max_df = maximum document frequency\n",
    "tf_vectorizer = CountVectorizer(min_df=0., max_df=1.)\n",
    "dtm_tf = tf_vectorizer.fit_transform(norm_corpus)\n",
    "dtm_tf_nparr = dtm_tf.toarray()\n",
    "\n",
    "# get all unique words in the corpus\n",
    "vocab = tf_vectorizer.get_feature_names()\n",
    "\n",
    "# show document feature vectors\n",
    "pd.DataFrame(np.round(dtm_tf_nparr, 2), columns=vocab)\n",
    "\n",
    "############################################\n",
    "## Ngram model extensions\n",
    "# you can set the n-gram range to 1,2 to get unigrams as well as bigrams\n",
    "# bv = CountVectorizer(ngram_range=(2,2))\n",
    "# bv_matrix = bv.fit_transform(norm_corpus)\n",
    "\n",
    "# bv_matrix = bv_matrix.toarray()\n",
    "# vocab = bv.get_feature_names()\n",
    "# pd.DataFrame(bv_matrix, columns=vocab)"
   ]
  },
  {
   "cell_type": "code",
   "execution_count": 16,
   "metadata": {
    "colab": {
     "base_uri": "https://localhost:8080/",
     "height": 194
    },
    "colab_type": "code",
    "id": "zPBQ6_1DCszp",
    "outputId": "3ee45f8d-7d79-47da-9843-8750ed94e945"
   },
   "outputs": [
    {
     "data": {
      "text/plain": [
       "['clasify',\n",
       " 'clasp',\n",
       " 'clasped',\n",
       " 'clasping',\n",
       " 'clasps',\n",
       " 'class',\n",
       " 'classa',\n",
       " 'classed',\n",
       " 'classes',\n",
       " 'classic']"
      ]
     },
     "execution_count": 16,
     "metadata": {},
     "output_type": "execute_result"
    }
   ],
   "source": [
    "# Some basic properties we can learn about our data\n",
    "len(vocab) # 107108 vocabulary words, or \"tokens\", in our training corpus\n",
    "vocab[20000:20010] # example of tokens"
   ]
  },
  {
   "cell_type": "markdown",
   "metadata": {
    "colab_type": "text",
    "id": "igozYemrCszw"
   },
   "source": [
    "Each row represents a document, and each column is a vocabulary word. We notice that the term-document matrix generated is extremely sparse (mostly zeros), and there seems to be a large number of non-sense tokens such as `00`, `000`, `0000` etc. More processing may be required to remove these tokens for better performance."
   ]
  },
  {
   "cell_type": "markdown",
   "metadata": {
    "colab_type": "text",
    "id": "fDQojCtWMFNg"
   },
   "source": [
    "### 5.4.2 TF-IDF Weighting Scheme\n",
    "\n",
    "Using just the raw word frequencies, we might overemphasize words that are shared across all trip reports, giving us little if any insight into the most significant words that is associated with each type of substance. If some word is faily rare (like \"avocado\") in general in the English language, but appeared quite few times in a single document, it makes intuitive sense to upweight the importance of that rare word with respect to that particular document. In other words, we need a formlua to capture the intuition \"if a word appears very frequently in a particular document and doesn't appear too frequently in other documents, the word is probably important for that particular document\". Capturing this intuition and to improve upon the raw frequency baseline, we can use the `tf-idf` weighting for each (word, document) pair as a weighting term.\n",
    "\n",
    "`tf-idf` stands for `term frequency-inverse document frequency`, and is specified for each (word, document) pair. It is by far one of the most widely used weighting scheme in considering how important a word is to a document, and is widely used in text mining and information retrieval. For an approachable academic introduction to `tf-idf`, see Chris Callison-Burch's [lecture slides](http://computational-linguistics-class.org/slides/05-vector-semantics.pdf)  \n",
    "\n",
    "- `tf` stands for `Term Frequency` ([Luhn 1957](http://web.stanford.edu/class/linguist289/luhn57.pdf)), and is simply the number of times a word appears in a document. Precisely, the term trequency of word $i$ in document $j$ is given by:\n",
    "$tf_{ij}$ = # of times word $i$ appears in document $j$\n",
    "\n",
    "- `idf` stands for `Inverse Document Frequency` ([Spark Jones 1972](http://citeseerx.ist.psu.edu/viewdoc/download?doi=10.1.1.115.8343&rep=rep1&type=pdf)), and intuitively measures how many documents contain a particular word, with words appearing frequently in many documents having less importance to a particular document, thus having a lower `idf` score. Precisely, the inverse document frequency of word $i$ is given by\n",
    "\n",
    "$$idf_i = log\\left(\\cfrac{N}{df_i}\\right)$$\n",
    "\n",
    "Where $df_i$ is the `document frequency of word i`, the number of documents containing word $i$  \n",
    "\n",
    "With these definitions, we stay the tf-idf weighting of word $i$ in document $j$ is given by\n",
    "\n",
    "$$ tf.idf(i,j) = tf_{ij} \\cdot idf_{i}$$"
   ]
  },
  {
   "cell_type": "code",
   "execution_count": 40,
   "metadata": {
    "colab": {},
    "colab_type": "code",
    "id": "Y95Cn_crMFNh"
   },
   "outputs": [
    {
     "data": {
      "text/html": [
       "<div>\n",
       "<style scoped>\n",
       "    .dataframe tbody tr th:only-of-type {\n",
       "        vertical-align: middle;\n",
       "    }\n",
       "\n",
       "    .dataframe tbody tr th {\n",
       "        vertical-align: top;\n",
       "    }\n",
       "\n",
       "    .dataframe thead th {\n",
       "        text-align: right;\n",
       "    }\n",
       "</style>\n",
       "<table border=\"1\" class=\"dataframe\">\n",
       "  <thead>\n",
       "    <tr style=\"text-align: right;\">\n",
       "      <th></th>\n",
       "      <th>00</th>\n",
       "      <th>000</th>\n",
       "      <th>0000</th>\n",
       "      <th>00000</th>\n",
       "      <th>00000000</th>\n",
       "      <th>00000000000000000000000000003</th>\n",
       "      <th>00005</th>\n",
       "      <th>0001</th>\n",
       "      <th>0001g</th>\n",
       "      <th>0002</th>\n",
       "      <th>...</th>\n",
       "      <th>zzzs</th>\n",
       "      <th>zzzzang</th>\n",
       "      <th>zzzzz</th>\n",
       "      <th>zzzzzz</th>\n",
       "      <th>zzzzzzzap</th>\n",
       "      <th>zzzzzzzzz</th>\n",
       "      <th>zzzzzzzzzuuuuurrrrrrzzzz</th>\n",
       "      <th>zzzzzzzzzzzzzzzzzzzzzzzz</th>\n",
       "      <th>zzzzzzzzzzzzzzzzzzzzzzzzzzzzzzzzzzzzzzzzz</th>\n",
       "      <th>zzzzzzzzzzzzzzzzzzzzzzzzzzzzzzzzzzzzzzzzzzzzzzzzzzzzzzzzzzzzzzzzzzzzzzzzzzzzzzzzzzzzzzzzzzzzzzzzzzzzzzzzzzzzzzzzz</th>\n",
       "    </tr>\n",
       "  </thead>\n",
       "  <tbody>\n",
       "    <tr>\n",
       "      <th>0</th>\n",
       "      <td>0.0</td>\n",
       "      <td>0.0</td>\n",
       "      <td>0.0</td>\n",
       "      <td>0.0</td>\n",
       "      <td>0.0</td>\n",
       "      <td>0.0</td>\n",
       "      <td>0.0</td>\n",
       "      <td>0.0</td>\n",
       "      <td>0.0</td>\n",
       "      <td>0.0</td>\n",
       "      <td>...</td>\n",
       "      <td>0.0</td>\n",
       "      <td>0.0</td>\n",
       "      <td>0.0</td>\n",
       "      <td>0.0</td>\n",
       "      <td>0.0</td>\n",
       "      <td>0.0</td>\n",
       "      <td>0.0</td>\n",
       "      <td>0.0</td>\n",
       "      <td>0.0</td>\n",
       "      <td>0.0</td>\n",
       "    </tr>\n",
       "    <tr>\n",
       "      <th>1</th>\n",
       "      <td>0.0</td>\n",
       "      <td>0.0</td>\n",
       "      <td>0.0</td>\n",
       "      <td>0.0</td>\n",
       "      <td>0.0</td>\n",
       "      <td>0.0</td>\n",
       "      <td>0.0</td>\n",
       "      <td>0.0</td>\n",
       "      <td>0.0</td>\n",
       "      <td>0.0</td>\n",
       "      <td>...</td>\n",
       "      <td>0.0</td>\n",
       "      <td>0.0</td>\n",
       "      <td>0.0</td>\n",
       "      <td>0.0</td>\n",
       "      <td>0.0</td>\n",
       "      <td>0.0</td>\n",
       "      <td>0.0</td>\n",
       "      <td>0.0</td>\n",
       "      <td>0.0</td>\n",
       "      <td>0.0</td>\n",
       "    </tr>\n",
       "    <tr>\n",
       "      <th>2</th>\n",
       "      <td>0.0</td>\n",
       "      <td>0.0</td>\n",
       "      <td>0.0</td>\n",
       "      <td>0.0</td>\n",
       "      <td>0.0</td>\n",
       "      <td>0.0</td>\n",
       "      <td>0.0</td>\n",
       "      <td>0.0</td>\n",
       "      <td>0.0</td>\n",
       "      <td>0.0</td>\n",
       "      <td>...</td>\n",
       "      <td>0.0</td>\n",
       "      <td>0.0</td>\n",
       "      <td>0.0</td>\n",
       "      <td>0.0</td>\n",
       "      <td>0.0</td>\n",
       "      <td>0.0</td>\n",
       "      <td>0.0</td>\n",
       "      <td>0.0</td>\n",
       "      <td>0.0</td>\n",
       "      <td>0.0</td>\n",
       "    </tr>\n",
       "    <tr>\n",
       "      <th>3</th>\n",
       "      <td>0.0</td>\n",
       "      <td>0.0</td>\n",
       "      <td>0.0</td>\n",
       "      <td>0.0</td>\n",
       "      <td>0.0</td>\n",
       "      <td>0.0</td>\n",
       "      <td>0.0</td>\n",
       "      <td>0.0</td>\n",
       "      <td>0.0</td>\n",
       "      <td>0.0</td>\n",
       "      <td>...</td>\n",
       "      <td>0.0</td>\n",
       "      <td>0.0</td>\n",
       "      <td>0.0</td>\n",
       "      <td>0.0</td>\n",
       "      <td>0.0</td>\n",
       "      <td>0.0</td>\n",
       "      <td>0.0</td>\n",
       "      <td>0.0</td>\n",
       "      <td>0.0</td>\n",
       "      <td>0.0</td>\n",
       "    </tr>\n",
       "    <tr>\n",
       "      <th>4</th>\n",
       "      <td>0.0</td>\n",
       "      <td>0.0</td>\n",
       "      <td>0.0</td>\n",
       "      <td>0.0</td>\n",
       "      <td>0.0</td>\n",
       "      <td>0.0</td>\n",
       "      <td>0.0</td>\n",
       "      <td>0.0</td>\n",
       "      <td>0.0</td>\n",
       "      <td>0.0</td>\n",
       "      <td>...</td>\n",
       "      <td>0.0</td>\n",
       "      <td>0.0</td>\n",
       "      <td>0.0</td>\n",
       "      <td>0.0</td>\n",
       "      <td>0.0</td>\n",
       "      <td>0.0</td>\n",
       "      <td>0.0</td>\n",
       "      <td>0.0</td>\n",
       "      <td>0.0</td>\n",
       "      <td>0.0</td>\n",
       "    </tr>\n",
       "    <tr>\n",
       "      <th>...</th>\n",
       "      <td>...</td>\n",
       "      <td>...</td>\n",
       "      <td>...</td>\n",
       "      <td>...</td>\n",
       "      <td>...</td>\n",
       "      <td>...</td>\n",
       "      <td>...</td>\n",
       "      <td>...</td>\n",
       "      <td>...</td>\n",
       "      <td>...</td>\n",
       "      <td>...</td>\n",
       "      <td>...</td>\n",
       "      <td>...</td>\n",
       "      <td>...</td>\n",
       "      <td>...</td>\n",
       "      <td>...</td>\n",
       "      <td>...</td>\n",
       "      <td>...</td>\n",
       "      <td>...</td>\n",
       "      <td>...</td>\n",
       "      <td>...</td>\n",
       "    </tr>\n",
       "    <tr>\n",
       "      <th>19910</th>\n",
       "      <td>0.0</td>\n",
       "      <td>0.0</td>\n",
       "      <td>0.0</td>\n",
       "      <td>0.0</td>\n",
       "      <td>0.0</td>\n",
       "      <td>0.0</td>\n",
       "      <td>0.0</td>\n",
       "      <td>0.0</td>\n",
       "      <td>0.0</td>\n",
       "      <td>0.0</td>\n",
       "      <td>...</td>\n",
       "      <td>0.0</td>\n",
       "      <td>0.0</td>\n",
       "      <td>0.0</td>\n",
       "      <td>0.0</td>\n",
       "      <td>0.0</td>\n",
       "      <td>0.0</td>\n",
       "      <td>0.0</td>\n",
       "      <td>0.0</td>\n",
       "      <td>0.0</td>\n",
       "      <td>0.0</td>\n",
       "    </tr>\n",
       "    <tr>\n",
       "      <th>19911</th>\n",
       "      <td>0.0</td>\n",
       "      <td>0.0</td>\n",
       "      <td>0.0</td>\n",
       "      <td>0.0</td>\n",
       "      <td>0.0</td>\n",
       "      <td>0.0</td>\n",
       "      <td>0.0</td>\n",
       "      <td>0.0</td>\n",
       "      <td>0.0</td>\n",
       "      <td>0.0</td>\n",
       "      <td>...</td>\n",
       "      <td>0.0</td>\n",
       "      <td>0.0</td>\n",
       "      <td>0.0</td>\n",
       "      <td>0.0</td>\n",
       "      <td>0.0</td>\n",
       "      <td>0.0</td>\n",
       "      <td>0.0</td>\n",
       "      <td>0.0</td>\n",
       "      <td>0.0</td>\n",
       "      <td>0.0</td>\n",
       "    </tr>\n",
       "    <tr>\n",
       "      <th>19912</th>\n",
       "      <td>0.0</td>\n",
       "      <td>0.0</td>\n",
       "      <td>0.0</td>\n",
       "      <td>0.0</td>\n",
       "      <td>0.0</td>\n",
       "      <td>0.0</td>\n",
       "      <td>0.0</td>\n",
       "      <td>0.0</td>\n",
       "      <td>0.0</td>\n",
       "      <td>0.0</td>\n",
       "      <td>...</td>\n",
       "      <td>0.0</td>\n",
       "      <td>0.0</td>\n",
       "      <td>0.0</td>\n",
       "      <td>0.0</td>\n",
       "      <td>0.0</td>\n",
       "      <td>0.0</td>\n",
       "      <td>0.0</td>\n",
       "      <td>0.0</td>\n",
       "      <td>0.0</td>\n",
       "      <td>0.0</td>\n",
       "    </tr>\n",
       "    <tr>\n",
       "      <th>19913</th>\n",
       "      <td>0.0</td>\n",
       "      <td>0.0</td>\n",
       "      <td>0.0</td>\n",
       "      <td>0.0</td>\n",
       "      <td>0.0</td>\n",
       "      <td>0.0</td>\n",
       "      <td>0.0</td>\n",
       "      <td>0.0</td>\n",
       "      <td>0.0</td>\n",
       "      <td>0.0</td>\n",
       "      <td>...</td>\n",
       "      <td>0.0</td>\n",
       "      <td>0.0</td>\n",
       "      <td>0.0</td>\n",
       "      <td>0.0</td>\n",
       "      <td>0.0</td>\n",
       "      <td>0.0</td>\n",
       "      <td>0.0</td>\n",
       "      <td>0.0</td>\n",
       "      <td>0.0</td>\n",
       "      <td>0.0</td>\n",
       "    </tr>\n",
       "    <tr>\n",
       "      <th>19914</th>\n",
       "      <td>0.0</td>\n",
       "      <td>0.0</td>\n",
       "      <td>0.0</td>\n",
       "      <td>0.0</td>\n",
       "      <td>0.0</td>\n",
       "      <td>0.0</td>\n",
       "      <td>0.0</td>\n",
       "      <td>0.0</td>\n",
       "      <td>0.0</td>\n",
       "      <td>0.0</td>\n",
       "      <td>...</td>\n",
       "      <td>0.0</td>\n",
       "      <td>0.0</td>\n",
       "      <td>0.0</td>\n",
       "      <td>0.0</td>\n",
       "      <td>0.0</td>\n",
       "      <td>0.0</td>\n",
       "      <td>0.0</td>\n",
       "      <td>0.0</td>\n",
       "      <td>0.0</td>\n",
       "      <td>0.0</td>\n",
       "    </tr>\n",
       "  </tbody>\n",
       "</table>\n",
       "<p>19915 rows × 107108 columns</p>\n",
       "</div>"
      ],
      "text/plain": [
       "        00  000  0000  00000  00000000  00000000000000000000000000003  00005  \\\n",
       "0      0.0  0.0   0.0    0.0       0.0                            0.0    0.0   \n",
       "1      0.0  0.0   0.0    0.0       0.0                            0.0    0.0   \n",
       "2      0.0  0.0   0.0    0.0       0.0                            0.0    0.0   \n",
       "3      0.0  0.0   0.0    0.0       0.0                            0.0    0.0   \n",
       "4      0.0  0.0   0.0    0.0       0.0                            0.0    0.0   \n",
       "...    ...  ...   ...    ...       ...                            ...    ...   \n",
       "19910  0.0  0.0   0.0    0.0       0.0                            0.0    0.0   \n",
       "19911  0.0  0.0   0.0    0.0       0.0                            0.0    0.0   \n",
       "19912  0.0  0.0   0.0    0.0       0.0                            0.0    0.0   \n",
       "19913  0.0  0.0   0.0    0.0       0.0                            0.0    0.0   \n",
       "19914  0.0  0.0   0.0    0.0       0.0                            0.0    0.0   \n",
       "\n",
       "       0001  0001g  0002  ...  zzzs  zzzzang  zzzzz  zzzzzz  zzzzzzzap  \\\n",
       "0       0.0    0.0   0.0  ...   0.0      0.0    0.0     0.0        0.0   \n",
       "1       0.0    0.0   0.0  ...   0.0      0.0    0.0     0.0        0.0   \n",
       "2       0.0    0.0   0.0  ...   0.0      0.0    0.0     0.0        0.0   \n",
       "3       0.0    0.0   0.0  ...   0.0      0.0    0.0     0.0        0.0   \n",
       "4       0.0    0.0   0.0  ...   0.0      0.0    0.0     0.0        0.0   \n",
       "...     ...    ...   ...  ...   ...      ...    ...     ...        ...   \n",
       "19910   0.0    0.0   0.0  ...   0.0      0.0    0.0     0.0        0.0   \n",
       "19911   0.0    0.0   0.0  ...   0.0      0.0    0.0     0.0        0.0   \n",
       "19912   0.0    0.0   0.0  ...   0.0      0.0    0.0     0.0        0.0   \n",
       "19913   0.0    0.0   0.0  ...   0.0      0.0    0.0     0.0        0.0   \n",
       "19914   0.0    0.0   0.0  ...   0.0      0.0    0.0     0.0        0.0   \n",
       "\n",
       "       zzzzzzzzz  zzzzzzzzzuuuuurrrrrrzzzz  zzzzzzzzzzzzzzzzzzzzzzzz  \\\n",
       "0            0.0                       0.0                       0.0   \n",
       "1            0.0                       0.0                       0.0   \n",
       "2            0.0                       0.0                       0.0   \n",
       "3            0.0                       0.0                       0.0   \n",
       "4            0.0                       0.0                       0.0   \n",
       "...          ...                       ...                       ...   \n",
       "19910        0.0                       0.0                       0.0   \n",
       "19911        0.0                       0.0                       0.0   \n",
       "19912        0.0                       0.0                       0.0   \n",
       "19913        0.0                       0.0                       0.0   \n",
       "19914        0.0                       0.0                       0.0   \n",
       "\n",
       "       zzzzzzzzzzzzzzzzzzzzzzzzzzzzzzzzzzzzzzzzz  \\\n",
       "0                                            0.0   \n",
       "1                                            0.0   \n",
       "2                                            0.0   \n",
       "3                                            0.0   \n",
       "4                                            0.0   \n",
       "...                                          ...   \n",
       "19910                                        0.0   \n",
       "19911                                        0.0   \n",
       "19912                                        0.0   \n",
       "19913                                        0.0   \n",
       "19914                                        0.0   \n",
       "\n",
       "       zzzzzzzzzzzzzzzzzzzzzzzzzzzzzzzzzzzzzzzzzzzzzzzzzzzzzzzzzzzzzzzzzzzzzzzzzzzzzzzzzzzzzzzzzzzzzzzzzzzzzzzzzzzzzzzzz  \n",
       "0                                                    0.0                                                                  \n",
       "1                                                    0.0                                                                  \n",
       "2                                                    0.0                                                                  \n",
       "3                                                    0.0                                                                  \n",
       "4                                                    0.0                                                                  \n",
       "...                                                  ...                                                                  \n",
       "19910                                                0.0                                                                  \n",
       "19911                                                0.0                                                                  \n",
       "19912                                                0.0                                                                  \n",
       "19913                                                0.0                                                                  \n",
       "19914                                                0.0                                                                  \n",
       "\n",
       "[19915 rows x 107108 columns]"
      ]
     },
     "execution_count": 40,
     "metadata": {},
     "output_type": "execute_result"
    }
   ],
   "source": [
    "# TFIDF Code\n",
    "# adapted from: https://towardsdatascience.com/understanding-feature-engineering-part-3-traditional-methods-for-text-data-f6f7d70acd41\n",
    "from sklearn.feature_extraction.text import TfidfVectorizer\n",
    "import numpy as np #TODO: remove\n",
    "\n",
    "tfidf_vectorizer = TfidfVectorizer(min_df=0., max_df=1., use_idf=True)\n",
    "dtm_tfidf = tfidf_vectorizer.fit_transform(norm_corpus)\n",
    "dtm_tfidf_nparr = dtm_tfidf.toarray()\n",
    "\n",
    "vocab = tfidf_vectorizer.get_feature_names()\n",
    "pd.DataFrame(np.round(dtm_tfidf_nparr, 2), columns=vocab)"
   ]
  },
  {
   "cell_type": "code",
   "execution_count": 42,
   "metadata": {
    "colab": {},
    "colab_type": "code",
    "id": "kp0vurC_Csz0"
   },
   "outputs": [],
   "source": [
    "# OPTIONAL\n",
    "## Use this cell as a template to save and load large data files; \n",
    "## replace filenames appropriately;\n",
    "\n",
    "import pickle\n",
    "\n",
    "### Stores the tokenized reports:\n",
    "with open('dtm_tfidf', 'wb') as out_file:\n",
    "    pickle.dump(dtm_tfidf, out_file)"
   ]
  },
  {
   "cell_type": "markdown",
   "metadata": {
    "colab_type": "text",
    "id": "SYmKZ_9BMFNk"
   },
   "source": [
    "\n",
    "### 5.4.3 Document Similarity matrix: Bag of Words\n",
    "\n",
    "We can use these vectorized representations of documents to ask: how similar are two documents? Or rather, how similar are any two trip reports to each other? With this question in mind, we can construct a similiarity matrix based on cosine similarity. Now, the following matrix is 19924 x 19924, and is very hard to visualize and interpret. Nevertheless, we include it here for completeness as one way to visualize the relationship between documents."
   ]
  },
  {
   "cell_type": "code",
   "execution_count": 23,
   "metadata": {
    "colab": {},
    "colab_type": "code",
    "id": "oHkteyrGMFNl",
    "outputId": "759871e7-380d-44a3-d64b-0a2dc05b529c",
    "scrolled": false
   },
   "outputs": [
    {
     "data": {
      "text/html": [
       "<div>\n",
       "<style scoped>\n",
       "    .dataframe tbody tr th:only-of-type {\n",
       "        vertical-align: middle;\n",
       "    }\n",
       "\n",
       "    .dataframe tbody tr th {\n",
       "        vertical-align: top;\n",
       "    }\n",
       "\n",
       "    .dataframe thead th {\n",
       "        text-align: right;\n",
       "    }\n",
       "</style>\n",
       "<table border=\"1\" class=\"dataframe\">\n",
       "  <thead>\n",
       "    <tr style=\"text-align: right;\">\n",
       "      <th></th>\n",
       "      <th>0</th>\n",
       "      <th>1</th>\n",
       "      <th>2</th>\n",
       "      <th>3</th>\n",
       "      <th>4</th>\n",
       "      <th>5</th>\n",
       "      <th>6</th>\n",
       "      <th>7</th>\n",
       "      <th>8</th>\n",
       "      <th>9</th>\n",
       "      <th>...</th>\n",
       "      <th>19905</th>\n",
       "      <th>19906</th>\n",
       "      <th>19907</th>\n",
       "      <th>19908</th>\n",
       "      <th>19909</th>\n",
       "      <th>19910</th>\n",
       "      <th>19911</th>\n",
       "      <th>19912</th>\n",
       "      <th>19913</th>\n",
       "      <th>19914</th>\n",
       "    </tr>\n",
       "  </thead>\n",
       "  <tbody>\n",
       "    <tr>\n",
       "      <th>0</th>\n",
       "      <td>1.000000</td>\n",
       "      <td>0.129403</td>\n",
       "      <td>0.090606</td>\n",
       "      <td>0.076207</td>\n",
       "      <td>0.131606</td>\n",
       "      <td>0.182589</td>\n",
       "      <td>0.127793</td>\n",
       "      <td>0.053275</td>\n",
       "      <td>0.083754</td>\n",
       "      <td>0.062670</td>\n",
       "      <td>...</td>\n",
       "      <td>0.066514</td>\n",
       "      <td>0.104057</td>\n",
       "      <td>0.102814</td>\n",
       "      <td>0.069361</td>\n",
       "      <td>0.142434</td>\n",
       "      <td>0.099802</td>\n",
       "      <td>0.108131</td>\n",
       "      <td>0.114546</td>\n",
       "      <td>0.249854</td>\n",
       "      <td>0.139503</td>\n",
       "    </tr>\n",
       "    <tr>\n",
       "      <th>1</th>\n",
       "      <td>0.129403</td>\n",
       "      <td>1.000000</td>\n",
       "      <td>0.074791</td>\n",
       "      <td>0.069993</td>\n",
       "      <td>0.112724</td>\n",
       "      <td>0.083869</td>\n",
       "      <td>0.096765</td>\n",
       "      <td>0.066576</td>\n",
       "      <td>0.069284</td>\n",
       "      <td>0.052974</td>\n",
       "      <td>...</td>\n",
       "      <td>0.045412</td>\n",
       "      <td>0.074807</td>\n",
       "      <td>0.089196</td>\n",
       "      <td>0.091391</td>\n",
       "      <td>0.079694</td>\n",
       "      <td>0.060976</td>\n",
       "      <td>0.071558</td>\n",
       "      <td>0.081604</td>\n",
       "      <td>0.134838</td>\n",
       "      <td>0.124417</td>\n",
       "    </tr>\n",
       "    <tr>\n",
       "      <th>2</th>\n",
       "      <td>0.090606</td>\n",
       "      <td>0.074791</td>\n",
       "      <td>1.000000</td>\n",
       "      <td>0.054994</td>\n",
       "      <td>0.082718</td>\n",
       "      <td>0.056025</td>\n",
       "      <td>0.065638</td>\n",
       "      <td>0.033547</td>\n",
       "      <td>0.091073</td>\n",
       "      <td>0.075035</td>\n",
       "      <td>...</td>\n",
       "      <td>0.035412</td>\n",
       "      <td>0.086487</td>\n",
       "      <td>0.063126</td>\n",
       "      <td>0.059490</td>\n",
       "      <td>0.067493</td>\n",
       "      <td>0.061073</td>\n",
       "      <td>0.039170</td>\n",
       "      <td>0.097778</td>\n",
       "      <td>0.117509</td>\n",
       "      <td>0.095866</td>\n",
       "    </tr>\n",
       "    <tr>\n",
       "      <th>3</th>\n",
       "      <td>0.076207</td>\n",
       "      <td>0.069993</td>\n",
       "      <td>0.054994</td>\n",
       "      <td>1.000000</td>\n",
       "      <td>0.056029</td>\n",
       "      <td>0.057267</td>\n",
       "      <td>0.083636</td>\n",
       "      <td>0.043510</td>\n",
       "      <td>0.053084</td>\n",
       "      <td>0.025352</td>\n",
       "      <td>...</td>\n",
       "      <td>0.022614</td>\n",
       "      <td>0.068686</td>\n",
       "      <td>0.046538</td>\n",
       "      <td>0.032515</td>\n",
       "      <td>0.092289</td>\n",
       "      <td>0.063296</td>\n",
       "      <td>0.061351</td>\n",
       "      <td>0.061448</td>\n",
       "      <td>0.083141</td>\n",
       "      <td>0.091039</td>\n",
       "    </tr>\n",
       "    <tr>\n",
       "      <th>4</th>\n",
       "      <td>0.131606</td>\n",
       "      <td>0.112724</td>\n",
       "      <td>0.082718</td>\n",
       "      <td>0.056029</td>\n",
       "      <td>1.000000</td>\n",
       "      <td>0.101215</td>\n",
       "      <td>0.109337</td>\n",
       "      <td>0.032008</td>\n",
       "      <td>0.077434</td>\n",
       "      <td>0.075994</td>\n",
       "      <td>...</td>\n",
       "      <td>0.039520</td>\n",
       "      <td>0.072239</td>\n",
       "      <td>0.073296</td>\n",
       "      <td>0.070536</td>\n",
       "      <td>0.100186</td>\n",
       "      <td>0.044890</td>\n",
       "      <td>0.053280</td>\n",
       "      <td>0.096490</td>\n",
       "      <td>0.153801</td>\n",
       "      <td>0.105303</td>\n",
       "    </tr>\n",
       "    <tr>\n",
       "      <th>...</th>\n",
       "      <td>...</td>\n",
       "      <td>...</td>\n",
       "      <td>...</td>\n",
       "      <td>...</td>\n",
       "      <td>...</td>\n",
       "      <td>...</td>\n",
       "      <td>...</td>\n",
       "      <td>...</td>\n",
       "      <td>...</td>\n",
       "      <td>...</td>\n",
       "      <td>...</td>\n",
       "      <td>...</td>\n",
       "      <td>...</td>\n",
       "      <td>...</td>\n",
       "      <td>...</td>\n",
       "      <td>...</td>\n",
       "      <td>...</td>\n",
       "      <td>...</td>\n",
       "      <td>...</td>\n",
       "      <td>...</td>\n",
       "      <td>...</td>\n",
       "    </tr>\n",
       "    <tr>\n",
       "      <th>19910</th>\n",
       "      <td>0.099802</td>\n",
       "      <td>0.060976</td>\n",
       "      <td>0.061073</td>\n",
       "      <td>0.063296</td>\n",
       "      <td>0.044890</td>\n",
       "      <td>0.066234</td>\n",
       "      <td>0.056905</td>\n",
       "      <td>0.045736</td>\n",
       "      <td>0.072816</td>\n",
       "      <td>0.065657</td>\n",
       "      <td>...</td>\n",
       "      <td>0.070000</td>\n",
       "      <td>0.069395</td>\n",
       "      <td>0.039919</td>\n",
       "      <td>0.027552</td>\n",
       "      <td>0.050104</td>\n",
       "      <td>1.000000</td>\n",
       "      <td>0.047993</td>\n",
       "      <td>0.079484</td>\n",
       "      <td>0.132438</td>\n",
       "      <td>0.082157</td>\n",
       "    </tr>\n",
       "    <tr>\n",
       "      <th>19911</th>\n",
       "      <td>0.108131</td>\n",
       "      <td>0.071558</td>\n",
       "      <td>0.039170</td>\n",
       "      <td>0.061351</td>\n",
       "      <td>0.053280</td>\n",
       "      <td>0.056859</td>\n",
       "      <td>0.082844</td>\n",
       "      <td>0.025499</td>\n",
       "      <td>0.059631</td>\n",
       "      <td>0.047284</td>\n",
       "      <td>...</td>\n",
       "      <td>0.025946</td>\n",
       "      <td>0.045970</td>\n",
       "      <td>0.084686</td>\n",
       "      <td>0.046478</td>\n",
       "      <td>0.046292</td>\n",
       "      <td>0.047993</td>\n",
       "      <td>1.000000</td>\n",
       "      <td>0.069105</td>\n",
       "      <td>0.085936</td>\n",
       "      <td>0.096486</td>\n",
       "    </tr>\n",
       "    <tr>\n",
       "      <th>19912</th>\n",
       "      <td>0.114546</td>\n",
       "      <td>0.081604</td>\n",
       "      <td>0.097778</td>\n",
       "      <td>0.061448</td>\n",
       "      <td>0.096490</td>\n",
       "      <td>0.111927</td>\n",
       "      <td>0.101830</td>\n",
       "      <td>0.042317</td>\n",
       "      <td>0.086267</td>\n",
       "      <td>0.081419</td>\n",
       "      <td>...</td>\n",
       "      <td>0.067819</td>\n",
       "      <td>0.099276</td>\n",
       "      <td>0.078544</td>\n",
       "      <td>0.060953</td>\n",
       "      <td>0.088289</td>\n",
       "      <td>0.079484</td>\n",
       "      <td>0.069105</td>\n",
       "      <td>1.000000</td>\n",
       "      <td>0.141255</td>\n",
       "      <td>0.104590</td>\n",
       "    </tr>\n",
       "    <tr>\n",
       "      <th>19913</th>\n",
       "      <td>0.249854</td>\n",
       "      <td>0.134838</td>\n",
       "      <td>0.117509</td>\n",
       "      <td>0.083141</td>\n",
       "      <td>0.153801</td>\n",
       "      <td>0.181383</td>\n",
       "      <td>0.145912</td>\n",
       "      <td>0.060385</td>\n",
       "      <td>0.089602</td>\n",
       "      <td>0.094643</td>\n",
       "      <td>...</td>\n",
       "      <td>0.080443</td>\n",
       "      <td>0.113990</td>\n",
       "      <td>0.112793</td>\n",
       "      <td>0.082094</td>\n",
       "      <td>0.162667</td>\n",
       "      <td>0.132438</td>\n",
       "      <td>0.085936</td>\n",
       "      <td>0.141255</td>\n",
       "      <td>1.000000</td>\n",
       "      <td>0.154128</td>\n",
       "    </tr>\n",
       "    <tr>\n",
       "      <th>19914</th>\n",
       "      <td>0.139503</td>\n",
       "      <td>0.124417</td>\n",
       "      <td>0.095866</td>\n",
       "      <td>0.091039</td>\n",
       "      <td>0.105303</td>\n",
       "      <td>0.093093</td>\n",
       "      <td>0.148827</td>\n",
       "      <td>0.039383</td>\n",
       "      <td>0.085033</td>\n",
       "      <td>0.049296</td>\n",
       "      <td>...</td>\n",
       "      <td>0.054736</td>\n",
       "      <td>0.073996</td>\n",
       "      <td>0.121743</td>\n",
       "      <td>0.071608</td>\n",
       "      <td>0.091691</td>\n",
       "      <td>0.082157</td>\n",
       "      <td>0.096486</td>\n",
       "      <td>0.104590</td>\n",
       "      <td>0.154128</td>\n",
       "      <td>1.000000</td>\n",
       "    </tr>\n",
       "  </tbody>\n",
       "</table>\n",
       "<p>19915 rows × 19915 columns</p>\n",
       "</div>"
      ],
      "text/plain": [
       "          0         1         2         3         4         5         6      \\\n",
       "0      1.000000  0.129403  0.090606  0.076207  0.131606  0.182589  0.127793   \n",
       "1      0.129403  1.000000  0.074791  0.069993  0.112724  0.083869  0.096765   \n",
       "2      0.090606  0.074791  1.000000  0.054994  0.082718  0.056025  0.065638   \n",
       "3      0.076207  0.069993  0.054994  1.000000  0.056029  0.057267  0.083636   \n",
       "4      0.131606  0.112724  0.082718  0.056029  1.000000  0.101215  0.109337   \n",
       "...         ...       ...       ...       ...       ...       ...       ...   \n",
       "19910  0.099802  0.060976  0.061073  0.063296  0.044890  0.066234  0.056905   \n",
       "19911  0.108131  0.071558  0.039170  0.061351  0.053280  0.056859  0.082844   \n",
       "19912  0.114546  0.081604  0.097778  0.061448  0.096490  0.111927  0.101830   \n",
       "19913  0.249854  0.134838  0.117509  0.083141  0.153801  0.181383  0.145912   \n",
       "19914  0.139503  0.124417  0.095866  0.091039  0.105303  0.093093  0.148827   \n",
       "\n",
       "          7         8         9      ...     19905     19906     19907  \\\n",
       "0      0.053275  0.083754  0.062670  ...  0.066514  0.104057  0.102814   \n",
       "1      0.066576  0.069284  0.052974  ...  0.045412  0.074807  0.089196   \n",
       "2      0.033547  0.091073  0.075035  ...  0.035412  0.086487  0.063126   \n",
       "3      0.043510  0.053084  0.025352  ...  0.022614  0.068686  0.046538   \n",
       "4      0.032008  0.077434  0.075994  ...  0.039520  0.072239  0.073296   \n",
       "...         ...       ...       ...  ...       ...       ...       ...   \n",
       "19910  0.045736  0.072816  0.065657  ...  0.070000  0.069395  0.039919   \n",
       "19911  0.025499  0.059631  0.047284  ...  0.025946  0.045970  0.084686   \n",
       "19912  0.042317  0.086267  0.081419  ...  0.067819  0.099276  0.078544   \n",
       "19913  0.060385  0.089602  0.094643  ...  0.080443  0.113990  0.112793   \n",
       "19914  0.039383  0.085033  0.049296  ...  0.054736  0.073996  0.121743   \n",
       "\n",
       "          19908     19909     19910     19911     19912     19913     19914  \n",
       "0      0.069361  0.142434  0.099802  0.108131  0.114546  0.249854  0.139503  \n",
       "1      0.091391  0.079694  0.060976  0.071558  0.081604  0.134838  0.124417  \n",
       "2      0.059490  0.067493  0.061073  0.039170  0.097778  0.117509  0.095866  \n",
       "3      0.032515  0.092289  0.063296  0.061351  0.061448  0.083141  0.091039  \n",
       "4      0.070536  0.100186  0.044890  0.053280  0.096490  0.153801  0.105303  \n",
       "...         ...       ...       ...       ...       ...       ...       ...  \n",
       "19910  0.027552  0.050104  1.000000  0.047993  0.079484  0.132438  0.082157  \n",
       "19911  0.046478  0.046292  0.047993  1.000000  0.069105  0.085936  0.096486  \n",
       "19912  0.060953  0.088289  0.079484  0.069105  1.000000  0.141255  0.104590  \n",
       "19913  0.082094  0.162667  0.132438  0.085936  0.141255  1.000000  0.154128  \n",
       "19914  0.071608  0.091691  0.082157  0.096486  0.104590  0.154128  1.000000  \n",
       "\n",
       "[19915 rows x 19915 columns]"
      ]
     },
     "execution_count": 23,
     "metadata": {},
     "output_type": "execute_result"
    }
   ],
   "source": [
    "# Adapted from https://towardsdatascience.com/understanding-feature-engineering-part-3-traditional-methods-for-text-data-f6f7d70acd41\n",
    "from sklearn.metrics.pairwise import cosine_similarity\n",
    "\n",
    "similarity_matrix_tfidf = cosine_similarity(dtm_tfidf)\n",
    "similarity_tfidf_df = pd.DataFrame(similarity_matrix_tfidf)\n",
    "similarity_tfidf_df"
   ]
  },
  {
   "cell_type": "code",
   "execution_count": 0,
   "metadata": {
    "colab": {},
    "colab_type": "code",
    "collapsed": true,
    "id": "TvfP-UrwCsz4"
   },
   "outputs": [],
   "source": [
    "# OPTIONAL\n",
    "with open('similarity-matrix_dtm_tfidf', 'wb') as out_file:\n",
    "    pickle.dump(similarity_tfidf_df, out_file)"
   ]
  },
  {
   "cell_type": "markdown",
   "metadata": {
    "colab_type": "text",
    "id": "EmAqQ_CAMFNo"
   },
   "source": [
    "### 5.6.4: Beyond Feature Engineering\n",
    "`TODO`\n",
    "\n",
    "- Autoencoders\n",
    "- Automatic Feature Selection\n",
    "- Regularization"
   ]
  },
  {
   "cell_type": "markdown",
   "metadata": {
    "colab_type": "text",
    "id": "i0-9Bn6nMFNp"
   },
   "source": [
    "\n",
    "<br /> \n",
    "<br /> \n",
    "<br /> \n",
    "<br /> \n",
    "<br /> \n",
    "<br /> \n",
    "<br /> \n",
    "<br /> \n",
    "<br /> \n",
    "<br /> \n",
    "<br /> \n",
    "<br /> \n",
    "<br /> \n",
    "<br /> \n",
    "<br /> \n",
    "<br /> \n",
    "<br /> "
   ]
  },
  {
   "cell_type": "markdown",
   "metadata": {
    "colab_type": "text",
    "id": "yRkZNK_qMFNr"
   },
   "source": [
    "# 6. Topic Modeling with Latent Dirichlet Allocation (LDA)\n",
    "\n",
    "`TODO`\n",
    "\n",
    "- Topic modelling with `Latent Dirichlet Allocation (LDA)`; see [`sklearn example`](https://scikit-learn.org/stable/auto_examples/applications/plot_topics_extraction_with_nmf_lda.html#sphx-glr-auto-examples-applications-plot-topics-extraction-with-nmf-lda-py) which uses `LDA` and `Non-negative matrix factorization (NMF)`; Also see [`LDA Documentation`](https://scikit-learn.org/stable/modules/generated/sklearn.decomposition.LatentDirichletAllocation.html#sklearn.decomposition.LatentDirichletAllocation); Also see `gensim` package\n",
    "- As per conversation with Lyle Ungar, `LDA` can also give me document and word embeddings which can be used in wordclouds.\n",
    "- [Excellent Talk by Christine Doig on Topic Models](http://chdoig.github.io/pygotham-topic-modeling/#/)\n",
    "- [Blei 2012: Probabilistic Topic Models](http://www.cs.columbia.edu/~blei/papers/Blei2012.pdf); [local-link](./papers/Blei2012_Probabilistic-Topic-Models.pdf)\n",
    "- TODO: Latent Semantic Indexing (singular value decomposition)\n",
    "- TODO: Non-negative Matrix factorization (NMF)\n",
    "- LDA gives us two things:\n",
    "    - A document-topic matrix, which can be used as an input to wordcloud\n",
    "    - A topic-term matrix, which helps us in looking at potential topics in the corpus.\n",
    "\n",
    "- **TODO**: Explain how `Latent Dirichlet Allocation (LDA)` works; see Blei 2012 and Christine Doig's talk.\n",
    "- TODO: Investigate how to choose the number of topics, which apparently is an art in itself\n",
    "- LDA Visualizations:\n",
    "    - [LDAvis R Package](https://github.com/cpsievert/LDAvis)\n",
    "    - [LDAvis port Python Package](https://github.com/bmabey/pyLDAvis)\n",
    "- [Example LDA visualization Jupyter Notebook](https://nbviewer.jupyter.org/github/bmabey/hacker_news_topic_modelling/blob/master/HN%20Topic%20Model%20Talk.ipynb#topic=0&lambda=1&term=)\n",
    "- [In depth PyLDAvis python tutorial](https://nbviewer.jupyter.org/github/bmabey/pyLDAvis/blob/master/notebooks/pyLDAvis_overview.ipynb)\n",
    "\n",
    "![LDA Pipeline](./images/infographic_lda-pipeline-chdoig.png)\n"
   ]
  },
  {
   "cell_type": "markdown",
   "metadata": {
    "colab_type": "text",
    "id": "effsJXdgMFNs"
   },
   "source": [
    "## 6.1 Latent Dirichlet Allocation: An Introduction\n",
    "\n",
    "Latent Dirichlet Allocation (LDA) has fancy sounding name, and the inner workings are indeed fairly complex, but what it does is quite intuitive: LDA attempts to (1) automatically discover topics from a collection of documents, and (2) model each document in that collection as exhibiting multiple topics in diffrent proportions (Blei 2012). Intuitively, one can imagine that a document such as a blog post, wikipedia article, or in our case, a psychedelic trip report, might consist of numerous `topics` — a news article published in the New York Times might talk about extreme weather, deforestration, and climate change, when covering say, a hurricane; a psychedelic trip report might talk about time, experiences with nature, or feelings of bliss. So what *is* a `topic`? Each `topic` is precisely a list of words that approximate that particular topic. For example, the following lists of words represent 4 topics extracted automatically from the Journal __Science__, where each topic is a list of words (Blei 2012, Fig 2):\n",
    "\n",
    "- `topic1`: human genome dna genetic genes sequence gene molecular sequencing map information genetics mapping project sequences\n",
    "- `topic2`: evolution evolutionary species organisms life origin biology groups phylogenetic living diversity group new two common\n",
    "- `topic3`: disease host bacteria diseases resistance bacterial new strains control infectious malaria parasite parasites united tuberculosis\n",
    "- `topic4`: computer models information data computers system network systems model parallel methods networks software new simulations\n",
    "\n",
    "It should be noted that since LDA is an unsupervised technique, we don't require our input text documents have topic labels. Instead, LDA processes our collection of text documents, and extracts topics automatically. Notice also that the topics discovered don't have \"names\" by themselves; by looking at the list of words associated with each topic above, it is reasonable to say `topic1` is approximately \"genetics\", `topic2` is approximately \"evoluation\", `topic 3` is approximately \"disease\", and `topic4` is approximately \"computers\"; in practice the labelling of topics can either by done by humans, or by automatically taking a word that is most \"relavent\" to that topic as the label, by some sensible definition of \"relavence\". Indeed, the above word list are sorted from most relavent to least relavent for each topic. The notion of \"relavence\" has a precise definition, which we defer to Section 6.3.\n",
    "\n",
    "\n",
    "This beautiful graphic presented by Blei 2012 helps us further the intuition of how each document can exhibit multiple topics:\n",
    "\n",
    "![LDA Intution: Each Document has Multiple Topics](./images/infographic_lda-intuition-blei2012.png)\n",
    "\n",
    "\n",
    "Now, before we dive deeper into the inner workings of LDA, let's take a look at the LDA topic modelling pipeline, lest we lose track of the big picture:\n",
    "\n",
    "![LDA Pipeline](./images/infographic_lda-pipeline-adpated-choig.png)\n",
    "\n",
    "As we can see, we have the collection of $D$ documents (i.e.: trip reports from Erowid), each with some $N_j$ words, which was obtained via processes described in *Section 3: Data Aquisision*. In *Section 4: Data Cleaning and Exploratory Data Analysis (EDA)*, we processed our documents using an array of pre-processing techniques such as tokenization and stopwords removal. In *Section 5: Text Representation and Feature Engineering*, we created vector representations of documents through a variety of methods, including the naive (but fairly effective) term-document counts, along with tf-idf weighting, both of which fall under \"Bag of Words (BOW)\" methods. And now, in this section, we use LDA to create a topic model to capture the topics representd in our collection of trip reports. It should be noted that LDA is not the only topic model available to modern data scientists. Other methods include Non-negative Matrix Fatorization (NMF) and Probabilistic Latent Semantic Analysis (pLSI), which we note here but do not dive deeply into to maintain thesis scope. For those familiar with singular value decomposition (SVD): both NMF, and pLSI relate deeply to SVD of the term-document matrix. Furthermore, \"LDA can also be seen as a type of principal component analysis (PCA) for discrete data\" (Blei 2012).\n",
    "\n",
    "Now, we are ready dive deeper into what LDA does. Let us begin with an infographic for intuition:\n",
    "\n",
    "\n",
    "![LDA Overview](./images/infographic_lda-overview-adapted-choig.png)\n",
    "\n",
    "## 6.2 The Input to LDA\n",
    "\n",
    "LDA takes as input a collection of text documents, which has been preprocessed and vectorized. Note that the format of these text documents isn't set in stone, but most commonly for LDA implementation we have a $D$ x $m$ matrix, where each row represents a document $d$, represented by a $m$-dimensional document vector embedding. We discussed many document vector embeddings in Section 5. For ease, we can use the tf-idf weighted term-document counts.\n",
    "\n",
    "For concreteness, below is the vectorized representation of the first 6 documents in our corpus:\n",
    "\n"
   ]
  },
  {
   "cell_type": "code",
   "execution_count": 0,
   "metadata": {
    "colab": {},
    "colab_type": "code",
    "id": "dlBr4l9BCsz9",
    "outputId": "fac3ba4e-bd61-44ff-ed6c-4c684b6ad106"
   },
   "outputs": [
    {
     "data": {
      "text/html": [
       "<div>\n",
       "<style scoped>\n",
       "    .dataframe tbody tr th:only-of-type {\n",
       "        vertical-align: middle;\n",
       "    }\n",
       "\n",
       "    .dataframe tbody tr th {\n",
       "        vertical-align: top;\n",
       "    }\n",
       "\n",
       "    .dataframe thead th {\n",
       "        text-align: right;\n",
       "    }\n",
       "</style>\n",
       "<table border=\"1\" class=\"dataframe\">\n",
       "  <thead>\n",
       "    <tr style=\"text-align: right;\">\n",
       "      <th></th>\n",
       "      <th>00</th>\n",
       "      <th>000</th>\n",
       "      <th>0000</th>\n",
       "      <th>00000</th>\n",
       "      <th>00000000</th>\n",
       "      <th>00000000000000000000000000003</th>\n",
       "      <th>00005</th>\n",
       "      <th>0001</th>\n",
       "      <th>0001g</th>\n",
       "      <th>0002</th>\n",
       "      <th>...</th>\n",
       "      <th>zzzs</th>\n",
       "      <th>zzzzang</th>\n",
       "      <th>zzzzz</th>\n",
       "      <th>zzzzzz</th>\n",
       "      <th>zzzzzzzap</th>\n",
       "      <th>zzzzzzzzz</th>\n",
       "      <th>zzzzzzzzzuuuuurrrrrrzzzz</th>\n",
       "      <th>zzzzzzzzzzzzzzzzzzzzzzzz</th>\n",
       "      <th>zzzzzzzzzzzzzzzzzzzzzzzzzzzzzzzzzzzzzzzzz</th>\n",
       "      <th>zzzzzzzzzzzzzzzzzzzzzzzzzzzzzzzzzzzzzzzzzzzzzzzzzzzzzzzzzzzzzzzzzzzzzzzzzzzzzzzzzzzzzzzzzzzzzzzzzzzzzzzzzzzzzzzzz</th>\n",
       "    </tr>\n",
       "  </thead>\n",
       "  <tbody>\n",
       "    <tr>\n",
       "      <th>0</th>\n",
       "      <td>0.0</td>\n",
       "      <td>0.0</td>\n",
       "      <td>0.0</td>\n",
       "      <td>0.0</td>\n",
       "      <td>0.0</td>\n",
       "      <td>0.0</td>\n",
       "      <td>0.0</td>\n",
       "      <td>0.0</td>\n",
       "      <td>0.0</td>\n",
       "      <td>0.0</td>\n",
       "      <td>...</td>\n",
       "      <td>0.0</td>\n",
       "      <td>0.0</td>\n",
       "      <td>0.0</td>\n",
       "      <td>0.0</td>\n",
       "      <td>0.0</td>\n",
       "      <td>0.0</td>\n",
       "      <td>0.0</td>\n",
       "      <td>0.0</td>\n",
       "      <td>0.0</td>\n",
       "      <td>0.0</td>\n",
       "    </tr>\n",
       "    <tr>\n",
       "      <th>1</th>\n",
       "      <td>0.0</td>\n",
       "      <td>0.0</td>\n",
       "      <td>0.0</td>\n",
       "      <td>0.0</td>\n",
       "      <td>0.0</td>\n",
       "      <td>0.0</td>\n",
       "      <td>0.0</td>\n",
       "      <td>0.0</td>\n",
       "      <td>0.0</td>\n",
       "      <td>0.0</td>\n",
       "      <td>...</td>\n",
       "      <td>0.0</td>\n",
       "      <td>0.0</td>\n",
       "      <td>0.0</td>\n",
       "      <td>0.0</td>\n",
       "      <td>0.0</td>\n",
       "      <td>0.0</td>\n",
       "      <td>0.0</td>\n",
       "      <td>0.0</td>\n",
       "      <td>0.0</td>\n",
       "      <td>0.0</td>\n",
       "    </tr>\n",
       "    <tr>\n",
       "      <th>2</th>\n",
       "      <td>0.0</td>\n",
       "      <td>0.0</td>\n",
       "      <td>0.0</td>\n",
       "      <td>0.0</td>\n",
       "      <td>0.0</td>\n",
       "      <td>0.0</td>\n",
       "      <td>0.0</td>\n",
       "      <td>0.0</td>\n",
       "      <td>0.0</td>\n",
       "      <td>0.0</td>\n",
       "      <td>...</td>\n",
       "      <td>0.0</td>\n",
       "      <td>0.0</td>\n",
       "      <td>0.0</td>\n",
       "      <td>0.0</td>\n",
       "      <td>0.0</td>\n",
       "      <td>0.0</td>\n",
       "      <td>0.0</td>\n",
       "      <td>0.0</td>\n",
       "      <td>0.0</td>\n",
       "      <td>0.0</td>\n",
       "    </tr>\n",
       "    <tr>\n",
       "      <th>3</th>\n",
       "      <td>0.0</td>\n",
       "      <td>0.0</td>\n",
       "      <td>0.0</td>\n",
       "      <td>0.0</td>\n",
       "      <td>0.0</td>\n",
       "      <td>0.0</td>\n",
       "      <td>0.0</td>\n",
       "      <td>0.0</td>\n",
       "      <td>0.0</td>\n",
       "      <td>0.0</td>\n",
       "      <td>...</td>\n",
       "      <td>0.0</td>\n",
       "      <td>0.0</td>\n",
       "      <td>0.0</td>\n",
       "      <td>0.0</td>\n",
       "      <td>0.0</td>\n",
       "      <td>0.0</td>\n",
       "      <td>0.0</td>\n",
       "      <td>0.0</td>\n",
       "      <td>0.0</td>\n",
       "      <td>0.0</td>\n",
       "    </tr>\n",
       "    <tr>\n",
       "      <th>4</th>\n",
       "      <td>0.0</td>\n",
       "      <td>0.0</td>\n",
       "      <td>0.0</td>\n",
       "      <td>0.0</td>\n",
       "      <td>0.0</td>\n",
       "      <td>0.0</td>\n",
       "      <td>0.0</td>\n",
       "      <td>0.0</td>\n",
       "      <td>0.0</td>\n",
       "      <td>0.0</td>\n",
       "      <td>...</td>\n",
       "      <td>0.0</td>\n",
       "      <td>0.0</td>\n",
       "      <td>0.0</td>\n",
       "      <td>0.0</td>\n",
       "      <td>0.0</td>\n",
       "      <td>0.0</td>\n",
       "      <td>0.0</td>\n",
       "      <td>0.0</td>\n",
       "      <td>0.0</td>\n",
       "      <td>0.0</td>\n",
       "    </tr>\n",
       "  </tbody>\n",
       "</table>\n",
       "<p>5 rows × 107108 columns</p>\n",
       "</div>"
      ],
      "text/plain": [
       "    00  000  0000  00000  00000000  00000000000000000000000000003  00005  \\\n",
       "0  0.0  0.0   0.0    0.0       0.0                            0.0    0.0   \n",
       "1  0.0  0.0   0.0    0.0       0.0                            0.0    0.0   \n",
       "2  0.0  0.0   0.0    0.0       0.0                            0.0    0.0   \n",
       "3  0.0  0.0   0.0    0.0       0.0                            0.0    0.0   \n",
       "4  0.0  0.0   0.0    0.0       0.0                            0.0    0.0   \n",
       "\n",
       "   0001  0001g  0002  ...  zzzs  zzzzang  zzzzz  zzzzzz  zzzzzzzap  zzzzzzzzz  \\\n",
       "0   0.0    0.0   0.0  ...   0.0      0.0    0.0     0.0        0.0        0.0   \n",
       "1   0.0    0.0   0.0  ...   0.0      0.0    0.0     0.0        0.0        0.0   \n",
       "2   0.0    0.0   0.0  ...   0.0      0.0    0.0     0.0        0.0        0.0   \n",
       "3   0.0    0.0   0.0  ...   0.0      0.0    0.0     0.0        0.0        0.0   \n",
       "4   0.0    0.0   0.0  ...   0.0      0.0    0.0     0.0        0.0        0.0   \n",
       "\n",
       "   zzzzzzzzzuuuuurrrrrrzzzz  zzzzzzzzzzzzzzzzzzzzzzzz  \\\n",
       "0                       0.0                       0.0   \n",
       "1                       0.0                       0.0   \n",
       "2                       0.0                       0.0   \n",
       "3                       0.0                       0.0   \n",
       "4                       0.0                       0.0   \n",
       "\n",
       "   zzzzzzzzzzzzzzzzzzzzzzzzzzzzzzzzzzzzzzzzz  \\\n",
       "0                                        0.0   \n",
       "1                                        0.0   \n",
       "2                                        0.0   \n",
       "3                                        0.0   \n",
       "4                                        0.0   \n",
       "\n",
       "   zzzzzzzzzzzzzzzzzzzzzzzzzzzzzzzzzzzzzzzzzzzzzzzzzzzzzzzzzzzzzzzzzzzzzzzzzzzzzzzzzzzzzzzzzzzzzzzzzzzzzzzzzzzzzzzzz  \n",
       "0                                                0.0                                                                  \n",
       "1                                                0.0                                                                  \n",
       "2                                                0.0                                                                  \n",
       "3                                                0.0                                                                  \n",
       "4                                                0.0                                                                  \n",
       "\n",
       "[5 rows x 107108 columns]"
      ]
     },
     "execution_count": 36,
     "metadata": {
      "tags": []
     },
     "output_type": "execute_result"
    }
   ],
   "source": [
    "# First 5 rows of our tf-idf weighted document-term matrix\n",
    "# each row represents a document\n",
    "# each column is a term, or \"features\"\n",
    "pd.DataFrame(np.round(dtm_tfidf_nparr, 2), columns=vocab).head()\n",
    "\n",
    "# wierdly enough, this following does not work; has to do with sparse vs. dense representations\n",
    "# pd.DataFrame(np.round(dtm_tfidf, 2), columns=vocab).head()"
   ]
  },
  {
   "cell_type": "code",
   "execution_count": 0,
   "metadata": {
    "colab": {},
    "colab_type": "code",
    "id": "B5gOiniQCs0G",
    "outputId": "c8647b66-4fd4-49d5-feaf-f5f9b338c0f2"
   },
   "outputs": [
    {
     "data": {
      "text/plain": [
       "(19915, 107108)"
      ]
     },
     "execution_count": 37,
     "metadata": {
      "tags": []
     },
     "output_type": "execute_result"
    }
   ],
   "source": [
    "# Using the document-term matrix with tfidf weighting, our input is D x m, where D = 19915, the number of documents\n",
    "# and m = 107108, or V, the size of our vocabulary\n",
    "dtm_tfidf_nparr.shape"
   ]
  },
  {
   "cell_type": "markdown",
   "metadata": {
    "colab_type": "text",
    "id": "Pv5Zd2vVCs0I"
   },
   "source": [
    "## 6.3 The Output of LDA\n",
    "\n",
    "\n",
    "Referring to the picture above, LDA gives us three things:\n",
    "- K topics, where each topic is a collection (cluster) of words; note that most of the time K is prespecified by the user. This is where expert knowledge of a particular field can come in very handy\n",
    "- A topic-term matrix (`ttm`), a $K$ x $V$ matrix, which specifies a word distribution for each topic k; in other words, since each topic is a collection of words, it makes sense that some words are more \"representative\" of some topic $k$ than other words. In this way, each topic has a distribution over words.\n",
    "- A document-topic matrix (`dtopm`), a $D$ x $K$ matrix, which specifies a topic distribution for each document $d$; in other words, since we can understand each document as having multiple topics, it makes sense that some topics are more saliently present in a document as its \"main topics / main themes\". Since this document-topic matrix is a vectorized representation of the doucments, it could also be used as an input to wordcloud, or as a feature for other machine learning algorithms, as briefly mentioned in Section 5.5."
   ]
  },
  {
   "cell_type": "markdown",
   "metadata": {},
   "source": [
    "\n",
    "## 6.4 The Details of LDA\n",
    "\n",
    "For the reader interested in how LDA works, we present a more technical treatment of LDA here, which is heavily drawn from Blei 2012 and [Christine Choig's Lecture Slides](http://chdoig.github.io/pygotham-topic-modeling/#/)\n",
    "\n",
    "Firstly, we note that the topic structure of our documents is *latent* (i.e.: hidden, unobserved). We *only* observe the documents and words themselves. \n",
    "\n",
    "As such, LDA attempts to infer the hidden topic structure from the observed documents. Formally, LDA tries to compute the posterior distribution, or conditional distribution of the hidden structure given the observed documents. In Blei's words: _\"what is the hidden structure that likely generated the observed collection?\"_\n",
    "\n",
    "![LDA Overview with Details](./images/infographic_lda-details-adapted-choig-blei2012.png)\n",
    "\n",
    "To describe LDA formally, we introduce the following notation and (adpated) explanations from Blei 2012 to maintain consistency with standard notation:\n",
    "- $D$, an fixed integer, representing the number of documents in our corpus\n",
    "- $V$, a fixed integer, representing the vocaulary size, i.e.: the number of unique tokens in our corpus\n",
    "- Topics $\\beta_{1:K}$ (`K x 1` vector), where each `topic` $\\beta_k$ is a (discrete) distribution over the vocabulary. Recall that a `topic` $k$ is a list of words, some of which are more \"relavent\" than others for the given topic $k$; in this way, each topic $\\beta_k$ is a discrete distribution over the vocabulary.\n",
    "- Documents $\\theta_{1:D}$, where document $\\theta_d$ is a (discrete) topic distribution of the $d$-th document. $\\theta_{d, k}$ (`real number` $\\in [0, 1]$) represents the proportion of topic $k$ in the $d$-th document. Recall that if we have $K$ topics, each document is modelled as a mix of these K topics, each topic with some proportion between 0 and 1. This allows us to make statements such as \"this document is 80 percent about time, 18 percent about genetics, and 2 percent about other micellaneous topics\".\n",
    "- The topic assignments for the $d$-th document are $z_d$(`n x 1 vector`), where $z_{d,n}$ (`integer` $\\in [0, K]$) is the topic assignment for the $n$th word in document $d$; Recall that each document is thought of as a mixture of $K$ topics, each with some proportion between 0 and 1. One way to get this proportion is by conceptualizing each word $n$ in a document $d$ as having a topic $k$, and the proportion of words \"with\" topic $k$ is the proporition of topic $k$ in document $d$\n",
    "- The observed words for document $d$ are $w_d$, where $w_{d,n}$ is the $n$th word in document $d$\n",
    "\n",
    "The full joint probability distribution modelled by LDA is given by:\n",
    "\n",
    "$$ p( \\beta_{1:K}, \\theta_{1, D}, z_{1:D}, w_{1:D}) = \\prod_{i=1}^{K}p(\\beta_i)\\prod_{d=1}^D p(\\theta_d) \\left( \\prod_{n=1}^N p(z_{d, n} | \\theta_d)p(w_{d, n} | \\beta_{1:K}, z_{d, n}) \\right)$$\n",
    "\n",
    "\n",
    "Recall that LDA infers the hidden topic structure by modelling the conditional distribution of the hidden structure given the observed documents. Formally, LDA is modelling:\n",
    "\n",
    "$$p( \\beta_{1:K}, \\theta_{d, k}, z_{1:D} | w_{1:D}) = \\cfrac{p( \\beta_{1:K}, \\theta_{d, k}, z_{1:D}, w_{1:D})}{w_{1:D}}$$\n",
    "\n",
    "The numerator, or joint probability distribution over all the random variables, is straightforward to compute, but the denominator, obtained by margininalizing over all latent topic structures, is exponentially large and intractible to compute (Blei 2012). As such, LDA is approximately in two main ways, through sampling-based algorithms and variational algorithms (Blei 2012). A sampling-based algorithm constructs an approximation of the posterior, and repeatedly draws samples from this approximation so in the limit converges to the true posterior distribution, and is non-deterministic. The most popular sampling-based algorithm is Gibbs Sampling. Variational methods are deterministic algorithms. They pre-suppose that the posterior distribution is from a parametrized family of distributions (e.g.: a bell curve that's centered or off center, narrowerer or flatter, depending on the parameters of mean and variance). This makes variational methods an optimization problem as it tries to find the parameters that define a distribution closest to the posterior distribution. Here, closeness is measured by Kullback Liebler Divergence (KL-Divergence), which takes as input two distributions (order matters) and returns a real valued measure of closeness.\n",
    "\n",
    "Assumptions of LDA:\n",
    "- Bag of words assumption, that ordering of words in the document doesn't matter. We have seen two examples: term-document counts and tf-idf weighting.\n",
    "- Ordering of documents don't matter; this is fairly realistic, unless we are modelling changes in topic over time. This can be an interesting area of further research in a followup study, where we can compare trip reports of the 1960's with those of the 21st century, to examine if and how the topics present in trip reports have evolved. Indeed, one can conceive that the 1960's may be marked by hippie culture, and extending the analysis through the dimension of time may reveal cultural around psychedelic substances. See below for an example from Blei 2012 for a dynamic LDA model examining how the topics in the journal Science has evolved through time.\n",
    "- The number of topics K is assumed to be fixed. To account for chaning number of topics, one can turn to Bayesian non-parametric topic models, which is outside the scope of this thesis.\n",
    "\n",
    "Topic Model Extensions, and Future Research Areas:\n",
    "See Wallach, Griffiths et al. for models that relax the bag of words assumptions use words conditioned on previous words and LDA in conjunction with a hidden markov model (HMM), which lead to improved performance. (todo sources). Other types of topic models include (Blei 2012): correlated topic model and pachinko allocation machine, which account for correlations between topics (e.g.: machine learning and statistics may be more correlated than machine learning and penguins; the spherical topic model allows words to be unlikely in a topic (for example, \"coconuts\" is unlikely in documents about watches); sparse topic models and “bursty” topic models respectively impose more constraints over topic distributions and more realistically model word counts (Blei 2012).\n",
    "\n",
    "For those familiar with plate models, the following graphic (Blei 2012) reminds us that LDA is a type of a broader class of algorithms: probabilistic graphical models. $D$ and $N$ represent multiplicity, i.e.: the referenced cells are repeated $D$ and $N$ times. $\\alpha$ and $\\eta$ are hyperparameters that specify the shape of two Dirichlet Distributions, used to describe the $\\theta_d$ (the topic distribution of document d) distributions and $\\beta_k$ (word distribution of topic k) distributions respectively.\n",
    "\n",
    "![Plate Model of LDA](./images/infographic_lda-plate-model-blei2012.png)"
   ]
  },
  {
   "cell_type": "markdown",
   "metadata": {},
   "source": [
    "\n",
    "## 6.5 Implementation of LDA on psychedelic trip reports\n",
    "\n",
    "In practice, LDA is implemented either from a Gibbs Sampling approach (e.g.: `mallet` package) or via Variational Methods (e.g.: `gensim`), and optimized using Expectation Maximization (EM) algorithms. We note without theoretical justification that Lyle Ungar has found empirically that `mallet` works better and provides more interpretable models (source: conversations). Luckily for us, packages such as `mallet` and `sklearn` are easy to use, and provide state of the art LDA implementations. We first use `sklearn` implementation of LDA, which uses an online variational Bayes algorithm, due to its ease of use and compatibility with LDA visualization packages such as `pyLDAvis`."
   ]
  },
  {
   "cell_type": "code",
   "execution_count": 26,
   "metadata": {
    "colab": {},
    "colab_type": "code",
    "id": "YXgJcpXKMFNx",
    "outputId": "ded19574-6a14-49ef-a8e5-2b373eaff3a0",
    "scrolled": true
   },
   "outputs": [
    {
     "name": "stdout",
     "output_type": "stream",
     "text": [
      "(19915, 107108)\n"
     ]
    },
    {
     "data": {
      "text/plain": [
       "LatentDirichletAllocation(batch_size=128, doc_topic_prior=None,\n",
       "                          evaluate_every=-1, learning_decay=0.7,\n",
       "                          learning_method='batch', learning_offset=10.0,\n",
       "                          max_doc_update_iter=100, max_iter=10,\n",
       "                          mean_change_tol=0.001, n_components=5, n_jobs=None,\n",
       "                          perp_tol=0.1, random_state=0, topic_word_prior=None,\n",
       "                          total_samples=1000000.0, verbose=0)"
      ]
     },
     "execution_count": 26,
     "metadata": {},
     "output_type": "execute_result"
    }
   ],
   "source": [
    "# USE sklearn: https://nbviewer.jupyter.org/github/bmabey/pyLDAvis/blob/master/notebooks/sklearn.ipynb\n",
    "\n",
    "# imports for visualizing LDA\n",
    "import pyLDAvis\n",
    "import pyLDAvis.sklearn\n",
    "# setting for jupyter notebooks\n",
    "pyLDAvis.enable_notebook()\n",
    "\n",
    "# inports for LDA and preparing data set\n",
    "from sklearn.feature_extraction.text import CountVectorizer, TfidfVectorizer\n",
    "from sklearn.decomposition import LatentDirichletAllocation\n",
    "\n",
    "####\n",
    "# Prepare LDA inputs: vectorization of documents \n",
    "# use the tfidf matrix we had before as the document vector represetation for input into LDA\n",
    "# our lda input is simply dtm_tfidf, the document term matrix with tfidf weighting. We take a look at the shape\n",
    "print(dtm_tfidf.shape)\n",
    "\n",
    "#### \n",
    "# Fit Latent Dirichlet Allocation models\n",
    "\n",
    "# for TFIDF DTM\n",
    "lda_tfidf = LatentDirichletAllocation(n_components=5, random_state=0)\n",
    "lda_tfidf.fit(dtm_tfidf)"
   ]
  },
  {
   "cell_type": "code",
   "execution_count": 47,
   "metadata": {},
   "outputs": [
    {
     "data": {
      "text/plain": [
       "LatentDirichletAllocation(batch_size=128, doc_topic_prior=None,\n",
       "                          evaluate_every=-1, learning_decay=0.7,\n",
       "                          learning_method='online', learning_offset=50.0,\n",
       "                          max_doc_update_iter=100, max_iter=5,\n",
       "                          mean_change_tol=0.001, n_components=5, n_jobs=None,\n",
       "                          perp_tol=0.1, random_state=0, topic_word_prior=None,\n",
       "                          total_samples=1000000.0, verbose=0)"
      ]
     },
     "execution_count": 47,
     "metadata": {},
     "output_type": "execute_result"
    }
   ],
   "source": [
    "# Fitting LDA with TF document term matrix\n",
    "lda_tf = LatentDirichletAllocation(n_components=5, max_iter=5,\n",
    "                                learning_method='online',\n",
    "                                learning_offset=50.,\n",
    "                                random_state=0)\n",
    "lda_tf.fit(dtm_tf)"
   ]
  },
  {
   "cell_type": "code",
   "execution_count": 41,
   "metadata": {
    "collapsed": true
   },
   "outputs": [
    {
     "name": "stdout",
     "output_type": "stream",
     "text": [
      "(5, 107108)\n",
      "107108\n",
      "Topic #0: phenibut lyrica adrafinil vinpocetine dmae dhea pregabalin bdo selegiline aniracetam hydergine ultracet mpa atenolol mucuna gvl olmifon tiletamine bup rosea\n",
      "Topic #1: javier vassopressin pento hughie kirill tess rj sutts lingerie noss zworfin atterall migrazone pmt coricedin burbon usel divinoram prulict empracet\n",
      "Topic #2: like not time felt would one could experience feel trip back no feeling get really around started still effects much\n",
      "Topic #3: ich und der zu das es mich auf die ein mir nicht mit war ist den eine auch sich noch\n",
      "Topic #4: cp5 zam lagochilus zara mulungu slipper paan inebrians ebo cdt snapdragon brennan miguel gannon tamas zippie rollladenschaft pvcs anita serequel\n",
      "\n"
     ]
    }
   ],
   "source": [
    "# print the top words for each topic\n",
    "\n",
    "n_top_words = 20\n",
    "\n",
    "def print_top_words(model, feature_names, n_top_words):\n",
    "    print(model.components_.shape)\n",
    "    print(len(feature_names))\n",
    "    for topic_idx, topic in enumerate(model.components_):\n",
    "        message = \"Topic #%d: \" % topic_idx\n",
    "        message += \" \".join([feature_names[i]\n",
    "                             for i in topic.argsort()[:-n_top_words - 1:-1]])\n",
    "        print(message)\n",
    "    print()"
   ]
  },
  {
   "cell_type": "code",
   "execution_count": 48,
   "metadata": {},
   "outputs": [
    {
     "name": "stdout",
     "output_type": "stream",
     "text": [
      "(5, 107108)\n",
      "107108\n",
      "Topic #0: phenibut lyrica adrafinil vinpocetine dmae dhea pregabalin bdo selegiline aniracetam hydergine ultracet mpa atenolol mucuna gvl olmifon tiletamine bup rosea\n",
      "Topic #1: javier vassopressin pento hughie kirill tess rj sutts lingerie noss zworfin atterall migrazone pmt coricedin burbon usel divinoram prulict empracet\n",
      "Topic #2: like not time felt would one could experience feel trip back no feeling get really around started still effects much\n",
      "Topic #3: ich und der zu das es mich auf die ein mir nicht mit war ist den eine auch sich noch\n",
      "Topic #4: cp5 zam lagochilus zara mulungu slipper paan inebrians ebo cdt snapdragon brennan miguel gannon tamas zippie rollladenschaft pvcs anita serequel\n",
      "\n"
     ]
    }
   ],
   "source": [
    "# Print the topics derived from tfidf document-term matrix\n",
    "tfidf_feature_names = tfidf_vectorizer.get_feature_names()\n",
    "print_top_words(lda_tfidf, tfidf_feature_names, n_top_words)\n"
   ]
  },
  {
   "cell_type": "code",
   "execution_count": 49,
   "metadata": {},
   "outputs": [
    {
     "name": "stdout",
     "output_type": "stream",
     "text": [
      "(5, 107108)\n",
      "107108\n",
      "Topic #0: not like effects time feel feeling would much no day hours felt get one experience still good drug first dose\n",
      "Topic #1: dan non di la che un lance nita ce ci sarina mi come ed sarah per il sickie le sapo\n",
      "Topic #2: like time felt not would back could one around trip started get really got went friend no still go thought\n",
      "Topic #3: ich und die der es war das zu mich nicht mir auf mit ein den auch dass noch sich eine\n",
      "Topic #4: experience not one mind no dmt body world life sense salvia reality state energy psychedelic experiences space consciousness light many\n",
      "\n"
     ]
    }
   ],
   "source": [
    "# Print the topics derived from tf document-term matrix\n",
    "tf_feature_names = tf_vectorizer.get_feature_names()\n",
    "print_top_words(lda_tf, tf_feature_names, n_top_words)"
   ]
  },
  {
   "cell_type": "code",
   "execution_count": 31,
   "metadata": {
    "collapsed": true
   },
   "outputs": [
    {
     "name": "stdout",
     "output_type": "stream",
     "text": [
      "[('phenibut', 10.578842415837906), ('lyrica', 8.746454287969874), ('adrafinil', 8.060002066588817), ('vinpocetine', 7.650109163383219), ('dmae', 6.261670915627783), ('dhea', 5.565976467393462), ('pregabalin', 5.13145969098307)]\n",
      "\n",
      "[]\n",
      "\n",
      "[('like', 865.3196643864404), ('not', 841.6414108722853), ('time', 705.2804496057641), ('felt', 703.9946992133655), ('would', 645.0337716421199), ('one', 557.5540082209797), ('could', 509.02162813991004), ('experience', 504.2186755354651), ('feel', 503.8362382763057), ('trip', 488.40061628565127), ('back', 488.03673362094054), ('no', 485.8281869854381), ('feeling', 484.94668804331576), ('get', 471.0449257831494), ('really', 464.8386774546269), ('around', 458.3839622603778), ('started', 442.1531383546593), ('still', 426.6142651855873), ('effects', 423.13179685884336), ('much', 420.85813080133465), ('friend', 418.2352234396979), ('got', 417.7354793119805), ('went', 404.8480377098793), ('first', 396.50876896345227), ('took', 393.8662729322114), ('day', 390.0780233771201), ('good', 373.8414321004275), ('night', 368.7556544450925), ('little', 366.182834405494), ('go', 364.9633207800457), ('body', 364.195877235472), ('hours', 361.224216255053), ('friends', 355.63664318523587), ('minutes', 354.8678398120878), ('drug', 347.19844414046815), ('thought', 342.691627874761), ('people', 341.1826603977269), ('decided', 339.7952526459998), ('room', 339.19228763531544), ('it', 336.1375408842625), ('take', 334.67459915847337), ('going', 334.2686141403832), ('even', 332.3716305066795), ('began', 331.01034278591976), ('high', 330.12549284608446), ('life', 325.82002510264306), ('way', 323.7320001238934), ('something', 322.1691099447066), ('also', 322.15763536074456), ('never', 322.08677214030763), ('know', 319.2628963584149), ('everything', 319.04963128799704), ('think', 315.4285916782122), ('two', 315.2034072514988), ('mind', 315.14815918445254), ('me', 314.5738322976926), ('things', 313.1150584875468), ('see', 310.6552044325536), ('seemed', 301.8432415337047), ('next', 297.4763896473151), ('point', 289.9463521681383), ('though', 289.43715638063014), ('salvia', 287.34594355895723), ('well', 286.6442909276798), ('sleep', 285.16152119944195), ('remember', 282.65032331293713), ('eyes', 279.3617082358395), ('us', 275.8384846040005), ('said', 274.0240694526327), ('bit', 270.96724683490066), ('made', 270.86173576486624), ('tried', 268.4266206821957), ('looked', 267.0555680110903), ('00', 266.7551392557517), ('dose', 266.1683544506902), ('hour', 265.54465417183417), ('try', 265.50332967369104), ('another', 262.4234970000202), ('music', 261.7172857206866), ('30', 260.25940108344173), ('came', 258.8981831121485), ('later', 257.65724468160255), ('bed', 254.28153315260397), ('anything', 253.7554872330831), ('water', 252.05957688547957), ('smoke', 251.6941082267276), ('nothing', 250.70411505353192), ('quite', 249.75833165764817), ('found', 249.53521797212065), ('head', 249.2817848052825), ('bad', 248.88006185825225), ('house', 248.3687724775762), ('ever', 245.93171465095034), ('told', 244.77909464678308), ('taking', 244.39857206148503), ('home', 241.359435048821), ('thing', 240.72469639782602), ('every', 240.37915915634375), ('10', 238.95105777576956), ('2c', 238.670012836567), ('times', 236.28586920301757), ('almost', 232.36252682604538), ('pills', 230.47271394365967), ('long', 228.68291964697886), ('wanted', 228.66841847112167), ('since', 227.30595096113046), ('world', 226.5031232489845), ('mg', 226.15233233292568), ('come', 225.20318961646325), ('half', 224.69551303050824), ('pretty', 224.17010007195836), ('smoked', 224.11998414277292), ('say', 223.94913820266368), ('knew', 223.08246852748178), ('make', 223.01225840097553), ('hit', 221.76521858880295), ('drugs', 221.25942112189927), ('right', 218.356852882836), ('visuals', 217.68938194194996), ('away', 217.60477251340697), ('getting', 217.18040801778872), ('last', 215.63541031156896), ('smoking', 215.58830742156988), ('seeds', 215.28801532933298), ('saw', 215.03836216125424), ('put', 212.0213178589508), ('effect', 211.52920926466652), ('intense', 211.17280937784724), ('mushrooms', 209.82240199416535), ('different', 208.02497376438487), ('left', 208.02294058977066), ('light', 206.30451001292636), ('great', 205.42141355584783), ('lot', 205.14494290395047), ('many', 204.5275575967104), ('im', 201.7607358192254), ('hard', 201.70202259315278), ('use', 199.70652152182302), ('completely', 198.17349702838717), ('weed', 197.51692173505842), ('trying', 197.46694124788655), ('want', 196.66795847128887), ('days', 195.53357279398526), ('acid', 194.18150527290413), ('sure', 194.1273947492108), ('whole', 192.01546823633723), ('taken', 191.67945249619657), ('work', 191.58607493646807), ('looking', 191.5808656134991), ('done', 191.09061911593307), ('became', 191.0279646071785), ('reality', 190.20684254347833), ('better', 188.1858350748436), ('mdma', 187.95399969442806), ('noticed', 187.78456476550792), ('tripping', 187.70624298459003), ('however', 187.659077554625), ('sat', 187.4602536868047), ('find', 186.17853916016276), ('didnt', 185.85405690957), ('small', 185.75381736481913), ('years', 185.02380838953906), ('morning', 184.67670820164687), ('able', 184.5796040150929), ('stuff', 183.7134646997459), ('always', 183.61948587031887), ('lsd', 183.02452004212216), ('normal', 181.03109927898933), ('finally', 180.15293681864355), ('used', 179.87123982505577), ('real', 179.41501070278213), ('without', 179.21453781716525), ('happened', 179.13935082837546), ('thinking', 178.71350877893389), ('kept', 178.67186114619145), ('experienced', 178.2771970791525), ('20', 175.87652737268976), ('enough', 175.68811401315386), ('state', 174.99132430384805), ('actually', 174.6396396165022), ('new', 173.8030937262696), ('three', 173.09521568630237), ('talking', 172.57234462039912), ('start', 172.28206966062194), ('look', 171.95923092176324), ('probably', 171.72956694777545), ('kind', 171.0748142054201), ('coming', 170.07539381623857), ('sense', 169.18209409111478), ('15', 166.81668303431414), ('place', 165.41327277230215), ('thoughts', 164.72778041623044), ('outside', 164.1605496894297), ('let', 164.0855649560758), ('side', 163.9334880868186), ('although', 163.72751939146352), ('car', 163.57357456035595), ('soon', 163.48680391908098), ('strong', 163.2325519577566), ('again', 163.09185371887287), ('maybe', 162.5354086068305), ('couple', 161.897645684711), ('part', 161.56270373194735), ('pain', 161.40030982104946), ('bowl', 161.2815486370606), ('up', 160.32167810040897), ('energy', 160.12780678744966), ('extremely', 159.95728047703753), ('yet', 159.78465247481776), ('realized', 159.33984219400975), ('best', 159.19063764958517), ('walk', 158.47501239978172), ('experiences', 156.0376900616823), ('face', 155.47902986478505), ('stomach', 154.41113532405433), ('turned', 153.58862174776922), ('tea', 153.5814553226129), ('pot', 153.21498498942998), ('second', 152.6228901975793), ('read', 152.45952682484398), ('everyone', 152.4011889049239), ('strange', 151.86094665734473), ('substance', 150.94039883907166), ('nausea', 150.39172023768091), ('heart', 150.24297814830572), ('pill', 149.51002914771772), ('fun', 149.19371599108487), ('out', 148.77955914997722), ('school', 148.75497593191963), ('nice', 148.639425839623), ('dmt', 148.3532448399439), ('asked', 148.17748653384584), ('tell', 148.01037893202673), ('end', 147.7999560432028), ('may', 147.62150290176382), ('alcohol', 147.31133113303466), ('love', 146.61274999532952), ('full', 146.51923345785852), ('sitting', 146.35376796004655), ('less', 146.04673635717802), ('seems', 145.93376057636), ('sort', 144.73109621611943), ('week', 144.677625503852), ('heard', 144.66620596321528), ('dont', 144.32333771148006), ('dxm', 144.06421309215096), ('far', 143.33512280412623), ('stop', 143.04972953754816), ('walked', 142.4981425246787), ('taste', 141.96468813757957), ('vision', 141.34903708507034), ('might', 140.94625927072823), ('several', 140.85708617783135), ('mild', 140.74418076520507), ('keep', 140.5753446575464), ('months', 140.50422462653157), ('usually', 140.12515279435877), ('someone', 139.86977337476281), ('shit', 139.7720090619344), ('happy', 139.34141511505575), ('inside', 139.18892388538868), ('definitely', 139.02962328645916), ('shrooms', 138.4452237652098), ('help', 138.28083368733857), ('closed', 138.27766242171342), ('walking', 137.35659245617921), ('drink', 136.94867501078411), ('gone', 136.6903342627629), ('else', 136.68196948061242), ('bathroom', 136.5222479870981), ('asleep', 136.32578186864865), ('least', 136.05577701874387), ('slightly', 135.97102273983006), ('idea', 135.77842781583539), ('year', 134.65607991588044), ('woke', 134.64870614905206), ('using', 134.64512153795394), ('moving', 133.55571855896847), ('rest', 133.23825681156308), ('rather', 133.14636341859034), ('person', 132.94837670387835), ('within', 132.69697501851397), ('seeing', 132.45038971366918), ('marijuana', 132.41121146919198), ('fact', 132.32249881689108), ('amazing', 131.14034627666865), ('visual', 131.08494467797175), ('mouth', 130.79250307042432), ('suddenly', 130.7369847559116), ('buzz', 130.46161336713612), ('pm', 130.04071296839834), ('floor', 130.02280305682058), ('brain', 129.66368931857417), ('open', 129.55644756727008), ('gave', 129.46430729097443), ('control', 129.0721845765647), ('amount', 128.94706622717518), ('believe', 128.92842842783142), ('them', 128.8634596939701), ('quickly', 128.71956130826933), ('doses', 128.67179067397572), ('12', 128.43214502035536), ('similar', 128.2785321933768), ('slight', 127.99482085959411), ('entire', 127.98772760794147), ('big', 127.67048212613228), ('talk', 126.88968918003967), ('need', 126.65098385104146), ('give', 126.62839996503988), ('slowly', 126.43685470287733), ('past', 126.07369844265867), ('cannabis', 125.95221625588157), ('seem', 125.82111514975229), ('move', 125.71641577000476), ('tired', 125.686105422015), ('ago', 125.51769790595031), ('girlfriend', 125.14075692561599), ('beautiful', 124.5488108651027), ('euphoria', 124.16292287190473), ('coke', 123.14890420223045), ('party', 122.4123529991342), ('longer', 122.15217849772739), ('eventually', 122.02344093150899), ('god', 121.90727168619973), ('large', 121.75746934187943), ('bottle', 121.54456411931953), ('hits', 121.37576067699075), ('psychedelic', 121.24869393644934), ('down', 121.2068278042253), ('starting', 120.80237938459483), ('weird', 120.78196400172857), ('lost', 120.77683270130218), ('watching', 119.65921307946763), ('drinking', 118.99091305369193), ('pipe', 118.9375131566743), ('must', 118.83208640155587), ('become', 118.16446217474014), ('interesting', 117.9577362497931), ('dream', 117.65422831785267), ('hand', 117.60352165359024), ('old', 117.56156471082912), ('grams', 117.47547012633521), ('close', 117.3907072457298), ('seconds', 117.17704875996863), ('hell', 117.10908036558135), ('called', 116.6563802979613), ('feels', 116.45526397479729), ('hallucinations', 116.35432302515015), ('passed', 116.2857331132698), ('physical', 116.24231087041413), ('cold', 116.13887931243829), ('colors', 115.85385766883834), ('set', 115.322228297106), ('call', 115.32116241844126), ('relaxed', 114.98207845014694), ('reason', 114.7226634146149), ('fine', 114.32446945226775), ('moment', 114.25888302281413), ('all', 113.7877099468267), ('anxiety', 113.63147469379223), ('weeks', 113.26994668134542), ('45', 113.20406205358897), ('eat', 113.18177000791357), ('lay', 112.52161989910606), ('sit', 112.42199985038147), ('ate', 112.09491388505546), ('couch', 111.94849845014008), ('words', 111.91300085073142), ('already', 111.59684425757246), ('needed', 111.33076818994641), ('feelings', 111.31934742571623), ('others', 111.26060733749645), ('door', 111.23140629209283), ('pleasant', 111.1352466164702), ('movie', 111.12144537900383), ('alone', 111.04314793199148), ('fell', 111.00832887446404), ('saying', 110.75950353963047), ('mental', 110.71856912620177), ('somewhat', 110.70227262651049), ('in', 110.6762335072393), ('lasted', 110.4433441997385), ('patterns', 110.30295688134484), ('couldnt', 110.14419564842237), ('tv', 110.13529690255088), ('drank', 109.94385697033991), ('dark', 109.86889343045011), ('making', 109.22449819971791), ('together', 109.07242029804205), ('fast', 108.77209649639268), ('ended', 108.76919883590037), ('peak', 108.51023589523372), ('sometimes', 107.89902135895699), ('anyone', 107.68919004674974), ('stopped', 107.488489855853), ('anyway', 107.4601242386857), ('11', 106.80711892637147), ('wasnt', 106.78250340722667), ('hands', 106.76467553287728), ('eye', 106.30302922452806), ('course', 106.24241597072557), ('scared', 105.99595221509), ('fear', 105.97521774781156), ('totally', 105.76359736816651), ('lights', 105.59204508488119), ('white', 105.41815798850159), ('ive', 105.17756192215087), ('sick', 105.00811891086768), ('notice', 104.91850722167752), ('along', 104.80691551624462), ('self', 104.65306241922256), ('front', 104.58270164140853), ('powder', 104.4804469012003), ('before', 104.30610796740862), ('ground', 104.01530900985426), ('parents', 103.91840201835547), ('deep', 103.54875315631617), ('clear', 102.63716278469269), ('describe', 102.60465812650637), ('line', 102.52235210189858), ('etc', 102.50490080820306), ('makes', 102.5020572168954), ('warm', 102.14189617963669), ('dosage', 101.81347394212699), ('perhaps', 101.56676596742291), ('sound', 101.11259898411711), ('due', 101.09278704293123), ('on', 100.8581986598319), ('immediately', 100.78378099703521), ('mood', 100.32332533567666), ('now', 100.00582243202486), ('amp', 99.92930167385555), ('short', 99.81141266116207), ('seen', 99.7299260083506), ('meo', 99.60850556337199), ('continued', 99.40526298921276), ('there', 99.27147758310467), ('plant', 99.09425490424185), ('glass', 98.74522432146179), ('laughing', 98.66668503641768), ('bong', 98.44365758323303), ('bought', 98.37234038473123), ('sensation', 98.31837472040426), ('either', 98.0821725283541), ('hear', 97.8985146408129), ('calm', 97.85853063976862), ('hospital', 97.8439752021653), ('four', 97.82239396909729), ('space', 97.73783270835212), ('simply', 97.53404091062924), ('cocaine', 97.22309264571737), ('drunk', 96.81396819642643), ('man', 96.6832534571491), ('black', 96.63398885506587), ('living', 96.16011944911226), ('cool', 96.08611537379164), ('usual', 96.04837297063703), ('playing', 95.73960932412213), ('level', 95.68013656147896), ('breathing', 95.58590927978169), ('stoned', 95.36082000478811), ('stay', 95.2041132389507), ('mine', 95.07680057190657), ('evening', 95.05242156139914), ('report', 94.86378143669077), ('leaves', 94.74856613713501), ('change', 94.44285933682268), ('understand', 94.235169131924), ('begin', 94.23021330707437), ('worth', 94.09130128722057), ('difficult', 94.08301917100175), ('wall', 94.07885870810924), ('sober', 94.01140806530188), ('normally', 93.67750950873699), ('wrong', 93.54183775782755), ('watch', 93.40484978025908), ('ok', 93.39339498791125), ('except', 93.24094619980302), ('mom', 93.0607136627678), ('adderall', 92.9865471880775), ('positive', 92.866961821976), ('leave', 92.82533499149355), ('dreams', 92.78029365702213), ('low', 92.45219890555248), ('computer', 92.42268790835287), ('turn', 92.40141176429259), ('possible', 92.13338965308506), ('spent', 92.01753137411005), ('nutmeg', 91.93824101280609), ('awake', 91.93733501502729), ('ecstasy', 91.91857471188824), ('often', 91.65170303288834), ('instead', 91.59360542532282), ('myself', 91.35553351046914), ('trips', 90.90061197427599), ('five', 90.77766313655093), ('off', 90.70320089606159), ('red', 90.68420213728429), ('fucked', 90.65624243205069), ('universe', 90.51384218797743), ('minute', 90.50325962122137), ('depression', 90.39259233076673), ('enjoy', 90.37477489327297), ('aware', 90.33943990823582), ('reading', 89.95075240848863), ('lines', 89.82322108529517), ('huge', 89.70720131534917), ('worse', 89.66351865068677), ('realize', 89.60678301497774), ('heavy', 89.47448136147041), ('form', 89.37281937508808), ('overall', 89.36739419313194), ('bag', 89.36159454096024), ('fall', 89.29248166153094), ('happen', 89.18315952183126), ('talked', 88.76575517975117), ('crazy', 88.70283338791722), ('chemical', 88.5616264292973), ('especially', 88.24529857957253), ('sounds', 88.1062562151719), ('blue', 87.9466055745204), ('die', 87.94552022760554), ('green', 87.91323047528866), ('decide', 87.8461174455623), ('extract', 87.79355713800804), ('liquid', 87.3199662200218), ('this', 87.26441205583426), ('guy', 87.21029996908779), ('somehow', 87.19242147051253), ('hold', 87.05958498695733), ('more', 87.00441460788494), ('problems', 86.93139071076969), ('beginning', 86.9207673869684), ('eating', 86.83740961785274), ('food', 86.70652746826224), ('exactly', 86.66824904079509), ('top', 86.47512260413876), ('focus', 86.4161921493387), ('listening', 86.18331547386937), ('coffee', 86.03247601427518), ('matter', 85.91418472337261), ('watched', 85.76409037546793), ('guess', 85.67406150740166), ('that', 85.54015658655543), ('memory', 85.5382013674414), ('upon', 85.53494393567668), ('consciousness', 85.46107273554337), ('gram', 85.44626496351772), ('death', 85.42029561765561), ('higher', 85.361706373759), ('ready', 85.30491615015006), ('comfortable', 85.26341957368425), ('across', 85.24124642134196), ('speed', 85.22839383355635), ('amt', 85.175524626517), ('problem', 84.89570127512499), ('negative', 84.85487978986448), ('rush', 84.71140700344283), ('figured', 84.3941114614246), ('behind', 84.34490868189961), ('note', 84.33068637992602), ('anymore', 84.30500319886329), ('wonderful', 84.22355231657859), ('fairly', 84.14544340492162), ('throughout', 83.82995722243504), ('joint', 83.80592392189777), ('air', 83.60971838543549), ('hot', 83.55980124596702), ('recently', 83.422494892389), ('euphoric', 83.41865507577378), ('powerful', 83.22455706967106), ('setting', 83.08617461071323), ('color', 83.0735787553835), ('happening', 82.99414568029535), ('50', 82.87285518828452), ('total', 82.84260495334114), ('ran', 82.31806433513458), ('earlier', 82.29420061157613), ('straight', 82.19904861577362), ('panic', 82.09731312301541), ('was', 82.03989750677744), ('drive', 81.69555034864707), ('opened', 81.55325653649935), ('brought', 81.2595897973817), ('conversation', 81.18277073582748), ('laid', 81.04053810411422), ('period', 80.98492671210657), ('absolutely', 80.939449533014), ('type', 80.88989953204032), ('40', 80.79109424570989), ('walls', 80.72410418638844), ('easy', 80.68494104351669), ('wake', 80.62042020251967), ('cause', 80.53704038470619), ('previous', 80.20783923484466), ('test', 80.06234093759528), ('boyfriend', 80.01060568158098), ('substances', 79.97776627954006), ('heroin', 79.93236713406759), ('blood', 79.71185275289837), ('horrible', 79.68523573811984), ('cigarette', 79.63283483466418), ('mostly', 79.2305255204226), ('month', 78.94486194012696), ('story', 78.85439733241705), ('nearly', 78.68170786351064), ('slow', 78.63992759486753), ('pure', 78.63384110276701), ('changed', 78.53439571176193), ('cup', 78.49648299563717), ('meth', 78.47321008574409), ('sky', 78.36758590314912), ('kava', 78.35458732671069), ('oh', 78.19989956588384), ('waiting', 78.1920574391315), ('wait', 78.10438856824562), ('held', 78.05713190198207), ('nature', 78.02155981329828), ('explain', 77.97175753731396), ('telling', 77.64310503151776), ('towards', 77.3187552080963), ('moved', 77.19702382523727), ('show', 77.11846418066058), ('care', 77.11040790420026), ('feet', 77.0747933732052), ('reports', 77.0543466355279), ('sleeping', 76.9470489062442), ('legs', 76.79191048976257), ('kratom', 76.72685482212998), ('easily', 76.56301951713344), ('stronger', 76.52302210460985), ('near', 76.42086526806705), ('waited', 76.38502466699876), ('phone', 76.36364577160911), ('play', 76.29482091120326), ('apartment', 75.92232305247234), ('trees', 75.83208267364886), ('whatever', 75.68814474298301), ('headache', 75.67303099257384), ('live', 75.52787579849175), ('doctor', 75.46976542885861), ('brother', 75.27270115482881), ('comes', 74.95456383877536), ('dry', 74.93527672658463), ('complete', 74.8692183168406), ('staring', 74.76428003443002), ('given', 74.3932701445416), ('truly', 74.24069529460601), ('perfect', 74.0813497282652), ('ten', 73.94613922308359), ('psychedelics', 73.94576348537078), ('25', 73.93821011463257), ('experiencing', 73.57773541027115), ('case', 73.57096572942244), ('onto', 73.4706549468025), ('following', 73.4592030736468), ('opiates', 73.40034668797524), ('caffeine', 73.39059343649869), ('true', 73.35497926383285), ('family', 73.26635055479224), ('voice', 73.25979029378446), ('filled', 73.20174915032023), ('ride', 73.1752203576265), ('finished', 73.10454157064096), ('nitrous', 73.08962523047583), ('cant', 72.7791818287867), ('kick', 72.56856659581261), ('running', 72.51776060433808), ('mushroom', 72.49686449655894), ('snorted', 72.46739255521862), ('managed', 72.18832767946844), ('fuck', 71.96689779286696), ('skin', 71.94183317140282), ('combination', 71.90453847608245), ('empty', 71.82649454284983), ('enjoyed', 71.77457289647087), ('trouble', 71.76328671823643), ('girl', 71.76009593931164), ('helped', 71.6714503087628), ('research', 71.55800224080357), ('over', 71.46203441305988), ('human', 71.46144064380486), ('extreme', 71.3960678545393), ('waves', 71.0442499967304), ('safe', 70.95091525474011), ('headed', 70.89743330221974), ('dancing', 70.85270452684938), ('nose', 70.85222982759754), ('store', 70.79571797017756), ('recommend', 70.54908459568345), ('working', 70.48135386133121), ('mixed', 70.40298580137073), ('cannot', 70.31697243083624), ('shot', 70.29610279368197), ('shower', 70.20191849533033), ('free', 70.12714382831734), ('id', 70.01467883237065), ('tolerance', 70.01190283883021), ('arrived', 69.84472220244156), ('hope', 69.75620168895658), ('daily', 69.75343089615382), ('rolling', 69.67018358034075), ('basically', 69.60628935199537), ('enjoyable', 69.60558336348255), ('incredible', 69.44072462507775), ('100', 69.41614844502023), ('run', 69.40884912367319), ('fucking', 69.33139689828165), ('sudden', 69.32416735623544), ('arms', 69.29015347827463), ('chair', 69.14900462164607), ('returned', 68.74617724524985), ('street', 68.70083426162233), ('touch', 68.59780558657614), ('mirror', 68.55004560156772), ('uncomfortable', 68.40958816434167), ('alot', 68.33459600539912), ('ceiling', 68.32036179197844), ('thats', 68.29822377794362), ('learned', 68.28961232578342), ('slept', 68.14061431794721), ('pulled', 68.11787050747809), ('mean', 67.99858033716761), ('falling', 67.97710706881378), ('barely', 67.97665569413915), ('general', 67.88191400812325), ('stayed', 67.76187001755143), ('increased', 67.73878927326679), ('third', 67.69608270627039), ('funny', 67.54749860238269), ('lying', 67.50748056897315), ('deal', 67.37846385172986), ('odd', 67.34788134767697), ('dead', 67.22799216413839), ('worked', 67.12009972280202), ('ingested', 67.10755114472602), ('online', 67.06876516476413), ('incredibly', 66.92703008189224), ('perception', 66.79852194370994), ('unable', 66.79531008217185), ('unpleasant', 66.78282701905407), ('standing', 66.76726712329393), ('stood', 66.68887841967583), ('to', 66.50732767730722), ('writing', 66.47334745979298), ('juice', 66.4497318876562), ('sun', 66.4227402083362), ('prepared', 66.36476990968731), ('today', 66.3321283048387), ('early', 66.29539961514021), ('experiment', 66.25418507323268), ('certain', 66.05325735754649), ('ketamine', 66.04860311599815), ('worst', 66.03826772389374), ('present', 66.01385618010859), ('bright', 65.95324738655111), ('window', 65.73856011985622), ('material', 65.72033245831706), ('cut', 65.69797972718199), ('class', 65.69765995292543), ('gotten', 65.54139764099679), ('fully', 65.4079499002803), ('none', 65.19046483903857), ('order', 65.07764610803925), ('somewhere', 64.99322592911214), ('twice', 64.99055713506081), ('stupid', 64.87750034664053), ('dried', 64.81613194350443), ('park', 64.68583724091462), ('important', 64.59800391559304), ('dance', 64.43886233033314), ('dipt', 64.42470985534425), ('throat', 64.37188880257516), ('beer', 64.28912268490978), ('symptoms', 64.24340161932072), ('physically', 64.05782247484014), ('depressed', 63.98743537842534), ('kinda', 63.92396051718891), ('wife', 63.82157623365483), ('intensity', 63.775396154626165), ('break', 63.77371489486195), ('so', 63.76375310509021), ('clean', 63.66745833596067), ('attention', 63.46446118090755), ('takes', 63.453537332152344), ('dropped', 63.39993335102741), ('write', 63.38726473245733), ('proceeded', 63.327647310332885), ('eaten', 63.24662418166095), ('expected', 63.19956013580182), ('breath', 63.15146193565642), ('middle', 63.14625199344306), ('whether', 63.14492200696507), ('prescribed', 63.11989921565996), ('knowing', 63.09561355934633), ('driving', 63.04463668115999), ('song', 62.99888944798638), ('various', 62.935585472944574), ('hearing', 62.88042347981179), ('him', 62.605487490296255), ('paper', 62.420607115291446), ('rolled', 62.40905355259754), ('word', 62.29704843637612), ('too', 62.287812038534604), ('goes', 62.18687208293828), ('known', 62.17249066193094), ('laying', 62.158126699822255), ('stand', 62.1324403673625), ('mother', 62.11443830573695), ('mix', 61.944918662818935), ('opiate', 61.931772006899806), ('money', 61.87548478048494), ('field', 61.78673466953854), ('confused', 61.69585445696395), ('legal', 61.46660826288858), ('hurt', 61.37746983332402), ('reached', 61.3043635333967), ('sex', 61.149074247419875), ('dad', 61.14041301441497), ('certainly', 61.02475646842257), ('codeine', 61.02240311031241), ('loved', 60.96366406910577), ('late', 60.952240408652465), ('followed', 60.90161000894876), ('roll', 60.87538931414137), ('lots', 60.841527085530316), ('objects', 60.81351342453522), ('do', 60.785590148776365), ('nervous', 60.72650404201608), ('tripped', 60.66161545079245), ('name', 60.57045693748271), ('social', 60.49559247929424), ('prior', 60.46158948211833), ('alive', 60.42269392795068), ('holding', 60.36593424498271), ('ghb', 60.325573549139655), ('picked', 60.275813183338364), ('imagine', 60.21612926670324), ('system', 60.12529098723384), ('stuck', 60.06655923627649), ('vivid', 60.06557753769432), ('fire', 60.05118496411945), ('game', 60.04472108856504), ('weekend', 60.02132843865688), ('peace', 59.995100166372886), ('tasted', 59.97407759530495), ('process', 59.89246004090414), ('added', 59.86550497191865), ('threw', 59.821378080336736), ('yes', 59.798820000944836), ('relax', 59.7721383298943), ('power', 59.75623206438411), ('paranoia', 59.74017082348971), ('single', 59.72619533958825), ('journey', 59.658673427872024), ('worried', 59.64959303954179), ('pass', 59.492167359271235), ('sounded', 59.48268827117662), ('six', 59.46180014982617), ('information', 59.41037119444643), ('paranoid', 59.384825856917), ('figure', 59.377401869918046), ('remembered', 59.374674513441754), ('familiar', 59.335117986707175), ('becoming', 59.2739162602157), ('area', 59.1866401149295), ('floating', 59.14561242249544), ('chest', 59.08488349781861), ('buy', 59.07808742577176), ('appeared', 59.066884089011495), ('spiritual', 58.981049202752885), ('mentally', 58.80176374975903), ('clock', 58.65326908524276), ('earth', 58.647065741459116), ('addiction', 58.607089444584034), ('met', 58.59386102431454), ('beyond', 58.506209035532905), ('scary', 58.43642403426595), ('situation', 58.376824526774), ('non', 58.37230590451926), ('group', 58.36392822583673), ('10mg', 58.33619130516759), ('caused', 58.1755646114574), ('ones', 58.13475223606818), ('did', 58.13373730850254), ('town', 58.07486461773369), ('leaving', 57.99712822006478), ('shaking', 57.973060294947196), ('kitchen', 57.96418425326232), ('asking', 57.85595102898869), ('tree', 57.73503184909346), ('herb', 57.6566709607919), ('excited', 57.65622213933361), ('careful', 57.58116037391412), ('forget', 57.52135063396776), ('force', 57.51002996348308), ('consumed', 57.46200423572222), ('min', 57.32857742153397), ('rate', 57.29548062887927), ('constantly', 57.26687100537552), ('add', 57.178628533378635), ('speak', 57.17400417228233), ('played', 57.065373794044234), ('table', 56.920572018883256), ('ask', 56.911320789490496), ('generally', 56.83950218685567), ('regular', 56.66784743775078), ('expect', 56.64075025347294), ('lack', 56.54667859567769), ('piece', 56.438143405206034), ('local', 56.41500327151602), ('ill', 56.3085655269011), ('convinced', 56.22946685091302), ('possibly', 56.2119322645416), ('mescaline', 56.17456036045182), ('future', 56.16251333522713), ('handle', 56.147857630386795), ('forever', 56.123603888040606), ('quit', 56.122498133505516), ('approximately', 56.062906640151795), ('pressure', 56.04595534868337), ('lit', 55.95123868804495), ('afraid', 55.836187610980026), ('impossible', 55.82234644318334), ('listen', 55.8112550308211), ('interested', 55.80716786839134), ('ego', 55.80268558895691), ('enjoying', 55.789353180721115), ('overwhelming', 55.74635308378159), ('ingestion', 55.67887174925426), ('grass', 55.650580796409656), ('numb', 55.606746463907484), ('waking', 55.60576602511573), ('recall', 55.423866518731835), ('road', 55.39162802311153), ('snorting', 55.368923345192925), ('college', 55.278023278762454), ('despite', 55.17576375169722), ('throw', 55.16635508302565), ('orange', 55.13808086731017), ('faces', 55.13511936709713), ('hangover', 55.05909895394963), ('kicked', 54.955599042904886), ('supposed', 54.92326427399232), ('forward', 54.91517913827184), ('soul', 54.84583167002428), ('vomit', 54.80951325933004), ('arm', 54.70949453373131), ('bring', 54.697719402467825), ('while', 54.66681480842148), ('per', 54.65673123949267), ('cigarettes', 54.64952594578914), ('00pm', 54.62963067087889), ('smell', 54.62892174561592), ('method', 54.62284177105235), ('xanax', 54.62203651375628), ('wonder', 54.59647430734898), ('described', 54.588083069106766), ('dizzy', 54.51640047569629), ('pupils', 54.4762383140222), ('drove', 54.32291977261081), ('terrible', 54.30627682854733), ('screen', 54.196509457988114), ('okay', 54.17675683734026), ('return', 54.15060209149561), ('wave', 54.08246959581973), ('tablets', 54.05877967315207), ('toilet', 54.041663866988785), ('clearly', 54.02653680593279), ('desire', 54.02191459034306), ('existence', 53.998317906442324), ('afternoon', 53.960267799391616), ('stared', 53.836662651980504), ('conclusion', 53.81079075899297), ('background', 53.585304755065216), ('job', 53.43666426416016), ('user', 53.38031642135106), ('particular', 53.33531537362551), ('capsules', 53.317571928257415), ('lie', 53.29893362326225), ('bowls', 53.269872263164565), ('load', 53.21631617796387), ('continue', 53.20339242713193), ('bedroom', 52.98329612986199), ('apparently', 52.93018176832827), ('tramadol', 52.890319918519346), ('anxious', 52.769492250488064), ('gets', 52.70741248542093), ('withdrawal', 52.70694998717845), ('laugh', 52.67040274205717), ('mins', 52.57283261396792), ('summer', 52.56442506039281), ('faster', 52.43552976569752), ('literally', 52.39507959122914), ('ability', 52.388656635887074), ('wish', 52.38406094922459), ('laughed', 52.36043742198394), ('images', 52.30672205684964), ('lungs', 52.30047485549883), ('emotional', 52.11780884765402), ('ways', 52.102460427784266), ('afterwards', 52.079741712980166), ('20mg', 52.06672662530109), ('everywhere', 52.05803020041977), ('loud', 52.047298142218565), ('quality', 52.020808102482405), ('plan', 51.9105117982016), ('subtle', 51.906310111192795), ('pick', 51.88030260678212), ('results', 51.748778588498624), ('insane', 51.743978834351964), ('damn', 51.66418014086176), ('particularly', 51.62799206212198), ('unlike', 51.570783558980274), ('increase', 51.440630272816065), ('serious', 51.356089295761194), ('sister', 51.34035867349424), ('share', 51.31691166484874), ('urge', 51.29613720430351), ('pattern', 51.16018385954093), ('attempt', 51.15135148628109), ('club', 50.88983463740948), ('quick', 50.86214824608093), ('her', 50.739840765847184), ('tiny', 50.71963706911764), ('noticeable', 50.524612982096805), ('opium', 50.50274531563247), ('random', 50.45828200594655), ('severe', 50.41817472404982), ('caught', 50.25682733935752), ('including', 50.23682425586944), ('comedown', 50.14862575613682), ('gonna', 50.14782668311943), ('loss', 50.022307626722046), ('meaning', 50.01814840262393), ('initial', 49.9389736160176), ('upstairs', 49.90185661462696), ('sitter', 49.831407103759986), ('personal', 49.823707016212325), ('onset', 49.79815269307351), ('dpt', 49.78785979915996), ('about', 49.67988223620519), ('changing', 49.66366735894485), ('leaf', 49.621224405648974), ('visions', 49.56974950170481), ('glad', 49.54370935055098), ('bored', 49.495060862671515), ('had', 49.40084082271547), ('sensations', 49.19477554402295), ('says', 49.17675527965244), ('voices', 49.11254831575533), ('swallowed', 49.092972216150294), ('tobacco', 49.06431242771763), ('packed', 48.87406424335201), ('instantly', 48.84824316585279), ('datura', 48.82055392505382), ('till', 48.78224503564883), ('wow', 48.77425184395631), ('consider', 48.75055955630721), ('weight', 48.740891566002446), ('works', 48.70544434794428), ('lighter', 48.68522578157496), ('friday', 48.64053540959178), ('book', 48.54462092463922), ('rue', 48.51238645974082), ('5mg', 48.44643538224775), ('crack', 48.181623739717864), ('question', 48.13914320712532), ('wanting', 48.09327702927205), ('spinning', 48.09087655113389), ('chemicals', 48.087344619256015), ('muscle', 48.07749657841392), ('potent', 48.0490580534372), ('city', 47.98957141358016), ('ass', 47.92367808205948), ('number', 47.8667687493155), ('natural', 47.8491707918551), ('awesome', 47.84436672471341), ('reaction', 47.81683312988192), ('previously', 47.79457243271112), ('awhile', 47.6786817851811), ('glory', 47.640917704904446), ('please', 47.63498084339726), ('recreational', 47.53122784457518), ('size', 47.505486579184314), ('corner', 47.43325720546752), ('focused', 47.39846009663026), ('giving', 47.33410713245729), ('flowing', 47.32267379815743), ('stars', 47.298005159163125), ('weak', 47.24381436097462), ('internet', 47.240907773658996), ('burning', 47.235882982783465), ('fresh', 47.22659487512157), ('24', 47.20924048417842), ('concentrate', 47.1401558045023), ('cd', 47.10339271258006), ('lower', 47.09433299772808), ('bitter', 47.09090764739003), ('occasionally', 47.06715220745913), ('relaxing', 47.06090906548482), ('ambien', 47.03365269771411), ('harder', 46.94599050687731), ('major', 46.9436222359146), ('cactus', 46.832004318810704), ('anyways', 46.798898239072976), ('medication', 46.76461637399409), ('profound', 46.762542695809245), ('relatively', 46.69850616097652), ('difference', 46.67476559235416), ('understanding', 46.6634058949515), ('muscles', 46.55703739825275), ('simple', 46.49546979729249), ('lose', 46.484717042377305), ('16', 46.47299752500825), ('view', 46.46553565838831), ('hydrocodone', 46.453786290420744), ('minor', 46.34436597738094), ('plants', 46.33756563795685), ('mistake', 46.304838967962866), ('growing', 46.2838943978358), ('nauseous', 46.25186957599175), ('entirely', 46.2066872332572), ('starts', 46.09931963647245), ('50mg', 46.08916581041835), ('prescription', 46.06690035785119), ('addicted', 46.037296223778995), ('vomiting', 45.96264664864338), ('orally', 45.9305245945503), ('edge', 45.925337915354206), ('roommate', 45.90981984760079), ('forgot', 45.86509811215365), ('anti', 45.84544683690096), ('yellow', 45.83788813773235), ('chance', 45.810811763590046), ('guys', 45.80481219488766), ('beauty', 45.77474338322058), ('surprised', 45.75353722530511), ('mixture', 45.730363663190346), ('parts', 45.65620366980884), ('broke', 45.632705322104336), ('favorite', 45.631848339153386), ('amounts', 45.618765803725935), ('30pm', 45.59532663700407), ('baseline', 45.57772169714211), ('movement', 45.52440901262067), ('check', 45.478048887078174), ('be', 45.366679786426474), ('dying', 45.360872142271006), ('presence', 45.35676202902756), ('knowledge', 45.35425523584055), ('agreed', 45.34229632293877), ('beach', 45.31467336162759), ('jaw', 45.289660498305764), ('moments', 45.24167857721401), ('split', 45.24150612909254), ('emotions', 45.1571630033779), ('showed', 45.14835391651244), ('capsule', 45.066739642906256), ('happens', 45.06553130598628), ('mellow', 45.064711257244134), ('shapes', 45.03969596892365), ('turning', 45.03315919972418), ('result', 45.00407487984615), ('ordered', 44.95355171913969), ('with', 44.933576777783294), ('highly', 44.892609044143036), ('teeth', 44.89017385722201), ('snort', 44.86072397831725), ('content', 44.823830160650616), ('perfectly', 44.822233416176935), ('stage', 44.80266045465361), ('100mg', 44.78409633296434), ('compared', 44.77378164930497), ('expecting', 44.752916803410976), ('freaked', 44.74241757599587), ('altered', 44.72540611355328), ('liked', 44.690595954171876), ('trance', 44.65959880441143), ('discomfort', 44.63577717897539), ('gas', 44.60787068148694), ('dangerous', 44.55711240845202), ('died', 44.55484685147558), ('shut', 44.37324018065516), ('lucid', 44.347818163817216), ('apart', 44.34669863602752), ('motion', 44.29807272222152), ('kill', 44.28399138581409), ('meant', 44.281228157323355), ('flying', 44.28109840240042), ('memories', 44.27918411144039), ('rock', 44.26334268350522), ('downstairs', 44.2450024822737), ('bunch', 44.15563924657321), ('drop', 44.14425498810102), ('spot', 44.130814200339124), ('spirit', 44.09825787428531), ('you', 44.086486599718334), ('unfortunately', 44.039183393952754), ('nights', 44.00412765990135), ('listened', 43.99180292376762), ('mention', 43.97605487179277), ('purchased', 43.93570391058457), ('placed', 43.91741457988775), ('quiet', 43.85633229865984), ('common', 43.83179603212136), ('potential', 43.83042820416524), ('crying', 43.81800299256444), ('forth', 43.74027516287773), ('understood', 43.6979822083646), ('conscious', 43.697839000946125), ('dog', 43.685649191028354), ('special', 43.636182805920065), ('pull', 43.615324859243266), ('amphetamine', 43.60339715442442), ('questions', 43.55752108061104), ('beat', 43.5062520311984), ('attack', 43.47294685889227), ('senses', 43.46251125030904), ('main', 43.46243326830099), ('addictive', 43.45617682619012), ('step', 43.356102898681684), ('obviously', 43.332893637133466), ('discovered', 43.297966810160744), ('bottom', 43.28918213884777), ('grabbed', 43.28189150926916), ('likely', 43.278579954030604), ('ayahuasca', 43.26599322349025), ('gives', 43.25390168950933), ('means', 43.19121598096854), ('awoke', 43.188399864403756), ('looks', 43.14760804925321), ('dimension', 43.14731708927613), ('crushed', 43.1157771529627), ('racing', 43.08476639664763), ('ritalin', 43.0366573433745), ('00am', 43.01406847268076), ('environment', 42.99664162860909), ('box', 42.88881083488164), ('hallucination', 42.88512511668234), ('messed', 42.882236162728184), ('sweating', 42.86410220589042), ('medicine', 42.859773989039766), ('considering', 42.84081885284626), ('am', 42.838141096225854), ('building', 42.7303589850652), ('closer', 42.678933042873474), ('clouds', 42.596444939518996), ('foxy', 42.56222861204007), ('valium', 42.4960112736122), ('morphine', 42.490350855623724), ('root', 42.48482372410636), ('puke', 42.39083114213973), ('ball', 42.37149047251571), ('60', 42.33421620594449), ('twenty', 42.2957828131287), ('woods', 42.27211590096776), ('picture', 42.26034719841258), ('respect', 42.21903857512573), ('18', 42.21784615928996), ('rave', 42.176309892126504), ('hole', 42.1570863117766), ('hoping', 42.13855607675236), ('term', 42.105293113816515), ('deeper', 42.06313663776537), ('easier', 42.03691040445377), ('seriously', 42.029965656239334), ('flow', 42.02173293436978), ('layed', 41.96659826336901), ('burn', 41.84396366707271), ('popped', 41.821461533467286), ('pack', 41.81183043590735), ('wouldnt', 41.79276228827886), ('purple', 41.76417825738731), ('chill', 41.763763880467984), ('tongue', 41.72870327257792), ('finding', 41.72417806511883), ('of', 41.671769644756516), ('screaming', 41.665936221208675), ('saturday', 41.641946282252064), ('answer', 41.63165041090813), ('gradually', 41.61306487936387), ('roughly', 41.60237076485972), ('noise', 41.601670201899786), ('heat', 41.60127818416403), ('caps', 41.56644288604148), ('knows', 41.55369350016989), ('avoid', 41.53801029013232), ('nasty', 41.53313794651118), ('scale', 41.50872052053887), ('cough', 41.500320269938484), ('image', 41.48551321759485), ('constant', 41.46305950060526), ('suggested', 41.372540461970395), ('cat', 41.332062981992294), ('curious', 41.325723817936215), ('stimulation', 41.28790482799668), ('truth', 41.27046509554729), ('fingers', 41.232150338639016), ('darkness', 41.11868627920011), ('methadone', 41.118409790704824), ('surroundings', 41.04068273839412), ('whenever', 41.022581404281866), ('larger', 41.01463479676378), ('trippy', 40.94805700271714), ('dreaming', 40.92925983474405), ('hanging', 40.89654915094133), ('poured', 40.82709000008569), ('is', 40.81372370158378), ('effexor', 40.75609440864279), ('flowers', 40.727900431712044), ('position', 40.70553890655393), ('happiness', 40.68221800557388), ('police', 40.66042017084434), ('worry', 40.648214195865705), ('influence', 40.64762350353094), ('pink', 40.62461462588748), ('shape', 40.609040927870275), ('noted', 40.58890393492202), ('confusion', 40.58235204674801), ('train', 40.572555287772744), ('putting', 40.54710082871367), ('dosing', 40.543770199556626), ('pleasure', 40.45312481133144), ('planned', 40.422285823952095), ('realised', 40.41690614945108), ('reported', 40.3865884462315), ('path', 40.386538659428446), ('relaxation', 40.37815637629642), ('psilocybin', 40.37731559823668), ('covered', 40.35319412441235), ('grew', 40.324704249092825), ('shortly', 40.21750847929956), ('plus', 40.13373478976192), ('doubt', 40.10175805941035), ('evil', 40.100098026351596), ('choice', 40.014075592522325), ('strength', 40.013077469069245), ('seed', 40.00276331135449), ('age', 39.973389668652466), ('ounce', 39.95215931487152), ('smile', 39.947829783178754), ('breathe', 39.93865093750203), ('learn', 39.81878544537731), ('offered', 39.79140338598774), ('led', 39.76194180354773), ('forest', 39.73475993725054), ('connected', 39.7247574241378), ('smaller', 39.71987034102421), ('health', 39.68800505405224), ('awareness', 39.677187007443855), ('magic', 39.67320118487198), ('wondering', 39.65840602372297), ('reach', 39.64856923886932), ('video', 39.63521330936696), ('center', 39.62645124710648), ('meditation', 39.61588605475636), ('oral', 39.603046445166825), ('kids', 39.59763948543869), ('bud', 39.54887792956618), ('indeed', 39.50827753506647), ('definately', 39.489836335358866), ('30am', 39.48589683950319), ('stairs', 39.465005289513364), ('events', 39.4548234402805), ('methylone', 39.44093853702717), ('everyday', 39.42888638642362), ('dinner', 39.4170690973302), ('changes', 39.33546379681926), ('finish', 39.33213039878735), ('sucked', 39.32710520994722), ('yeah', 39.325502151344125), ('inhaled', 39.322539494606694), ('remained', 39.27785198299317), ('bus', 39.270691404672235), ('typical', 39.261104104715976), ('alien', 39.19601009220899), ('otherwise', 39.16035756823197), ('lived', 39.10998748367839), ('act', 39.09860219758684), ('hair', 39.02680557721668), ('mentioned', 38.98332982548517), ('dosed', 38.94648487434648), ('loaded', 38.92776673695033), ('brown', 38.91166818220248), ('kid', 38.89968412071686), ('pieces', 38.88974141127895), ('joy', 38.80076366188031), ('scene', 38.79482187316273), ('neither', 38.78321504562253), ('extra', 38.7721862647221), ('stress', 38.743892326600594), ('entered', 38.70809695783558), ('vicodin', 38.645724207743754), ('passing', 38.641728292626716), ('sleepy', 38.61615303207572), ('available', 38.60275441265755), ('distorted', 38.53254903855404), ('lsa', 38.484895912123314), ('deeply', 38.465243679598665), ('unless', 38.44487198014037), ('trails', 38.43109699437811), ('wide', 38.40503206235887), ('hardly', 38.40017860404614), ('mindset', 38.36914272808354), ('levels', 38.32570494745928), ('balance', 38.27287405957806), ('warmth', 38.25115475243291), ('ice', 38.250521441569106), ('involved', 38.24239060976218), ('active', 38.20339497914804), ('other', 38.19225344417795), ('duration', 38.17750552459485), ('painful', 38.12127599306868), ('direction', 38.11518697180996), ('sexual', 38.10093072347157), ('spend', 38.09788965734595), ('wearing', 38.07690811844275), ('reminded', 38.0555890822554), ('wind', 37.98624235413288), ('lives', 37.91043456279482), ('re', 37.889127077324595), ('solution', 37.873790314929174), ('enhanced', 37.82196568918851), ('pulse', 37.67451012795993), ('tingling', 37.634966720223865), ('14', 37.5982823816333), ('soft', 37.55877552282254), ('speaking', 37.52665237137985), ('melatonin', 37.495878127156836), ('connection', 37.48934671950433), ('helps', 37.47729120178636), ('hungry', 37.4709222129802), ('source', 37.45421037241697), ('sweat', 37.43984849438771), ('wore', 37.431793977041174), ('cap', 37.43101940315984), ('awful', 37.4143264389564), ('being', 37.350963533025784), ('allowed', 37.34866310920326), ('actual', 37.33731002784034), ('lucky', 37.27635069853322), ('tent', 37.25897619676573), ('father', 37.25636963573312), ('carpet', 37.22470689609006), ('beers', 37.166015947150015), ('fight', 37.069883254851156), ('divinorum', 37.00932725187544), ('wild', 36.899832750974255), ('tonight', 36.896820753201965), ('dramamine', 36.882402837657025), ('partner', 36.871362350104235), ('glow', 36.842065299261954), ('upset', 36.82809853657602), ('rapidly', 36.82447296314808), ('wrote', 36.819732553720115), ('strongly', 36.79564256128924), ('bar', 36.76647768656169), ('stick', 36.749249653096186), ('honestly', 36.7488950092569), ('alert', 36.742165709758915), ('besides', 36.727027605324984), ('forced', 36.714214888592885), ('paxil', 36.645853997108155), ('affect', 36.63348577365335), ('significant', 36.525946026165045), ('event', 36.507659513782), ('subject', 36.43632726936741), ('colours', 36.38168780727579), ('psychoactive', 36.373825109484024), ('faded', 36.31380438239967), ('ideas', 36.309718409346964), ('throwing', 36.305606576339734), ('luckily', 36.30188332482452), ('exist', 36.301770472176116), ('tension', 36.299215778650435), ('cups', 36.292782657977625), ('conversations', 36.28597069094081), ('stimulant', 36.27691449471972), ('amazed', 36.23907161630103), ('shop', 36.23857117641524), ('here', 36.19466852716441), ('bliss', 36.15953809476888), ('difficulty', 36.15790476874358), ('plateau', 36.1470875965975), ('track', 36.135938477929486), ('sugar', 36.11743952529652), ('greatly', 36.08350616477553), ('compound', 36.08045137761256), ('disappointed', 36.078266073784555), ('pcp', 36.056247496847945), ('based', 36.04087400290777), ('produced', 36.029880537571124), ('male', 35.99291226708229), ('noticing', 35.9751087195567), ('girls', 35.94936596433502), ('once', 35.908288092377255), ('sad', 35.89821644998819), ('combined', 35.88653715049858), ('thank', 35.88263215659661), ('interest', 35.85189368106081), ('pop', 35.78264198890916), ('auditory', 35.77775110710701), ('melting', 35.7471032163592), ('related', 35.736945656576154), ('inner', 35.72683537031712), ('repeat', 35.71569412040891), ('35', 35.68615402715189), ('effort', 35.65068199505668), ('losing', 35.582892454133095), ('crystal', 35.57010918504857), ('sent', 35.52265526422588), ('final', 35.52253335408534), ('hash', 35.52100244155121), ('laughter', 35.494788031634876), ('doesnt', 35.484392200925015), ('concerned', 35.467504585016876), ('received', 35.44366985261637), ('absinthe', 35.34466400862338), ('hate', 35.34276791188516), ('follow', 35.32703117234796), ('appear', 35.28018305270114), ('swirling', 35.262966676820184), ('neck', 35.19136328307072), ('pay', 35.187086938622684), ('lasting', 35.170322213396155), ('smooth', 35.063238936687725), ('believed', 35.04482868585969), ('directly', 35.030836587334434), ('sight', 35.015652394799694), ('clarity', 35.006739595011574), ('child', 34.993106883728615), ('ingesting', 34.97347622090874), ('heavily', 34.96666745574295), ('fuzzy', 34.940812986683554), ('affected', 34.93426245143052), ('buddy', 34.92872014333635), ('woman', 34.90434965568224), ('stare', 34.88875423125374), ('harsh', 34.88072350660357), ('balls', 34.86820936766523), ('contact', 34.85178007989103), ('ecstacy', 34.835323856482134), ('recommended', 34.8023782609562), ('approx', 34.80194166767914), ('oz', 34.8001283888904), ('keeping', 34.76107952059158), ('dilated', 34.7448442930338), ('round', 34.724262205798276), ('opening', 34.71904535146412), ('hrs', 34.67920400498125), ('after', 34.670207349668026), ('experimenting', 34.66913935101419), ('guitar', 34.66018013322917), ('exact', 34.63342920634357), ('insomnia', 34.61569804690307), ('meet', 34.61428401408384), ('dealer', 34.60730080841266), ('unknown', 34.59411399004218), ('wear', 34.55181292185218), ('ahead', 34.5486444024775), ('acting', 34.5376328794381), ('mgs', 34.51147758093185), ('explained', 34.48540664469615), ('aside', 34.460366326735), ('beating', 34.4488243303928), ('brief', 34.44450126854231), ('remaining', 34.35878870008194), ('lead', 34.32335100345664), ('blanket', 34.31658245064952), ('thus', 34.30496820599581), ('super', 34.26558659096728), ('turns', 34.25303045003113), ('chewing', 34.23990149393925), ('opinion', 34.21704157220544), ('massive', 34.21413486571903), ('seat', 34.19172537659028), ('cops', 34.18621615380371), ('dorm', 34.150077234567846), ('occasions', 34.1382291710333), ('30mg', 34.13266875453569), ('glowing', 34.12704212131665), ('basement', 34.11501848519155), ('places', 34.09944786974197), ('ambulance', 34.09842111798842), ('hallucinating', 34.080587034313105), ('sweet', 34.015902048149364), ('disappeared', 34.00850837596296), ('circle', 33.99808629171722), ('extraction', 33.981081721748616), ('foot', 33.974486965863576), ('plastic', 33.88957210475593), ('oxycodone', 33.88069157669847), ('becomes', 33.864665533895504), ('occurred', 33.84953844114901), ('example', 33.82342349097227), ('midnight', 33.817882510347765), ('waste', 33.81035672195367), ('ease', 33.78158996738235), ('giant', 33.773930366731186), ('tastes', 33.763961105472724), ('distance', 33.70819823479788), ('25mg', 33.6874394722828), ('blown', 33.66990818395239), ('tunnel', 33.658086172725916), ('forgotten', 33.65201401121201), ('jumped', 33.640823020824904), ('eternity', 33.62555524769745), ('surface', 33.60385436916827), ('anywhere', 33.601358463576055), ('tracers', 33.58658836524165), ('frightening', 33.58247692908882), ('effective', 33.56765921999698), ('damage', 33.56742441522385), ('clothes', 33.522942098307006), ('relief', 33.51297740686024), ('17', 33.46460789578491), ('tabs', 33.458928098923835), ('hang', 33.427646191111315), ('repeated', 33.39231037012178), ('begins', 33.38365435837374), ('preparation', 33.37405235926156), ('aspect', 33.330743799451696), ('decent', 33.30259851144803), ('crash', 33.29598651367856), ('subsided', 33.29012187513547), ('function', 33.27621345048712), ('oxycontin', 33.21552741690843), ('habit', 33.208150944170775), ('issues', 33.19310553764575), ('chewed', 33.17463870903887), ('buzzing', 33.17328823755887), ('lasts', 33.128742634336504), ('grow', 33.12568142707564), ('hitting', 33.1219359184968), ('alright', 33.118082567312385), ('created', 33.10416659035205), ('peaking', 33.096031527216276), ('whatsoever', 33.0706416343252), ('trust', 33.068490078063135), ('fan', 32.99679842710594), ('hill', 32.981490740788956), ('surprise', 32.88885425964288), ('peaceful', 32.843624063053234), ('grade', 32.82211436272051), ('moderate', 32.8169994310815), ('tablet', 32.809576442027975), ('history', 32.79229893606173), ('attacks', 32.78325358187807), ('freaking', 32.769745057490745), ('leg', 32.71579552363936), ('staying', 32.70671366082751), ('considered', 32.68848795174456), ('broken', 32.651304478521375), ('joints', 32.648974101457696), ('lotus', 32.643046156518565), ('calling', 32.623315491773255), ('each', 32.59752119545809), ('baby', 32.56780248839642), ('distortions', 32.543388038938794), ('boiled', 32.516388164353835), ('tend', 32.47285741306775), ('shift', 32.47069367650029), ('beings', 32.46428524405803), ('young', 32.42503118758016), ('brew', 32.417266295706156), ('mda', 32.41185292887476), ('miles', 32.39988981391414), ('sold', 32.36461388644109), ('purpose', 32.362350572449), ('session', 32.36088392403909), ('post', 32.35454685991127), ('complex', 32.31834807489129), ('pissed', 32.281107445184894), ('annoying', 32.25686868479441), ('wormwood', 32.2351238844638), ('200', 32.227136750777674), ('realizing', 32.20440271380508), ('mad', 32.192665203710256), ('drinks', 32.17798635593172), ('touched', 32.13552787608885), ('mildly', 32.119115845709395), ('double', 32.102342999116345), ('colored', 32.09898816412945), ('stumbled', 32.088716821109685), ('flat', 32.08138561153128), ('perspective', 32.07840628455145), ('vodka', 32.0723332168892), ('wine', 32.06785757882924), ('cheap', 32.052372572081154), ('washed', 32.043702618814486), ('compare', 32.03651807924947), ('mainly', 31.999111655592937), ('ears', 31.938753671608787), ('swallow', 31.933238401625736), ('unique', 31.900094487858002), ('activity', 31.88396108701874), ('letting', 31.865422912020627), ('distinct', 31.86265562759177), ('shots', 31.859166047650138), ('ether', 31.846895020662743), ('toward', 31.79787575769552), ('spice', 31.789733446682806), ('release', 31.77852939966665), ('notes', 31.773579887755822), ('details', 31.761501462818707), ('dosages', 31.760265708073703), ('nowhere', 31.760107911884063), ('language', 31.690229352675473), ('exhausted', 31.67449091162097), ('smiling', 31.639855254970296), ('occasional', 31.639322304711143), ('plenty', 31.636103443411066), ('moon', 31.57098331303706), ('definite', 31.557339628017875), ('obvious', 31.531099203399528), ('wondered', 31.527600132758902), ('mixing', 31.488525912481204), ('shirt', 31.485760587234523), ('mark', 31.444912651637715), ('dissolved', 31.44368295415459), ('shake', 31.43138145724504), ('syrian', 31.424771907909122), ('hey', 31.423227882304285), ('boy', 31.414330026644937), ('crap', 31.382843991341144), ('exhaled', 31.365239235283227), ('disorder', 31.319558963329268), ('fantastic', 31.29696703784558), ('pulling', 31.288319772884655), ('warning', 31.283288929269442), ('stories', 31.27303120764078), ('pronounced', 31.224368974029325), ('detail', 31.217589699681323), ('relationship', 31.21074914266915), ('puked', 31.174313298206414), ('unusual', 31.161658317698624), ('individual', 31.158867381923464), ('pleasurable', 31.14514227262788), ('concentration', 31.125877576219818), ('company', 31.12100172679824), ('escape', 31.11402569871669), ('degree', 31.102877537090823), ('burned', 31.044191686199547), ('states', 31.008762454948712), ('aid', 31.006570246637153), ('heaven', 31.00132532169009), ('doctors', 30.993900861727234), ('depth', 30.97759899631483), ('for', 30.935008982253258), ('push', 30.920137137194867), ('puking', 30.90360214527017), ('13', 30.875077746303326), ('object', 30.87023605851215), ('kicking', 30.79630764419883), ('spoke', 30.79004571818425), ('solid', 30.768013537222828), ('freak', 30.76223791978984), ('hallucinogens', 30.721796941970705), ('flower', 30.721574373765687), ('closing', 30.711457947575077), ('temperature', 30.682505624938333), ('yesterday', 30.672274126166794), ('apparent', 30.63107533388119), ('experimented', 30.629384443588084), ('attempted', 30.58993946887432), ('explore', 30.58458791511932), ('personally', 30.57266098348672), ('everybody', 30.571698867164645), ('suggest', 30.56007101158998), ('brighter', 30.547236331019118), ('cars', 30.504478071844158), ('htp', 30.47657884841132), ('advice', 30.47092327206388), ('blowing', 30.439541376102227), ('personality', 30.430493657724597), ('fit', 30.40510004229215), ('ml', 30.40147129217946), ('condition', 30.400235008394592), ('milk', 30.346308085336307), ('users', 30.32499022135253), ('entity', 30.30141887389002), ('doing', 30.297123971003533), ('lunch', 30.287973655577023), ('lips', 30.285471295275446), ('200mg', 30.265825517277744), ('eight', 30.246346921698233), ('intensely', 30.218169169969755), ('excellent', 30.200152184327113), ('sunday', 30.190467926629868), ('glasses', 30.175809719837442), ('concept', 30.12537638253638), ('regularly', 30.116939971471652), ('bottles', 30.115424567811136), ('wellbutrin', 30.108809137134717), ('infinite', 30.0864885677673), ('sign', 30.07138142413853), ('catnip', 30.05393533972204), ('filter', 30.01784508502182), ('abuse', 30.012939685204035), ('orgasm', 29.982223648408205), ('product', 29.96947386429886), ('insight', 29.963206845731417), ('calmed', 29.92165485786061), ('shifting', 29.885713282063932), ('sensitive', 29.87499374868239), ('mess', 29.873825954893142), ('colorful', 29.81896192594446), ('properly', 29.806564205912032), ('jump', 29.773149904649234), ('induced', 29.77194942824107), ('amphetamines', 29.76787575823732), ('art', 29.714632273596905), ('energetic', 29.69557766488447), ('female', 29.69105074111867), ('mate', 29.68388071371114), ('sickness', 29.675474659473434), ('tasting', 29.673738960420586), ('greater', 29.65257850614534), ('iv', 29.64276289664143), ('machine', 29.600537868564746), ('prepare', 29.526050876062726), ('planning', 29.51361624647717), ('save', 29.50978791691736), ('typing', 29.49424882403169), ('overwhelmed', 29.485861630074645), ('ingest', 29.4588446213914), ('sharp', 29.45190908436561), ('placebo', 29.43109233606722), ('150', 29.419470321825234), ('pictures', 29.397965820506386), ('allow', 29.383522397422485), ('insufflated', 29.374218213538658), ('television', 29.31710821685974), ('begun', 29.305167091067645), ('smoker', 29.264738754109292), ('badly', 29.263491023409184), ('produce', 29.250513758729163), ('pushed', 29.232381622154993), ('itself', 29.227179364279287), ('10x', 29.2035207487909), ('suppose', 29.196273949644002), ('appetite', 29.184582168342576), ('same', 29.18345095972299), ('speedy', 29.14981332142732), ('hung', 29.122613699990417), ('bizarre', 29.12043134304956), ('bigger', 29.108457698550378), ('chose', 29.09836063129215), ('blunt', 29.084431615008462), ('mj', 29.054282371309288), ('thick', 29.013026718870154), ('site', 28.995413627701858), ('minds', 28.987496820322807), ('valerian', 28.9656996067971), ('weighed', 28.949051491540704), ('comfort', 28.94362719436931), ('garden', 28.92151836847186), ('opportunity', 28.91186883285688), ('decision', 28.84078511486674), ('points', 28.827973168517502), ('terms', 28.75213865542049), ('grab', 28.74021221228071), ('void', 28.702237671081406), ('then', 28.666403883813302), ('sometime', 28.642059996389474), ('shadows', 28.641125042138928), ('sized', 28.63745540640346), ('blow', 28.636484643753843), ('limbs', 28.604466274831854), ('currently', 28.55994688978155), ('written', 28.549934681122135), ('gravity', 28.54835750198681), ('psychological', 28.495967800830204), ('illegal', 28.49460874889898), ('nobody', 28.492687565320946), ('sorts', 28.48903227013424), ('gentle', 28.48861425977842), ('visit', 28.457873676353564), ('thirty', 28.45146662461453), ('catch', 28.451056703125655), ('oil', 28.430385187756286), ('drip', 28.419262181804207), ('erowid', 28.408014729492834), ('naturally', 28.398762923177934), ('seizure', 28.373843989048847), ('overdose', 28.354584056972975), ('plane', 28.352457820493033), ('games', 28.334949093140413), ('manner', 28.31590363275769), ('emotion', 28.303591796532384), ('hadnt', 28.29486381162384), ('developed', 28.286318703929666), ('tested', 28.283099536117707), ('nearby', 28.263335832702648), ('21', 28.2525094093442), ('piss', 28.204809580481303), ('affects', 28.168315298528558), ('containing', 28.16581441076415), ('realm', 28.14897280955188), ('communicate', 28.146172238054177), ('sorry', 28.139288456982587), ('luck', 28.132742722355967), ('terrifying', 28.12679879979985), ('reasons', 28.10632126932574), ('checked', 28.103549162507548), ('friendly', 28.096480653228728), ('bags', 28.09470237545063), ('account', 28.079188514675096), ('san', 28.076376437618734), ('boring', 28.075584027958865), ('consumption', 28.069895704324082), ('medical', 28.05909799338465), ('quarter', 28.050728175088768), ('bother', 28.036310764880913), ('danced', 28.00989960116304), ('shroom', 27.95682201951634), ('john', 27.940459645324125), ('settled', 27.935844208979567), ('retrospect', 27.930432671136177), ('desk', 27.92361672762296), ('some', 27.88971269390756), ('absolute', 27.840283746763905), ('geometric', 27.765112516070005), ('cry', 27.760882300410664), ('wet', 27.74719959259678), ('vitamin', 27.734667885171962), ('finger', 27.723052487394025), ('herbal', 27.698812396386444), ('5x', 27.687384410288225), ('sensory', 27.681472041260225), ('counter', 27.67880653226611), ('downed', 27.654082872411234), ('05', 27.641046371992857), ('instant', 27.62950214410283), ('accompanied', 27.610470095183306), ('90', 27.60733152258106), ('boiling', 27.59004435505196), ('colour', 27.585885305837383), ('fifteen', 27.5850510441881), ('awe', 27.56021361755759), ('tears', 27.55905510029754), ('lake', 27.49679054404664), ('yard', 27.474860112378387), ('dimensional', 27.472140407856045), ('useful', 27.459889747448727), ('station', 27.448507680201754), ('soda', 27.44824139833724), ('speech', 27.43064599440608), ('15mg', 27.430286332277767), ('repeating', 27.425696298077614), ('stimulants', 27.42008732727511), ('average', 27.419335764749455), ('pool', 27.415690298153482), ('sore', 27.393582451280473), ('terror', 27.360239511307356), ('bodies', 27.35959667286989), ('distortion', 27.352333212824437), ('milligrams', 27.27351940113529), ('shared', 27.236792478828903), ('loving', 27.21879387088132), ('combo', 27.201678984859182), ('inhale', 27.192744742307607), ('seven', 27.19204095126413), ('semi', 27.184278840608314), ('blew', 27.14450759955048), ('remain', 27.130247953664497), ('basis', 27.09984542699908), ('batch', 27.066726155108324), ('action', 27.060773981384816), ('study', 27.045207878348133), ('regret', 26.96292351657163), ('frequently', 26.94912110636853), ('occasion', 26.919568893465534), ('key', 26.916410181434408), ('spread', 26.909063045734882), ('necessary', 26.90719622371961), ('gel', 26.88795390551486), ('imagined', 26.871684790121794), ('yelling', 26.86824444940263), ('fair', 26.86596858049886), ('gbl', 26.85424639340738), ('separate', 26.824316936497283), ('river', 26.82141326518467), ('healthy', 26.820817377260965), ('and', 26.810567981460906), ('doors', 26.77242029615539), ('opposite', 26.7197766232548), ('thc', 26.670595032936202), ('uncontrollably', 26.65923040378586), ('seroquel', 26.649940809231055), ('carefully', 26.646266472089632), ('porch', 26.636506451963253), ('concert', 26.62013256015994), ('aspects', 26.61879788157155), ('intoxicated', 26.608769169736366), ('headaches', 26.58702697224665), ('syrup', 26.58374836165946), ('dope', 26.58178508071546), ('associated', 26.54710129089743), ('worn', 26.542942295539447), ('surrounded', 26.54239913967763), ('diphenhydramine', 26.521724388625334), ('medium', 26.50613935794288), ('vomited', 26.50504046030517), ('isnt', 26.495795489864697), ('songs', 26.484988866468115), ('returning', 26.48059597561739), ('increasing', 26.480315666369354), ('spirits', 26.476003121197532), ('zoloft', 26.47557186293328), ('causes', 26.468335958810957), ('realization', 26.46711473472657), ('needless', 26.46364515412723), ('drowsy', 26.455660269775194), ('movies', 26.418950765746274), ('risk', 26.415033742498004), ('touching', 26.412760873498144), ('ripped', 26.411694976788013), ('hallucinogenic', 26.403175776038424), ('fade', 26.389788740503203), ('surprisingly', 26.387468853495907), ('hopefully', 26.370972700609776), ('fat', 26.354057915069365), ('herbs', 26.32753667940837), ('balloon', 26.326556322145315), ('terrified', 26.31829468249779), ('existed', 26.304884436564645), ('benadryl', 26.303509294375655), ('emotionally', 26.249735544617057), ('measured', 26.236531359458855), ('wood', 26.2300691854184), ('angry', 26.191610495232293), ('tab', 26.188831862201116), ('whilst', 26.182610478016358), ('therefore', 26.159457711957838), ('extent', 26.15616667119705), ('tryptamine', 26.15170778325241), ('create', 26.145667148623396), ('calea', 26.111082942901902), ('current', 26.11022162121397), ('fluid', 26.087726556366732), ('band', 26.07024140146741), ('bath', 26.068655925536728), ('removed', 26.063038184231484), ('doc', 26.059172008573988), ('shooting', 26.017422205619027), ('land', 26.013123138199095), ('snow', 25.99080992272089), ('motor', 25.91119208210743), ('wash', 25.899075756565274), ('visually', 25.883857119407097), ('cop', 25.883603684430927), ('noises', 25.875256875077568), ('causing', 25.8746536387696), ('thanks', 25.8553814965523), ('contained', 25.85094498471946), ('tube', 25.80423360926976), ('300', 25.78639859363524), ('cell', 25.747852746231537), ('mid', 25.728517303351687), ('tool', 25.70896333187044), ('frightened', 25.684898040155613), ('dizziness', 25.684410487275706), ('lets', 25.682300623504478), ('needle', 25.680293959219203), ('rid', 25.680206963192187), ('trail', 25.67191260755172), ('merely', 25.669251530188625), ('pedro', 25.63573619244444), ('nuts', 25.571144710751856), ('husband', 25.56342149466927), ('response', 25.558389711626), ('tingly', 25.55717156012647), ('sink', 25.542743436653787), ('pee', 25.52603587396937), ('pains', 25.523531638907873), ('date', 25.518881650168662), ('lemon', 25.509515945329778), ('description', 25.505534577630158), ('cousin', 25.49127965985236), ('significantly', 25.46742824798693), ('22', 25.453770439040696), ('enter', 25.4476667037068), ('were', 25.44116006987315), ('morphing', 25.378338552433835), ('seemingly', 25.37753734444122), ('informed', 25.367834803721657), ('cross', 25.362857833053905), ('garage', 25.358609846902972), ('fly', 25.338709460289415), ('fill', 25.282638260869767), ('chocolate', 25.2685941424419), ('brand', 25.256408068022992), ('suffering', 25.2347744656378), ('spoon', 25.2327773620746), ('disoriented', 25.21654456150406), ('ephedrine', 25.216371011730665), ('strangely', 25.216209055495888), ('actions', 25.196658926168276), ('poppy', 25.193018625773203), ('chilled', 25.17998389761513), ('hall', 25.12770314629918), ('holy', 25.12605019332186), ('immediate', 25.118038078440396), ('breakfast', 25.115945789230068), ('prozac', 25.11132351514592), ('tests', 25.104658764254282), ('refreshed', 25.084515771517246), ('supply', 25.077336140702247), ('entities', 25.06289938477746), ('searching', 25.060779233791862), ('ex', 25.028240420338637), ('piracetam', 24.999590502996888), ('initially', 24.988357302618546), ('mephedrone', 24.959443688156842), ('tells', 24.931506604270023), ('swallowing', 24.92943473244223), ('powdered', 24.918665876540526), ('own', 24.900311384758943), ('confident', 24.898479737755995), ('flame', 24.857198504454985), ('foil', 24.84543487207895), ('manage', 24.82600983872868), ('boil', 24.817481405952524), ('talkative', 24.816831331156642), ('frame', 24.81114617581648), ('rain', 24.801434431589875), ('crawling', 24.7995586035699), ('violently', 24.797977108697783), ('obtained', 24.79401619454218), ('cycle', 24.787877753524537), ('80', 24.766082931711335), ('usage', 24.758954631076534), ('meal', 24.755345952517736), ('multiple', 24.754340159263855), ('build', 24.744623992840737), ('message', 24.719620668140152), ('range', 24.709722987904755), ('noon', 24.665453215978246), ('parking', 24.643877723876066), ('intensified', 24.5793613864774), ('carried', 24.546624716501775), ('signs', 24.541141436678746), ('heads', 24.502210412723457), ('drops', 24.494215074968142), ('built', 24.469733908824537), ('lift', 24.463769834292105), ('pizza', 24.460191724870857), ('utterly', 24.45076596281702), ('phase', 24.426941094458797), ('consume', 24.410483484077137), ('blurry', 24.406507100285463), ('loop', 24.405898512037016), ('somebody', 24.39425851829203), ('pounding', 24.36672476060676), ('variety', 24.364302571271487), ('package', 24.343558064454257), ('focusing', 24.337695619416692), ('kinds', 24.3237134583739), ('rushing', 24.30050908020291), ('web', 24.286940962029835), ('impression', 24.272343683137386), ('chew', 24.271327498981417), ('offer', 24.257245899428508), ('price', 24.256913974455944), ('oxy', 24.253433794690537), ('slowed', 24.244230094366394), ('surrounding', 24.229267300752795), ('lady', 24.207310412580398), ('fallen', 24.20453756421694), ('willing', 24.187079693108615), ('aco', 24.187034726575813), ('assumed', 24.14462663839511), ('buying', 24.135853551791108), ('base', 24.128850960843423), ('thoroughly', 24.105135186265944), ('wont', 24.100545786695257), ('wierd', 24.096281401229383), ('among', 24.095741139229577), ('inhaling', 24.093721060347608), ('meds', 24.084798431321428), ('remembering', 24.084233895203138), ('public', 24.075876228505525), ('01', 24.06322629963128), ('noticable', 24.05201834038196), ('acquired', 24.043433774014428), ('through', 24.02301175395812), ('accept', 24.01437753126942), ('numerous', 24.012987710097246), ('dude', 23.974483565939018), ('medications', 23.966189157763118), ('gently', 23.956234577713015), ('choose', 23.95325795320518), ('poor', 23.94683215583688), ('drifted', 23.93407091846091), ('forming', 23.9087076122483), ('addict', 23.90359641839463), ('painting', 23.902585674589524), ('loose', 23.89741370172141), ('wasted', 23.89740847292397), ('children', 23.88500770852872), ('fourth', 23.882119945508194), ('flavor', 23.87759948324163), ('silence', 23.873587110346882), ('ocean', 23.86214822657289), ('disturbing', 23.838000256714476), ('stone', 23.827395094139927), ('pushing', 23.824540315501626), ('episode', 23.819981998175496), ('altering', 23.812758816402543), ('metal', 23.812186639879645), ('missing', 23.809876905502616), ('consuming', 23.804959501676368), ('plain', 23.77548472391233), ('recent', 23.747850974879924), ('locked', 23.73057671607963), ('serotonin', 23.699358604478622), ('500', 23.691397040012845), ('rainbow', 23.687156425952423), ('highs', 23.68607861489019), ('wrapped', 23.655998325901198), ('task', 23.642779839418264), ('joke', 23.640469632607907), ('heightened', 23.63170203821211), ('dimensions', 23.598744715256164), ('naked', 23.593279500423773), ('steps', 23.572824282600305), ('specific', 23.570555239618667), ('ssri', 23.557612870899554), ('reflection', 23.53229131360799), ('mountain', 23.530501432403145), ('treat', 23.515584479776088), ('periods', 23.508146680559598), ('fractal', 23.502823318928293), ('19', 23.49687450074632), ('according', 23.486085239009512), ('faint', 23.470441887060396), ('movements', 23.46958838242859), ('planet', 23.455420543653887), ('grinder', 23.453692817882118), ('addition', 23.42658242023601), ('reaching', 23.41093352705448), ('handed', 23.396467258026703), ('caution', 23.391610982602508), ('film', 23.39042098455856), ('wise', 23.388757482005904), ('boost', 23.380297927011686), ('singing', 23.37734500903449), ('restless', 23.371009661874062), ('peaked', 23.35326140534409), ('failed', 23.338986000839004), ('character', 23.33847406615854), ('hooked', 23.335351370934454), ('threshold', 23.32964855886054), ('clenching', 23.322381068982533), ('headphones', 23.31131926957773), ('melt', 23.310451288187274), ('distant', 23.307022010929526), ('trapped', 23.28946668574282), ('rapid', 23.28710417832791), ('search', 23.28614109378078), ('fighting', 23.283775388044354), ('keeps', 23.283133866449457), ('40mg', 23.274163963027345), ('treatment', 23.258308708039753), ('nicotine', 23.250922810530298), ('formed', 23.247891417426956), ('proper', 23.232353922828402), ('draw', 23.22816073314641), ('melted', 23.213867484004805), ('gained', 23.191251120773554), ('candy', 23.168683061396866), ('300mg', 23.145936894954197), ('nicely', 23.141773246322792), ('havent', 23.14049900829495), ('electric', 23.1213301393727), ('learning', 23.111008848756715), ('style', 23.1087779257773), ('thrown', 23.096386856425518), ('student', 23.075338891448524), ('pounds', 23.050406261125264), ('teacher', 23.023545293667055), ('tall', 23.00498788616365), ('arrive', 22.98472411013244), ('replied', 22.978610320710537), ('flashes', 22.95111415855074), ('jwh', 22.903639004093534), ('grown', 22.882794140050333), ('pants', 22.881539888781212), ('cream', 22.86444757740944), ('150mg', 22.851471190495793), ('ending', 22.84859352016797), ('nurse', 22.843502084317926), ('chronic', 22.803321017539375), ('overcome', 22.777042271551814), ('coordination', 22.773756839808776), ('sand', 22.753831759745285), ('admit', 22.73647780618156), ('dollars', 22.728724360209867), ('flash', 22.7175346963951), ('twitching', 22.65237587963695), ('sea', 22.644476499427633), ('needs', 22.641151267394807), ('jumping', 22.623393234988686), ('wandered', 22.62217273890149), ('the', 22.614956294033558), ('assume', 22.60883522584343), ('audio', 22.561549499262625), ('crystals', 22.556426482824456), ('silly', 22.555388132450904), ('player', 22.530552477708316), ('numbness', 22.51643680360562), ('pile', 22.506827728971405), ('list', 22.505182357833473), ('3rd', 22.492922218705008), ('honey', 22.489209352797417), ('biggest', 22.477839605180602), ('original', 22.47338594357184), ('have', 22.41184478665363), ('limited', 22.396597884490586), ('recognize', 22.39104408332631), ('alternative', 22.345529962474203), ('imagination', 22.342738589208853), ('texture', 22.341194437703596), ('pillow', 22.335134794742288), ('jittery', 22.31094182714629), ('ho', 22.309861839712855), ('pocket', 22.306178769040255), ('achieve', 22.301369541228354), ('2cb', 22.281820476027022), ('greatest', 22.2583360258046), ('hyper', 22.245253956540175), ('country', 22.24095296881311), ('circles', 22.23323796285722), ('standard', 22.230156416863625), ('by', 22.206547165209642), ('guide', 22.198432109637174), ('blotter', 22.195064638064277), ('skills', 22.19288466113686), ('situations', 22.192856243176745), ('empathy', 22.18899936120863), ('campus', 22.185952454022914), ('smart', 22.18179362072814), ('occur', 22.1720659866759), ('bark', 22.163331992959915), ('confusing', 22.156459681947446), ('cleaning', 22.153362174108377), ('stream', 22.12890552816002), ('lifted', 22.11766667104169), ('directions', 22.102804119708072), ('hotel', 22.101902803369953), ('saved', 22.081653183816087), ('controlled', 22.078882618268985), ('suffer', 22.07838713019048), ('rarely', 22.072840728721772), ('inch', 22.072438310196826), ('smiled', 22.067424977304952), ('damiana', 22.063855624585035), ('monday', 22.06140982076259), ('forms', 22.059319581048644), ('helping', 22.047026320328577), ('potency', 22.020262607388982), ('intoxication', 22.011397647151956), ('busy', 22.000716249273765), ('million', 21.995285803012536), ('amazingly', 21.993245616056008), ('jar', 21.98672556422814), ('eyed', 21.985420416491305), ('thin', 21.966910449095288), ('cevs', 21.955356188271644), ('drift', 21.94940263406522), ('properties', 21.946606634066622), ('provided', 21.91654805011205), ('accepted', 21.91408999409166), ('emergency', 21.887499666528306), ('sedated', 21.86301049647794), ('stepped', 21.84821980757506), ('lesson', 21.847397765540464), ('christmas', 21.833024182557814), ('killed', 21.81501633192902), ('bump', 21.812852328929736), ('stimulated', 21.811815966006698), ('snapped', 21.810890375171166), ('floyd', 21.809136382116538), ('shadow', 21.79031745779735), ('theres', 21.781400427945503), ('provide', 21.770135865839176), ('afterglow', 21.76346958339233), ('ear', 21.758516332461763), ('endless', 21.754710984533617), ('cosmic', 21.744445883520186), ('disgusting', 21.743457049376907), ('werent', 21.7358668954813), ('hallway', 21.723445378724556), ('ordinary', 21.71950745738237), ('maoi', 21.701350578168093), ('drawn', 21.689356970031035), ('appreciate', 21.6771260155537), ('star', 21.67444240885306), ('er', 21.657232973496463), ('missed', 21.649758019939128), ('lightly', 21.647224167031233), ('shock', 21.647072266543415), ('rising', 21.643869612606277), ('cotton', 21.63109207606683), ('tense', 21.602679328420145), ('pre', 21.594216051590966), ('cloud', 21.591203831261495), ('proved', 21.583874619852885), ('hoped', 21.58107322796558), ('cover', 21.576639609054975), ('humans', 21.549187238140593), ('shook', 21.545472307911243), ('windows', 21.54534523781952), ('join', 21.53692772941532), ('knees', 21.53143587877008), ('wants', 21.529791913390913), ('crowd', 21.5253853857794), ('basic', 21.521738612018254), ('magical', 21.515180442120343), ('swimming', 21.4746406416257), ('relieved', 21.44996602098692), ('summary', 21.442404234152676), ('prefer', 21.441463070969316), ('comprehend', 21.436242613857456), ('communication', 21.406820345033463), ('selling', 21.399691493736793), ('stopping', 21.39868661094543), ('slower', 21.393724164463116), ('older', 21.390168745002853), ('2nd', 21.34501119250872), ('tomorrow', 21.341823920264325), ('rise', 21.325447296221185), ('concentrated', 21.318416783371656), ('insanity', 21.309472257269192), ('heartbeat', 21.307925226147454), ('creative', 21.307615541370556), ('paid', 21.30155559661365), ('minimal', 21.287400491004053), ('amanita', 21.286505747576037), ('camp', 21.27836502192851), ('sides', 21.274999717207255), ('access', 21.2586745097553), ('everytime', 21.255408872382347), ('cartoon', 21.243070843621254), ('suspect', 21.23949788066921), ('plans', 21.220601382214838), ('childhood', 21.218411958610655), ('toke', 21.20891820952065), ('sample', 21.206798455257033), ('diagnosed', 21.16635423941893), ('closest', 21.159633890874744), ('introspective', 21.151076197276282), ('fellow', 21.149424093780503), ('tactile', 21.144841793155575), ('cried', 21.105514388072574), ('breaking', 21.10094618783646), ('equal', 21.100356322461543), ('possibility', 21.081731028372673), ('lazy', 21.07528713384677), ('neighborhood', 21.069071388952615), ('lately', 21.065717298231885), ('cost', 21.063768895862243), ('eager', 21.05474074109117), ('tight', 21.04198923828259), ('rough', 21.02387759941112), ('burst', 21.02049447133783), ('lbs', 21.015688402192268), ('block', 20.997416123616624), ('gum', 20.976996661422245), ('brings', 20.971891018962456), ('nightmare', 20.962928058873782), ('increasingly', 20.956861655735107), ('mall', 20.951796757813927), ('sell', 20.951716616893375), ('blur', 20.950970739032652), ('suffered', 20.914094490238192), ('success', 20.913816376274475), ('knocked', 20.909231956943472), ('gain', 20.886934848666854), ('included', 20.88624894640727), ('album', 20.8782897507452), ('violent', 20.875033937024384), ('lamp', 20.86579983712488), ('capable', 20.8620022488508), ('record', 20.858708156111874), ('briefly', 20.85161775667564), ('reduced', 20.84102923180141), ('stimulating', 20.831271569178636), ('pitch', 20.825189601110765), ('23', 20.819513242650036), ('smelled', 20.8125591832294), ('breaths', 20.8109202537043), ('experiments', 20.791531064188344), ('utter', 20.79092510297531), ('disappear', 20.789176580755747), ('mipt', 20.78619206760838), ('shitty', 20.76855922037633), ('backwards', 20.76057741167744), ('soma', 20.753622377711878), ('bits', 20.74433599498792), ('resin', 20.735363922316957), ('english', 20.7332958501777), ('honest', 20.72545425960816), ('animals', 20.71585606898477), ('fake', 20.714076014776083), ('expensive', 20.71105519543171), ('fading', 20.701313059731927), ('drifting', 20.698698853530054), ('classes', 20.679413848803733), ('office', 20.671841356747112), ('beats', 20.643111914696707), ('spring', 20.63195099876556), ('thousands', 20.611857659576454), ('roof', 20.60797461757126), ('reactions', 20.60404387596726), ('enhancement', 20.579969791356508), ('struck', 20.56216255186123), ('halfway', 20.55909778920975), ('anybody', 20.556851114142187), ('bike', 20.542254911713286), ('contents', 20.53159329106247), ('festival', 20.518787803948616), ('responsible', 20.507388112490272), ('relate', 20.504146894081693), ('shown', 20.503980090572306), ('urine', 20.487616615905285), ('internal', 20.476821230501844), ('cubensis', 20.47514454803894), ('grin', 20.472568618978173), ('wandering', 20.44753485361491), ('horror', 20.444659678664035), ('page', 20.428139078107836), ('via', 20.41841876271436), ('realise', 20.41269087900188), ('ridiculous', 20.406819026362847), ('tryptamines', 20.406782294645623), ('suicide', 20.392442577268113), ('giggling', 20.391694090175182), ('vast', 20.38059089093309), ('appears', 20.376196607987104), ('lighting', 20.372186941355977), ('blurred', 20.371590698944754), ('rested', 20.3558384688007), ('dropping', 20.33583220523903), ('edges', 20.31102408893774), ('comparison', 20.296918784175094), ('appreciation', 20.271739225389908), ('sip', 20.253419642057644), ('resulting', 20.250186352136588), ('excitement', 20.248563621746584), ('measure', 20.24638912516743), ('mimosa', 20.242382862689244), ('unsure', 20.23920323712301), ('length', 20.238614824660456), ('travel', 20.235878280569175), ('at', 20.21599052284972), ('birthday', 20.215055206311998), ('blacked', 20.213537733382594), ('recreationally', 20.210579542407356), ('truck', 20.20797981549207), ('practice', 20.189005089223105), ('75', 20.181327194087), ('race', 20.17712509214167), ('bzp', 20.174475451306336), ('strained', 20.16876843466941), ('encountered', 20.168523127944432), ('10pm', 20.157128287348495), ('yohimbe', 20.151839239499207), ('required', 20.148995604949153), ('repeatedly', 20.143873288228896), ('comparable', 20.129229072320243), ('ignore', 20.127248941512697), ('released', 20.119319699471276), ('terribly', 20.115679315672338), ('vague', 20.115315173060697), ('buzzed', 20.10695060825291), ('or', 20.10297386394232), ('rocks', 20.094679554788517), ('cramps', 20.08457156957497), ('shocked', 20.075687757458645), ('atmosphere', 20.0740519991653), ('quantity', 20.063417897096123), ('determined', 20.053890414196932), ('perceived', 20.052772085336095), ('upper', 20.049177653235315), ('what', 20.036892588592753), ('answers', 20.02892928760493), ('satisfied', 20.01994417000136), ('flashing', 20.00643586210946), ('drawing', 19.992197028779167), ('anticipation', 19.985211148668565), ('beside', 19.947036208268678), ('net', 19.93897328796145), ('inches', 19.92472223192329), ('hated', 19.897635032622148), ('2ci', 19.897181642251653), ('withdrawals', 19.87400314351823), ('dirty', 19.86031958968881), ('shifted', 19.85175632162679), ('adding', 19.85021819218093), ('radio', 19.848052532849938), ('express', 19.847620039445168), ('grasp', 19.845317772126446), ('ache', 19.83956967608945), ('accurate', 19.834591350046573), ('intended', 19.82044126561727), ('agree', 19.81645848587275), ('nasal', 19.809780153496842), ('fentanyl', 19.80267382141875), ('techno', 19.800923888367677), ('spiral', 19.786580326793562), ('stereo', 19.780714310808666), ('nap', 19.779614263733475), ('dust', 19.76870110068993), ('version', 19.748926241162295), ('clue', 19.735295384261214), ('needles', 19.73155622369531), ('route', 19.727331549264996), ('attempting', 19.704292595366596), ('showing', 19.689233113291273), ('dealing', 19.684965145787935), ('mail', 19.681191796811365), ('grateful', 19.66247747365449), ('jesus', 19.652202127396862), ('twisted', 19.651038737244743), ('riding', 19.649003660266096), ('whats', 19.648547612630285), ('soaked', 19.64725939349951), ('02', 19.638156942557405), ('raw', 19.63648193085295), ('animal', 19.633478164228464), ('huffing', 19.624824545511522), ('sedation', 19.62215775752398), ('leading', 19.591056617903423), ('fatigue', 19.59056603929022), ('fish', 19.583418754203986), ('introduced', 19.571218807674633), ('picking', 19.544416823830552), ('vial', 19.515967332895123), ('cev', 19.514112232543447), ('religious', 19.4971167820907), ('2mg', 19.483861929310308), ('exploring', 19.48305277173687), ('55', 19.477101906649082), ('row', 19.469044523197123), ('thankfully', 19.464515664100063), ('oxygen', 19.460830543793524), ('from', 19.439519466384144), ('lovely', 19.415364657370983), ('degrees', 19.411959777333028), ('series', 19.411263989858753), ('recollection', 19.39346286372593), ('attempts', 19.38702032139255), ('cleaned', 19.375029019843907), ('divine', 19.368978062524107), ('society', 19.36799668428157), ('waving', 19.36244638873842), ('replaced', 19.359159152712714), ('eyelids', 19.35393737676342), ('detached', 19.350592439233985), ('extended', 19.348282392557625), ('curiosity', 19.34273099358528), ('hallucinogen', 19.327922758208825), ('info', 19.311431155031833), ('fears', 19.302091885427547), ('forgetting', 19.290503668043854), ('interaction', 19.288993083929245), ('1st', 19.28758339431371), ('psychotic', 19.28441745068748), ('syringe', 19.27214865592883), ('sentence', 19.268830564698067), ('groggy', 19.26473174734621), ('shoulder', 19.260983095745132), ('fortunately', 19.26083851372605), ('finishing', 19.25160339263352), ('closet', 19.246710096898436), ('differently', 19.220257507216736), ('program', 19.21660533303157), ('stretched', 19.210951465932226), ('psychiatrist', 19.209345780943018), ('portion', 19.20716250636255), ('injected', 19.2065568412222), ('backyard', 19.20316569816088), ('insights', 19.182668044534367), ('calming', 19.179956668968163), ('craving', 19.163211703079156), ('vibrant', 19.153590586212413), ('preparing', 19.151559579305108), ('business', 19.150972719955224), ('impressed', 19.146554166842495), ('rare', 19.13871166055556), ('creatures', 19.138500919460984), ('dull', 19.12847344537108), ('safety', 19.121480736179713), ('detailed', 19.105397321585468), ('coherent', 19.083086874103756), ('patch', 19.067448448274497), ('university', 19.055408999545676), ('drained', 19.0509325331805), ('trick', 19.04865627802416), ('container', 19.028819946222246), ('peoples', 19.02820095999648), ('types', 19.02444665494788), ('carry', 19.00424357119649), ('shows', 19.003186485404928), ('meeting', 18.98827199974584), ('dilation', 18.986835570430387), ('joined', 18.98603784528455), ('paying', 18.97940019549637), ('pleased', 18.968595822630487), ('purchase', 18.965874866960828), ('dots', 18.922737037555276), ('neon', 18.9075145629864), ('vaguely', 18.899611347356288), ('rushed', 18.89760795189665), ('unbearable', 18.89609415387055), ('collapsed', 18.877171167881407), ('disconnected', 18.87325044652338), ('fruit', 18.8489489277841), ('alarm', 18.847490141081185), ('buddies', 18.8464083410323), ('hopes', 18.844376869911535), ('70', 18.82765302494207), ('tone', 18.825054485778825), ('streets', 18.82238707190682), ('entering', 18.814581008803607), ('veins', 18.81084856130398), ('grey', 18.80791403788892), ('calls', 18.80021960576759), ('specifically', 18.798644362838033), ('maintain', 18.794543607981485), ('dissolve', 18.770018774938844), ('swear', 18.767744264440378), ('250', 18.751703536028632), ('bill', 18.7459405235623), ('blank', 18.73717491793586), ('coughing', 18.729880862751767), ('contain', 18.72887662846924), ('binge', 18.72702905200715), ('trippin', 18.70871840208359), ('prevent', 18.704743317876176), ('500mg', 18.70456588752166), ('popping', 18.700800852039798), ('afterward', 18.690939997671045), ('miss', 18.68978164552224), ('surely', 18.670194328489107), ('mass', 18.6538603498378), ('lied', 18.65034933388632), ('exciting', 18.636799951595517), ('layer', 18.626843527286976), ('paint', 18.618226030311025), ('qualities', 18.613777201519547), ('methamphetamine', 18.609911808391498), ('simultaneously', 18.539476455386826), ('louder', 18.53590120535243), ('rubbing', 18.534197901758414), ('silent', 18.534088631606235), ('grinding', 18.525818461460933), ('value', 18.52142516595928), ('organic', 18.520212174945144), ('men', 18.51631424775087), ('issue', 18.489558200458323), ('convince', 18.48367974152631), ('volume', 18.459749534497178), ('dreamy', 18.454364393743504), ('switch', 18.45388798675017), ('typically', 18.4435071319949), ('candle', 18.43715704758439), ('confidence', 18.435524534501713), ('sheer', 18.412264117832972), ('shoes', 18.411435420753758), ('divided', 18.39832794031496), ('giddy', 18.39625821076015), ('books', 18.388594979239674), ('lingering', 18.370842680242898), ('strain', 18.368205083397914), ('hallucinate', 18.33631668944963), ('women', 18.332163555478694), ('4th', 18.326704939219482), ('fractals', 18.3265031025868), ('peripheral', 18.32539820335691), ('blast', 18.319098255692435), ('slip', 18.30814188902554), ('worlds', 18.301460585462983), ('frequent', 18.30008749827209), ('weather', 18.289569780781544), ('spin', 18.27677955643653), ('respond', 18.271921233786166), ('klonopin', 18.270909568092414), ('rushes', 18.262000847818175), ('fascinating', 18.24872213819579), ('direct', 18.243869542009786), ('strongest', 18.24113898027934), ('been', 18.19809111519849), ('behavior', 18.193029094601076), ('incense', 18.188908891894943), ('rose', 18.18564492874986), ('5g', 18.181648340700246), ('mile', 18.1660120920817), ('surreal', 18.165012534147145), ('clearer', 18.162171962771016), ('sedative', 18.15945468441351), ('spending', 18.152453606248518), ('bench', 18.135851596871667), ('sanity', 18.126264623455533), ('uncontrollable', 18.126063800396505), ('stretch', 18.12445319965434), ('motivation', 18.121233758821354), ('knock', 18.12057430760493), ('hide', 18.115912913219756), ('heavenly', 18.101276575967677), ('spaced', 18.094820357825157), ('ancient', 18.085057646048522), ('injection', 18.06807637245927), ('liver', 18.067925504135637), ('winter', 18.06724998948639), ('cleared', 18.055131044925012), ('5meo', 18.035041355129763), ('approached', 18.018322414510088), ('experimentation', 18.01573014009855), ('sweaty', 18.002603661311117), ('news', 17.997627226347475), ('struggle', 17.993706633278695), ('psychoactives', 17.99208196694861), ('layers', 17.98544700834875), ('occured', 17.976078066761904), ('generic', 17.96248833744319), ('poster', 17.953399117340524), ('itching', 17.949979819815816), ('distracted', 17.943421713918898), ('eighth', 17.92659295776736), ('pour', 17.92651501697571), ('comforting', 17.92323011569829), ('heading', 17.91211948199294), ('coricidin', 17.911022212157118), ('settle', 17.899842588226583), ('oxide', 17.895462277756113), ('whose', 17.883882416301645), ('fashion', 17.866828026964747), ('pace', 17.863267731638683), ('rooms', 17.856948271465413), ('mdpv', 17.84475929958997), ('straw', 17.836677997303774), ('studying', 17.82993790807892), ('modafinil', 17.793756167371303), ('false', 17.78178641739014), ('chatting', 17.77218696733365), ('administration', 17.77112882676917), ('annoyed', 17.769903402224305), ('enhance', 17.76988623531386), ('brilliant', 17.76356981320335), ('sofa', 17.76191036038249), ('incident', 17.757201000142892), ('essence', 17.73784272387053), ('produces', 17.729211538138355), ('suboxone', 17.72905010056546), ('remainder', 17.724811617637105), ('bucks', 17.706660397917403), ('will', 17.69432640453883), ('stems', 17.691988227383913), ('american', 17.69193861777453), ('chills', 17.689312582584893), ('frustrated', 17.68274362748367), ('fix', 17.67775239959071), ('are', 17.677583049646064), ('depending', 17.67397606536313), ('scare', 17.67279597928551), ('diminished', 17.67035716577831), ('attached', 17.66698840282131), ('overly', 17.65388339291691), ('steady', 17.64983803098466), ('drew', 17.64830138706423), ('beforehand', 17.644872239576685), ('bob', 17.641378612014996), ('birds', 17.6165295891882), ('hundred', 17.612494656077263), ('shaky', 17.61138447423182), ('invited', 17.60067943480175), ('wanna', 17.59765181382064), ('testing', 17.594199517303345), ('count', 17.592460288066246), ('cracked', 17.584579394966724), ('healing', 17.564715283418472), ('why', 17.55758838183242), ('wished', 17.54710746799686), ('flew', 17.544353951975406), ('rip', 17.541012028232707), ('bass', 17.520280981539152), ('pulsing', 17.517790040942877), ('percocet', 17.514469934543946), ('ultram', 17.504333678244134), ('youre', 17.50111736774082), ('pods', 17.45906823861449), ('screwed', 17.454337331897655), ('thru', 17.447204435395264), ('48', 17.419108926856932), ('adventure', 17.41500987446719), ('concern', 17.41045140255626), ('nine', 17.401083426900964), ('trusted', 17.40059072918139), ('crawled', 17.387948500813362), ('researched', 17.362867460021103), ('realities', 17.361097267037696), ('consisted', 17.36070674233648), ('fence', 17.360345701510848), ('resulted', 17.3496058484446), ('accident', 17.342241679165905), ('sharing', 17.341156125760822), ('inability', 17.333127292406182), ('hundreds', 17.33154768989674), ('hazy', 17.327041083923184), ('flowed', 17.323365784342833), ('bringing', 17.30839975992584), ('appearance', 17.3067612426876), ('infinity', 17.29206099903523), ('originally', 17.278331805060134), ('spit', 17.275890027947483), ('unaware', 17.271291017596337), ('sacred', 17.271021502655728), ('gathered', 17.269061789101638), ('creating', 17.258373841616187), ('correct', 17.252821442868488), ('shaped', 17.246511705063586), ('knife', 17.241816065983446), ('expanding', 17.237117590385708), ('woodrose', 17.20935495207215), ('horribly', 17.206119590635907), ('younger', 17.205149483348546), ('practically', 17.18845476443612), ('abstract', 17.17737292182263), ('drowsiness', 17.14823884144343), ('jail', 17.141003664056495), ('dirt', 17.1391347669196), ('can', 17.13671482325192), ('desperately', 17.136508197408084), ('poison', 17.13337604979306), ('reduce', 17.13220052225864), ('allowing', 17.130698826007617), ('blend', 17.12451003419394), ('encounter', 17.120140841133615), ('blocks', 17.11634601144138), ('shoulders', 17.110663226199204), ('thousand', 17.10605117290174), ('born', 17.10205186418439), ('bear', 17.094568582088808), ('chat', 17.094516478166483), ('scream', 17.085077430754822), ('warned', 17.081321702562647), ('mystical', 17.071589636727875), ('assured', 17.059668277373408), ('cutting', 17.055219835785756), ('oddly', 17.048692269593914), ('describing', 17.043643013604896), ('3d', 17.042289114285186), ('pulsating', 17.031477287446645), ('activities', 17.0155677801002), ('remove', 17.014172295126595), ('dressed', 16.99262421000511), ('washing', 16.978641505259183), ('crashed', 16.970064079942475), ('slightest', 16.960341484171774), ('underneath', 16.951936308891867), ('pen', 16.941051265749852), ('1mg', 16.935376477076865), ('ends', 16.92182491398092), ('11pm', 16.920440712847846), ('remind', 16.908582725789703), ('harm', 16.907014312330137), ('ringing', 16.901369640012433), ('concentrating', 16.90049896979497), ('clonazepam', 16.900147777114643), ('helpful', 16.898322200239267), ('trial', 16.89663682817296), ('crush', 16.893028679270262), ('danger', 16.891559840534324), ('stretching', 16.889219814777185), ('salt', 16.882101986537815), ('text', 16.875906345177583), ('shoot', 16.873478667133153), ('hilarious', 16.861564264838538), ('bite', 16.85837160466245), ('filtered', 16.83949027884867), ('filling', 16.837025878248163), ('happier', 16.814430626991793), ('numbers', 16.81314545329975), ('yelled', 16.81113170824446), ('absorbed', 16.803393699158143), ('spun', 16.802458945808933), ('cats', 16.7868097384948), ('pale', 16.780865568143888), ('bothered', 16.77515478127491), ('answered', 16.759711730016264), ('tiredness', 16.749708800103004), ('pointed', 16.7314102813067), ('thursday', 16.72962900525732), ('spine', 16.727421991229942), ('son', 16.726922590659477), ('amusing', 16.723597031717766), ('adverse', 16.720159269743345), ('dagga', 16.696548910606072), ('suck', 16.671597919582865), ('react', 16.669488158739643), ('benzo', 16.665247504029715), ('slipped', 16.662096762240925), ('018', 16.646157930506263), ('harmala', 16.636538743687883), ('desired', 16.631235098932866), ('improved', 16.630628025969962), ('location', 16.625759722934117), ('houses', 16.624145599798513), ('estimate', 16.622868209396092), ('ounces', 16.622179273236583), ('vibrating', 16.621533024201888), ('synthetic', 16.617346280295077), ('energized', 16.614645295972053), ('south', 16.614255473021355), ('matt', 16.613373332904356), ('equivalent', 16.60073898553621), ('36', 16.59921900234091), ('2ct7', 16.59868134089687), ('stated', 16.596758291180684), ('purposes', 16.58614836491508), ('blankets', 16.585475260649485), ('rational', 16.582205628448577), ('instance', 16.579151558422552), ('breeze', 16.577531096781083), ('keys', 16.577432109711836), ('permanent', 16.577182223749904), ('nonetheless', 16.572111204279018), ('hcl', 16.55528561982081), ('butter', 16.55141378304545), ('911', 16.548903518891244), ('entertaining', 16.545566161846903), ('supplier', 16.539020231103933), ('recognized', 16.536091737542545), ('screamed', 16.52444836226408), ('120', 16.52155715551629), ('hidden', 16.520735504683653), ('pouring', 16.504052952103812), ('identical', 16.491446953630042), ('taught', 16.49078583351831), ('monitor', 16.481896489620503), ('nothingness', 16.481049140448604), ('processes', 16.477934444794318), ('necessarily', 16.468178487156926), ('rehab', 16.462004501064115), ('regardless', 16.45029483544579), ('unexpected', 16.45019569449948), ('sadness', 16.434173053190396), ('meditate', 16.430599873301478), ('remains', 16.408831395279837), ('benzos', 16.405896715680967), ('uses', 16.404774357167803), ('gold', 16.399927599132674), ('cuz', 16.394218663001983), ('circumstances', 16.39396194470022), ('yoga', 16.38769463685938), ('distinctly', 16.384904042117917), ('additional', 16.368045659557247), ('twisting', 16.366672483291058), ('breathed', 16.356073010565837), ('mike', 16.34436369239775), ('exploration', 16.34261684067736), ('explaining', 16.3382488789457), ('worrying', 16.33559399071969), ('crawl', 16.32498864729733), ('nerves', 16.32218455300656), ('snap', 16.320558880835705), ('lethargic', 16.32003201894861), ('crossed', 16.302528833490044), ('supposedly', 16.301232198308846), ('sentences', 16.3007076193929), ('storm', 16.295107185102164), ('packs', 16.29073469644865), ('perceive', 16.284950479055954), ('pleasantly', 16.27579296174197), ('approach', 16.273033821096003), ('provigil', 16.257029036435615), ('impaired', 16.255301504077178), ('darker', 16.243925260860294), ('parties', 16.232700551029083), ('burnt', 16.229062722941308), ('liquor', 16.225349984437898), ('regarding', 16.222877947451472), ('altogether', 16.22183653401159), ('mountains', 16.220193470733534), ('cravings', 16.21538459547322), ('static', 16.214073811861066), ('exhale', 16.210175925604435), ('vacation', 16.210140147562768), ('send', 16.200277788085195), ('fog', 16.190120498572004), ('fridge', 16.180445535964196), ('outer', 16.17678493758731), ('cautious', 16.168016917853773), ('partially', 16.166571844067395), ('considerably', 16.1533517577746), ('surgery', 16.150169375134173), ('mere', 16.13774660595484), ('core', 16.133330362742896), ('wander', 16.13089708550157), ('spiders', 16.11366863556975), ('enormous', 16.101078454498726), ('theory', 16.093647687424564), ('majority', 16.087163361390495), ('haze', 16.080511872059994), ('tune', 16.070915238710874), ('dumb', 16.070860851187376), ('residual', 16.064260520039134), ('burns', 16.063915179089484), ('security', 16.05971137213993), ('sucks', 16.04041888219147), ('worries', 16.027400330248906), ('unusually', 15.998234343053392), ('illusion', 15.995504785964316), ('claimed', 15.987221183476674), ('raised', 15.982012415296145), ('vibes', 15.979368913467814), ('vibe', 15.978056051514379), ('subside', 15.973580902781144), ('opposed', 15.969012119939855), ('whereas', 15.967515700618153), ('obtain', 15.958969115972113), ('flesh', 15.955308939072571), ('folks', 15.943823452912754), ('hug', 15.941066723899123), ('co', 15.93606871342917), ('dj', 15.932083916477819), ('bodily', 15.92393280202263), ('leaned', 15.918938115000246), ('killing', 15.918743359478352), ('progressed', 15.91550276950729), ('chemistry', 15.913678180549224), ('appropriate', 15.91125977571741), ('elevated', 15.902459303366227), ('homework', 15.89850023538551), ('dogs', 15.895966588713673), ('experiance', 15.882664276338797), ('intention', 15.871039501178029), ('driver', 15.86645690903433), ('traditional', 15.862973999468212), ('chaos', 15.845881011203641), ('weekends', 15.843981881302177), ('safely', 15.840838380386382), ('float', 15.836685059442523), ('kicks', 15.830851823748619), ('tub', 15.830527619585263), ('switched', 15.83046463730596), ('alkaloids', 15.820938594883204), ('tasks', 15.815561562322669), ('camera', 15.813419969574044), ('severely', 15.81087768939643), ('psychosis', 15.807929641443744), ('stumbling', 15.802874167417036), ('imagery', 15.796373844679577), ('nostril', 15.795455696130988), ('joe', 15.763370710095451), ('toxic', 15.758208297302202), ('intrigued', 15.752459377955471), ('peyote', 15.750071178875505), ('grip', 15.74789106927517), ('torch', 15.736909455213134), ('itchy', 15.72559991682027), ('treated', 15.717781253859519), ('yopo', 15.709211750373123), ('figures', 15.708132097373577), ('perceptions', 15.706693175976298), ('rich', 15.689133409797169), ('gods', 15.687743170489291), ('ring', 15.685548869807969), ('shivering', 15.670707377945883), ('tingle', 15.664510095916107), ('anyhow', 15.661132197854783), ('slipping', 15.64031854051367), ('methods', 15.635824444693768), ('structure', 15.627994315777997), ('section', 15.614597713120066), ('tape', 15.609848722373009), ('panicked', 15.605195931840582), ('curled', 15.601126412800978), ('hardest', 15.598744697291677), ('devil', 15.588915969127115), ('chris', 15.586078153958638), ('increases', 15.584240750212023), ('painkillers', 15.580655102202597), ('muscaria', 15.58056664158289), ('tylenol', 15.580074589696112), ('facing', 15.57849477156), ('contains', 15.577267543121103), ('refused', 15.570615284170895), ('closely', 15.565541482133703), ('strangers', 15.557523914896816), ('indescribable', 15.55472404138418), ('secret', 15.53603053784723), ('patient', 15.53502986276622), ('blackness', 15.533552574873507), ('proof', 15.531657346115905), ('shaman', 15.529177703820944), ('shulgin', 15.521898389741745), ('vendor', 15.517410278184414), ('attitude', 15.512619622160601), ('swaying', 15.511745639617283), ('include', 15.511498179640453), ('tends', 15.510656831594451), ('grand', 15.509798897224776), ('span', 15.508608990454455), ('nauseated', 15.505584358661192), ('rolls', 15.504606729549543), ('ritual', 15.502973833627808), ('asks', 15.502960478165589), ('concrete', 15.486862186706993), ('tip', 15.479713865998546), ('wheel', 15.477191236259937), ('follows', 15.451703077488546), ('ginger', 15.450946324941821), ('60mg', 15.442220660489829), ('ton', 15.415939946311825), ('essentially', 15.415080905535282), ('conciousness', 15.409942328990452), ('passion', 15.401659406374888), ('creature', 15.394171567797907), ('struggling', 15.393357984518927), ('lab', 15.392970789308654), ('uneasy', 15.39167137832561), ('wired', 15.38856938386235), ('substitute', 15.375665405987855), ('millions', 15.374330913055266), ('marked', 15.37001118448163), ('goal', 15.368416976746978), ('combining', 15.353839332316884), ('allows', 15.351287426622635), ('robo', 15.348495625264762), ('dr', 15.345068027791173), ('highest', 15.334432958067532), ('gabapentin', 15.314477858880991), ('smells', 15.30814105227663), ('therapy', 15.303475463653372), ('buds', 15.301462997590715), ('fascinated', 15.292839215196382), ('ultimate', 15.29222578732361), ('routine', 15.282894850606768), ('wisdom', 15.281661788786133), ('meaningful', 15.274472059041843), ('attribute', 15.273610857810054), ('checking', 15.270872141473545), ('exercise', 15.267337277863685), ('golden', 15.250973518455176), ('gradual', 15.249871953917552), ('hint', 15.248882139049476), ('spots', 15.24731206323439), ('skull', 15.239070297120325), ('promptly', 15.236671332241388), ('enlightenment', 15.235677677774303), ('indian', 15.2275599207853), ('matters', 15.221028827923291), ('discussed', 15.21839325861806), ('hysterically', 15.217597646980563), ('interact', 15.214445848107147), ('support', 15.199300343374395), ('names', 15.196462125997341), ('expectations', 15.195087782333362), ('tough', 15.18947989786201), ('gift', 15.18574431780115), ('chopped', 15.182579553347), ('thirsty', 15.159609781665823), ('quantities', 15.15460411460568), ('steep', 15.152998103429585), ('hardcore', 15.152794232791694), ('weigh', 15.135035325774144), ('partying', 15.124804197590786), ('unbelievable', 15.118573880560174), ('observed', 15.118088965950253), ('realistic', 15.113833990884178), ('visible', 15.113008089914977), ('mask', 15.111179977800386), ('cheese', 15.091295062371607), ('branches', 15.08756068514188), ('factor', 15.087161656238314), ('beneath', 15.08124698088078), ('exists', 15.069543663843714), ('achieved', 15.065733295093105), ('sunny', 15.064873056229086), ('manic', 15.06245181605346), ('stressed', 15.058382098355892), ('bars', 15.04966881888396), ('stash', 15.032657455113476), ('pound', 15.031631428979196), ('methylphenidate', 15.029450384492872), ('heavier', 15.018618241113705), ('relationships', 14.998382574291908), ('useless', 14.993673926790809), ('anger', 14.988962019024433), ('st', 14.987371474552072), ('explode', 14.978793284448221), ('munchies', 14.954060253202151), ('chilling', 14.9498948103218), ('quietly', 14.940959186543953), ('impact', 14.923474854008244), ('heated', 14.922285701722673), ('zone', 14.914899382866485), ('maximum', 14.901622375442578), ('bumps', 14.88948086716173), ('church', 14.884501874969674), ('logical', 14.867818462763426), ('bleeding', 14.86144888352958), ('areas', 14.853042348102894), ('discover', 14.843411982938445), ('intricate', 14.839652180496323), ('traveling', 14.836817225841505), ('cabinet', 14.829969334150261), ('max', 14.829822644175815), ('researching', 14.827256325401148), ('climbed', 14.826402783424433), ('teaspoon', 14.822995021554163), ('website', 14.82050541870272), ('lime', 14.814234201845533), ('nod', 14.812076632254678), ('miserable', 14.807816137734417), ('cognitive', 14.801164271358838), ('importance', 14.799985286409786), ('towel', 14.797317293253329), ('sheet', 14.795270496140335), ('communicating', 14.787249888877508), ('floated', 14.786248003355524), ('woken', 14.77784751423144), ('boxes', 14.772727278158861), ('cig', 14.769906087861692), ('boat', 14.762860783175007), ('tripper', 14.74980500383034), ('leaning', 14.748552236757762), ('zombie', 14.74083537260589), ('pages', 14.73531504318581), ('ruined', 14.731416171657335), ('diet', 14.73020441747227), ('square', 14.721674060098843), ('250mg', 14.717759190898366), ('searched', 14.709330957959299), ('pinch', 14.706118553761494), ('tremors', 14.705468512813622), ('acted', 14.704422014417448), ('ignored', 14.701971516376803), ('letters', 14.701193830409116), ('diazepam', 14.698203368642213), ('grind', 14.697893814208623), ('ecstatic', 14.697603727414437), ('drag', 14.69684031214457), ('3am', 14.694702860084544), ('bubble', 14.688788417102229), ('stranger', 14.68554575190235), ('butane', 14.68172051436998), ('minded', 14.681310125727256), ('prove', 14.678711327872662), ('irritable', 14.676561229527035), ('subconscious', 14.66579592333439), ('pan', 14.665069939081874), ('log', 14.664808525875312), ('depressant', 14.660205693363496), ('sticks', 14.654280977212157), ('sunset', 14.644920202498534), ('recipe', 14.642020246604847), ('shorter', 14.624600112432583), ('hr', 14.617681162940581), ('vein', 14.61720334736903), ('blissful', 14.61610506317167), ('2000', 14.614850296224901), ('psyche', 14.613193482176015), ('climb', 14.608849927755834), ('reference', 14.606073477905122), ('mates', 14.601569673733264), ('successful', 14.596158350364249), ('acetaminophen', 14.595843568807027), ('flashbacks', 14.59464064002669), ('bullshit', 14.589315887997135), ('numbing', 14.584596388365982), ('psychonaut', 14.573693569506403), ('400', 14.558849882632419), ('war', 14.531829031585623), ('mr', 14.51953365116425), ('45pm', 14.505711790441932), ('reasonable', 14.497624976912057), ('themselves', 14.49345970252722), ('connect', 14.489739701099353), ('benefits', 14.481929543295692), ('dopamine', 14.470053386544375), ('emptied', 14.469174268229123), ('pleasent', 14.444029034042252), ('characters', 14.443575987637216), ('lawn', 14.431579798191184), ('shining', 14.416473616009252), ('intent', 14.404616488764285), ('limit', 14.39228979550659), ('desert', 14.385806246904698), ('8mg', 14.380273692887467), ('continues', 14.367257657925187), ('fever', 14.365328883554326), ('card', 14.364863425077676), ('shall', 14.361955454029676), ('soothing', 14.354052873560244), ('seek', 14.352913808378888), ('thankful', 14.352367998289473), ('freebase', 14.35128499610386), ('puts', 14.346443167436965), ('belief', 14.337939480337294), ('sinking', 14.337466375732294), ('meditating', 14.332726756181952), ('dob', 14.331056378768723), ('deciding', 14.324233189757372), ('9pm', 14.323520134838217), ('hurts', 14.319898883536359), ('agitated', 14.319603116526634), ('grocery', 14.309884103164597), ('unfamiliar', 14.29758734554406), ('freezing', 14.29612649160604), ('does', 14.290732141291768), ('desperate', 14.284750951038307), ('revealed', 14.28333153998315), ('xr', 14.27554014369816), ('grounded', 14.274734950271098), ('hurting', 14.270912041660097), ('unconscious', 14.268249657117028), ('correctly', 14.261921396096634), ('dozen', 14.258802165070772), ('apple', 14.253233969152845), ('sliding', 14.232935946247688), ('consequences', 14.22857164147322), ('idiot', 14.227377720578675), ('tuesday', 14.22676566540898), ('insufflation', 14.223803251270644), ('diarrhea', 14.215605046690264), ('forty', 14.209787920035783), ('2001', 14.203587218081967), ('religion', 14.196721979840612), ('dripping', 14.194685506740509), ('science', 14.192078663400464), ('jack', 14.192031967583093), ('tokes', 14.191597721432167), ('quicker', 14.189595988579597), ('enlightening', 14.187433337855252), ('booze', 14.186236953822533), ('floaty', 14.183660614128335), ('crashing', 14.17986728774248), ('ultimately', 14.175465586339891), ('foreign', 14.171331028969362), ('spectacular', 14.160064389256904), ('sandwich', 14.15725247338336), ('frozen', 14.15706721248719), ('urinate', 14.150799446629774), ('farther', 14.149970845656048), ('03', 14.145427515459584), ('flushed', 14.127633605451527), ('virtually', 14.11944938726602), ('rewarding', 14.118056609236804), ('van', 14.11727754636344), ('welcome', 14.100486726999268), ('ephedra', 14.090291504118468), ('lightheaded', 14.086712183737479), ('stable', 14.07900160828881), ('ativan', 14.074527517962522), ('sessions', 14.073241460953946), ('tank', 14.069625238737991), ('multi', 14.068692030109412), ('cubes', 14.063764789916874), ('forehead', 14.06061095309334), ('induce', 14.055568381033773), ('patterning', 14.053692181562633), ('ambient', 14.049958941817735), ('bent', 14.042727411520916), ('piles', 14.038451477614883), ('cases', 14.03003128253245), ('sensitivity', 14.02663106659493), ('compounds', 14.018353848006607), ('appearing', 14.01180823521735), ('immense', 14.0114182225289), ('products', 14.007900372780044), ('wooden', 13.998968159657622), ('brothers', 13.993321957395711), ('2003', 13.990132509062239), ('exhaling', 13.983600488053538), ('plate', 13.982634883214867), ('un', 13.975239656520241), ('jungle', 13.974981354587216), ('1g', 13.97120369845327), ('hunger', 13.966819603164929), ('benefit', 13.964886566953451), ('morph', 13.964380486825783), ('horny', 13.963590613656805), ('rang', 13.959656823764863), ('grain', 13.957593803898355), ('role', 13.947498393016524), ('bouncing', 13.939487854173292), ('regained', 13.936955846434186), ('camping', 13.927959747911304), ('roommates', 13.92725679199561), ('covering', 13.924878529721749), ('sheets', 13.9188171155473), ('vibrations', 13.916345960559564), ('climbing', 13.911869209421472), ('visiting', 13.89831735641471), ('flu', 13.89342577409218), ('potentially', 13.892102626875955), ('comment', 13.89068386727859), ('snuff', 13.88770301298414), ('popular', 13.883988823647657), ('coca', 13.883430735567947), ('covers', 13.88029585772484), ('spoken', 13.875589734596456), ('sensual', 13.870502445541534), ('dimenhydrinate', 13.866026935389767), ('matrix', 13.864419065338062), ('discussion', 13.858051354015076), ('paramedics', 13.853953428449444), ('continuing', 13.850444988091613), ('intelligent', 13.85044158958481), ('bending', 13.844045514971768), ('persisted', 13.823118079712382), ('psychic', 13.822120584006791), ('comfortably', 13.817159217496018), ('aura', 13.811177649115518), ('zero', 13.808439551267638), ('cone', 13.807445145131814), ('partly', 13.803545020438145), ('twelve', 13.799616411128296), ('restaurant', 13.795929875208005), ('vividly', 13.792831365263847), ('blues', 13.789668942478793), ('candles', 13.788336755506194), ('chunks', 13.78743037463954), ('eve', 13.782861082849717), ('sticky', 13.77012481069168), ('randomly', 13.768815345924267), ('saliva', 13.767072249118687), ('suicidal', 13.766353153719963), ('granted', 13.762464852503934), ('nerve', 13.758568974413834), ('decreased', 13.755221131455798), ('2ce', 13.75097886693878), ('channel', 13.750441304218526), ('noticeably', 13.745045157556229), ('laced', 13.74465908152), ('seizures', 13.740939915151348), ('tail', 13.735325984733878), ('dumped', 13.735316545080611), ('trash', 13.73018520440736), ('intend', 13.72642796909973), ('concluded', 13.72495513115774), ('drunken', 13.72394703769943), ('tons', 13.723504710225795), ('latter', 13.722635546537168), ('wound', 13.71510395364546), ('dramatic', 13.710784430759096), ('strobe', 13.708579768828583), ('parked', 13.70285334864667), ('strangest', 13.698160317835642), ('stumble', 13.692475822024358), ('mxe', 13.692172545887985), ('hello', 13.69196058157879), ('awkward', 13.691188257728856), ('law', 13.689010770114823), ('ingredients', 13.679114655301618), ('trippers', 13.674439880294287), ('remarkable', 13.659133637330589), ('productive', 13.651389021361483), ('topic', 13.64926439241546), ('resist', 13.648798771052572), ('separated', 13.637411557464842), ('aches', 13.6344640625351), ('expression', 13.6325780323504), ('blah', 13.61815321044045), ('od', 13.605286688978087), ('episodes', 13.597361887349587), ('pharmacy', 13.586348172470203), ('opioid', 13.585828279034862), ('withdrawl', 13.58328967844412), ('wrap', 13.582476962297713), ('sake', 13.58214430294755), ('cloudy', 13.577265391088709), ('3mg', 13.570983058245288), ('intake', 13.569795893800125), ('theme', 13.569598995598794), ('profusely', 13.566928445839457), ('dramatically', 13.564852871860422), ('lap', 13.5637703663576), ('slide', 13.556069514165136), ('bipolar', 13.550042003766478), ('tablespoons', 13.546726128462552), ('turkey', 13.544351319151545), ('birth', 13.542805162862722), ('blind', 13.540104321435116), ('soup', 13.537792339113496), ('neighbors', 13.534729247725426), ('california', 13.526863156152634), ('destroyed', 13.525877874278907), ('sensed', 13.52585496780211), ('swirl', 13.525131272148334), ('fifth', 13.521068236936172), ('cooking', 13.507978622204933), ('conclusions', 13.50638854108533), ('chain', 13.50625753434041), ('immensely', 13.490112999011847), ('downtown', 13.486221691800791), ('gelcap', 13.471407363684051), ('75mg', 13.46815682197635), ('brownies', 13.461689528447295), ('skeptical', 13.457307409900912), ('sorta', 13.452923380366801), ('morphed', 13.451159312771825), ('detox', 13.451100557039133), ('bridge', 13.436315016071683), ('classic', 13.43569621540512), ('tracks', 13.428207025798693), ('extracted', 13.416621557662467), ('creation', 13.413270798779541), ('alternate', 13.41323532640194), ('transparent', 13.411850470246796), ('amanitas', 13.411631854516536), ('roller', 13.407385672905683), ('cube', 13.40734934779049), ('8pm', 13.405452065425832), ('temporary', 13.396560407399107), ('4am', 13.388556168533016), ('4mg', 13.386418268445478), ('adhd', 13.379774772628187), ('ceased', 13.375527767499007), ('provides', 13.366720908538456), ('dvd', 13.364667974469505), ('hawaiian', 13.359011375654537), ('notion', 13.357447067081461), ('supplement', 13.356148008112202), ('antidepressant', 13.34927509573808), ('dragged', 13.348922210417397), ('8th', 13.348689524807076), ('exception', 13.348642776393978), ('existing', 13.348167994664188), ('explanation', 13.33680323524956), ('driveway', 13.334281259365648), ('synergy', 13.331509242701237), ('lonely', 13.301989783241924), ('bugs', 13.299634540699163), ('battle', 13.294529166466404), ('wishing', 13.293968680044955), ('eternal', 13.286749199773146), ('loathing', 13.286742311341094), ('named', 13.284056900785188), ('controlling', 13.283921820060563), ('foul', 13.283915350229238), ('advise', 13.283804859309381), ('phenethylamine', 13.281096444799845), ('demon', 13.2771734000778), ('intensify', 13.27076202064481), ('giggly', 13.263653050707829), ('cared', 13.261626975143816), ('promised', 13.260085260031094), ('2am', 13.252095465832566), ('wednesday', 13.247880391379809), ('passes', 13.245581085684599), ('contrast', 13.23395318290824), ('sounding', 13.22610477463173), ('approaching', 13.220599986970907), ('reminiscent', 13.217859753885472), ('landscape', 13.206328914276908), ('external', 13.204032559850079), ('musical', 13.203823363550628), ('breaks', 13.203487771915102), ('thinks', 13.197896869942129), ('tap', 13.195374938636176), ('discussing', 13.191962983371907), ('nonsense', 13.188811538711192), ('arrested', 13.186270435839974), ('purge', 13.183473434326153), ('demons', 13.180124719209358), ('culture', 13.177530212818485), ('vanished', 13.171435074666867), ('hallucinated', 13.163263905382404), ('anytime', 13.161655135309086), ('smokes', 13.13886554109835), ('private', 13.137764701956877), ('balcony', 13.133430472708612), ('humanity', 13.129280510426137), ('stuffed', 13.127863919632377), ('fantasy', 13.127393470254441), ('proceed', 13.12723170203691), ('holes', 13.124662667834205), ('ugly', 13.124438328809346), ('smelling', 13.119921295157301), ('recover', 13.11806244060438), ('chased', 13.117496961290188), ('develop', 13.110198712697649), ('guessing', 13.108781424426105), ('match', 13.09769636446048), ('valuable', 13.093421749229087), ('accounts', 13.092706589973352), ('metallic', 13.090448135491426), ('frequency', 13.090423872498992), ('neutral', 13.086158403327882), ('psychologically', 13.078226151921879), ('mush', 13.072732399805037), ('concepts', 13.072351751409196), ('miracle', 13.065718192295694), ('purely', 13.049940601143092), ('lightning', 13.044738472803852), ('drum', 13.037117460771979), ('jim', 13.028415570356216), ('delicious', 13.023600315337804), ('seperate', 13.023531453824793), ('hes', 13.022710005267903), ('madness', 13.021258658992016), ('tremendous', 13.016668685064118), ('clearing', 13.013909860962947), ('rhythm', 13.004133457830827), ('struggled', 13.001638718683092), ('glimpse', 12.999298668340332), ('flip', 12.996582649941052), ('differences', 12.984068741243483), ('disturbed', 12.980961024477818), ('ages', 12.97780659930121), ('deprivation', 12.974946351713202), ('connections', 12.971167743782882), ('slowing', 12.96872786450167), ('visited', 12.959013267489487), ('responded', 12.9522537102406), ('witnessed', 12.947782065434241), ('scenes', 12.942123048832018), ('robitussin', 12.938257849670336), ('resembled', 12.928213596033684), ('deck', 12.921649659204462), ('contemplating', 12.920732477780996), ('companion', 12.91854413310249), ('fool', 12.918096917661048), ('compelled', 12.914399706563854), ('invisible', 12.91439747836372), ('decrease', 12.908416076945473), ('excessive', 12.907961019201872), ('board', 12.903635643696196), ('arriving', 12.902810415357694), ('equally', 12.899856065819813), ('sage', 12.898643404614278), ('cooked', 12.877741099241641), ('observing', 12.875178647285189), ('coating', 12.87015974532981), ('gross', 12.867554808623435), ('shed', 12.86115998979003), ('such', 12.854961130914887), ('limits', 12.85485149699529), ('individuals', 12.852088809535847), ('papers', 12.847744257741262), ('occurs', 12.84349013844837), ('entheogens', 12.841398294030206), ('comments', 12.840266598963412), ('resting', 12.83554959417717), ('caapi', 12.83002690123855), ('likes', 12.82594739895952), ('psilocybe', 12.817013161000082), ('spasms', 12.816243966472134), ('worthwhile', 12.81474584867263), ('crank', 12.81433130943273), ('identity', 12.81271377772228), ('itch', 12.805360949590908), ('digital', 12.801274519116259), ('lol', 12.793901842884813), ('central', 12.7902559337594), ('speeding', 12.789189308138686), ('weaker', 12.787794703619594), ('bitch', 12.786371345571597), ('sum', 12.759895993797665), ('pressed', 12.755012897162423), ('lifetime', 12.743592273699328), ('mode', 12.73417870414644), ('refer', 12.728204220689944), ('cash', 12.720458785364285), ('sources', 12.719495044499798), ('combinations', 12.707114197690574), ('amplified', 12.7035099043321), ('corners', 12.700129049834292), ('feared', 12.698856653073982), ('satisfying', 12.69269587912128), ('ish', 12.68598143724561), ('associate', 12.68518818944454), ('quitting', 12.681804155349877), ('subjective', 12.680553693213877), ('amazement', 12.679052285724834), ('6pm', 12.677577881932626), ('nut', 12.675931757229973), ('logic', 12.66326527783904), ('script', 12.659725291958882), ('happily', 12.658824598714643), ('threatening', 12.651278350177394), ('cacti', 12.651271773826707), ('schedule', 12.643580273365973), ('option', 12.638028573601598), ('2002', 12.634295752721115), ('carrying', 12.630679877120826), ('countless', 12.626600115647534), ('1000', 12.625111717713017), ('amongst', 12.614517708403191), ('hppd', 12.612417494959066), ('warn', 12.611092180665413), ('vu', 12.605381927487798), ('sticking', 12.604418595346262), ('bird', 12.603008717422528), ('patches', 12.597072465556208), ('flipped', 12.592582407709958), ('probation', 12.592435849904579), ('dave', 12.591760893124292), ('fabric', 12.589201471904437), ('shy', 12.585633059433182), ('moderation', 12.58172030002053), ('introspection', 12.579766638368824), ('leads', 12.579025652539022), ('neighbor', 12.576635049692186), ('mumbling', 12.569274614989293), ('hbwr', 12.567593976506707), ('otc', 12.567232176938415), ('sets', 12.56490782562807), ('guilt', 12.564849399544707), ('cure', 12.561796208800809), ('combine', 12.560940986942336), ('project', 12.560199963480553), ('functioning', 12.56012102394507), ('handful', 12.556801671920844), ('dissociative', 12.54858775955844), ('pacing', 12.543242132529567), ('vibration', 12.542157922849283), ('excuse', 12.541587155797103), ('psychadelic', 12.53897750826112), ('teach', 12.535081682941867), ('curtains', 12.53353162650773), ('creativity', 12.528974718285317), ('enjoyment', 12.506599543657812), ('stages', 12.505646283535468), ('believing', 12.495353414197416), ('outlook', 12.491578687296144), ('unreal', 12.490617774322182), ('antidepressants', 12.485174731175851), ('1am', 12.482686539188453), ('baggie', 12.479641853937892), ('shell', 12.478695729819085), ('primarily', 12.477379718960545), ('permanently', 12.476323422957218), ('administered', 12.474863080233972), ('boredom', 12.474381730622612), ('skip', 12.472604352591091), ('designs', 12.460103766539746), ('reminds', 12.453369234469482), ('sucking', 12.442280824023463), ('overdosed', 12.435752254198517), ('relative', 12.435499985772793), ('concoction', 12.43249796732633), ('milder', 12.430325861105484), ('neurontin', 12.420386124772646), ('july', 12.415236819259595), ('000', 12.413362519467432), ('swim', 12.413176316824604), ('chips', 12.41088118817773), ('liter', 12.403579229207363), ('longest', 12.393297305189884), ('conditions', 12.389776241441053), ('mum', 12.388744818833846), ('electricity', 12.388019822630058), ('tries', 12.384618878959051), ('traffic', 12.372644052480206), ('community', 12.352473091634339), ('landed', 12.345094211626629), ('loudly', 12.336039918074775), ('chasing', 12.334712339826407), ('any', 12.32803882207276), ('depressing', 12.326859456042646), ('presented', 12.308705889025003), ('15pm', 12.304630133742277), ('em', 12.300107980215628), ('therapeutic', 12.298165540868196), ('impressive', 12.297330623942655), ('hence', 12.293308450731557), ('shopping', 12.284336084532027), ('interactions', 12.281940737181811), ('strip', 12.278910403528569), ('tear', 12.27820968694529), ('prominent', 12.276298475470561), ('slurred', 12.27502472341383), ('excess', 12.263413093676885), ('fields', 12.256785110276168), ('snake', 12.256701780035408), ('destination', 12.256463273521778), ('moves', 12.254485049422213), ('bread', 12.24838460643811), ('continually', 12.248140994657653), ('nevertheless', 12.245755882509933), ('syndrome', 12.239575936157157), ('twitch', 12.238065946514018), ('relieve', 12.234772610919292), ('gf', 12.233779425142627), ('creeping', 12.227884513730162), ('spliff', 12.224356688171444), ('dollar', 12.221279452143701), ('dim', 12.220403957561137), ('warped', 12.217661360172427), ('phenethylamines', 12.211454958161958), ('market', 12.211009790953991), ('400mg', 12.206798502462844), ('commented', 12.198987634100527), ('rotating', 12.198217762828378), ('26', 12.19677563784883), ('sobriety', 12.185304483171674), ('dehydration', 12.180463428743218), ('breakthrough', 12.177479998770941), ('speakers', 12.17634514874407), ('insisted', 12.170147712072009), ('nervousness', 12.16961505391014), ('tar', 12.16690516539139), ('himself', 12.163519943631808), ('blender', 12.149203217884951), ('wavy', 12.148584755181751), ('ganja', 12.146906507641797), ('rode', 12.143601467255976), ('confirmed', 12.143449352584263), ('rules', 12.141272796935818), ('wonders', 12.111085207119135), ('collected', 12.110501483622397), ('scraped', 12.109791158716218), ('seeming', 12.108575346083601), ('med', 12.108394161651773), ('pointless', 12.107643521721082), ('stops', 12.10622971553654), ('philosophical', 12.102943013878443), ('driven', 12.09194945438333), ('bang', 12.078277977437459), ('rippling', 12.075517603207729), ('faith', 12.073846621474635), ('arent', 12.063967957867472), ('christ', 12.062616638992944), ('island', 12.059467927834625), ('philosophy', 12.057041717308024), ('regain', 12.04945753821522), ('reflecting', 12.048358368506324), ('depressants', 12.041864258658876), ('upside', 12.041687244456682), ('goddess', 12.0391020012984), ('members', 12.037256398516487), ('extensive', 12.026940932790572), ('revelation', 12.024442680484773), ('posters', 12.021777351440896), ('beneficial', 12.021472604066677), ('buildings', 12.02019466025046), ('centered', 12.015345059941087), ('expand', 12.012591293818437), ('sooner', 12.011851489261256), ('dehydrated', 12.009351799206597), ('ideal', 12.006741068038954), ('2005', 12.002333700130732), ('sinicuichi', 12.001144334227016), ('vortex', 12.001132594716113), ('into', 12.000369663987886), ('technique', 11.999452301850392), ('allergic', 11.987815180515268), ('baked', 11.985671741816358), ('height', 11.971052225095377), ('nightmares', 11.970380940239275), ('primary', 11.961882388462168), ('dealers', 11.959676108799545), ('rubber', 11.959324161398849), ('defined', 11.956572436894911), ('peculiar', 11.952366819987974), ('soak', 11.945355842852589), ('dilaudid', 11.944698754803278), ('shouting', 11.936562471176545), ('seeking', 11.935190783554892), ('sane', 11.931590186348826), ('involving', 11.92820864812127), ('04', 11.926363698119651), ('deja', 11.918582992914565), ('mouths', 11.915913229283301), ('attributed', 11.91559347198482), ('meditative', 11.910239670336457), ('caring', 11.903588608692067), ('redose', 11.902696290638323), ('jacket', 11.902292357814009), ('faced', 11.901878561105526), ('journal', 11.899418928902575), ('lessons', 11.89796427691814), ('context', 11.89659133093801), ('spider', 11.880607592083962), ('sped', 11.880364343056678), ('keyboard', 11.877436240554296), ('species', 11.86899707754272), ('swing', 11.86590970728848), ('preparations', 11.861525524101916), ('varying', 11.860666951195315), ('alcoholic', 11.858196013832485), ('infinitely', 11.851078533747744), ('depths', 11.850898028184124), ('roots', 11.842222022151676), ('tincture', 11.84107276294438), ('roomate', 11.832841230446185), ('completly', 11.829660212621576), ('runs', 11.827130473635703), ('manifest', 11.824944253013472), ('erection', 11.816128149661283), ('lettuce', 11.815107391473132), ('june', 11.811749023732098), ('toes', 11.809277455808129), ('garbage', 11.799040816173926), ('amused', 11.7918184972204), ('fought', 11.790948443164607), ('inhalation', 11.79002433461807), ('hi', 11.783620254262722), ('99', 11.780764407227595), ('twist', 11.780019300624858), ('coleus', 11.77647215622471), ('20x', 11.775642632824475), ('28', 11.773464590628134), ('procedure', 11.773007302716762), ('akin', 11.771525607863204), ('memorable', 11.77046705760628), ('injecting', 11.767474835780584), ('painted', 11.766746468008783), ('semester', 11.760072308275285), ('bulb', 11.753970731103852), ('flight', 11.753364913117279), ('native', 11.749340334479074), ('shade', 11.748479847860214), ('narcotic', 11.748370228170232), ('sidewalk', 11.746723091451123), ('accurately', 11.737784450170825), ('opioids', 11.72952735745188), ('avoided', 11.705747653308181), ('imagining', 11.701934049713097), ('apprehensive', 11.694642224232508), ('brains', 11.690992519312028), ('fixed', 11.687305707718853), ('angel', 11.68456341861831), ('energies', 11.681356371509768), ('laptop', 11.680171122448298), ('fuckin', 11.67640178855098), ('warping', 11.67607799634709), ('girlfriends', 11.675436628896902), ('sack', 11.67347487647215), ('lies', 11.671470812988476), ('dexedrine', 11.67140607764044), ('enlightened', 11.66996265708154), ('puff', 11.669698740165988), ('ward', 11.662422410288583), ('hook', 11.659364345641572), ('ha', 11.655160393823813), ('spiritually', 11.654175100116948), ('entry', 11.651604385924946), ('failure', 11.641239858279546), ('5am', 11.62890781633275), ('reasonably', 11.627164562280752), ('600mg', 11.62393153701033), ('nodding', 11.620186381805537), ('coma', 11.61985558603788), ('disorientation', 11.619546262711845), ('transition', 11.613463973385976), ('pharmaceutical', 11.612957423460236), ('migraine', 11.602922028441442), ('lacking', 11.60225592680398), ('freedom', 11.60082596981179), ('headspace', 11.600670736645313), ('moderately', 11.595559701413212), ('hiding', 11.594968161962866), ('moral', 11.592774956042902), ('recovery', 11.591999836082831), ('king', 11.588133569000515), ('scattered', 11.58699898750647), ('surge', 11.58676975288445), ('label', 11.582657665057992), ('untill', 11.561533731039333), ('milligram', 11.560285661262967), ('2g', 11.554877503370573), ('shaken', 11.550143816058114), ('largely', 11.545884580240578), ('gotta', 11.54467168551806), ('600', 11.543559180981804), ('daughter', 11.540672083840015), ('disappointing', 11.535933656892999), ('ah', 11.534589528815209), ('thereafter', 11.533012092073118), ('sleepiness', 11.526398701151779), ('irritated', 11.52154407079543), ('revelations', 11.520671187919426), ('surfaces', 11.519569551073367), ('outdoors', 11.517963533609835), ('flipping', 11.513496159323585), ('determine', 11.50652385910827), ('lexapro', 11.50625234572881), ('tied', 11.496810829102284), ('vegas', 11.495843603638562), ('wears', 11.495477509470001), ('prolonged', 11.495103203601253), ('aliens', 11.494441621271497), ('alter', 11.48851291955465), ('forces', 11.481210221368453), ('receptors', 11.477855760296748), ('contributed', 11.472261910642253), ('kanna', 11.47073538706029), ('upwards', 11.466191771333621), ('37', 11.465160792863637), ('element', 11.463245362295714), ('stem', 11.456746580524978), ('chatted', 11.456217154875866), ('promise', 11.454497746342245), ('theater', 11.452656857526977), ('neat', 11.447875586217382), ('10am', 11.441778659907666), ('universal', 11.440816068058556), ('verge', 11.438014658860737), ('reply', 11.436354707769558), ('lethargy', 11.435583445550803), ('queasy', 11.434933013350092), ('booster', 11.43441415740436), ('score', 11.431205363278528), ('blame', 11.424538812358058), ('tendency', 11.424208331912116), ('march', 11.422886294081216), ('decisions', 11.420879648982005), ('brush', 11.419773683522758), ('recieved', 11.41513300345874), ('readily', 11.404400441233884), ('recovered', 11.404372416551032), ('consciously', 11.40325202531798), ('surprising', 11.402032720731732), ('tho', 11.400921915722021), ('pair', 11.395851873041229), ('capacity', 11.395606964591687), ('albeit', 11.394766099923904), ('triggered', 11.394731716967847), ('massage', 11.391634610970721), ('orgasmic', 11.388015185508566), ('effectively', 11.384391544849397), ('improve', 11.376568408075455), ('chaotic', 11.372213961574168), ('dish', 11.371885312556115), ('crushing', 11.370442639164322), ('shallow', 11.369070300390089), ('poisoned', 11.36651261774471), ('de', 11.357523304645836), ('receive', 11.347190498959069), ('discovery', 11.340590672258712), ('phrase', 11.339684992492884), ('meaningless', 11.334768968332433), ('det', 11.333278506156443), ('reliable', 11.326925730361928), ('imaginary', 11.32514966919257), ('vitamins', 11.317165010050427), ('belt', 11.316102001958235), ('perform', 11.310266546103325), ('textures', 11.30771216350378), ('baking', 11.302898248259766), ('guard', 11.30258553426055), ('praying', 11.29962684245757), ('importantly', 11.289697145758016), ('fold', 11.288176576286485), ('transformed', 11.285971142722945), ('tiles', 11.285706974486533), ('freely', 11.282183250168943), ('coaster', 11.282165951129803), ('spectrum', 11.269988036423456), ('blended', 11.268892275083163), ('bell', 11.267286728438139), ('existance', 11.264895342104559), ('profoundly', 11.260804575577053), ('observe', 11.256862853570135), ('receiving', 11.255899479370536), ('performance', 11.25589933286047), ('venture', 11.24749905592866), ('facial', 11.229450286701246), ('input', 11.229164889831477), ('ya', 11.224824131927582), ('horizon', 11.222308824202685), ('string', 11.22182378451462), ('cab', 11.21069174227607), ('gag', 11.205895704884334), ('lock', 11.205224017366403), ('distinguish', 11.203748425496526), ('rocking', 11.198368334488888), ('steadily', 11.195637078795277), ('possession', 11.195366225910597), ('la', 11.189369986646758), ('guts', 11.188929896795832), ('80mg', 11.18510032803654), ('wherever', 11.183656888434678), ('cliff', 11.170265692885929), ('pleasing', 11.15917883212911), ('pillows', 11.15594832531224), ('bucket', 11.148319206752342), ('shimmering', 11.143336507342996), ('pupil', 11.140266636945244), ('shakes', 11.13294671109559), ('overpowering', 11.126211707688887), ('article', 11.12616159212195), ('growth', 11.125354194204741), ('smoothly', 11.11914436029936), ('furniture', 11.117898305953934), ('rings', 11.108702691268931), ('angle', 11.10866591028221), ('noting', 11.083620274664137), ('busted', 11.080779548624946), ('traveled', 11.078637107069827), ('stoner', 11.07102367445169), ('2004', 11.068513981404577), ('former', 11.06818252046112), ('distracting', 11.067076578801638), ('swept', 11.067072404564918), ('erotic', 11.065458208269256), ('charcoal', 11.058234730796721), ('temporarily', 11.057814176783282), ('soaking', 11.05476074258967), ('duster', 11.050520407563818), ('fed', 11.050496464108074), ('mistakes', 11.050118673943304), ('cans', 11.038544957627973), ('sniff', 11.035189554002471), ('wildly', 11.033726469714201), ('7pm', 11.031431107979268), ('benzodiazepines', 11.030240999988452), ('loads', 11.029012864765859), ('exhaustion', 11.028873122719805), ('expressed', 11.019865515065959), ('mary', 11.0178450384948), ('abruptly', 11.011159074935321), ('ups', 11.006107388530708), ('gathering', 11.005147822830265), ('ordeal', 11.003250240095785), ('stores', 11.000251342460093), ('materials', 10.999148933357178), ('abused', 10.997532869446756), ('alteration', 10.996717619317936), ('yerba', 10.984192911415303), ('calamus', 10.982568155757166), ('incoherent', 10.976999885588372), ('fried', 10.973966622124907), ('producing', 10.973110439765618), ('buprenorphine', 10.970553583503763), ('claim', 10.9669348378604), ('alprazolam', 10.964384267838296), ('6mg', 10.961375569672349), ('vile', 10.957730774397666), ('reborn', 10.951548535591336), ('electronic', 10.946266389678442), ('adam', 10.939759732143072), ('sinuses', 10.939462397150034), ('perceptual', 10.935929779258007), ('chamber', 10.931933761371493), ('horrifying', 10.929370466334976), ('fireworks', 10.926295967249066), ('torn', 10.924424458919006), ('gelcaps', 10.919886703342948), ('whoa', 10.919134246192899), ('prone', 10.917936777652429), ('awakening', 10.915708022538974), ('06', 10.91372699168851), ('bend', 10.910333434672053), ('til', 10.904093461260322), ('sub', 10.901366638960884), ('goodbye', 10.896721481560128), ('consistent', 10.893020055136978), ('echo', 10.891527305898265), ('nurses', 10.891088897213281), ('government', 10.888327830506874), ('foggy', 10.88427845014399), ('alex', 10.87984505128217), ('waved', 10.874860034861472), ('microwave', 10.874711185182822), ('molly', 10.87066350894169), ('manageable', 10.867349934241188), ('shame', 10.865882412571844), ('tossed', 10.864172823922326), ('intellectual', 10.863786708627913), ('scenery', 10.860492749075396), ('sing', 10.855885978588713), ('risks', 10.852597996067164), ('killer', 10.850726757795481), ('cells', 10.847147859417122), ('meanwhile', 10.845052149687884), ('immersed', 10.844272080976632), ('ensure', 10.844061170696758), ('souls', 10.840976945961057), ('bushes', 10.829510613556952), ('oevs', 10.829400678647064), ('flush', 10.824808758063549), ('considerable', 10.813126001410096), ('5th', 10.80158161275702), ('gibberish', 10.798610696010641), ('tin', 10.796756033351022), ('alertness', 10.795297853833754), ('bedtime', 10.794429304225522), ('cards', 10.794281252672517), ('dex', 10.790944478033692), ('reflect', 10.790801095226415), ('packets', 10.786055619490151), ('fades', 10.784978463705677), ('5pm', 10.784769600503784), ('gray', 10.78308655673779), ('lorazepam', 10.782642418897309), ('frustrating', 10.770970346342631), ('ruin', 10.767857571443846), ('sunrise', 10.755191734502535), ('measuring', 10.7531698921121), ('chosen', 10.750254521610707), ('affecting', 10.748685605477558), ('gulp', 10.74415640123757), ('grows', 10.744142445574386), ('math', 10.73703444253823), ('spacey', 10.732425837818942), ('warp', 10.72895039181253), ('particles', 10.72243335456343), ('splitting', 10.718969734867251), ('adrenaline', 10.7187824618524), ('dissapointed', 10.716831723734304), ('circular', 10.71587397796311), ('boys', 10.711660961180835), ('reflected', 10.711620189610315), ('exam', 10.710459251257685), ('bpm', 10.708186539321655), ('applied', 10.703573283410611), ('palms', 10.701883575920156), ('abilities', 10.699131645601154), ('subsequent', 10.696576746420966), ('oev', 10.69577333617772), ('cookies', 10.694257313244544), ('inhibitions', 10.69160782722822), ('gear', 10.689279460626127), ('entheogenic', 10.683362935212202), ('isolated', 10.677779344921621), ('elsewhere', 10.672498717790885), ('guilty', 10.669515592658389), ('commonly', 10.668499689109682), ('iboga', 10.667821754579775), ('chairs', 10.658376186543794), ('acute', 10.650158196442225), ('motivated', 10.647721075210189), ('further', 10.647548750164061), ('coloured', 10.647150493078456), ('uk', 10.645573647411512), ('continuously', 10.636979129711547), ('mattered', 10.636720509048645), ('developing', 10.633630413022205), ('mug', 10.632284185849066), ('avail', 10.630673459525493), ('dangers', 10.627262166796553), ('discuss', 10.615997759275508), ('scariest', 10.610524938822948), ('ibogaine', 10.60395783635428), ('ceremony', 10.602913989825861), ('dissolving', 10.598461518689536), ('functions', 10.597616978753404), ('grandmother', 10.595771037377768), ('letter', 10.594045263501119), ('december', 10.591972819862086), ('mysterious', 10.591523993811222), ('above', 10.589842747952819), ('officer', 10.589433748236889), ('celexa', 10.581396822636826), ('falls', 10.580349795065864), ('admitted', 10.57843556235141), ('lifting', 10.571776179322903), ('messing', 10.57139500467162), ('observer', 10.568604894817145), ('clinic', 10.56808672605688), ('horrid', 10.562420007471133), ('professional', 10.556899183672657), ('drums', 10.55569841625915), ('poisoning', 10.551664125597572), ('bf', 10.539947688704979), ('composed', 10.539733046399062), ('stove', 10.532841364901241), ('stirred', 10.528634502970252), ('residue', 10.52185145540682), ('favourite', 10.520003981622326), ('needing', 10.516655774840462), ('supplements', 10.51113658204691), ('coat', 10.510830407256337), ('bones', 10.508244482896908), ('fits', 10.506262915046069), ('disappointment', 10.50603619094346), ('crept', 10.503932871746015), ('expanded', 10.500710824841347), ('trazodone', 10.49452312204063), ('october', 10.49065367502208), ('pipes', 10.488628979883833), ('teaspoons', 10.481144822048867), ('dawn', 10.480351718914923), ('shades', 10.478650853867332), ('extracts', 10.476675084109804), ('hydro', 10.474438590009964), ('knee', 10.466200809363727), ('possibilities', 10.463920592034269), ('bearable', 10.459658983796059), ('swore', 10.459459566676093), ('cabin', 10.458916986956265), ('rob', 10.448313556337137), ('razor', 10.44746940573513), ('chicken', 10.444551010989725), ('brick', 10.44248577879958), ('sour', 10.43868232781244), ('yourself', 10.436772997525482), ('stroke', 10.435696537975018), ('assuming', 10.434256016873686), ('monster', 10.433020950673734), ('ie', 10.429284392136152), ('packet', 10.421651734673137), ('judge', 10.417212796560595), ('dan', 10.414449055503129), ('afford', 10.413454640246151), ('intervals', 10.410643036168514), ('babbling', 10.40664228838486), ('jokes', 10.406456218506703), ('3g', 10.399704120355246), ('bout', 10.397928425468871), ('coupled', 10.395617067063183), ('vehicle', 10.394473146043993), ('mini', 10.389684517261472), ('rub', 10.387560239403975), ('6am', 10.38074658106823), ('jelly', 10.380304766199062), ('effected', 10.376181978103183), ('writhing', 10.37355159945567), ('emerged', 10.371967094388413), ('ingredient', 10.364251081522813), ('dalt', 10.363485041883077), ('questioning', 10.361116942304504), ('rug', 10.360810790822104), ('knocking', 10.359558531585625), ('brewed', 10.35860790839024), ('overnight', 10.357755269684285), ('sending', 10.35737534710266), ('screw', 10.356554659359412), ('pond', 10.353928280744313), ('packing', 10.342600346301827), ('grades', 10.328762217633342), ('haha', 10.327664277164942), ('hashish', 10.326090053078044), ('embrace', 10.323755640091855), ('doi', 10.3223650373171), ('32', 10.317517469197966), ('serene', 10.316708929419827), ('proud', 10.312257233537247), ('accomplish', 10.311252494646121), ('cloth', 10.306585006628245), ('fail', 10.300849478517462), ('most', 10.29827503971077), ('nodded', 10.295844518622353), ('electrical', 10.295026676366108), ('mouse', 10.291810112309598), ('vary', 10.289080815867662), ('impatient', 10.287052233364768), ('pointing', 10.272403382323471), ('pulp', 10.26860713528309), ('highway', 10.266901960352271), ('recovering', 10.256887621240876), ('horse', 10.251942044850425), ('grabbing', 10.250792048776749), ('lung', 10.249314842797572), ('spiraling', 10.246168842037777), ('hostilis', 10.245910164643075), ('resolved', 10.244942715133222), ('27', 10.244629713664933), ('figuring', 10.24227843421629), ('shrink', 10.241451612380759), ('bone', 10.239436826615389), ('blessed', 10.237205348273424), ('oven', 10.236133145677856), ('enhancing', 10.2304857853665), ('evident', 10.22908687540409), ('periodically', 10.224543848316584), ('complicated', 10.224041785531789), ('panicking', 10.223491746785239), ('rag', 10.222976567735444), ('cottonmouth', 10.222837417891425), ('evaporated', 10.218179868119734), ('subjects', 10.211927661525626), ('adult', 10.210523463801804), ('startled', 10.208817277554825), ('mundane', 10.208449577367205), ('narcotics', 10.207858754458265), ('notable', 10.206711526013232), ('companions', 10.20534172275309), ('saving', 10.204287789260086), ('insanely', 10.201924845258949), ('lucidity', 10.19500768857662), ('crappy', 10.193057442838306), ('ipod', 10.190292025986565), ('3pm', 10.18881382310261), ('ghost', 10.186474413797749), ('courage', 10.17578989032834), ('inspired', 10.170188654354234), ('display', 10.170186172198553), ('loops', 10.168695460287799), ('hesitant', 10.167730227149123), ('paste', 10.167147616175015), ('cook', 10.166827328096256), ('stressful', 10.155251731084615), ('gorgeous', 10.151735728804196), ('listed', 10.149934678348332), ('raining', 10.146028690238214), ('tom', 10.145476376999934), ('timing', 10.145120648661415), ('tops', 10.138913918932719), ('april', 10.138294717182603), ('spare', 10.122165175440212), ('gut', 10.117738297856858), ('existent', 10.114387113200454), ('transported', 10.11245670722806), ('downward', 10.112200707867045), ('absorb', 10.104612199514625), ('xtc', 10.102008625614852), ('restroom', 10.099769921643968), ('absurd', 10.09734183637812), ('sunlight', 10.097130757716581), ('balloons', 10.096724272754653), ('unbelievably', 10.085983071331507), ('jitters', 10.083484872110406), ('hat', 10.08215268948263), ('depressive', 10.078071637210515), ('mystery', 10.07381882192753), ('drugged', 10.06782412726313), ('member', 10.05803432202826), ('mattress', 10.05798795436755), ('betel', 10.052563597685914), ('killers', 10.050519784585658), ('greeted', 10.048767725198985), ('successfully', 10.046455994147832), ('destroy', 10.039475408149722), ('shouldnt', 10.031594135567499), ('steal', 10.031180776990723), ('fired', 10.031133795373298), ('insightful', 10.02933283645429), ('interestingly', 10.027545567861651), ('tricks', 10.025755068999015), ('begining', 10.01844292548684), ('press', 10.015068145213009), ('dependent', 10.01252049672927), ('finely', 10.006063979424704), ('alerts', 10.000985314805906), ('hugging', 9.997658099529563), ('whiskey', 9.994794158287018), ('hills', 9.99351820832151), ('precious', 9.991699969622235), ('illness', 9.986026534601903), ('smashed', 9.982143417596898), ('accidentally', 9.979069111514965), ('advantage', 9.976339998912264), ('ship', 9.974643068987778), ('frames', 9.969164254862779), ('directed', 9.966861265948483), ('january', 9.962849203577436), ('retired', 9.956629244878158), ('fleeting', 9.946997546841738), ('combat', 9.943838731957957), ('contrary', 9.940179098258946), ('introduction', 9.938439341118478), ('goodness', 9.925200470617797), ('exploded', 9.914007112577286), ('disturbances', 9.911665977557274), ('my', 9.910039283359456), ('ripples', 9.908801686949214), ('bromo', 9.908046501976827), ('creep', 9.906022726429226), ('evidence', 9.905115808901911), ('stole', 9.900266479177862), ('hopped', 9.898054839696293), ('heaving', 9.896397143189327), ('gasoline', 9.893818132100263), ('cleaner', 9.893065227489608), ('senior', 9.891681254690322), ('estimated', 9.885787179250277), ('wort', 9.88374163504199), ('dissociation', 9.880800050575894), ('amsterdam', 9.880677357720906), ('novel', 9.879381341870054), ('dragon', 9.877373582141102), ('deepest', 9.876118196593369), ('migraines', 9.874464510865371), ('dear', 9.87388975830871), ('sought', 9.873526750489946), ('america', 9.867634819209634), ('canada', 9.862393248011854), ('located', 9.861204872318138), ('giggle', 9.859694523039316), ('instructions', 9.8554442739577), ('weirdest', 9.85417784465481), ('exposed', 9.849582945360648), ('bricks', 9.8470213966229), ('mexico', 9.842920361974475), ('peaks', 9.841249844305523), ('dazed', 9.837652980843867), ('las', 9.834700757366168), ('insufflate', 9.834328845806546), ('mexican', 9.824946645434073), ('angels', 9.824673130801571), ('bloody', 9.820998650261938), ('intelligence', 9.82083767812675), ('drain', 9.81989726132654), ('refreshing', 9.816174968639608), ('tissue', 9.811238002062543), ('lesser', 9.810119648894567), ('require', 9.805250295576473), ('wreck', 9.802214221620403), ('cheeks', 9.799511649390416), ('8am', 9.797784312060433), ('squeezed', 9.797456724523034), ('journeys', 9.795380503070323), ('items', 9.793180809959848), ('explored', 9.792599412294626), ('progress', 9.792073761406225), ('immediatly', 9.785990185718541), ('opted', 9.785799624793915), ('bug', 9.782582623262053), ('french', 9.7747830297728), ('reassured', 9.773546799916826), ('sitters', 9.772565239599908), ('sociable', 9.772047566783783), ('delirium', 9.768485366200851), ('cartoons', 9.764989554589953), ('raced', 9.761138046956555), ('lounge', 9.760431563802111), ('junkie', 9.758540747940776), ('gums', 9.757857590266878), ('cast', 9.756343476246792), ('design', 9.75415742805802), ('wasting', 9.740906991915706), ('harmony', 9.740338782962514), ('lava', 9.73955307465893), ('sadly', 9.7371437557693), ('trials', 9.736664952085926), ('requires', 9.736291145032643), ('north', 9.734120637637023), ('scientific', 9.732314300815252), ('pissing', 9.731405832642405), ('holiday', 9.730199136997257), ('harmless', 9.728053286354877), ('manifested', 9.727716682446802), ('exit', 9.725261290780887), ('linear', 9.72471134818133), ('tad', 9.724012939342757), ('sniffing', 9.720086069595409), ('forcing', 9.717561715803884), ('oc', 9.714833212577078), ('preferred', 9.712424686415051), ('ventured', 9.711518446927927), ('steve', 9.710050003568998), ('upright', 9.709793726241605), ('weekly', 9.708688613218825), ('sparked', 9.706721443519356), ('sniffed', 9.705423806512737), ('intact', 9.704809841863844), ('pumped', 9.700433666997737), ('fasting', 9.69832234447094), ('gather', 9.696191372027124), ('retarded', 9.694874325807092), ('bubbles', 9.692047503072732), ('host', 9.686819051460859), ('hatch', 9.68520703317188), ('essential', 9.684401138689394), ('lifestyle', 9.683358994868062), ('lyrics', 9.681360124198017), ('component', 9.68049691829455), ('features', 9.679783575922457), ('tale', 9.671508418646033), ('30min', 9.667336143664436), ('safer', 9.666604408691688), ('quest', 9.666175145510856), ('jane', 9.66501748239283), ('remarkably', 9.663772204966696), ('yell', 9.663076347004008), ('stimuli', 9.659818341628196), ('rambling', 9.658187588087422), ('thanked', 9.656912550198344), ('bush', 9.653769907191878), ('ms', 9.647443277651515), ('james', 9.646021075931356), ('truely', 9.645073295654894), ('pray', 9.644247215920249), ('inject', 9.64299987555818), ('vertigo', 9.640611668744668), ('anticipated', 9.637400706837264), ('hookah', 9.636947566782892), ('uncle', 9.635514387246818), ('kiss', 9.631888130564066), ('outline', 9.629561853978672), ('paintings', 9.627166100249054), ('180', 9.625143051685592), ('enveloped', 9.620819423627662), ('weighing', 9.62058266865929), ('theyre', 9.616706367306437), ('vines', 9.615932521090107), ('bare', 9.615691152928438), ('bongs', 9.613587501822073), ('analyze', 9.612821060869365), ('ourselves', 9.612782595785392), ('abusing', 9.61112769926304), ('blink', 9.60951418985743), ('judgement', 9.604618139102145), ('collection', 9.604052713194452), ('pepper', 9.603811913841088), ('doorway', 9.601015085953707), ('posted', 9.593803340713947), ('reminding', 9.589399571629054), ('shivers', 9.585712322175315), ('agony', 9.585016353575666), ('snakes', 9.582397681851713), ('sites', 9.579264516248973), ('taxi', 9.578888588053028), ('stupor', 9.572304279107422), ('boom', 9.567873481237557), ('flashback', 9.56257962979269), ('august', 9.560425140179026), ('phenomenon', 9.557023276091419), ('concerning', 9.556032691105681), ('lean', 9.555432643856467), ('despair', 9.555380555822017), ('tearing', 9.55400184148396), ('convulsions', 9.551496382204675), ('freezer', 9.550489069908936), ('master', 9.54949253751962), ('elements', 9.54770184644719), ('elevator', 9.54693114898551), ('delayed', 9.546335168544676), ('cope', 9.544979353751803), ('sinus', 9.542520288887925), ('bank', 9.541967980316311), ('flashed', 9.537704273576766), ('pumping', 9.532476531279542), ('cake', 9.531925469708906), ('physics', 9.530578233565429), ('hugged', 9.523174126638157), ('parallel', 9.522740571300934), ('symbols', 9.522045065368669), ('suspected', 9.521454629665374), ('gym', 9.520414222103286), ('disease', 9.518206188186717), ('creates', 9.518181287261893), ('november', 9.517356868798235), ('served', 9.516292240746369), ('cones', 9.51560547188984), ('btw', 9.513695655751237), ('persistent', 9.512671679627827), ('settings', 9.509030109239891), ('challenge', 9.507611750775396), ('glorious', 9.507445247266613), ('insignificant', 9.507308781035807), ('ridiculously', 9.498945565346006), ('glories', 9.49849237391295), ('oneness', 9.497062759480878), ('powers', 9.496909326084975), ('fate', 9.495443942924409), ('sublingual', 9.49535339887402), ('modern', 9.494512731574316), ('bitterness', 9.49345096512271), ('rubbed', 9.49127007059214), ('september', 9.48639202395654), ('contentment', 9.484363222871503), ('gun', 9.483510365997155), ('venue', 9.477129176078954), ('football', 9.473902722040668), ('sooo', 9.471850698865785), ('complaining', 9.470427892471752), ('identify', 9.47004108042929), ('centre', 9.46397273727464), ('raves', 9.462703519245647), ('tightly', 9.45820657361755), ('pit', 9.454306922344085), ('frantically', 9.450456516226186), ('animated', 9.448691844044319), ('minus', 9.44650828727994), ('library', 9.446476522351967), ('chinese', 9.44479522440042), ('catching', 9.443173189050698), ('hurry', 9.435633441333174), ('porn', 9.432024285679343), ('tunes', 9.43037609505081), ('tolerable', 9.426814000118695), ('cave', 9.421314582741534), ('dissociated', 9.421067880785994), ('literature', 9.419681971562364), ('smallest', 9.419047147494553), ('shattered', 9.414818761057223), ('pitched', 9.410602090594987), ('lined', 9.41020013789879), ('shrooming', 9.409648020282098), ('alleviate', 9.40714181245978), ('crisp', 9.405521376130897), ('bothering', 9.403078732579008), ('hyperspace', 9.402761935819104), ('softly', 9.399092668901792), ('swirled', 9.398859251323909), ('curtain', 9.398788818187304), ('conclude', 9.397822869412408), ('comfy', 9.394348095922167), ('ed', 9.392845992959813), ('glowsticks', 9.392839610482236), ('unity', 9.390702071818788), ('delusional', 9.387191293791624), ('amnesia', 9.386066650809525), ('mint', 9.385747818394448), ('groups', 9.384645744454517), ('7am', 9.38302306665203), ('factors', 9.381853905126038), ('12mg', 9.381297155363484), ('pet', 9.380875925137714), ('advised', 9.378287493285512), ('climax', 9.372944253484421), ('warnings', 9.371466582214255), ('suspended', 9.365860128921685), ('blade', 9.364857021064601), ('liking', 9.356822058190694), ('peanut', 9.350700681217726), ('whispering', 9.348748008119122), ('visionary', 9.346855429769864), ('nirvana', 9.344423273614893), ('aching', 9.343696310536814), ('schizophrenic', 9.3385048720535), ('toy', 9.334833244685539), ('ethanol', 9.329496376821622), ('strung', 9.327576734077999), ('influenced', 9.326020946745388), ('paroxetine', 9.320970886027926), ('rule', 9.314347682318735), ('nt', 9.309968670084405), ('wonderland', 9.305981888090267), ('artist', 9.305458298518626), ('echoing', 9.30534916045964), ('precise', 9.302367045409364), ('appreciated', 9.301982977836879), ('socially', 9.299873715472383), ('hippie', 9.293330940549126), ('stones', 9.29064018794877), ('tightness', 9.288017548987183), ('sufficient', 9.284941246891732), ('whipped', 9.283800973947038), ('pub', 9.282548742075527), ('walks', 9.272522185382869), ('motions', 9.272194804077435), ('polar', 9.270234713785), ('08', 9.27013127263833), ('kg', 9.263742818365591), ('belladonna', 9.260782806574698), ('prayer', 9.257923193508272), ('josh', 9.250771290888371), ('belly', 9.250508956310837), ('beautifully', 9.24292609635169), ('engaged', 9.242696466032626), ('ranging', 9.239113726161465), ('functional', 9.236112187277346), ('elves', 9.233942693087387), ('4pm', 9.229907758223813), ('device', 9.226814115641691), ('arranged', 9.222268765600736), ('inexperienced', 9.220332229743153), ('creepy', 9.218987636914314), ('occurring', 9.21645104094566), ('apply', 9.214123149362859), ('purity', 9.209516467870495), ('trembling', 9.205596743540411), ('hollow', 9.204198254893145), ('scratch', 9.204146243710547), ('slammed', 9.201843302473797), ('distilled', 9.2009910297196), ('studied', 9.19946941483251), ('mugwort', 9.198008514573488), ('wings', 9.194811276274367), ('convulsing', 9.190613169974753), ('sketchy', 9.183983215758774), ('messages', 9.179250950790571), ('begging', 9.177651137887565), ('acts', 9.17620236676649), ('calmly', 9.173911724671823), ('button', 9.173501364780105), ('valley', 9.169823478742696), ('systems', 9.16694038295364), ('fetal', 9.164498346072607), ('concerta', 9.163408580499997), ('arrival', 9.153223912555147), ('reverse', 9.150913139705578), ('bomb', 9.149143726217298), ('suggestion', 9.145768453796107), ('rc', 9.14495256489114), ('cds', 9.141331868516492), ('significance', 9.1352714048326), ('survive', 9.130944534378854), ('coughed', 9.130849818561478), ('clothing', 9.129588151630696), ('freaky', 9.127020267238585), ('meat', 9.12645229685928), ('cigs', 9.12509526844795), ('attend', 9.123477959070579), ('collective', 9.120077450576472), ('sway', 9.11381311897686), ('fatigued', 9.110722016672012), ('counting', 9.107492485847464), ('analysis', 9.105182866239742), ('lip', 9.101736104313577), ('stiff', 9.091826873016647), ('fiance', 9.091158472356033), ('paralyzed', 9.09075277780624), ('submit', 9.09066573693145), ('answering', 9.090194541444154), ('addicting', 9.085548713353132), ('yards', 9.084616378091996), ('ripping', 9.083274804085615), ('samples', 9.080806454213478), ('thujone', 9.07883781809641), ('happend', 9.076973178813217), ('irc', 9.075599251912438), ('overload', 9.074892827808636), ('spilled', 9.070628278028687), ('chase', 9.06410768648413), ('sipping', 9.061752983726254), ('downers', 9.061670157859632), ('brugmansia', 9.060775488784948), ('decides', 9.060491469997626), ('glanced', 9.057001295983284), ('travelling', 9.054175366489956), ('upped', 9.0536301689919), ('alice', 9.052109391355055), ('pondering', 9.048701674125743), ('bond', 9.047749712386457), ('entheogen', 9.041240417489135), ('machines', 9.037573760690314), ('solo', 9.036560292491597), ('spray', 9.036119042906805), ('aspirin', 9.033113223786755), ('voyage', 9.026956795393176), ('faq', 9.026261413162304), ('2pm', 9.024960409310847), ('intentions', 9.024514054698539), ('colourful', 9.024484469361182), ('paul', 9.024239010560661), ('tim', 9.023296049769241), ('extremities', 9.02318808734491), ('giggles', 9.022760354931872), ('reacted', 9.02240027812206), ('meditated', 9.020288378113982), ('sally', 9.018050846845211), ('earthy', 9.017947840308434), ('observation', 9.015521516864288), ('huff', 9.015285000853497), ('1hr', 9.01493887049197), ('tablespoon', 8.99892010553327), ('triple', 8.998625134124474), ('swirls', 8.998516291696662), ('sphere', 8.993484712891139), ('frankly', 8.991503163222685), ('rabbit', 8.991222917618028), ('piano', 8.988533968748118), ('counted', 8.985158757504397), ('homemade', 8.982593893105731), ('waterfall', 8.982443488092006), ('chunk', 8.981682912334103), ('between', 8.977907171576332), ('dreamlike', 8.977533646009112), ('throbbing', 8.966038676384832), ('opens', 8.96590989128302), ('downside', 8.962812787366714), ('gatorade', 8.958954610385163), ('grinning', 8.9521075952662), ('brightly', 8.951769411340406), ('hop', 8.950206218868068), ('drastically', 8.948621730744097), ('huh', 8.945667906278917), ('cheaper', 8.94018647040299), ('whippets', 8.939705150692143), ('charged', 8.93907230359987), ('charge', 8.926963771830643), ('similiar', 8.924478805673237), ('acceptance', 8.923557457069034), ('completed', 8.917548400589396), ('swings', 8.91725305972646), ('whoever', 8.916097345965104), ('responsibility', 8.91561340673487), ('removing', 8.913813576907662), ('wonderfully', 8.913218135287718), ('staggered', 8.910369696315243), ('lid', 8.905760236084713), ('declined', 8.902285568372054), ('aim', 8.898554849147365), ('schizophrenia', 8.898217965999418), ('metabolism', 8.893555040900512), ('quid', 8.89344786011465), ('patience', 8.889315215707555), ('ash', 8.887254239349087), ('secure', 8.886220391373069), ('compulsive', 8.884351685291628), ('london', 8.882820538582115), ('restlessness', 8.878259362789224), ('collapse', 8.877926960568177), ('exams', 8.87764934965258), ('persons', 8.876691609496106), ('freshman', 8.874534323462896), ('reveal', 8.870744046917295), ('greens', 8.869078250031517), ('partake', 8.868185121233799), ('dentist', 8.867243961324894), ('blotters', 8.866877440494976), ('mud', 8.866857719434904), ('drying', 8.863498113016709), ('bam', 8.862939874757322), ('bunk', 8.854787446893512), ('statement', 8.851921943203843), ('2006', 8.848682231962787), ('boss', 8.84755781718941), ('uh', 8.847228129910587), ('1999', 8.84689349341034), ('shiny', 8.846869240920237), ('spell', 8.841161814007213), ('data', 8.839220389309657), ('accustomed', 8.837242594468368), ('absent', 8.837017111059264), ('friendship', 8.835717734978667), ('doubled', 8.832863131057017), ('skipping', 8.829921757883957), ('extraordinary', 8.825083784065807), ('cola', 8.818890568845179), ('15am', 8.817350506021661), ('tempted', 8.81701853237304), ('casual', 8.813791617585307), ('simpsons', 8.813714775949935), ('folded', 8.809926989603051), ('hid', 8.809304590306912), ('topics', 8.80561766609504), ('bladder', 8.804985696990997), ('court', 8.803934072840457), ('descriptions', 8.80071013403405), ('alley', 8.797799756526398), ('07', 8.789487710190217), ('smack', 8.788094367466389), ('tingles', 8.787141560826582), ('pod', 8.786655819020702), ('800mg', 8.782504994316238), ('hike', 8.781813293548797), ('realizations', 8.78125750446269), ('humming', 8.77294169706092), ('wallet', 8.7723060057686), ('laundry', 8.771838421265441), ('raise', 8.771191611933693), ('tapered', 8.767783257332104), ('disappearing', 8.765254515436634), ('eagerly', 8.76277496299282), ('beans', 8.758827368704207), ('stands', 8.754122008345409), ('glance', 8.752607337920079), ('irrational', 8.751524254308556), ('evolution', 8.749975077089111), ('blasted', 8.748025200083582), ('holds', 8.74744058125148), ('solvent', 8.746564526666077), ('bet', 8.742206208161347), ('nick', 8.74172596798628), ('verbal', 8.74044530291551), ('bands', 8.735214763459112), ('cigar', 8.732780626425056), ('substantial', 8.731946093282055), ('patio', 8.729273614051376), ('stripped', 8.724243747626431), ('campsite', 8.71883071570231), ('crave', 8.71388534718709), ('slice', 8.711239150195626), ('assure', 8.708869860751234), ('flames', 8.707107564892121), ('mission', 8.704863631099101), ('suspicious', 8.70422277148302), ('insides', 8.699553584282574), ('reasoning', 8.69744213663987), ('tips', 8.694165238778249), ('damaged', 8.691764714394507), ('intriguing', 8.691483878107638), ('hysterical', 8.689383369663766), ('bupropion', 8.687852893286864), ('positions', 8.677232992296549), ('entertainment', 8.676042143065445), ('swollen', 8.675063180614274), ('questioned', 8.66773577317005), ('connecting', 8.666765995032684), ('nostrils', 8.66631710126956), ('interacting', 8.662646670102813), ('engulfed', 8.662385403980226), ('lover', 8.65590668303533), ('brushed', 8.651944003174114), ('stepping', 8.649908937922719), ('cosmos', 8.6486659838594), ('delusions', 8.648324267347395), ('remote', 8.645493326192426), ('blinked', 8.643201770477091), ('inhalants', 8.640336459471255), ('chemist', 8.637980217440221), ('nite', 8.633611074093626), ('sceletium', 8.632657211298357), ('gigantic', 8.63227823390768), ('pins', 8.631938865932316), ('junior', 8.628024169945618), ('empathogenic', 8.625076862812602), ('flooded', 8.62431107794329), ('viewing', 8.623834835346113), ('sips', 8.62155184204397), ('trace', 8.617221842771796), ('designed', 8.61543978832909), ('skipped', 8.614245617708741), ('sinister', 8.613352823139454), ('speeds', 8.612996766846255), ('tore', 8.609330076582111), ('strainer', 8.60475320876783), ('ally', 8.60094695432059), ('scratching', 8.597251544719851), ('darkened', 8.597045791308929), ('mutual', 8.595310565671678), ('lithium', 8.594932856755715), ('boundaries', 8.592116629465858), ('media', 8.590233176184027), ('mckenna', 8.585207357534978), ('credit', 8.580095564295398), ('angles', 8.577496554321108), ('tussin', 8.576810598581691), ('stupidity', 8.564649325945396), ('dip', 8.561455923530787), ('aquired', 8.55168118261716), ('pulls', 8.550856121253693), ('remeron', 8.547288952063461), ('convey', 8.54719099528732), ('owner', 8.542084354032935), ('rice', 8.54074031307753), ('referred', 8.537733563023027), ('helpless', 8.53765997071238), ('psych', 8.536435707469986), ('shamanic', 8.532841751841328), ('beliefs', 8.532006033789811), ('1000mg', 8.531063514750105), ('aids', 8.530190071624434), ('pine', 8.528911665080768), ('damned', 8.528646569510279), ('absence', 8.52790063728849), ('fault', 8.52618296968085), ('stealing', 8.525294077563816), ('salts', 8.525010699433711), ('sluggish', 8.521701550544064), ('both', 8.519359630254902), ('judging', 8.518532883110002), ('foolish', 8.51776944600416), ('uppers', 8.51766727949246), ('recorded', 8.513545815734025), ('addicts', 8.509474581204625), ('negativity', 8.50621588087522), ('recalled', 8.505819076948129), ('empathetic', 8.503384877947877), ('regard', 8.502963044142508), ('improvement', 8.502953835836708), ('skullcap', 8.501448878263808), ('lessened', 8.50015046133149), ('tones', 8.498584091629159), ('casually', 8.497061186083187), ('entrance', 8.496522868259449), ('oj', 8.496068146632675), ('insufflating', 8.493884276905243), ('palm', 8.492299493925346), ('placing', 8.488831898332933), ('1pm', 8.488329650864802), ('underground', 8.487229429521422), ('awakened', 8.485423767148685), ('blinking', 8.48079091638493), ('merged', 8.477850386549934), ('crossing', 8.477707406584516), ('dissipated', 8.475436431666777), ('spreading', 8.46423642248519), ('commercial', 8.456277381943506), ('cb', 8.455906968745865), ('vine', 8.452033556945063), ('foods', 8.451115062728142), ('arrest', 8.446953182768675), ('convincing', 8.44566256108813), ('compassion', 8.44456163385999), ('skinny', 8.443854622409804), ('10g', 8.443438640861126), ('bi', 8.443001419210487), ('facts', 8.440050564786466), ('sideways', 8.439033180693132), ('spirals', 8.437989237334133), ('military', 8.434289066215088), ('prison', 8.433189938425453), ('shifts', 8.432769524154267), ('habits', 8.430688922648045), ('unhappy', 8.429307455593046), ('aftereffects', 8.428320997057856), ('operating', 8.426265694777273), ('expressions', 8.425213824845699), ('drooling', 8.422903515110217), ('puzzle', 8.422788349838127), ('salvinorin', 8.42254172187994), ('marks', 8.419892080115286), ('puddle', 8.41570464483971), ('playground', 8.412780180721441), ('pharmaceuticals', 8.412747780057671), ('providing', 8.412616372619418), ('someday', 8.401575480965407), ('coast', 8.401223909094496), ('chemically', 8.399331382903599), ('anticipating', 8.39531545508992), ('gravol', 8.394259979937154), ('140', 8.388527595582008), ('witness', 8.385014120423723), ('begged', 8.384627224049048), ('grid', 8.38053129123315), ('decline', 8.380418290228917), ('curve', 8.37954983142557), ('argument', 8.376856470581252), ('tounge', 8.373786638237945), ('dick', 8.372235403758832), ('aggressive', 8.371599349854163), ('sweats', 8.371476075353403), ('workers', 8.365798092299253), ('christian', 8.365075090838271), ('yellowish', 8.36209361553116), ('inevitable', 8.358898270174702), ('elaborate', 8.357886403063544), ('insects', 8.35368836558897), ('distract', 8.35297026827736), ('secrets', 8.352462120384711), ('edgy', 8.351078961629552), ('underlying', 8.350783202222491), ('tunnels', 8.350353293122597), ('distress', 8.35018887245614), ('yawning', 8.348931342522219), ('fasted', 8.345181071562642), ('concious', 8.344554150711094), ('sedating', 8.338170905692039), ('midst', 8.33777121422948), ('45am', 8.337557209182464), ('videos', 8.334518297047728), ('satan', 8.334428527734056), ('horrific', 8.33196994499105), ('fearful', 8.329061644355434), ('attending', 8.327417408523097), ('equipment', 8.325518419115534), ('exaggerated', 8.324176672839455), ('february', 8.323295585065797), ('teachers', 8.319009212919987), ('claims', 8.317979956018805), ('clouded', 8.315833241147205), ('evaporate', 8.305345787182414), ('survived', 8.304921045802997), ('cancer', 8.299925127762991), ('extend', 8.297467167639365), ('parent', 8.292723048499854), ('huffed', 8.291930885416102), ('recomend', 8.289107085625895), ('silver', 8.288147826395777), ('laws', 8.284969177698082), ('irrelevant', 8.281829956084827), ('supermarket', 8.280805586008364), ('explosion', 8.280468081621267), ('fluffy', 8.279497013097753), ('aphrodisiac', 8.278835511212366), ('gay', 8.277794495919085), ('confronted', 8.275112187543376), ('irritating', 8.273873710729061), ('vice', 8.272560871530576), ('interrupted', 8.269091567834346), ('gaze', 8.268790213108522), ('ibuprofen', 8.267294369682858), ('underwater', 8.266509607294662), ('accomplished', 8.263128747830034), ('kaleidoscope', 8.261131082342041), ('pockets', 8.260803179638307), ('cramping', 8.260347263345627), ('delight', 8.258891986064405), ('tweaking', 8.257415629625923), ('9am', 8.251622156438419), ('headedness', 8.248360143588506), ('roads', 8.248009234340747), ('breakdown', 8.247827844942279), ('wed', 8.246029470330008), ('stays', 8.244160370440788), ('genuine', 8.243511147635727), ('puffs', 8.242439522408098), ('beatles', 8.240473921991585), ('frying', 8.240080058817535), ('aluminum', 8.239805835199997), ('astral', 8.237998717666358), ('choices', 8.237940417080663), ('youth', 8.236792546323805), ('absorption', 8.233654979293394), ('daze', 8.229455662661273), ('squares', 8.227730131256786), ('west', 8.225757963359392), ('outdoor', 8.22481037938059), ('dealt', 8.22406226321206), ('everclear', 8.22151488227838), ('students', 8.220204637129514), ('bound', 8.219750882401039), ('bursts', 8.216655681662099), ('largest', 8.21612591897447), ('performed', 8.213708734441711), ('aloud', 8.211303298963951), ('rollercoaster', 8.209929636789855), ('trigger', 8.209517711499476), ('pin', 8.208429714327858), ('remarked', 8.203910625556452), ('represented', 8.20327476270429), ('sisters', 8.202805800154152), ('blinds', 8.201925798129265), ('stomache', 8.197047092151905), ('destruction', 8.186752998827727), ('therapist', 8.18503553613601), ('halloween', 8.179215953351695), ('unit', 8.178722394718216), ('dreamed', 8.173238378654254), ('becuase', 8.17261757035292), ('discovering', 8.17060072256683), ('classical', 8.170187319006287), ('worthless', 8.164874868844873), ('calmer', 8.163780669504831), ('season', 8.155779304341564), ('sees', 8.155164278891087), ('vaporized', 8.153152504203344), ('choke', 8.151241776213727), ('temple', 8.15068001316834), ('moaning', 8.148838770792434), ('mao', 8.148121378233977), ('shelf', 8.143330742303766), ('bathtub', 8.141491621197277), ('squeeze', 8.13743265898457), ('ponder', 8.135656234318965), ('dresser', 8.13545442723381), ('vapor', 8.133152574474108), ('complexity', 8.13305415216078), ('realms', 8.131241927987228), ('objective', 8.131094157255655), ('insurance', 8.130738414786181), ('mirtazapine', 8.129384541957553), ('strings', 8.129029160562787), ('lowered', 8.127415348886576), ('dialated', 8.127209436179491), ('chugged', 8.125795120076454), ('biting', 8.123557491968171), ('fortunate', 8.121769174232123), ('daylight', 8.121639737301225), ('pressing', 8.119421091607704), ('heal', 8.118208000947913), ('hops', 8.117451748525117), ('very', 8.116622378644992), ('planes', 8.113995500325066), ('translucent', 8.10895908554992), ('complain', 8.10849099978465), ('cocktail', 8.1069746490807), ('labeled', 8.106969740665832), ('stomachs', 8.106861915562302), ('blocked', 8.105986576873098), ('pause', 8.105207045023825), ('paced', 8.1029387805724), ('encourage', 8.101250356153416), ('inducing', 8.098003690001617), ('membrane', 8.097613523071468), ('quote', 8.09491214527874), ('organs', 8.094484939032037), ('hellish', 8.091889743908009), ('envelope', 8.091529122734398), ('distractions', 8.089257594036605), ('scenario', 8.088850418470278), ('vaporizer', 8.086254775385322), ('asshole', 8.086036714290328), ('heaviness', 8.085321512554577), ('barrier', 8.083823223049336), ('aka', 8.083731771281537), ('remotely', 8.07916333354054), ('junk', 8.077875262022413), ('wicked', 8.07687639524064), ('processing', 8.075751266411256), ('penis', 8.07417672740085), ('cheek', 8.074175593968198), ('kit', 8.068460785794187), ('hydromorphone', 8.067654436070248), ('definetly', 8.067208706450616), ('stirring', 8.064520986020884), ('cozy', 8.064519383870978), ('punch', 8.06373626704487), ('characteristic', 8.060885028282307), ('surfing', 8.057369263828393), ('humor', 8.057056293565454), ('alarming', 8.054262205829788), ('oblivion', 8.046553139138423), ('crowded', 8.046293957763329), ('sequence', 8.045446336237656), ('se', 8.044803502510277), ('trade', 8.042374922952687), ('balanced', 8.041746101346131), ('training', 8.041054426548628), ('comming', 8.039594989910935), ('joking', 8.039344975100319), ('allergy', 8.037797614018523), ('tasty', 8.03556269235026), ('raving', 8.035536785228551), ('diamond', 8.03427521245732), ('dialogue', 8.03358832009275), ('concerns', 8.031841494827185), ('spitting', 8.030361734335864), ('hendrix', 8.027623298359144), ('hypnotic', 8.021178144145948), ('passionflower', 8.01881271054793), ('mbdb', 8.018222437821457), ('describes', 8.014012070165018), ('inward', 8.013598897834104), ('visualizations', 8.01172498796153), ('taper', 8.009710229915475), ('unexplainable', 8.001592555220084), ('hammer', 8.001119483000629), ('painfully', 8.000621817417354), ('scares', 7.998960162807533), ('having', 7.9989400542374165), ('rum', 7.995473598126516), ('palpitations', 7.993677529845856), ('injury', 7.992839004548828), ('extremly', 7.9917722454798215), ('11am', 7.991665189738214), ('wallpaper', 7.9910944653836555), ('dank', 7.989095178576204), ('prayed', 7.987889195799041), ('bean', 7.9861399350010105), ('occupied', 7.983906005345038), ('consistently', 7.983276344764909), ('reluctant', 7.976495345116541), ('125', 7.976352226757853), ('contemplated', 7.973377608724334), ('property', 7.968949167905307), ('indulge', 7.968473395052076), ('mucus', 7.966427925299222), ('patients', 7.965960895363191), ('avoiding', 7.9595779342847), ('stock', 7.958500501540342), ('territory', 7.9583556598679), ('instructed', 7.955690534996036), ('justice', 7.9538710513274955), ('appealing', 7.951867662709318), ('tools', 7.9472963618016195), ('38', 7.944595837090529), ('possessed', 7.943550916920004), ('beta', 7.939994355836954), ('mist', 7.938725282045512), ('serve', 7.937552509421024), ('futon', 7.936681847960247), ('england', 7.935295231448384), ('spaces', 7.934766458634738), ('appointment', 7.933395335004958), ('dime', 7.929732677994759), ('ssris', 7.926370678003747), ('mentioning', 7.922410264568335), ('definitly', 7.922105128427292), ('mortar', 7.919027961579489), ('rail', 7.918124075451756), ('minimum', 7.916148780920889), ('plays', 7.914651962389071), ('how', 7.913664321125972), ('switching', 7.912472287785618), ('universes', 7.911230249737899), ('resistance', 7.910622990720634), ('chanting', 7.910505939730122), ('steel', 7.90941360426175), ('unprepared', 7.908260902990049), ('tossing', 7.900192411481761), ('suit', 7.899424807991265), ('buddha', 7.897846792546034), ('attractive', 7.8948144985419075), ('offers', 7.8886814211855265), ('comforted', 7.888628236078027), ('viagra', 7.883947485272856), ('ashamed', 7.883687775455645), ('choking', 7.882575517247914), ('kissing', 7.882439679496498), ('spirituality', 7.881825488737659), ('cyclobenzaprine', 7.880746348213431), ('slid', 7.879882515034709), ('ocd', 7.879634726193887), ('pretend', 7.879508189313255), ('fatal', 7.878730948874994), ('zyprexa', 7.8763171806749), ('definatly', 7.8731439034337845), ('bumped', 7.868795252730639), ('amusement', 7.866948306216952), ('generous', 7.865683993273327), ('frustration', 7.85975447090568), ('worker', 7.8593646252650755), ('scheduled', 7.855337880515192), ('traumatic', 7.853502196532695), ('avid', 7.852835969083421), ('fry', 7.848137827973293), ('eyeballed', 7.846998139096045), ('east', 7.846440470334008), ('loves', 7.845014503230973), ('ants', 7.8442179047420595), ('entertained', 7.83958275161941), ('aftertaste', 7.8386051512511), ('banging', 7.837932740376687), ('calmness', 7.835875495246118), ('experimental', 7.83545711167663), ('ultra', 7.833793852921105), ('sexually', 7.833401061808856), ('tranquil', 7.831416687757421), ('refuse', 7.830877008034408), ('flows', 7.830780625280155), ('relevant', 7.8283336723077), ('downhill', 7.827750928134726), ('obsessive', 7.824340067355607), ('ripple', 7.824191906674321), ('suffice', 7.824107835596057), ('dread', 7.817659551986616), ('trivial', 7.8142577279449315), ('clonidine', 7.812969965832418), ('similarities', 7.811928553312109), ('drawer', 7.805620820174137), ('rainbows', 7.799069952770035), ('smokers', 7.797888256749542), ('fairy', 7.796499377105372), ('gagging', 7.795462900702543), ('drinker', 7.794611655715296), ('articles', 7.793738103555684), ('gaining', 7.79143691942853), ('acetone', 7.788033153012925), ('emerge', 7.787962439352503), ('dew', 7.787327224058745), ('teenager', 7.783161633405068), ('clubbing', 7.782446146616932), ('talks', 7.780866627448032), ('tfmpp', 7.778785599830531), ('wire', 7.777348288125596), ('ginseng', 7.776278578804964), ('cleansing', 7.775820444675846), ('silently', 7.775414693953135), ('hindsight', 7.773376948543682), ('goo', 7.769425355663818), ('swelling', 7.767537173348348), ('bubbling', 7.765251370808567), ('delay', 7.761130471722645), ('irritation', 7.759715246740845), ('prospect', 7.758447984126563), ('fifty', 7.754327702000972), ('relation', 7.751492157859473), ('distraction', 7.74763718246888), ('ginkgo', 7.745785432149119), ('lord', 7.742347231075416), ('replacement', 7.74201364333185), ('remeber', 7.741315074427294), ('medicines', 7.7402233949103305), ('reccomend', 7.731698879043375), ('alternating', 7.730621738192241), ('brewing', 7.725518098870347), ('fa', 7.725468211836316), ('stunned', 7.725437311270927), ('superior', 7.721123413033155), ('characteristics', 7.719409805960094), ('bro', 7.719398957706167), ('pencil', 7.7183494551238985), ('tma', 7.717485639467559), ('hydrated', 7.717103745647547), ('speaker', 7.7152739151639045), ('rage', 7.715088639730329), ('laughs', 7.71215455387818), ('lb', 7.710801522487875), ('magnificent', 7.710048119301327), ('zopiclone', 7.709414053270037), ('hovering', 7.708708241287922), ('ryan', 7.707167388112558), ('stall', 7.706340441437668), ('suprised', 7.701258982627609), ('exploding', 7.7011997372655), ('analyzing', 7.701195157547735), ('sunk', 7.69990201062935), ('beverage', 7.694080972283453), ('drenched', 7.693647904166335), ('resembling', 7.692457316812911), ('dulled', 7.680517861117001), ('inclined', 7.679693280087103), ('scored', 7.6771889077134565), ('cares', 7.675731365698142), ('dot', 7.67160990073348), ('aforementioned', 7.6699170199543865), ('analytical', 7.6687088519133475), ('maintained', 7.668164460129663), ('sharper', 7.667993197965384), ('paths', 7.667171786792796), ('31', 7.658137007996082), ('goofy', 7.657368467599261), ('graduated', 7.652762653711843), ('magazine', 7.651718210165166), ('handy', 7.650978216230739), ('chem', 7.649117071587162), ('moods', 7.646001762113655), ('immune', 7.645983205900382), ('exceptionally', 7.6454885508098664), ('behaviour', 7.6454388352544065), ('encouraged', 7.640850793702846), ('inebriated', 7.639261787495613), ('brownie', 7.63760333639343), ('fountain', 7.6370889502961194), ('bull', 7.636817017092159), ('tangible', 7.63620942534351), ('passage', 7.636159715713879), ('abandoned', 7.634460403888213), ('career', 7.634234176736985), ('studies', 7.633565206793318), ('uneventful', 7.63207545359393), ('toxicity', 7.626438098434063), ('conjunction', 7.623854689889236), ('delirious', 7.622870513368288), ('cluster', 7.6213500052104735), ('ordering', 7.620307898753604), ('wiped', 7.619986357835651), ('failing', 7.617251580691186), ('aunt', 7.614546079737105), ('wobbly', 7.613230648611947), ('jimson', 7.612183722552143), ('outward', 7.6108331722265135), ('skunk', 7.610506679802769), ('examine', 7.60744415054906), ('intimate', 7.6053186827525225), ('worthy', 7.600940406839688), ('golf', 7.596450958889498), ('definition', 7.596223438924188), ('medicinal', 7.593929374767749), ('reassuring', 7.591380835279647), ('innocent', 7.5848642529425865), ('butterflies', 7.5818413716113255), ('tribal', 7.578479617997682), ('satisfaction', 7.5779922779909), ('weirdness', 7.577240154409622), ('loosing', 7.576176191893105), ('psychonauts', 7.575655783863096), ('bye', 7.571560903430311), ('dom', 7.571471943015067), ('hiking', 7.569526274938193), ('echoed', 7.566806633362733), ('irregular', 7.5625644750518415), ('responsibly', 7.562057816578834), ('shitless', 7.5587383415075), ('performing', 7.558702691081309), ('molecule', 7.55745566685554), ('tie', 7.5555338528805684), ('comeup', 7.555010485913542), ('tapering', 7.5538295310482235), ('prescriptions', 7.553802766910527), ('varied', 7.553339177704627), ('cereal', 7.551883451699718), ('5ml', 7.5511711492831886), ('weakness', 7.54784705242777), ('agent', 7.547310103827983), ('hip', 7.547222254901489), ('strapped', 7.545657650175526), ('link', 7.543683184863418), ('subsiding', 7.542736827930288), ('converse', 7.542481391003018), ('subway', 7.53794122156584), ('hbw', 7.536151941041545), ('42', 7.5358834224269255), ('merging', 7.532648644302062), ('controllable', 7.527825363786973), ('comedy', 7.522368637156026), ('exotic', 7.520816796743105), ('peeled', 7.519624537508285), ('educated', 7.51894206616415), ('wary', 7.518893196109489), ('furthermore', 7.518846647471476), ('define', 7.517888901774124), ('bulk', 7.517756003338435), ('perfection', 7.5155012002100205), ('construction', 7.514660398888908), ('solar', 7.513120466535695), ('stir', 7.512138368936664), ('disorienting', 7.5109232012105585), ('orgasms', 7.508022642014087), ('cleansed', 7.504933537058971), ('bat', 7.502340451996679), ('vicks', 7.50210451960337), ('09', 7.501423992714518), ('exchange', 7.499502831559161), ('diameter', 7.49936411177274), ('imaginable', 7.498731323664013), ('ached', 7.498471978781699), ('stupidly', 7.49789624064348), ('zoned', 7.494707165340574), ('fist', 7.492439091838567), ('contemplate', 7.491547734101109), ('sipped', 7.486244175113171), ('hmm', 7.484470798958714), ('steam', 7.483116220338333), ('robot', 7.482502054133399), ('consistency', 7.482419699103698), ('hearts', 7.479797632590911), ('soo', 7.478579697802704), ('welcomed', 7.4770268635310995), ('alpha', 7.47558867350423), ('lacked', 7.474379427267008), ('creek', 7.473645040979573), ('lemonade', 7.472821366184125), ('accepting', 7.47229036781988), ('alchohol', 7.471487726750436), ('cooled', 7.471321788592543), ('mart', 7.470486584142998), ('chances', 7.47044780888704), ('guessed', 7.463554600364699), ('hangovers', 7.460954772094351), ('sports', 7.460663969707888), ('backpack', 7.4591728754079085), ('lingered', 7.457625083461911), ('secluded', 7.454162309708233), ('yea', 7.448875202453852), ('bp', 7.447275500227033), ('array', 7.445674208939216), ('sights', 7.44544904584206), ('handled', 7.443581153825875), ('fungus', 7.443522673062127), ('160', 7.441960790558956), ('suitable', 7.439856364416986), ('jon', 7.433677016172849), ('escaped', 7.432922587766276), ('guided', 7.432139941252788), ('freind', 7.431961568973261), ('timeline', 7.4316419332792405), ('protect', 7.430772529305918), ('ignoring', 7.426581449064704), ('buddhist', 7.424764130233188), ('recording', 7.423623682610554), ('clubs', 7.4175247403302285), ('perscription', 7.41337115633677), ('95', 7.410587400474955), ('ii', 7.410452964750081), ('southern', 7.410366077442004), ('sublingually', 7.408022963414972), ('dare', 7.407782856128681), ('observations', 7.402451215498667), ('weights', 7.398389879906786), ('unwanted', 7.397950641278028), ('shouted', 7.397350878459601), ('crystalline', 7.397332120835714), ('hallucinatory', 7.392288228138694), ('dunno', 7.391058171001809), ('jolt', 7.385895153036458), ('newly', 7.384571968745088), ('traces', 7.3840865091057175), ('crackers', 7.383398009903308), ('embarrassed', 7.3825784037153035), ('rocket', 7.378926782511442), ('returns', 7.378495122304381), ('settling', 7.378331931808237), ('sang', 7.377238427965237), ('unsettling', 7.371095637708883), ('unfortunate', 7.36979210730356), ('tremendously', 7.364886763034234), ('branch', 7.35992289862682), ('indoors', 7.3598126066601965), ('boosted', 7.358247870033221), ('judgment', 7.356967484644013), ('service', 7.355887291922848), ('retreated', 7.355678806530401), ('comprehension', 7.354508149326972), ('eric', 7.350961810153972), ('optimistic', 7.34727970415446), ('vowed', 7.3451540844588), ('evolved', 7.344022629134013), ('firstly', 7.343902957026197), ('infection', 7.34163750805188), ('phenomena', 7.340848953775782), ('respected', 7.338273157393282), ('continuous', 7.337742371158278), ('inanimate', 7.334711369386445), ('endlessly', 7.333859336006095), ('bouts', 7.332401472854493), ('strattera', 7.330724825405013), ('acidic', 7.328396603449629), ('slices', 7.3260275607205365), ('units', 7.324818379080512), ('overwhelmingly', 7.321330070827309), ('laser', 7.319171126735623), ('oclock', 7.316447455999069), ('130', 7.313870517508655), ('sits', 7.312961810092115), ('artificial', 7.312372174550057), ('punched', 7.311540426716089), ('poetry', 7.311410923870966), ('ticket', 7.309070151964517), ('heating', 7.308305612447336), ('orb', 7.307224114334018), ('recreation', 7.304692283618068), ('ironically', 7.303554545651484), ('soooo', 7.301791786030677), ('negatives', 7.301774870208127), ('torture', 7.2994064829472105), ('smoother', 7.297606666580996), ('sections', 7.295818395571251), ('artistic', 7.2899894134231245), ('whirl', 7.285234702552426), ('beast', 7.283962110525007), ('monkey', 7.283805382307212), ('realising', 7.280683246256288), ('downing', 7.279278002242536), ('enhances', 7.278883813193996), ('chatty', 7.276918040999002), ('europe', 7.276218572614208), ('fragments', 7.273788018340026), ('thumb', 7.2707862022906085), ('treating', 7.264316527833009), ('ratio', 7.261089899729428), ('tended', 7.253722650998292), ('streaming', 7.252944642482051), ('complained', 7.252934219608614), ('emptiness', 7.251343395386381), ('department', 7.249808193325715), ('disbelief', 7.246569573899278), ('eased', 7.246510148517259), ('sparkling', 7.239999234548807), ('expansion', 7.239172909727154), ('psychiatric', 7.237369489414058), ('bay', 7.236942620987273), ('dextromethorphan', 7.235760872768073), ('unstable', 7.233743415517058), ('lil', 7.233691762150495), ('brownish', 7.230145096618831), ('bubbler', 7.230132146061506), ('sprinkled', 7.2295959599974795), ('preperation', 7.229323071501128), ('clumsy', 7.225507088642524), ('ol', 7.225292793611996), ('flickering', 7.224958900017902), ('n2o', 7.223573853459446), ('hue', 7.222155807715524), ('instinct', 7.221586619696191), ('comparing', 7.2172242360202965), ('reader', 7.21542249646449), ('serenity', 7.214790873590358), ('supplies', 7.214471224162484), ('empathic', 7.213714523529958), ('firmly', 7.2090258091858805), ('visualize', 7.2084335652275255), ('torso', 7.206721311332354), ('shops', 7.203139403081491), ('filters', 7.198011419235708), ('register', 7.1968146681779075), ('ect', 7.196098975166955), ('efficient', 7.195718499479891), ('plot', 7.195144834029236), ('20pm', 7.1937530077931635), ('heh', 7.188178771715089), ('sludge', 7.185518436738925), ('ct', 7.184621030521043), ('flood', 7.181394494421485), ('detachment', 7.1800963122471915), ('pathetic', 7.179472051944221), ('belonged', 7.177700169201168), ('york', 7.177150359849652), ('destroying', 7.17405931433203), ('email', 7.173477593698017), ('cracking', 7.173232212458257), ('unlikely', 7.172698851844507), ('rips', 7.171551292521665), ('jello', 7.169965363402534), ('hippy', 7.169775920104664), ('35mg', 7.169175610690459), ('integrate', 7.16779015099872), ('tint', 7.167181310597305), ('jeff', 7.161933777037934), ('temp', 7.161587564961042), ('smiles', 7.161565975819186), ('constipation', 7.158720704509966), ('shoe', 7.155826956057209), ('notebook', 7.154548898115267), ('blackout', 7.1510483268580565), ('rays', 7.149619447668323), ('scalp', 7.149493494966763), ('fundamental', 7.148928617729608), ('his', 7.148734913071162), ('delightful', 7.145118057465427), ('upbeat', 7.144232450992071), ('hungover', 7.14389404033209), ('clenched', 7.14282083203092), ('abnormal', 7.14270625370747), ('engine', 7.1416815152078605), ('retreat', 7.1397935206129555), ('arose', 7.136563116365066), ('namely', 7.13511099025384), ('bloodshot', 7.133475510212613), ('difficulties', 7.130845259271006), ('reduction', 7.129039859313041), ('reducing', 7.128740862035727), ('sauce', 7.128479397567807), ('alas', 7.128232679506892), ('theories', 7.123451948715716), ('fearing', 7.122722948279898), ('extensively', 7.1226522836260395), ('tryed', 7.122261016474642), ('scales', 7.122089162982181), ('dipped', 7.12123641595277), ('flavored', 7.119744369941173), ('marvelous', 7.118487350464005), ('stored', 7.116043355298054), ('daytime', 7.115360527085942), ('abyss', 7.11343134351786), ('gratitude', 7.111054326720125), ('iced', 7.109787843742089), ('bk', 7.108864559681909), ('websites', 7.107240520758962), ('impairment', 7.106293690965487), ('efforts', 7.104915615219457), ('offering', 7.104782250204741), ('reflections', 7.1042433733107195), ('evenly', 7.103633695748676), ('impending', 7.103397110274317), ('jam', 7.101555980432671), ('baseball', 7.099829120603998), ('only', 7.09788003066429), ('legally', 7.097273872714056), ('adjust', 7.097208882854878), ('lightheadedness', 7.096448881292401), ('prescribe', 7.095952136138936), ('burger', 7.091587843285877), ('nearest', 7.090602472567822), ('allergies', 7.0889862113929), ('tapped', 7.088835351551328), ('prevented', 7.088785598878962), ('goin', 7.086665604656972), ('views', 7.078533661088017), ('technology', 7.074904597183804), ('dense', 7.071299667374102), ('consisting', 7.070064804163777), ('awaiting', 7.062479814421677), ('narrow', 7.0615240577491925), ('nauseating', 7.057402948095581), ('florida', 7.056360154262823), ('projected', 7.0550481597182175), ('timer', 7.053976600867479), ('29', 7.051541923200281), ('washroom', 7.051266393111802), ('eleven', 7.050039586169727), ('confirm', 7.047965786171031), ('grapefruit', 7.04764982479177), ('brian', 7.04320018818163), ('seperated', 7.043148703509236), ('craziest', 7.041522700974595), ('dismissed', 7.040364236559092), ('belong', 7.0391191766808445), ('cease', 7.036162180384485), ('purchasing', 7.035384178233476), ('perscribed', 7.035344402309192), ('tuned', 7.035233658946045), ('dragonfly', 7.035208120618681), ('2ct2', 7.034910068593198), ('map', 7.033293586713178), ('yrs', 7.031665854983989), ('poisonous', 7.031656596612888), ('elevation', 7.03157267940475), ('author', 7.0315349827167415), ('learnt', 7.031169042807335), ('primal', 7.025613826986625), ('frantic', 7.025346976810699), ('code', 7.02413759777584), ('physiological', 7.022923602696113), ('pondered', 7.022839800164638), ('socks', 7.022377351913662), ('tweaked', 7.021736135980433), ('downs', 7.015684026050582), ('tapping', 7.014751894330698), ('chakra', 7.011380573876252), ('behold', 7.011186656983756), ('magnified', 7.009711707498977), ('cute', 7.00744714876296), ('backs', 7.003068727177064), ('collect', 7.000882810105818), ('relaxant', 7.000600431276846), ('cherry', 6.998706709125185), ('engage', 6.993790055258856), ('gate', 6.992658760495719), ('personalities', 6.99134008518732), ('heater', 6.990450440173835), ('foam', 6.9904137888212174), ('obsessed', 6.990161989379352), ('tan', 6.989060850706988), ('apologize', 6.989038356969262), ('momentarily', 6.986949064222295), ('72', 6.9836819527923), ('banana', 6.980210462410441), ('rectally', 6.978788544374699), ('linked', 6.978637922253443), ('channels', 6.976286948417755), ('nbome', 6.976274178422486), ('k2', 6.976185163081992), ('cookie', 6.973223143635928), ('oblivious', 6.972527750096243), ('galaxy', 6.969241092694118), ('document', 6.9686147337121636), ('warmer', 6.96842207339343), ('15x', 6.9675658905594196), ('surround', 6.967520301713327), ('portal', 6.9666264233742705), ('inspiring', 6.9657534253745155), ('promethazine', 6.96425105965758), ('flexeril', 6.963587915426567), ('soap', 6.96344397722589), ('doubts', 6.962917604739384), ('alarmed', 6.960949778229793), ('leftover', 6.960609615685398), ('cuts', 6.959729928167262), ('stating', 6.958942025960044), ('seats', 6.95889405424994), ('ahold', 6.954911208652022), ('poppies', 6.953472292764163), ('diluted', 6.953233126901757), ('proportions', 6.953093318292189), ('radiating', 6.9528243023503515), ('techniques', 6.9524778208394755), ('standardized', 6.945554574091219), ('spotted', 6.945445290192191), ('unexpectedly', 6.944909558119544), ('ad', 6.9448348686556365), ('subsequently', 6.942445206775446), ('feed', 6.941925333729899), ('dismay', 6.941011246428412), ('married', 6.939199884545146), ('fond', 6.938810016528983), ('cracks', 6.938324925571917), ('notch', 6.935914078975113), ('enhancer', 6.932724272099479), ('ben', 6.932685673650754), ('scrape', 6.931753582455154), ('tubes', 6.930569445904332), ('cents', 6.92976829525488), ('desirable', 6.928892706065561), ('strike', 6.927921022379164), ('thread', 6.9273180258743485), ('fluids', 6.92686724771241), ('positively', 6.926220225133064), ('somthing', 6.918965897283982), ('folding', 6.918349101395783), ('pig', 6.916916132083229), ('desires', 6.916596757032985), ('cured', 6.91290255150552), ('subtly', 6.9118774152177975), ('error', 6.911733982715315), ('spanish', 6.91096286328495), ('funky', 6.908518257764423), ('critical', 6.907313615782685), ('foliage', 6.902189181704045), ('aroused', 6.901740726298023), ('shpongle', 6.901139005571217), ('molecules', 6.9000832239950345), ('dragging', 6.89959221593999), ('flushing', 6.898800350895396), ('solely', 6.8953802069053065), ('jobs', 6.895057753143307), ('tipsy', 6.894353648778477), ('horrified', 6.89387121435488), ('leary', 6.892402263453798), ('dislike', 6.890810881125768), ('rectal', 6.89066376799429), ('aftermath', 6.89062279522343), ('kidneys', 6.8888868378869565), ('staff', 6.8885663773442545), ('army', 6.885916295897334), ('playlist', 6.885200498175354), ('zooming', 6.884032663676808), ('finals', 6.881146052695565), ('ness', 6.879848561364608), ('110', 6.877364724155294), ('team', 6.8765619655521295), ('bursting', 6.875928829562115), ('potentiate', 6.875793779657584), ('david', 6.873675122433593), ('surrender', 6.873103451200136), ('incapable', 6.867558592629681), ('village', 6.865572136228813), ('uncommon', 6.861949779790137), ('motionless', 6.861922212331475), ('magnitude', 6.859994434367022), ('chin', 6.859966611370365), ('nagging', 6.859282553074893), ('mirrors', 6.852689422226943), ('reds', 6.851545384454571), ('bumping', 6.851461285238902), ('stunning', 6.850576373256842), ('eachother', 6.8498383883494505), ('120mg', 6.848867964897392), ('museum', 6.848801356997208), ('flashlight', 6.847930970901925), ('symptom', 6.839142509061674), ('psychadelics', 6.837140434403928), ('demonic', 6.836858628671702), ('perceiving', 6.835965491673191), ('adjusted', 6.835684063901262), ('pothead', 6.83336034613938), ('unpleasent', 6.8333163631740845), ('diminishing', 6.832909745946462), ('pihkal', 6.83151433948627), ('saturated', 6.8312775151944525), ('invincible', 6.831011049681625), ('nails', 6.830507154795051), ('dissapeared', 6.824481009148948), ('normality', 6.820781412793292), ('inhaler', 6.820619380623739), ('whatnot', 6.820202517368416), ('sixth', 6.819546549543333), ('retain', 6.81800705193785), ('heck', 6.816376226473924), ('regards', 6.815883335344183), ('renewed', 6.815811156018376), ('swinging', 6.815544212480179), ('buttons', 6.812530682254577), ('phrases', 6.81097362740385), ('tbsp', 6.810442903631495), ('snack', 6.805359739061445), ('revealing', 6.804731988047487), ('attended', 6.803318946867807), ('typed', 6.803201687787651), ('solve', 6.802675787474317), ('shrinking', 6.801274256437222), ('acquire', 6.7995739648322076), ('kissed', 6.797233372854306), ('undulating', 6.79650421165762), ('procured', 6.79124952506622), ('mdai', 6.791229141431651), ('suggests', 6.788942262929922), ('apathy', 6.785648434713551), ('clench', 6.783263333872574), ('insect', 6.782235516990325), ('nicer', 6.781154017457159), ('gauge', 6.779874748870625), ('lessen', 6.77750935801089), ('clammy', 6.776292097981696), ('blacking', 6.776043414141068), ('impressions', 6.774809390020532), ('freinds', 6.771718674363688), ('witch', 6.770328679729652), ('similarly', 6.768722913138355), ('deadly', 6.768255322060383), ('fingertips', 6.76711283730222), ('freshly', 6.766556305662542), ('greenish', 6.765734510060569), ('seated', 6.765278526719238), ('interpret', 6.765112835918553), ('dependence', 6.764756552608686), ('troubles', 6.761571910849081), ('froze', 6.760511441914148), ('shamans', 6.7554900442312436), ('mario', 6.7505784360134475), ('arrives', 6.750453390791274), ('peruvian', 6.750273743258198), ('conscience', 6.74894354393028), ('precisely', 6.748702704299776), ('painkiller', 6.747752321494849), ('drives', 6.74749287583343), ('liquids', 6.747177939867179), ('grounds', 6.747084763085235), ('diminish', 6.746414239206454), ('astonished', 6.745543474268991), ('irresponsible', 6.74361470876615), ('mellowed', 6.743061102125628), ('auras', 6.742305668416995), ('lungful', 6.741435152460831), ('spelling', 6.738748398900903), ('freeze', 6.731079349981534), ('plunger', 6.727168728185327), ('benign', 6.726425509304421), ('bloodstream', 6.726127561252859), ('steeped', 6.725879689418383), ('refrigerator', 6.721034765486215), ('acceptable', 6.720521292223352), ('purging', 6.718790947638789), ('licked', 6.7165854947480685), ('mornings', 6.7153567156665135), ('peeing', 6.712973232473695), ('darvocet', 6.710855597543803), ('mindfuck', 6.710611628874176), ('pavement', 6.710570941278655), ('portions', 6.707775946351248), ('endure', 6.705952653292472), ('tweak', 6.705016161547381), ('jumbled', 6.703857162212585), ('inform', 6.703593369009162), ('poorly', 6.70192214047109), ('blades', 6.698174454488285), ('illicit', 6.697982226192711), ('tooth', 6.69440376038023), ('disaster', 6.691799241426263), ('brightness', 6.691264793834055), ('mumbled', 6.690886730525015), ('symbol', 6.688971044189234), ('33', 6.6860694789967114), ('gallon', 6.6840009940079685), ('zipper', 6.683425617595771), ('blacklight', 6.681059553310108), ('vain', 6.680076893962449), ('pc', 6.677744955065402), ('soluble', 6.675756117121167), ('6th', 6.6752883789664015), ('antsy', 6.674861730525028), ('conversing', 6.66982627695588), ('tolerant', 6.667877946776711), ('loading', 6.666844590954609), ('venlafaxine', 6.6646703852466445), ('reputable', 6.661093455152294), ('thrust', 6.659312774366587), ('nightly', 6.658858923820726), ('toys', 6.658398805290184), ('misery', 6.655844964504209), ('unnecessary', 6.652588967738939), ('emerging', 6.652468201289324), ('jay', 6.649832733705314), ('withdrawls', 6.648698439916624), ('disgusted', 6.645273139319131), ('keen', 6.644237003636554), ('gates', 6.6436823843623785), ('tihkal', 6.6426873665722255), ('network', 6.641824947330249), ('sp', 6.640987996960502), ('toast', 6.639464937785525), ('stoning', 6.636958564075824), ('replace', 6.636933096994055), ('threatened', 6.6361358648006705), ('celebrate', 6.634662611105779), ('50pm', 6.6341454977082766), ('humorous', 6.6335758004571455), ('development', 6.632290785217956), ('structures', 6.631264954510093), ('digestive', 6.630516658879236), ('overdosing', 6.627276168132768), ('adventures', 6.62651382847686), ('discern', 6.624643283402618), ('pump', 6.623633354450793), ('jet', 6.623260974673329), ('panicky', 6.623045948645179), ('800', 6.620017687349426), ('sorrow', 6.617682461398547), ('epiphany', 6.616178136787836), ('overhead', 6.616159090027999), ('chillin', 6.616067429202644), ('jeans', 6.6135946627068), ('playful', 6.613143342135764), ('distort', 6.610733768170191), ('landscapes', 6.610651879482645), ('headshop', 6.60799042039241), ('interpreted', 6.6060129294830086), ('tsp', 6.604718768633909), ('astounding', 6.602683669754623), ('t7', 6.601221004824285), ('shine', 6.600603562485541), ('weirder', 6.6002026982235735), ('snuck', 6.599565777060804), ('pint', 6.599229939814957), ('mania', 6.598886613377205), ('definate', 6.597684541265103), ('rebirth', 6.596787190274884), ('elated', 6.59529941260235), ('famous', 6.594657312170323), ('twin', 6.593162507173545), ('pepsi', 6.593014923752783), ('examining', 6.591187973242819), ('jason', 6.590079813740887), ('chi', 6.589686140837542), ('contacts', 6.589268289155046), ('builds', 6.588696218670188), ('awaited', 6.586746585293525), ('libido', 6.586137100960291), ('vertical', 6.58372944173699), ('pad', 6.58342232991917), ('2x', 6.57792138068293), ('blunts', 6.576876007929285), ('bust', 6.57661794360871), ('shattering', 6.57544060777959), ('tables', 6.5751380227158815), ('flies', 6.574179033984091), ('inhibition', 6.5714604255125915), ('review', 6.569697186566017), ('farm', 6.565398490073165), ('hesitation', 6.5649888231972975), ('couches', 6.560743012711849), ('grace', 6.560656578358037), ('organized', 6.557171616487734), ('trauma', 6.557152464377748), ('350', 6.555434841729493), ('uncomfortably', 6.5516452208851135), ('mp3', 6.550574393478001), ('jars', 6.549794308116911), ('telephone', 6.549048020950297), ('remedy', 6.548124722082296), ('proceded', 6.546966110976318), ('ignorant', 6.5432913604552025), ('dive', 6.542345595902464), ('basketball', 6.5422344404657675), ('viewed', 6.54009777690564), ('teaching', 6.539192726651345), ('thumbs', 6.538088496734483), ('sunglasses', 6.538065930777812), ('youve', 6.537600308079177), ('pseudoephedrine', 6.535925973784221), ('sneak', 6.535412121535591), ('teenage', 6.534532586773445), ('goals', 6.533806907119162), ('hum', 6.531998455363504), ('cooler', 6.531020907649193), ('outlines', 6.530102951943125), ('glue', 6.526154876310655), ('habitual', 6.521714337686628), ('pma', 6.520842158589646), ('these', 6.519783614005681), ('responding', 6.519537363198052), ('swayed', 6.518443032477998), ('spontaneous', 6.51544726607169), ('japanese', 6.515223284800584), ('bullet', 6.512782195550958), ('butanediol', 6.505913564495937), ('benzodiazepine', 6.5045525760678125), ('succeeded', 6.504509206094297), ('examined', 6.502698475485126), ('guarana', 6.501782106151567), ('favor', 6.501141445949187), ('bounce', 6.497814879356384), ('uplifting', 6.497374356987358), ('articulate', 6.493296779546818), ('depends', 6.486746529603357), ('vs', 6.483843804763987), ('disassociated', 6.483015760011379), ('eyeball', 6.481095820728296), ('planets', 6.481045253451056), ('repetitive', 6.480008377178673), ('winding', 6.470799934420977), ('production', 6.469478005883027), ('45min', 6.4687305329107145), ('pestle', 6.465069877944519), ('winamp', 6.465052118455165), ('education', 6.462985105301793), ('shocking', 6.461970842856072), ('category', 6.460921127841587), ('brave', 6.459905549225942), ('40pm', 6.459023187282671), ('dishes', 6.457485887911214), ('ci', 6.457171769364817), ('chore', 6.457115826855091), ('acetoxy', 6.4569957048014945), ('hmmm', 6.456821349661715), ('popcorn', 6.4566997586595045), ('african', 6.45635996129864), ('destructive', 6.456115780243263), ('tile', 6.455142937601797), ('halo', 6.454312162257329), ('lecture', 6.454250122795684), ('psychedelia', 6.4537794305336496), ('divide', 6.452097796417082), ('dozens', 6.450089647373879), ('aural', 6.448424693212179), ('lump', 6.446642921188714), ('hopeless', 6.445745427780794), ('wax', 6.4451029064358), ('grandma', 6.443631337946548), ('psychology', 6.4404565769348405), ('mothers', 6.44015638712042), ('fraction', 6.440069422413401), ('choked', 6.439800113982556), ('unpredictable', 6.439286345181796), ('attain', 6.438953598783312), ('realy', 6.436879961063187), ('beware', 6.432702417971818), ('stimulus', 6.431699326790138), ('finds', 6.431260148385047), ('lane', 6.42944577951407), ('raging', 6.428117521184342), ('quarters', 6.426455611405323), ('trek', 6.422986058668083), ('gazed', 6.421854600283903), ('asian', 6.419273777521197), ('kidney', 6.417706983771025), ('outcome', 6.415568097496113), ('resolve', 6.415417319807207), ('nasally', 6.414875965847268), ('harmaline', 6.412608604362288), ('odor', 6.4113174220451175), ('prevalent', 6.407868671726355), ('intoxicating', 6.407763050340784), ('coincidence', 6.406849227252965), ('jimi', 6.406395654965498), ('worms', 6.405102114785952), ('visualization', 6.4030629715383975), ('dining', 6.402128528413677), ('detect', 6.401190266775447), ('psychotropic', 6.399202554750912), ('34', 6.398984624127402), ('operate', 6.398401302836195), ('temptation', 6.397574046623165), ('outgoing', 6.39741938705149), ('awaken', 6.396907262957498), ('exited', 6.396483566215993), ('wrist', 6.394189883072418), ('gazing', 6.389417083304858), ('catalyst', 6.387774419495783), ('marathon', 6.386821876527467), ('agitation', 6.385954908958896), ('cracker', 6.384878633388486), ('metaphor', 6.384658416927271), ('australia', 6.381436803270938), ('officers', 6.3814307142143605), ('poppers', 6.3813420664686165), ('entirety', 6.381287077279068), ('fireplace', 6.380862839822889), ('arguing', 6.380192571941066), ('buried', 6.380187946556182), ('goddamn', 6.379846349254972), ('underestimated', 6.377122310880313), ('harmful', 6.376138484350784), ('adds', 6.375665478746976), ('delusion', 6.374644112206239), ('attracted', 6.371902131259066), ('crime', 6.371778494625428), ('projection', 6.368952284710906), ('reputation', 6.368815396698774), ('maintaining', 6.368492410641799), ('he', 6.367105855473766), ('urges', 6.36587569642379), ('pride', 6.365516972804749), ('perspectives', 6.363074719397177), ('methoxetamine', 6.362433260529518), ('radiohead', 6.359872174767345), ('5htp', 6.35387680274579), ('trailing', 6.353665776049583), ('disc', 6.352302898678948), ('intensive', 6.352125079547936), ('t0', 6.350211247590431), ('withdraw', 6.349522924666782), ('rinsed', 6.3492537877572195), ('corn', 6.348902095732807), ('latest', 6.346014320979309), ('multicolored', 6.3429629129459535), ('ignorance', 6.340565318605101), ('blobs', 6.338134735108199), ('heartrate', 6.337568143781621), ('phish', 6.337503375189566), ('swam', 6.336682732339066), ('fragile', 6.329436706062156), ('enthusiastic', 6.327727964133955), ('northern', 6.326623575005747), ('demanding', 6.324381247355627), ('plugged', 6.322798482152256), ('mechanical', 6.322501276878611), ('duty', 6.321858854611497), ('apologized', 6.3215369345289005), ('echoes', 6.32128395015442), ('pseudo', 6.321121642287569), ('spite', 6.320284592710584), ('moms', 6.319235691152107), ('bonding', 6.317032041497635), ('16mg', 6.316785942268161), ('stolen', 6.316111970623311), ('binges', 6.315039350515274), ('gulps', 6.314781170798218), ('soundly', 6.314210182188837), ('slurring', 6.3135031427088), ('violence', 6.312941956938214), ('aztec', 6.307255442656841), ('uncoordinated', 6.306838211841365), ('jaws', 6.305745711451675), ('feedback', 6.305356597496104), ('challenging', 6.3028589192306415), ('unnerving', 6.296498178503338), ('sustained', 6.295275098352077), ('timeless', 6.291224139859371), ('rainy', 6.289915156199099), ('interpretation', 6.287520487907521), ('shore', 6.28649931143346), ('sync', 6.285683519896446), ('eerie', 6.284709100190947), ('shiver', 6.282011412212129), ('leather', 6.281240803147197), ('passenger', 6.279914321954905), ('unhealthy', 6.2797967039191915), ('audible', 6.279458168208907), ('filtering', 6.279104037868534), ('expierence', 6.277131659279108), ('coolest', 6.276477397328279), ('selfish', 6.275968599372987), ('dump', 6.2751182709608155), ('kaleidoscopic', 6.274246140763521), ('genuinely', 6.2739550258235655), ('releasing', 6.273464822651161), ('flavour', 6.2731968538870575), ('virgin', 6.271613162007625), ('wrapping', 6.270013374796088), ('sigh', 6.2670217675388455), ('gaba', 6.264916789821863), ('sobered', 6.263755035420189), ('greg', 6.263146666090197), ('accompanies', 6.262009228905552), ('straining', 6.260461937961413), ('47', 6.259886898757209), ('jake', 6.256867056366621), ('apiece', 6.256750673438574), ('attained', 6.256013917010949), ('inspiration', 6.254339308173128), ('robotussin', 6.253832943688556), ('few', 6.252827112080038), ('peers', 6.251595122101147), ('zoomed', 6.250564389403184), ('dropper', 6.247223464434524), ('firm', 6.244483993773471), ('fascination', 6.244432136651691), ('bowling', 6.242743381796199), ('zolpidem', 6.240524944240272), ('anxieties', 6.239898000722703), ('pulses', 6.235527196957023), ('drastic', 6.233119227449373), ('packages', 6.23296818382847), ('rap', 6.2305598092163095), ('freon', 6.229030737802088), ('sealed', 6.2286470767858635), ('introverted', 6.228376791126473), ('12am', 6.227064893961626), ('bile', 6.2267178906964595), ('gap', 6.225341540750885), ('messy', 6.221569851028164), ('indicated', 6.220892872784734), ('meantime', 6.217191148760426), ('10th', 6.215819782964421), ('gears', 6.2154745159715175), ('sence', 6.211913793098919), ('doom', 6.211696450144595), ('grains', 6.211689139563609), ('willpower', 6.210505129792198), ('44', 6.209560299469268), ('reassure', 6.207302226114969), ('sale', 6.204936333765937), ('vacuum', 6.204902691435222), ('curb', 6.203109994671137), ('gasping', 6.202403570298739), ('potion', 6.200509355945013), ('coated', 6.200131770725097), ('funnel', 6.196836012649838), ('twitches', 6.196682980457924), ('mesh', 6.195704916032487), ('cement', 6.193898695021628), ('zen', 6.192728189902243), ('widely', 6.1924212497967694), ('zoning', 6.189007405274242), ('shes', 6.188868248739505), ('yield', 6.187749063448052), ('wipe', 6.185071729245373), ('planted', 6.183561568300575), ('striking', 6.18218533573016), ('52', 6.177182252349339), ('consensus', 6.176328978361468), ('chattering', 6.174609702402753), ('purged', 6.174290562420159), ('resemble', 6.173200672753475), ('cannibis', 6.170593454504477), ('sterile', 6.1705656368811415), ('deny', 6.16933517970882), ('caffiene', 6.168039324996466), ('naive', 6.167862028073836), ('progressively', 6.167025035056611), ('redosing', 6.159898788530152), ('peacefully', 6.159851482680404), ('scaring', 6.157498020757933), ('oily', 6.156252311518428), ('encompassing', 6.155148953762954), ('equilibrium', 6.154486719484659), ('region', 6.152923729674009), ('automatically', 6.148135832848193), ('psycho', 6.146488755869155), ('homeless', 6.1442420836975185), ('unsuccessful', 6.1409508773779065), ('threat', 6.140472203041185), ('respiratory', 6.13959340180762), ('curl', 6.138928603112492), ('al', 6.136765227052957), ('address', 6.135000118675035), ('outta', 6.131371594562214), ('cns', 6.130801594767226), ('hues', 6.129126950571827), ('aimlessly', 6.127815994591875), ('exhausting', 6.126921714324951), ('thirst', 6.126114865255073), ('reflex', 6.1238705538682945), ('craved', 6.123407556967899), ('lightweight', 6.12147988630889), ('psilocin', 6.121216345249841), ('licking', 6.116137397231594), ('irritability', 6.1156149502137005), ('accelerated', 6.115607482298628), ('proven', 6.115493305513932), ('sworn', 6.114478519038182), ('ironic', 6.114377421420733), ('we', 6.114011378767001), ('lame', 6.113480198816341), ('lion', 6.112846044133977), ('blending', 6.112411035347663), ('wee', 6.112359251424212), ('eh', 6.111449952788597), ('alkaloid', 6.111199069383712), ('vibrate', 6.110575347711263), ('reads', 6.109975030421862), ('overcame', 6.107463432938291), ('joyous', 6.106032296685391), ('125mg', 6.10328754596402), ('runny', 6.09559086556983), ('incapacitated', 6.093999935501079), ('trashed', 6.09370011848498), ('urinating', 6.0911008526986), ('apb', 6.089828079267607), ('familiarity', 6.0851828462183954), ('swig', 6.083787367748269), ('sunshine', 6.080088872418959), ('whisper', 6.079715460153733), ('alterations', 6.078892318009366), ('giddiness', 6.077429819014364), ('dimmed', 6.076462652580462), ('4g', 6.0743877779044455), ('2d', 6.074167490697839), ('genius', 6.072336858358233), ('apprehension', 6.0718031124342104), ('borderline', 6.071691830199396), ('ensued', 6.070092698888604), ('alternatives', 6.068865942521681), ('unimportant', 6.0687341205526435), ('hints', 6.066773065800641), ('committed', 6.06663277622151), ('youll', 6.064570148596393), ('heres', 6.063963841141924), ('bowel', 6.063932668157931), ('whim', 6.062763424745091), ('rocky', 6.061833468597198), ('patterned', 6.059499187290859), ('composure', 6.059187565667037), ('bounced', 6.059073051820445), ('vegetable', 6.056320003101156), ('downer', 6.055250571944381), ('bearing', 6.054317155465763), ('approximate', 6.0524640509332945), ('infected', 6.052386608097313), ('excessively', 6.050695924406282), ('shoved', 6.0489043463083405), ('ray', 6.047942560538554), ('artwork', 6.04773460004707), ('occuring', 6.0459945938775), ('costs', 6.0437689784715385), ('below', 6.043601489041521), ('absorbing', 6.041130777394903), ('bummed', 6.0400484268364485), ('recliner', 6.039833601580427), ('subutex', 6.037980436364967), ('forgive', 6.03738461055348), ('physician', 6.034612648475231), ('satisfy', 6.0325461810431795), ('deprived', 6.03224236649886), ('exercises', 6.030221746604906), ('gladly', 6.025752329613181), ('incomprehensible', 6.0251102090189885), ('regretted', 6.022925890963963), ('pharms', 6.022583466492423), ('chilly', 6.020887555688959), ('presumably', 6.020846766914865), ('artists', 6.018793112127215), ('digging', 6.018451444686923), ('toad', 6.018004999192326), ('dissociatives', 6.0179890141735575), ('iron', 6.017944176089263), ('defiantly', 6.017686648346049), ('upward', 6.014970891504942), ('communicated', 6.013318346485096), ('fills', 6.012142258239682), ('dabbled', 6.0107614578462085), ('petals', 6.009598556687685), ('screams', 6.008845578769021), ('actively', 6.004537703792291), ('analgesic', 6.004164811361622), ('browsing', 6.003868994921522), ('relating', 5.998581673921128), ('bastard', 5.997922691304188), ('epic', 5.996387404309878), ('model', 5.995967420544566), ('chores', 5.9952354298196004), ('hydrochloride', 5.995132387705682), ('obtaining', 5.994210057128786), ('oranges', 5.991766452551438), ('fur', 5.990496554722549), ('dreamt', 5.989859161449666), ('350mg', 5.989592043200429), ('khat', 5.988184311387373), ('blazed', 5.987224556486493), ('impulse', 5.9840130729138545), ('watering', 5.98399269744407), ('tentacles', 5.983941372984908), ('signals', 5.9838707980252686), ('bs', 5.983476119696084), ('should', 5.982993951503531), ('landing', 5.982891436493286), ('wtf', 5.981562155969214), ('assumption', 5.979158408304627), ('woozy', 5.976061484036255), ('beleive', 5.975761090712335), ('warming', 5.973959016240685), ('periphery', 5.969850165325449), ('zoom', 5.966974892183934), ('choosing', 5.966493504752644), ('blasting', 5.963836638191526), ('dig', 5.963267619095629), ('floors', 5.957854774188475), ('guests', 5.9575356010271445), ('theatre', 5.955348341635811), ('opinions', 5.952553418176307), ('textured', 5.952250481045058), ('identified', 5.947691203217033), ('promising', 5.94278220786291), ('newfound', 5.935592982407619), ('lengthy', 5.935519451001956), ('truths', 5.933442027523718), ('ing', 5.931172186869745), ('whip', 5.930303377227424), ('waters', 5.929906880198205), ('platform', 5.929775138140474), ('tranquility', 5.92884386536484), ('somas', 5.9283761027680155), ('glowed', 5.927288801540524), ('startling', 5.927173464920084), ('churning', 5.9269822288345795), ('interfere', 5.9266247658211), ('triangles', 5.925664605803703), ('crew', 5.924139818742142), ('menthol', 5.923213237402415), ('numbed', 5.923188630368001), ('deserve', 5.921761783455156), ('witnessing', 5.920864579984622), ('fuel', 5.919811657592994), ('mantra', 5.917278345695325), ('versa', 5.916664593176712), ('carefree', 5.915276471956166), ('methoxy', 5.914442742449929), ('thier', 5.912764918287857), ('shutting', 5.911565368252733), ('exclaimed', 5.9090220257275545), ('capture', 5.906929161949245), ('beams', 5.905584159033184), ('advanced', 5.900960137768416), ('tedious', 5.900941398975903), ('undoubtedly', 5.900901879759025), ('spilling', 5.900152478830674), ('spontaneously', 5.8989420875865), ('regimen', 5.895376327748032), ('demerol', 5.895283152195428), ('options', 5.894003117454423), ('beloved', 5.893998498854149), ('indicate', 5.892536101138463), ('sam', 5.890206304907014), ('cc', 5.88998070713753), ('halucinations', 5.889361185656402), ('discussions', 5.882670129590307), ('instances', 5.879295841412814), ('drawings', 5.8761438586099395), ('daniel', 5.875849730082754), ('addictions', 5.872905739951726), ('disassociation', 5.872895866952496), ('consideration', 5.872451728069639), ('simmer', 5.870980784527757), ('somatic', 5.870849743001797), ('launched', 5.866621917079129), ('socialize', 5.865330821943527), ('unfolding', 5.8640506322306), ('mumble', 5.862097127891451), ('vulnerable', 5.861785415308712), ('organism', 5.860255225513291), ('lining', 5.859637999453801), ('whispered', 5.856786712035382), ('blurring', 5.855671792039787), ('indication', 5.8521663291854225), ('mankind', 5.849594145600966), ('intensifying', 5.8493875992405675), ('manifestation', 5.848436742616879), ('retained', 5.844028363529282), ('apathetic', 5.8402322010055245), ('bugging', 5.839665224064405), ('bore', 5.838786955076106), ('cerebral', 5.836744446482596), ('stretcher', 5.836042578661021), ('factory', 5.8360070889476665), ('reddish', 5.835674131243304), ('8oz', 5.833705485163661), ('descent', 5.833057722669768), ('muscular', 5.832967922683435), ('par', 5.832550650974903), ('pinpoint', 5.830138418036281), ('rounded', 5.829209948288314), ('esque', 5.82807476103179), ('apt', 5.825798439129944), ('tour', 5.823899328344432), ('moclobemide', 5.82231349488725), ('spatial', 5.821730891568331), ('oriented', 5.820306360149238), ('involuntary', 5.818442317485378), ('rows', 5.818187454743205), ('succession', 5.816524314090534), ('relatives', 5.816352053479322), ('counteract', 5.816064834318594), ('processed', 5.815855419458764), ('slamming', 5.814494376911397), ('anadenanthera', 5.810905611819441), ('owned', 5.809049131280456), ('hype', 5.806823185128949), ('wal', 5.8055531306836485), ('flag', 5.804362642474501), ('jazz', 5.8007149470485695), ('cycles', 5.8002093292118815), ('extacy', 5.7998349358459835), ('shorts', 5.7986558628241465), ('sprayed', 5.797438829369923), ('tremor', 5.7958418524843385), ('tinfoil', 5.794602094157426), ('mistaken', 5.793338204468495), ('easiest', 5.793233932017576), ('measurement', 5.790599344487454), ('700', 5.788943222494687), ('audience', 5.782154713651087), ('catheter', 5.7820658943742025), ('scott', 5.780348080921382), ('careless', 5.776937650441181), ('terence', 5.776870809978694), ('vomitting', 5.7764642601065415), ('resort', 5.77588139022839), ('reporting', 5.775583378254521), ('legged', 5.775530556807132), ('iap', 5.775180460675346), ('bible', 5.7751288059345915), ('selves', 5.77496228224141), ('weighs', 5.774131573767466), ('sting', 5.773718164521757), ('litre', 5.770922159301851), ('exposure', 5.770795651588473), ('survival', 5.7691083232749465), ('encounters', 5.76910281977648), ('tickets', 5.767791492255396), ('synesthesia', 5.765644610897297), ('freaks', 5.762800735695559), ('vastly', 5.762634629559765), ('biloba', 5.762270993859413), ('deer', 5.7622263548152555), ('25g', 5.761977659310692), ('atoms', 5.759780043898485), ('aroma', 5.759571215362685), ('chems', 5.75873696009843), ('decreasing', 5.756955826529149), ('dozed', 5.7558634439485825), ('7mg', 5.755829512553321), ('psychologist', 5.754257880653382), ('snapping', 5.754086100255103), ('aprox', 5.752708626701907), ('risky', 5.75140680789647), ('reacting', 5.7508393446903865), ('signed', 5.750479553076796), ('excruciating', 5.746070593184648), ('chop', 5.743769727262887), ('sexy', 5.743276413142371), ('lethal', 5.743140627297422), ('egg', 5.742901183856914), ('everyones', 5.7421478474190195), ('simmered', 5.740510310621486), ('hood', 5.739097609614111), ('inviting', 5.73884566752418), ('intuition', 5.737448291902144), ('fumes', 5.736521317511569), ('established', 5.736068836608411), ('practical', 5.735885144985485), ('intentionally', 5.733690154544502), ('contribute', 5.733627289981214), ('sparks', 5.7331618727169085), ('referring', 5.733134270071693), ('phentermine', 5.732902974728013), ('whos', 5.732350510245848), ('fullest', 5.732291007075502), ('amitriptyline', 5.730815933730272), ('separation', 5.729754034915904), ('campfire', 5.729204896756122), ('demanded', 5.728368822477061), ('asthma', 5.728082499976305), ('veteran', 5.727965261349701), ('spark', 5.7272682953752785), ('abdomen', 5.726192231906613), ('enemy', 5.725907819226203), ('mature', 5.724538597773445), ('nearing', 5.722247433966292), ('peganum', 5.722053865571851), ('groove', 5.72117699558809), ('rat', 5.721126628180703), ('individually', 5.720908572627283), ('lowest', 5.7205531915571886), ('expressing', 5.720253187362343), ('pregnant', 5.720237325210569), ('substantially', 5.719136188039259), ('involve', 5.718773142329859), ('slows', 5.718468891518594), ('status', 5.716179614265688), ('sank', 5.715814697476807), ('foolishly', 5.715699017362835), ('mechanism', 5.715240613140524), ('vyvanse', 5.7125294742229515), ('border', 5.711888154528896), ('wah', 5.709223310103958), ('exponentially', 5.7080549732577035), ('admiring', 5.707351930712491), ('instruments', 5.707271177243498), ('blessing', 5.7071578953111), ('humble', 5.705270467631229), ('copious', 5.69966670563283), ('eastern', 5.6991340822946865), ('engaging', 5.69726630011209), ('suggesting', 5.695481192920959), ('tinge', 5.695427585891776), ('license', 5.693396829338606), ('adventurous', 5.6926919062428905), ('giggled', 5.692508679694045), ('johns', 5.692083938426539), ('halls', 5.691733103313831), ('positives', 5.690823133875735), ('piled', 5.6881984396352), ('elephant', 5.688066709843567), ('cage', 5.687386478632979), ('sweater', 5.6856542135964085), ('introduce', 5.683957280046542), ('participate', 5.683213199843141), ('announced', 5.68286155672456), ('monsters', 5.6823477492871834), ('fancy', 5.6818956720369505), ('norm', 5.681153498427527), ('drool', 5.680754074605757), ('spins', 5.67919970105025), ('recognition', 5.678878410834328), ('toked', 5.678076360998685), ('involves', 5.676089529011613), ('reminder', 5.673688722424049), ('eyeballs', 5.673183276203616), ('unseen', 5.669829153478268), ('watery', 5.669488591886057), ('7th', 5.668505383626007), ('mobile', 5.6680262491541225), ('percent', 5.667784406499451), ('eyesight', 5.667142814118747), ('convenience', 5.666822370592817), ('uncertain', 5.664844254572647), ('squeezing', 5.663655347678298), ('classroom', 5.663549383672482), ('sublime', 5.661392810672211), ('analogy', 5.661197765300811), ('loneliness', 5.657843701327543), ('tower', 5.65675174298611), ('inhibitor', 5.655537799413287), ('extending', 5.654570632419421), ('vault', 5.646132833169813), ('notably', 5.646036340439184), ('ph', 5.641573683589932), ('instrument', 5.636967002466237), ('salad', 5.636095268890395), ('diving', 5.6354674431206675), ('ladies', 5.634030572892037), ('newspaper', 5.627096703377469), ('butt', 5.627089305495792), ('fries', 5.625793561049181), ('elation', 5.625624029014071), ('phenomenal', 5.624341715284122), ('unconcious', 5.624081546990385), ('pepto', 5.622802235815085), ('someones', 5.620696192380508), ('18mg', 5.619957416248203), ('metaphysical', 5.6190954508837105), ('spacing', 5.617029746823627), ('novelty', 5.613740584274061), ('debate', 5.612646515052494), ('customers', 5.610550946707375), ('shady', 5.608386502070497), ('solved', 5.605609271900805), ('sparkly', 5.604257383671177), ('inebriation', 5.60224871728258), ('crude', 5.601620407152271), ('united', 5.601253918106275), ('looping', 5.599858442801708), ('bills', 5.599814426146602), ('logically', 5.598225915841146), ('feminine', 5.597241608510213), ('feature', 5.59646767459684), ('vinegar', 5.596215896483186), ('attacked', 5.596191445088896), ('blocking', 5.59444792661575), ('boards', 5.594200544503886), ('suspicion', 5.594153453471111), ('kavalactones', 5.5933592354496735), ('accompanying', 5.593120456730154), ('stationary', 5.591550378273181), ('inevitably', 5.591533038893504), ('temazepam', 5.591374393891034), ('glued', 5.591339080668678), ('wellbeing', 5.59048957655852), ('investigate', 5.590296208250347), ('65', 5.584991596504475), ('highschool', 5.584748324965596), ('circus', 5.584665493290691), ('jumpy', 5.584253893166509), ('unison', 5.582315599546088), ('30mins', 5.582211534977045), ('emphasize', 5.5808701367048545), ('trains', 5.580485419200472), ('openly', 5.580241272614778), ('emanating', 5.579824016158636), ('rocked', 5.579581154535977), ('those', 5.577216066986764), ('hairs', 5.57665933529379), ('hostile', 5.576346553376639), ('includes', 5.574600257577148), ('insomniac', 5.574559478912232), ('abilify', 5.574545405780938), ('breathtaking', 5.574122118474365), ('2hrs', 5.573625500941657), ('blinding', 5.570662593062117), ('sacrament', 5.568503764746861), ('representation', 5.568281625530046), ('preferably', 5.5679034831186405), ('responses', 5.567463845195933), ('effectiveness', 5.565265569281573), ('maois', 5.564864079322887), ('crisis', 5.563754408180967), ('boxers', 5.562939359993263), ('pea', 5.562213440470296), ('chamomile', 5.562063418276995), ('airplane', 5.562020096326658), ('dorms', 5.561730730253885), ('temples', 5.56117649932155), ('modest', 5.561047730226655), ('vaporize', 5.559801025222014), ('rash', 5.557326195193883), ('eliminate', 5.556905009899494), ('as', 5.5566037622490105), ('similarity', 5.554005675115218), ('studio', 5.55349688576641), ('feelin', 5.551674768616648), ('geometrical', 5.550297249762398), ('projects', 5.550081246582893), ('synergistic', 5.549969567012959), ('tightening', 5.549418121275741), ('constructed', 5.5492389810674405), ('poking', 5.5491835979066435), ('reaches', 5.548019832729322), ('signal', 5.545524569712574), ('minty', 5.5454840467973385), ('maze', 5.545145388282206), ('drags', 5.544447306941073), ('ce', 5.544096562405472), ('noticably', 5.543488073483139), ('bowels', 5.542261624233288), ('ashes', 5.541990456371346), ('cos', 5.538807950545212), ('hyperventilating', 5.538483492650702), ('honesty', 5.537456782784061), ('setup', 5.537292598790484), ('suprise', 5.536232853097883), ('dm', 5.535610302697217), ('pretending', 5.535286284843078), ('womb', 5.535024573923297), ('peeling', 5.534439440942978), ('halos', 5.534231670529009), ('healed', 5.532540187493028), ('musician', 5.529072937241536), ('lowering', 5.525223122212915), ('oxys', 5.523406141147635), ('resumed', 5.522305854213657), ('contemplation', 5.5209312031953806), ('where', 5.5200775518379075), ('1998', 5.51692068525437), ('mucous', 5.515532206878445), ('bites', 5.514480439813658), ('kidding', 5.512642328431699), ('muster', 5.512513445528517), ('kyle', 5.509822624619832), ('request', 5.509663242490649), ('outwards', 5.5089060799386385), ('authority', 5.5088579777674305), ('realisation', 5.503122566988294), ('clinical', 5.501549025077907), ('additionally', 5.497965715918089), ('dome', 5.496681663023807), ('refill', 5.495546086333138), ('2007', 5.494881153326256), ('doze', 5.492971757649498), ('scheme', 5.492866520389434), ('grandfather', 5.489886857279157), ('shrugged', 5.489805000450077), ('exceedingly', 5.486986838952344), ('trumpet', 5.4864078245102545), ('scrambled', 5.485551083642149), ('vanish', 5.48540459865204), ('delicate', 5.483142389440742), ('wakes', 5.483115166784597), ('devoid', 5.482295129200727), ('lortab', 5.481935608362567), ('fuzz', 5.4801229484879235), ('conservative', 5.479736078387616), ('com', 5.4795044723930415), ('faintly', 5.4787776297086515), ('print', 5.477340088801898), ('propelled', 5.477303790230691), ('deserved', 5.475885056124388), ('favorites', 5.475180469251), ('niacin', 5.4738238499363305), ('picnic', 5.4720394660431255), ('graduate', 5.471883814815863), ('nope', 5.470522714748304), ('controls', 5.470413902799445), ('vessels', 5.470313522872254), ('ineffective', 5.470170503318253), ('underwear', 5.468628937051462), ('jerk', 5.468421295624378), ('western', 5.467727099420154), ('household', 5.46649825380647), ('hospitalized', 5.465008510207936), ('tilted', 5.464432885499431), ('unfold', 5.464137757274578), ('scent', 5.463843804554772), ('kevin', 5.463394461745925), ('bonus', 5.46033104047552), ('wich', 5.460046728959841), ('backward', 5.456982242326445), ('sobbing', 5.456800838890651), ('parted', 5.452476463397912), ('illusions', 5.451918764985187), ('reward', 5.451619959649844), ('adequate', 5.451178347156352), ('illuminated', 5.451123899126301), ('esteem', 5.445572894229644), ('toking', 5.44487100399802), ('intently', 5.443643103021416), ('tray', 5.4422820290004585), ('operation', 5.4400726147987495), ('receptor', 5.436279945737481), ('workout', 5.433150055101315), ('beaten', 5.4311700385757815), ('wholly', 5.42861056338545), ('choppy', 5.428563022352278), ('belive', 5.428224799600778), ('feeding', 5.4267989945351305), ('butterfly', 5.426678449643602), ('victim', 5.426125769197744), ('texas', 5.425343302318939), ('airport', 5.424245118249649), ('iprocin', 5.42407014742308), ('drowning', 5.422608347186603), ('strawberry', 5.422340177442045), ('horizontal', 5.420836300299297), ('experince', 5.419424203398606), ('unaffected', 5.41789955063363), ('errands', 5.4174404909088825), ('peer', 5.4174055725530375), ('desperation', 5.4172448100375785), ('scraping', 5.416838072923061), ('pursue', 5.416522013914868), ('precautions', 5.415190391364503), ('draining', 5.414102542367742), ('title', 5.412962294983965), ('12pm', 5.407967135188584), ('fungi', 5.405662395204509), ('brushing', 5.4035091489508975), ('telepathic', 5.403412975190921), ('consequence', 5.403299734329218), ('snacks', 5.40323855962146), ('geometry', 5.40278161907427), ('sufficiently', 5.402469791999756), ('peppers', 5.400635880563927), ('discarded', 5.398049609988551), ('bruises', 5.396657469686292), ('teen', 5.395080271589615), ('posting', 5.394899205664423), ('symbolic', 5.393520612536956), ('disorders', 5.393021732172165), ('fox', 5.391381184337934), ('mushies', 5.390560253627593), ('instantaneously', 5.389333017983923), ('sixteen', 5.389183715635466), ('sparkles', 5.387455263682562), ('bizzare', 5.387120950417507), ('oneself', 5.386663611241958), ('harvest', 5.386216045399888), ('reckless', 5.383174674149639), ('sec', 5.381436582168274), ('futile', 5.380984587681631), ('earthly', 5.3804437430557135), ('junkies', 5.379855463865891), ('yuck', 5.37355700894293), ('conventional', 5.3732508166475865), ('experianced', 5.369960738426577), ('pro', 5.3654895161982825), ('carnival', 5.364548448398153), ('hometown', 5.364478376180297), ('woah', 5.363690216306346), ('overlooking', 5.363670667622497), ('yielded', 5.3635637291497655), ('inherent', 5.363281424610113), ('lightbulb', 5.361574833376131), ('recorder', 5.361198088285049), ('tolerate', 5.360626679943654), ('staggering', 5.359207710200328), ('dna', 5.3577114728652715), ('dress', 5.357229495596205), ('digest', 5.356865562454789), ('opana', 5.356542540790975), ('prep', 5.354545580960394), ('cupboard', 5.3526014889714215), ('toss', 5.351972863522472), ('distorting', 5.351959907108341), ('cigars', 5.351430118862346), ('peel', 5.34997562895127), ('cousins', 5.3492506771269515), ('bottled', 5.348454606698161), ('fulfilling', 5.348055069688644), ('india', 5.3474225187036915), ('resisted', 5.346089804693726), ('chick', 5.345216957065281), ('collapsing', 5.343691168277574), ('vessel', 5.34310092037903), ('toe', 5.341461511743459), ('ruining', 5.341358435675139), ('halves', 5.339445025856346), ('reluctantly', 5.338518019650558), ('suggestions', 5.3370316984650685), ('possess', 5.336301996795523), ('embarrassing', 5.336074137565437), ('linger', 5.3338993713728025), ('photos', 5.333286341797924), ('superimposed', 5.333247087397967), ('astonishing', 5.330200342306987), ('rides', 5.328361316929851), ('20min', 5.3258407882457), ('delivery', 5.325621887779682), ('pole', 5.324884415538833), ('payed', 5.318575314778832), ('rendered', 5.314222470111451), ('independent', 5.313310907985217), ('generalized', 5.310458123608563), ('eggs', 5.307110163809657), ('shocks', 5.306821372685491), ('manipulate', 5.3063567429625005), ('interests', 5.306267062726488), ('5h', 5.305894612365918), ('seasoned', 5.305609506907574), ('bleed', 5.304931327580571), ('mandrake', 5.304141927497096), ('telepathically', 5.30392920651084), ('longing', 5.300477525032225), ('circulation', 5.300033332247258), ('jacked', 5.299176812317247), ('disconcerting', 5.296798675413297), ('erratic', 5.295157410006738), ('assistance', 5.294298209856978), ('trunk', 5.294222622010547), ('salty', 5.2918241971444475), ('veil', 5.290980460577612), ('drunkenness', 5.290145325273769), ('crickets', 5.2898060062632), ('20am', 5.289347614701889), ('teas', 5.2886986633264765), ('slumped', 5.288354539586168), ('unclear', 5.287411620647235), ('drama', 5.286808088543518), ('neo', 5.28651370994382), ('occupy', 5.28262572974188), ('upcoming', 5.282226926007488), ('explains', 5.279412181164905), ('zacatechichi', 5.279187405900766), ('tongues', 5.278972018571357), ('raising', 5.27742622284171), ('sandwiches', 5.2740237276689195), ('windy', 5.273311335414329), ('thai', 5.271024915529768), ('eliminated', 5.2688931127217415), ('chatter', 5.2684838026942415), ('primitive', 5.268362295112523), ('recommendation', 5.264437755519274), ('menacing', 5.264163524864924), ('forwards', 5.261307019368663), ('cardiac', 5.258919539501352), ('acknowledge', 5.258277630410583), ('creator', 5.257887698755447), ('classify', 5.257887121799797), ('internally', 5.256048759118855), ('harmine', 5.2548334785278), ('affair', 5.254482063896948), ('subsides', 5.254155225145605), ('chug', 5.253675962326615), ('backseat', 5.252597709195755), ('54', 5.2505392032937825), ('recognizing', 5.250357458553729), ('thanksgiving', 5.24854892777692), ('sophomore', 5.247863001383453), ('unnatural', 5.24646804422074), ('dug', 5.246113676455772), ('dependant', 5.245887751385316), ('hassle', 5.24518523045378), ('slam', 5.245023393736221), ('slime', 5.244795218316389), ('stillness', 5.2446667681376), ('disappears', 5.244488986414322), ('navigate', 5.244400460638181), ('digested', 5.244040736716703), ('vital', 5.242329721864037), ('canadian', 5.241916506045682), ('dmae', 5.241267242883535), ('benedryl', 5.239455030232686), ('enthusiasm', 5.238934501974387), ('ginko', 5.238712372796685), ('timers', 5.238399676765594), ('decade', 5.2374604788734205), ('rude', 5.235252571508923), ('heave', 5.235247145555389), ('bulging', 5.234050001267612), ('involuntarily', 5.232625913431541), ('cardboard', 5.2312053190451815), ('regaining', 5.230082554963165), ('wiggling', 5.229747446047762), ('passages', 5.228367006876844), ('hurried', 5.227981884124458), ('hectic', 5.225296870679608), ('pie', 5.2244491939344675), ('anxiousness', 5.22295350438408), ('tide', 5.222375899934631), ('adults', 5.222369053303779), ('choline', 5.221644880641501), ('speediness', 5.220202911289587), ('joyful', 5.219975190743752), ('telepathy', 5.219901310210475), ('aged', 5.21933346012471), ('occurrence', 5.219246627467298), ('merge', 5.218084821023325), ('dissipate', 5.216914340028845), ('anxiously', 5.216152560906311), ('gateway', 5.2160118982905805), ('has', 5.213375349569618), ('surf', 5.212921405200444), ('suprisingly', 5.206295948678776), ('clay', 5.206066567363372), ('races', 5.205442966310465), ('dating', 5.204989121433325), ('frenzy', 5.204887864969096), ('dawned', 5.203796681346967), ('cartoonish', 5.2031194777719945), ('mindless', 5.202650662514182), ('plagued', 5.20025230276478), ('mouthful', 5.200198987725632), ('entertain', 5.200165663080775), ('documented', 5.199913741746977), ('forum', 5.199782901479201), ('frog', 5.1992465502974445), ('hed', 5.199042729054922), ('heaved', 5.1984383429528025), ('paradise', 5.198031992349894), ('pounded', 5.196872930887269), ('purse', 5.194537468421136), ('appeal', 5.193567050212397), ('toll', 5.191945452164397), ('meetings', 5.191502611591323), ('multiplied', 5.191172731611511), ('lapse', 5.191149992102062), ('curiousity', 5.1901641888376675), ('seratonin', 5.189194783467953), ('mashed', 5.189104661657566), ('dependency', 5.186561202802367), ('peppermint', 5.184613630991144), ('win', 5.184405842371439), ('autumn', 5.183806527266191), ('michael', 5.183269286874032), ('smeared', 5.183009522991904), ('scratched', 5.182823129478367), ('projectile', 5.182118022585011), ('definetely', 5.1815994032148085), ('endured', 5.179552083884982), ('academic', 5.178908981782841), ('itchiness', 5.178121991050522), ('viridis', 5.177782241198675), ('proportion', 5.176971700921992), ('guidance', 5.175541031429713), ('responsibilities', 5.175108027265981), ('weightless', 5.174789179627049), ('gourd', 5.172006791390102), ('guiding', 5.171987241756434), ('digestion', 5.171547694032024), ('gulped', 5.1707281963353795), ('myriad', 5.169830354837475), ('confined', 5.168058248373858), ('yogurt', 5.164397897210349), ('railing', 5.16421059161866), ('drivers', 5.1636742755865415), ('descending', 5.163653815749743), ('vigorously', 5.1609915441432825), ('intending', 5.15818366451147), ('fragmented', 5.157434401453583), ('56', 5.156162981179644), ('poem', 5.155516812121322), ('glimpses', 5.154349790454723), ('underestimate', 5.1539034183842025), ('extraordinarily', 5.1536001741528015), ('msn', 5.1522646776160546), ('reefer', 5.151642267846084), ('huddled', 5.150547236448443), ('sedate', 5.1505227420855295), ('denied', 5.149991424813155), ('implications', 5.149184095573811), ('4oz', 5.148081393085103), ('guest', 5.146498844718458), ('railed', 5.1441236470541645), ('rotation', 5.143498797399682), ('expectation', 5.141958945988162), ('socializing', 5.141663189270755), ('ft', 5.141457365049532), ('weary', 5.137500112151237), ('generated', 5.1367528990327305), ('ghosts', 5.13626941115133), ('joining', 5.136204430540958), ('extracting', 5.135729865459698), ('peed', 5.132956115240959), ('posts', 5.1327459477059545), ('obscure', 5.132516821282367), ('delivered', 5.1324526131995185), ('spill', 5.13197850867935), ('serving', 5.129492668949003), ('paused', 5.127814409913395), ('feverish', 5.127254855419411), ('admittedly', 5.125664917516306), ('debating', 5.125583096444148), ('lightness', 5.123428482643244), ('blows', 5.123315837916888), ('stack', 5.122478053174009), ('milky', 5.1221572832577955), ('selected', 5.120476473262415), ('indifferent', 5.120263399894799), ('roach', 5.11990808411405), ('wheels', 5.11865543803628), ('damaging', 5.118355479623148), ('trap', 5.117602076644738), ('tequila', 5.1171360270865645), ('officially', 5.114875490620113), ('beginnings', 5.114305125014217), ('stained', 5.114234635559363), ('dominant', 5.113115510208448), ('tingled', 5.112915765110143), ('tinnitus', 5.112732385696388), ('cuddled', 5.111664719479542), ('delerium', 5.110731918789703), ('mde', 5.109385206934456), ('dimly', 5.106847813998413), ('escaping', 5.1058169625758865), ('expirience', 5.104231307063781), ('lamps', 5.103525008252291), ('sirens', 5.101784302309671), ('liberty', 5.101679549981156), ('downright', 5.10158821999403), ('cottage', 5.101175608296741), ('ps', 5.099627467434795), ('neglected', 5.096914730943655), ('clicked', 5.096869917910648), ('furiously', 5.096212944970773), ('mortal', 5.096196844786039), ('argue', 5.0955202919979845), ('olanzapine', 5.095315511527103), ('spike', 5.0949806256279295), ('blankly', 5.094293838893964), ('andrew', 5.093330054104966), ('partial', 5.091077132587745), ('hippies', 5.090701030779033), ('commit', 5.090375011378821), ('dizzyness', 5.090300556310624), ('arts', 5.088578956251401), ('pastel', 5.085342559138037), ('1ml', 5.084213066237186), ('accompany', 5.083629523747836), ('softer', 5.083396737739015), ('dissolution', 5.083149093922505), ('plexus', 5.082987934262662), ('burden', 5.082956017496686), ('shelter', 5.077634173290777), ('century', 5.077530985351313), ('vials', 5.076233713339177), ('cranberry', 5.073427405326476), ('dial', 5.072567003286915), ('descended', 5.071778679493691), ('lemons', 5.068615499327037), ('acutely', 5.0685013251438935), ('wooded', 5.067914159930196), ('herself', 5.067109590036383), ('conflict', 5.066770321315966), ('disturbance', 5.065417685765453), ('flailing', 5.063573039644827), ('nervously', 5.06271177904929), ('fitting', 5.06246447038824), ('contract', 5.061551814426345), ('recognizable', 5.060501841233545), ('peek', 5.058754704363893), ('dads', 5.056865659788699), ('entranced', 5.054606953484179), ('nail', 5.053292826538433), ('annoyance', 5.052759883109894), ('consequently', 5.052643344327602), ('moonlight', 5.0519186208483315), ('prompted', 5.050197467629561), ('hefty', 5.048715424272223), ('pete', 5.046599749794642), ('acquaintance', 5.045334932750977), ('privacy', 5.043917635941666), ('cow', 5.043408427956434), ('teens', 5.042719509871852), ('sampled', 5.0413183064734515), ('inhibited', 5.040883509732844), ('appartment', 5.039134633657255), ('overpowered', 5.0385286497447135), ('bulbs', 5.038032575191024), ('57', 5.037245206281568), ('fishing', 5.03662405072235), ('generation', 5.036171350859344), ('rely', 5.034881241210292), ('crown', 5.034825011066665), ('madman', 5.0346222655502855), ('ahh', 5.03438119564356), ('heaping', 5.034323839472839), ('smashing', 5.0339802217816985), ('deprenyl', 5.0323889697622795), ('frequencies', 5.030001681539002), ('battling', 5.029869288777453), ('horrendous', 5.029156337211548), ('wa', 5.027508840503852), ('venom', 5.0269766156221305), ('photo', 5.0267055477117), ('crumbled', 5.024958984976728), ('liken', 5.022701651362471), ('reacts', 5.020157170179639), ('copy', 5.019741374710939), ('plateaued', 5.0185170998203725), ('exp', 5.018396906620538), ('sells', 5.018333032206097), ('cord', 5.017503713473046), ('sprite', 5.017273962433118), ('smarter', 5.014650240067113), ('claiming', 5.014101966746452), ('canyon', 5.01322649264002), ('everthing', 5.012723550649881), ('46', 5.012507377498851), ('disjointed', 5.011993622232902), ('lucy', 5.0116646494484955), ('achieving', 5.011542170707313), ('thigh', 5.010802087648768), ('embraced', 5.0092769449431245), ('delighted', 5.008553630994109), ('ethereal', 5.007860790164434), ('recalling', 5.007492281531708), ('soccer', 5.005972227924436), ('arise', 5.005552826265729), ('25i', 5.005181752942899), ('petty', 5.0048050709441005), ('org', 5.004520971848019), ('rem', 5.003556908520832), ('mcdonalds', 5.002767975856766), ('coursing', 5.000508605603114), ('coherently', 5.000046095751334)]\n",
      "\n",
      "[('ich', 13.085048649416738), ('und', 9.794235794662686), ('der', 5.692708225805883)]\n",
      "\n"
     ]
    },
    {
     "name": "stdout",
     "output_type": "stream",
     "text": [
      "[]\n",
      "\n"
     ]
    }
   ],
   "source": [
    "# tt_matrix is the topic-term matrix, and gives us each topic (row) as a list of words (columns)\n",
    "# Source: https://towardsdatascience.com/understanding-feature-engineering-part-3-traditional-methods-for-text-data-f6f7d70acd41\n",
    "tt_matrix = lda_tfidf.components_\n",
    "for topic_weights in tt_matrix:\n",
    "    topic = [(token, weight) for token, weight in zip(vocab, topic_weights)]\n",
    "    topic = sorted(topic, key=lambda x: -x[1])\n",
    "    topic = [item for item in topic if item[1] > 5]\n",
    "    print(topic)\n",
    "    print()"
   ]
  },
  {
   "cell_type": "code",
   "execution_count": 27,
   "metadata": {
    "colab": {},
    "colab_type": "code",
    "id": "S0GBAbo5Cs0X"
   },
   "outputs": [
    {
     "ename": "KeyboardInterrupt",
     "evalue": "",
     "output_type": "error",
     "traceback": [
      "\u001b[0;31m---------------------------------------------------------------------------\u001b[0m",
      "\u001b[0;31mKeyboardInterrupt\u001b[0m                         Traceback (most recent call last)",
      "\u001b[0;32m<ipython-input-27-aeca232a0346>\u001b[0m in \u001b[0;36m<module>\u001b[0;34m\u001b[0m\n\u001b[1;32m      2\u001b[0m \u001b[0;31m# Visualization of Latent Dirichlet Allocation models\u001b[0m\u001b[0;34m\u001b[0m\u001b[0;34m\u001b[0m\u001b[0;34m\u001b[0m\u001b[0m\n\u001b[1;32m      3\u001b[0m \u001b[0;31m# using the tf-idf model to visualize TF-IDF\u001b[0m\u001b[0;34m\u001b[0m\u001b[0;34m\u001b[0m\u001b[0;34m\u001b[0m\u001b[0m\n\u001b[0;32m----> 4\u001b[0;31m \u001b[0mpyLDAvis\u001b[0m\u001b[0;34m.\u001b[0m\u001b[0msklearn\u001b[0m\u001b[0;34m.\u001b[0m\u001b[0mprepare\u001b[0m\u001b[0;34m(\u001b[0m\u001b[0mlda_tfidf\u001b[0m\u001b[0;34m,\u001b[0m \u001b[0mdtm_tfidf\u001b[0m\u001b[0;34m,\u001b[0m \u001b[0mtfidf_vectorizer\u001b[0m\u001b[0;34m)\u001b[0m\u001b[0;34m\u001b[0m\u001b[0;34m\u001b[0m\u001b[0m\n\u001b[0m\u001b[1;32m      5\u001b[0m \u001b[0;34m\u001b[0m\u001b[0m\n\u001b[1;32m      6\u001b[0m \u001b[0;31m# pyLDAvis.sklearn.prepare(lda_tf, dtm_tf, tf_vectorizer)\u001b[0m\u001b[0;34m\u001b[0m\u001b[0;34m\u001b[0m\u001b[0;34m\u001b[0m\u001b[0m\n",
      "\u001b[0;32m~/anaconda3/envs/wokemonkey/lib/python3.7/site-packages/pyLDAvis/sklearn.py\u001b[0m in \u001b[0;36mprepare\u001b[0;34m(lda_model, dtm, vectorizer, **kwargs)\u001b[0m\n\u001b[1;32m     93\u001b[0m     \"\"\"\n\u001b[1;32m     94\u001b[0m     \u001b[0mopts\u001b[0m \u001b[0;34m=\u001b[0m \u001b[0mfp\u001b[0m\u001b[0;34m.\u001b[0m\u001b[0mmerge\u001b[0m\u001b[0;34m(\u001b[0m\u001b[0m_extract_data\u001b[0m\u001b[0;34m(\u001b[0m\u001b[0mlda_model\u001b[0m\u001b[0;34m,\u001b[0m \u001b[0mdtm\u001b[0m\u001b[0;34m,\u001b[0m \u001b[0mvectorizer\u001b[0m\u001b[0;34m)\u001b[0m\u001b[0;34m,\u001b[0m \u001b[0mkwargs\u001b[0m\u001b[0;34m)\u001b[0m\u001b[0;34m\u001b[0m\u001b[0;34m\u001b[0m\u001b[0m\n\u001b[0;32m---> 95\u001b[0;31m     \u001b[0;32mreturn\u001b[0m \u001b[0mpyLDAvis\u001b[0m\u001b[0;34m.\u001b[0m\u001b[0mprepare\u001b[0m\u001b[0;34m(\u001b[0m\u001b[0;34m**\u001b[0m\u001b[0mopts\u001b[0m\u001b[0;34m)\u001b[0m\u001b[0;34m\u001b[0m\u001b[0;34m\u001b[0m\u001b[0m\n\u001b[0m",
      "\u001b[0;32m~/anaconda3/envs/wokemonkey/lib/python3.7/site-packages/pyLDAvis/_prepare.py\u001b[0m in \u001b[0;36mprepare\u001b[0;34m(topic_term_dists, doc_topic_dists, doc_lengths, vocab, term_frequency, R, lambda_step, mds, n_jobs, plot_opts, sort_topics)\u001b[0m\n\u001b[1;32m    396\u001b[0m    \u001b[0mterm_frequency\u001b[0m \u001b[0;34m=\u001b[0m \u001b[0mnp\u001b[0m\u001b[0;34m.\u001b[0m\u001b[0msum\u001b[0m\u001b[0;34m(\u001b[0m\u001b[0mterm_topic_freq\u001b[0m\u001b[0;34m,\u001b[0m \u001b[0maxis\u001b[0m\u001b[0;34m=\u001b[0m\u001b[0;36m0\u001b[0m\u001b[0;34m)\u001b[0m\u001b[0;34m\u001b[0m\u001b[0;34m\u001b[0m\u001b[0m\n\u001b[1;32m    397\u001b[0m \u001b[0;34m\u001b[0m\u001b[0m\n\u001b[0;32m--> 398\u001b[0;31m    \u001b[0mtopic_info\u001b[0m         \u001b[0;34m=\u001b[0m \u001b[0m_topic_info\u001b[0m\u001b[0;34m(\u001b[0m\u001b[0mtopic_term_dists\u001b[0m\u001b[0;34m,\u001b[0m \u001b[0mtopic_proportion\u001b[0m\u001b[0;34m,\u001b[0m \u001b[0mterm_frequency\u001b[0m\u001b[0;34m,\u001b[0m \u001b[0mterm_topic_freq\u001b[0m\u001b[0;34m,\u001b[0m \u001b[0mvocab\u001b[0m\u001b[0;34m,\u001b[0m \u001b[0mlambda_step\u001b[0m\u001b[0;34m,\u001b[0m \u001b[0mR\u001b[0m\u001b[0;34m,\u001b[0m \u001b[0mn_jobs\u001b[0m\u001b[0;34m)\u001b[0m\u001b[0;34m\u001b[0m\u001b[0;34m\u001b[0m\u001b[0m\n\u001b[0m\u001b[1;32m    399\u001b[0m    \u001b[0mtoken_table\u001b[0m        \u001b[0;34m=\u001b[0m \u001b[0m_token_table\u001b[0m\u001b[0;34m(\u001b[0m\u001b[0mtopic_info\u001b[0m\u001b[0;34m,\u001b[0m \u001b[0mterm_topic_freq\u001b[0m\u001b[0;34m,\u001b[0m \u001b[0mvocab\u001b[0m\u001b[0;34m,\u001b[0m \u001b[0mterm_frequency\u001b[0m\u001b[0;34m)\u001b[0m\u001b[0;34m\u001b[0m\u001b[0;34m\u001b[0m\u001b[0m\n\u001b[1;32m    400\u001b[0m    \u001b[0mtopic_coordinates\u001b[0m \u001b[0;34m=\u001b[0m \u001b[0m_topic_coordinates\u001b[0m\u001b[0;34m(\u001b[0m\u001b[0mmds\u001b[0m\u001b[0;34m,\u001b[0m \u001b[0mtopic_term_dists\u001b[0m\u001b[0;34m,\u001b[0m \u001b[0mtopic_proportion\u001b[0m\u001b[0;34m)\u001b[0m\u001b[0;34m\u001b[0m\u001b[0;34m\u001b[0m\u001b[0m\n",
      "\u001b[0;32m~/anaconda3/envs/wokemonkey/lib/python3.7/site-packages/pyLDAvis/_prepare.py\u001b[0m in \u001b[0;36m_topic_info\u001b[0;34m(topic_term_dists, topic_proportion, term_frequency, term_topic_freq, vocab, lambda_step, R, n_jobs)\u001b[0m\n\u001b[1;32m    238\u001b[0m \u001b[0;34m\u001b[0m\u001b[0m\n\u001b[1;32m    239\u001b[0m    \u001b[0;31m## compute relevance and top terms for each topic\u001b[0m\u001b[0;34m\u001b[0m\u001b[0;34m\u001b[0m\u001b[0;34m\u001b[0m\u001b[0m\n\u001b[0;32m--> 240\u001b[0;31m    \u001b[0mlog_lift\u001b[0m \u001b[0;34m=\u001b[0m \u001b[0mnp\u001b[0m\u001b[0;34m.\u001b[0m\u001b[0mlog\u001b[0m\u001b[0;34m(\u001b[0m\u001b[0mtopic_term_dists\u001b[0m \u001b[0;34m/\u001b[0m \u001b[0mterm_proportion\u001b[0m\u001b[0;34m)\u001b[0m\u001b[0;34m\u001b[0m\u001b[0;34m\u001b[0m\u001b[0m\n\u001b[0m\u001b[1;32m    241\u001b[0m    \u001b[0mlog_ttd\u001b[0m \u001b[0;34m=\u001b[0m \u001b[0mnp\u001b[0m\u001b[0;34m.\u001b[0m\u001b[0mlog\u001b[0m\u001b[0;34m(\u001b[0m\u001b[0mtopic_term_dists\u001b[0m\u001b[0;34m)\u001b[0m\u001b[0;34m\u001b[0m\u001b[0;34m\u001b[0m\u001b[0m\n\u001b[1;32m    242\u001b[0m    \u001b[0mlambda_seq\u001b[0m \u001b[0;34m=\u001b[0m \u001b[0mnp\u001b[0m\u001b[0;34m.\u001b[0m\u001b[0marange\u001b[0m\u001b[0;34m(\u001b[0m\u001b[0;36m0\u001b[0m\u001b[0;34m,\u001b[0m \u001b[0;36m1\u001b[0m \u001b[0;34m+\u001b[0m \u001b[0mlambda_step\u001b[0m\u001b[0;34m,\u001b[0m \u001b[0mlambda_step\u001b[0m\u001b[0;34m)\u001b[0m\u001b[0;34m\u001b[0m\u001b[0;34m\u001b[0m\u001b[0m\n",
      "\u001b[0;32m~/anaconda3/envs/wokemonkey/lib/python3.7/site-packages/pandas/core/ops/__init__.py\u001b[0m in \u001b[0;36mf\u001b[0;34m(self, other, axis, level, fill_value)\u001b[0m\n\u001b[1;32m   1497\u001b[0m             \u001b[0mpass_op\u001b[0m \u001b[0;34m=\u001b[0m \u001b[0mop\u001b[0m \u001b[0;32mif\u001b[0m \u001b[0maxis\u001b[0m \u001b[0;32min\u001b[0m \u001b[0;34m[\u001b[0m\u001b[0;36m0\u001b[0m\u001b[0;34m,\u001b[0m \u001b[0;34m\"columns\"\u001b[0m\u001b[0;34m,\u001b[0m \u001b[0;32mNone\u001b[0m\u001b[0;34m]\u001b[0m \u001b[0;32melse\u001b[0m \u001b[0mna_op\u001b[0m\u001b[0;34m\u001b[0m\u001b[0;34m\u001b[0m\u001b[0m\n\u001b[1;32m   1498\u001b[0m             return _combine_series_frame(\n\u001b[0;32m-> 1499\u001b[0;31m                 \u001b[0mself\u001b[0m\u001b[0;34m,\u001b[0m \u001b[0mother\u001b[0m\u001b[0;34m,\u001b[0m \u001b[0mpass_op\u001b[0m\u001b[0;34m,\u001b[0m \u001b[0mfill_value\u001b[0m\u001b[0;34m=\u001b[0m\u001b[0mfill_value\u001b[0m\u001b[0;34m,\u001b[0m \u001b[0maxis\u001b[0m\u001b[0;34m=\u001b[0m\u001b[0maxis\u001b[0m\u001b[0;34m,\u001b[0m \u001b[0mlevel\u001b[0m\u001b[0;34m=\u001b[0m\u001b[0mlevel\u001b[0m\u001b[0;34m\u001b[0m\u001b[0;34m\u001b[0m\u001b[0m\n\u001b[0m\u001b[1;32m   1500\u001b[0m             )\n\u001b[1;32m   1501\u001b[0m         \u001b[0;32melse\u001b[0m\u001b[0;34m:\u001b[0m\u001b[0;34m\u001b[0m\u001b[0;34m\u001b[0m\u001b[0m\n",
      "\u001b[0;32m~/anaconda3/envs/wokemonkey/lib/python3.7/site-packages/pandas/core/ops/__init__.py\u001b[0m in \u001b[0;36m_combine_series_frame\u001b[0;34m(self, other, func, fill_value, axis, level)\u001b[0m\n\u001b[1;32m   1398\u001b[0m \u001b[0;34m\u001b[0m\u001b[0m\n\u001b[1;32m   1399\u001b[0m         \u001b[0;31m# default axis is columns\u001b[0m\u001b[0;34m\u001b[0m\u001b[0;34m\u001b[0m\u001b[0;34m\u001b[0m\u001b[0m\n\u001b[0;32m-> 1400\u001b[0;31m         \u001b[0;32mreturn\u001b[0m \u001b[0mself\u001b[0m\u001b[0;34m.\u001b[0m\u001b[0m_combine_match_columns\u001b[0m\u001b[0;34m(\u001b[0m\u001b[0mother\u001b[0m\u001b[0;34m,\u001b[0m \u001b[0mfunc\u001b[0m\u001b[0;34m,\u001b[0m \u001b[0mlevel\u001b[0m\u001b[0;34m=\u001b[0m\u001b[0mlevel\u001b[0m\u001b[0;34m)\u001b[0m\u001b[0;34m\u001b[0m\u001b[0;34m\u001b[0m\u001b[0m\n\u001b[0m\u001b[1;32m   1401\u001b[0m \u001b[0;34m\u001b[0m\u001b[0m\n\u001b[1;32m   1402\u001b[0m \u001b[0;34m\u001b[0m\u001b[0m\n",
      "\u001b[0;32m~/anaconda3/envs/wokemonkey/lib/python3.7/site-packages/pandas/core/frame.py\u001b[0m in \u001b[0;36m_combine_match_columns\u001b[0;34m(self, other, func, level)\u001b[0m\n\u001b[1;32m   5412\u001b[0m         \u001b[0mleft\u001b[0m\u001b[0;34m,\u001b[0m \u001b[0mright\u001b[0m \u001b[0;34m=\u001b[0m \u001b[0mself\u001b[0m\u001b[0;34m.\u001b[0m\u001b[0malign\u001b[0m\u001b[0;34m(\u001b[0m\u001b[0mother\u001b[0m\u001b[0;34m,\u001b[0m \u001b[0mjoin\u001b[0m\u001b[0;34m=\u001b[0m\u001b[0;34m\"outer\"\u001b[0m\u001b[0;34m,\u001b[0m \u001b[0maxis\u001b[0m\u001b[0;34m=\u001b[0m\u001b[0;36m1\u001b[0m\u001b[0;34m,\u001b[0m \u001b[0mlevel\u001b[0m\u001b[0;34m=\u001b[0m\u001b[0mlevel\u001b[0m\u001b[0;34m,\u001b[0m \u001b[0mcopy\u001b[0m\u001b[0;34m=\u001b[0m\u001b[0;32mFalse\u001b[0m\u001b[0;34m)\u001b[0m\u001b[0;34m\u001b[0m\u001b[0;34m\u001b[0m\u001b[0m\n\u001b[1;32m   5413\u001b[0m         \u001b[0;32massert\u001b[0m \u001b[0mleft\u001b[0m\u001b[0;34m.\u001b[0m\u001b[0mcolumns\u001b[0m\u001b[0;34m.\u001b[0m\u001b[0mequals\u001b[0m\u001b[0;34m(\u001b[0m\u001b[0mright\u001b[0m\u001b[0;34m.\u001b[0m\u001b[0mindex\u001b[0m\u001b[0;34m)\u001b[0m\u001b[0;34m\u001b[0m\u001b[0;34m\u001b[0m\u001b[0m\n\u001b[0;32m-> 5414\u001b[0;31m         \u001b[0;32mreturn\u001b[0m \u001b[0mops\u001b[0m\u001b[0;34m.\u001b[0m\u001b[0mdispatch_to_series\u001b[0m\u001b[0;34m(\u001b[0m\u001b[0mleft\u001b[0m\u001b[0;34m,\u001b[0m \u001b[0mright\u001b[0m\u001b[0;34m,\u001b[0m \u001b[0mfunc\u001b[0m\u001b[0;34m,\u001b[0m \u001b[0maxis\u001b[0m\u001b[0;34m=\u001b[0m\u001b[0;34m\"columns\"\u001b[0m\u001b[0;34m)\u001b[0m\u001b[0;34m\u001b[0m\u001b[0;34m\u001b[0m\u001b[0m\n\u001b[0m\u001b[1;32m   5415\u001b[0m \u001b[0;34m\u001b[0m\u001b[0m\n\u001b[1;32m   5416\u001b[0m     \u001b[0;32mdef\u001b[0m \u001b[0m_combine_const\u001b[0m\u001b[0;34m(\u001b[0m\u001b[0mself\u001b[0m\u001b[0;34m,\u001b[0m \u001b[0mother\u001b[0m\u001b[0;34m,\u001b[0m \u001b[0mfunc\u001b[0m\u001b[0;34m)\u001b[0m\u001b[0;34m:\u001b[0m\u001b[0;34m\u001b[0m\u001b[0;34m\u001b[0m\u001b[0m\n",
      "\u001b[0;32m~/anaconda3/envs/wokemonkey/lib/python3.7/site-packages/pandas/core/ops/__init__.py\u001b[0m in \u001b[0;36mdispatch_to_series\u001b[0;34m(left, right, func, str_rep, axis)\u001b[0m\n\u001b[1;32m    594\u001b[0m         \u001b[0;32mraise\u001b[0m \u001b[0mNotImplementedError\u001b[0m\u001b[0;34m(\u001b[0m\u001b[0mright\u001b[0m\u001b[0;34m)\u001b[0m\u001b[0;34m\u001b[0m\u001b[0;34m\u001b[0m\u001b[0m\n\u001b[1;32m    595\u001b[0m \u001b[0;34m\u001b[0m\u001b[0m\n\u001b[0;32m--> 596\u001b[0;31m     \u001b[0mnew_data\u001b[0m \u001b[0;34m=\u001b[0m \u001b[0mexpressions\u001b[0m\u001b[0;34m.\u001b[0m\u001b[0mevaluate\u001b[0m\u001b[0;34m(\u001b[0m\u001b[0mcolumn_op\u001b[0m\u001b[0;34m,\u001b[0m \u001b[0mstr_rep\u001b[0m\u001b[0;34m,\u001b[0m \u001b[0mleft\u001b[0m\u001b[0;34m,\u001b[0m \u001b[0mright\u001b[0m\u001b[0;34m)\u001b[0m\u001b[0;34m\u001b[0m\u001b[0;34m\u001b[0m\u001b[0m\n\u001b[0m\u001b[1;32m    597\u001b[0m \u001b[0;34m\u001b[0m\u001b[0m\n\u001b[1;32m    598\u001b[0m     \u001b[0mresult\u001b[0m \u001b[0;34m=\u001b[0m \u001b[0mleft\u001b[0m\u001b[0;34m.\u001b[0m\u001b[0m_constructor\u001b[0m\u001b[0;34m(\u001b[0m\u001b[0mnew_data\u001b[0m\u001b[0;34m,\u001b[0m \u001b[0mindex\u001b[0m\u001b[0;34m=\u001b[0m\u001b[0mleft\u001b[0m\u001b[0;34m.\u001b[0m\u001b[0mindex\u001b[0m\u001b[0;34m,\u001b[0m \u001b[0mcopy\u001b[0m\u001b[0;34m=\u001b[0m\u001b[0;32mFalse\u001b[0m\u001b[0;34m)\u001b[0m\u001b[0;34m\u001b[0m\u001b[0;34m\u001b[0m\u001b[0m\n",
      "\u001b[0;32m~/anaconda3/envs/wokemonkey/lib/python3.7/site-packages/pandas/core/computation/expressions.py\u001b[0m in \u001b[0;36mevaluate\u001b[0;34m(op, op_str, a, b, use_numexpr, **eval_kwargs)\u001b[0m\n\u001b[1;32m    219\u001b[0m     \u001b[0muse_numexpr\u001b[0m \u001b[0;34m=\u001b[0m \u001b[0muse_numexpr\u001b[0m \u001b[0;32mand\u001b[0m \u001b[0m_bool_arith_check\u001b[0m\u001b[0;34m(\u001b[0m\u001b[0mop_str\u001b[0m\u001b[0;34m,\u001b[0m \u001b[0ma\u001b[0m\u001b[0;34m,\u001b[0m \u001b[0mb\u001b[0m\u001b[0;34m)\u001b[0m\u001b[0;34m\u001b[0m\u001b[0;34m\u001b[0m\u001b[0m\n\u001b[1;32m    220\u001b[0m     \u001b[0;32mif\u001b[0m \u001b[0muse_numexpr\u001b[0m\u001b[0;34m:\u001b[0m\u001b[0;34m\u001b[0m\u001b[0;34m\u001b[0m\u001b[0m\n\u001b[0;32m--> 221\u001b[0;31m         \u001b[0;32mreturn\u001b[0m \u001b[0m_evaluate\u001b[0m\u001b[0;34m(\u001b[0m\u001b[0mop\u001b[0m\u001b[0;34m,\u001b[0m \u001b[0mop_str\u001b[0m\u001b[0;34m,\u001b[0m \u001b[0ma\u001b[0m\u001b[0;34m,\u001b[0m \u001b[0mb\u001b[0m\u001b[0;34m,\u001b[0m \u001b[0;34m**\u001b[0m\u001b[0meval_kwargs\u001b[0m\u001b[0;34m)\u001b[0m\u001b[0;34m\u001b[0m\u001b[0;34m\u001b[0m\u001b[0m\n\u001b[0m\u001b[1;32m    222\u001b[0m     \u001b[0;32mreturn\u001b[0m \u001b[0m_evaluate_standard\u001b[0m\u001b[0;34m(\u001b[0m\u001b[0mop\u001b[0m\u001b[0;34m,\u001b[0m \u001b[0mop_str\u001b[0m\u001b[0;34m,\u001b[0m \u001b[0ma\u001b[0m\u001b[0;34m,\u001b[0m \u001b[0mb\u001b[0m\u001b[0;34m)\u001b[0m\u001b[0;34m\u001b[0m\u001b[0;34m\u001b[0m\u001b[0m\n\u001b[1;32m    223\u001b[0m \u001b[0;34m\u001b[0m\u001b[0m\n",
      "\u001b[0;32m~/anaconda3/envs/wokemonkey/lib/python3.7/site-packages/pandas/core/computation/expressions.py\u001b[0m in \u001b[0;36m_evaluate_numexpr\u001b[0;34m(op, op_str, a, b, truediv, reversed, **eval_kwargs)\u001b[0m\n\u001b[1;32m    125\u001b[0m \u001b[0;34m\u001b[0m\u001b[0m\n\u001b[1;32m    126\u001b[0m     \u001b[0;32mif\u001b[0m \u001b[0mresult\u001b[0m \u001b[0;32mis\u001b[0m \u001b[0;32mNone\u001b[0m\u001b[0;34m:\u001b[0m\u001b[0;34m\u001b[0m\u001b[0;34m\u001b[0m\u001b[0m\n\u001b[0;32m--> 127\u001b[0;31m         \u001b[0mresult\u001b[0m \u001b[0;34m=\u001b[0m \u001b[0m_evaluate_standard\u001b[0m\u001b[0;34m(\u001b[0m\u001b[0mop\u001b[0m\u001b[0;34m,\u001b[0m \u001b[0mop_str\u001b[0m\u001b[0;34m,\u001b[0m \u001b[0ma\u001b[0m\u001b[0;34m,\u001b[0m \u001b[0mb\u001b[0m\u001b[0;34m)\u001b[0m\u001b[0;34m\u001b[0m\u001b[0;34m\u001b[0m\u001b[0m\n\u001b[0m\u001b[1;32m    128\u001b[0m \u001b[0;34m\u001b[0m\u001b[0m\n\u001b[1;32m    129\u001b[0m     \u001b[0;32mreturn\u001b[0m \u001b[0mresult\u001b[0m\u001b[0;34m\u001b[0m\u001b[0;34m\u001b[0m\u001b[0m\n",
      "\u001b[0;32m~/anaconda3/envs/wokemonkey/lib/python3.7/site-packages/pandas/core/computation/expressions.py\u001b[0m in \u001b[0;36m_evaluate_standard\u001b[0;34m(op, op_str, a, b, **eval_kwargs)\u001b[0m\n\u001b[1;32m     68\u001b[0m         \u001b[0m_store_test_result\u001b[0m\u001b[0;34m(\u001b[0m\u001b[0;32mFalse\u001b[0m\u001b[0;34m)\u001b[0m\u001b[0;34m\u001b[0m\u001b[0;34m\u001b[0m\u001b[0m\n\u001b[1;32m     69\u001b[0m     \u001b[0;32mwith\u001b[0m \u001b[0mnp\u001b[0m\u001b[0;34m.\u001b[0m\u001b[0merrstate\u001b[0m\u001b[0;34m(\u001b[0m\u001b[0mall\u001b[0m\u001b[0;34m=\u001b[0m\u001b[0;34m\"ignore\"\u001b[0m\u001b[0;34m)\u001b[0m\u001b[0;34m:\u001b[0m\u001b[0;34m\u001b[0m\u001b[0;34m\u001b[0m\u001b[0m\n\u001b[0;32m---> 70\u001b[0;31m         \u001b[0;32mreturn\u001b[0m \u001b[0mop\u001b[0m\u001b[0;34m(\u001b[0m\u001b[0ma\u001b[0m\u001b[0;34m,\u001b[0m \u001b[0mb\u001b[0m\u001b[0;34m)\u001b[0m\u001b[0;34m\u001b[0m\u001b[0;34m\u001b[0m\u001b[0m\n\u001b[0m\u001b[1;32m     71\u001b[0m \u001b[0;34m\u001b[0m\u001b[0m\n\u001b[1;32m     72\u001b[0m \u001b[0;34m\u001b[0m\u001b[0m\n",
      "\u001b[0;32m~/anaconda3/envs/wokemonkey/lib/python3.7/site-packages/pandas/core/ops/__init__.py\u001b[0m in \u001b[0;36mcolumn_op\u001b[0;34m(a, b)\u001b[0m\n\u001b[1;32m    582\u001b[0m \u001b[0;34m\u001b[0m\u001b[0m\n\u001b[1;32m    583\u001b[0m         \u001b[0;32mdef\u001b[0m \u001b[0mcolumn_op\u001b[0m\u001b[0;34m(\u001b[0m\u001b[0ma\u001b[0m\u001b[0;34m,\u001b[0m \u001b[0mb\u001b[0m\u001b[0;34m)\u001b[0m\u001b[0;34m:\u001b[0m\u001b[0;34m\u001b[0m\u001b[0;34m\u001b[0m\u001b[0m\n\u001b[0;32m--> 584\u001b[0;31m             \u001b[0;32mreturn\u001b[0m \u001b[0;34m{\u001b[0m\u001b[0mi\u001b[0m\u001b[0;34m:\u001b[0m \u001b[0mfunc\u001b[0m\u001b[0;34m(\u001b[0m\u001b[0ma\u001b[0m\u001b[0;34m.\u001b[0m\u001b[0miloc\u001b[0m\u001b[0;34m[\u001b[0m\u001b[0;34m:\u001b[0m\u001b[0;34m,\u001b[0m \u001b[0mi\u001b[0m\u001b[0;34m]\u001b[0m\u001b[0;34m,\u001b[0m \u001b[0mb\u001b[0m\u001b[0;34m.\u001b[0m\u001b[0miloc\u001b[0m\u001b[0;34m[\u001b[0m\u001b[0mi\u001b[0m\u001b[0;34m]\u001b[0m\u001b[0;34m)\u001b[0m \u001b[0;32mfor\u001b[0m \u001b[0mi\u001b[0m \u001b[0;32min\u001b[0m \u001b[0mrange\u001b[0m\u001b[0;34m(\u001b[0m\u001b[0mlen\u001b[0m\u001b[0;34m(\u001b[0m\u001b[0ma\u001b[0m\u001b[0;34m.\u001b[0m\u001b[0mcolumns\u001b[0m\u001b[0;34m)\u001b[0m\u001b[0;34m)\u001b[0m\u001b[0;34m}\u001b[0m\u001b[0;34m\u001b[0m\u001b[0;34m\u001b[0m\u001b[0m\n\u001b[0m\u001b[1;32m    585\u001b[0m \u001b[0;34m\u001b[0m\u001b[0m\n\u001b[1;32m    586\u001b[0m     \u001b[0;32melif\u001b[0m \u001b[0misinstance\u001b[0m\u001b[0;34m(\u001b[0m\u001b[0mright\u001b[0m\u001b[0;34m,\u001b[0m \u001b[0mABCSeries\u001b[0m\u001b[0;34m)\u001b[0m\u001b[0;34m:\u001b[0m\u001b[0;34m\u001b[0m\u001b[0;34m\u001b[0m\u001b[0m\n",
      "\u001b[0;32m~/anaconda3/envs/wokemonkey/lib/python3.7/site-packages/pandas/core/ops/__init__.py\u001b[0m in \u001b[0;36m<dictcomp>\u001b[0;34m(.0)\u001b[0m\n\u001b[1;32m    582\u001b[0m \u001b[0;34m\u001b[0m\u001b[0m\n\u001b[1;32m    583\u001b[0m         \u001b[0;32mdef\u001b[0m \u001b[0mcolumn_op\u001b[0m\u001b[0;34m(\u001b[0m\u001b[0ma\u001b[0m\u001b[0;34m,\u001b[0m \u001b[0mb\u001b[0m\u001b[0;34m)\u001b[0m\u001b[0;34m:\u001b[0m\u001b[0;34m\u001b[0m\u001b[0;34m\u001b[0m\u001b[0m\n\u001b[0;32m--> 584\u001b[0;31m             \u001b[0;32mreturn\u001b[0m \u001b[0;34m{\u001b[0m\u001b[0mi\u001b[0m\u001b[0;34m:\u001b[0m \u001b[0mfunc\u001b[0m\u001b[0;34m(\u001b[0m\u001b[0ma\u001b[0m\u001b[0;34m.\u001b[0m\u001b[0miloc\u001b[0m\u001b[0;34m[\u001b[0m\u001b[0;34m:\u001b[0m\u001b[0;34m,\u001b[0m \u001b[0mi\u001b[0m\u001b[0;34m]\u001b[0m\u001b[0;34m,\u001b[0m \u001b[0mb\u001b[0m\u001b[0;34m.\u001b[0m\u001b[0miloc\u001b[0m\u001b[0;34m[\u001b[0m\u001b[0mi\u001b[0m\u001b[0;34m]\u001b[0m\u001b[0;34m)\u001b[0m \u001b[0;32mfor\u001b[0m \u001b[0mi\u001b[0m \u001b[0;32min\u001b[0m \u001b[0mrange\u001b[0m\u001b[0;34m(\u001b[0m\u001b[0mlen\u001b[0m\u001b[0;34m(\u001b[0m\u001b[0ma\u001b[0m\u001b[0;34m.\u001b[0m\u001b[0mcolumns\u001b[0m\u001b[0;34m)\u001b[0m\u001b[0;34m)\u001b[0m\u001b[0;34m}\u001b[0m\u001b[0;34m\u001b[0m\u001b[0;34m\u001b[0m\u001b[0m\n\u001b[0m\u001b[1;32m    585\u001b[0m \u001b[0;34m\u001b[0m\u001b[0m\n\u001b[1;32m    586\u001b[0m     \u001b[0;32melif\u001b[0m \u001b[0misinstance\u001b[0m\u001b[0;34m(\u001b[0m\u001b[0mright\u001b[0m\u001b[0;34m,\u001b[0m \u001b[0mABCSeries\u001b[0m\u001b[0;34m)\u001b[0m\u001b[0;34m:\u001b[0m\u001b[0;34m\u001b[0m\u001b[0;34m\u001b[0m\u001b[0m\n",
      "\u001b[0;32m~/anaconda3/envs/wokemonkey/lib/python3.7/site-packages/pandas/core/ops/__init__.py\u001b[0m in \u001b[0;36mwrapper\u001b[0;34m(left, right)\u001b[0m\n\u001b[1;32m   1046\u001b[0m \u001b[0;34m\u001b[0m\u001b[0m\n\u001b[1;32m   1047\u001b[0m         \u001b[0;32mwith\u001b[0m \u001b[0mnp\u001b[0m\u001b[0;34m.\u001b[0m\u001b[0merrstate\u001b[0m\u001b[0;34m(\u001b[0m\u001b[0mall\u001b[0m\u001b[0;34m=\u001b[0m\u001b[0;34m\"ignore\"\u001b[0m\u001b[0;34m)\u001b[0m\u001b[0;34m:\u001b[0m\u001b[0;34m\u001b[0m\u001b[0;34m\u001b[0m\u001b[0m\n\u001b[0;32m-> 1048\u001b[0;31m             \u001b[0mresult\u001b[0m \u001b[0;34m=\u001b[0m \u001b[0mna_op\u001b[0m\u001b[0;34m(\u001b[0m\u001b[0mlvalues\u001b[0m\u001b[0;34m,\u001b[0m \u001b[0mrvalues\u001b[0m\u001b[0;34m)\u001b[0m\u001b[0;34m\u001b[0m\u001b[0;34m\u001b[0m\u001b[0m\n\u001b[0m\u001b[1;32m   1049\u001b[0m         return construct_result(\n\u001b[1;32m   1050\u001b[0m             \u001b[0mleft\u001b[0m\u001b[0;34m,\u001b[0m \u001b[0mresult\u001b[0m\u001b[0;34m,\u001b[0m \u001b[0mindex\u001b[0m\u001b[0;34m=\u001b[0m\u001b[0mleft\u001b[0m\u001b[0;34m.\u001b[0m\u001b[0mindex\u001b[0m\u001b[0;34m,\u001b[0m \u001b[0mname\u001b[0m\u001b[0;34m=\u001b[0m\u001b[0mres_name\u001b[0m\u001b[0;34m,\u001b[0m \u001b[0mdtype\u001b[0m\u001b[0;34m=\u001b[0m\u001b[0;32mNone\u001b[0m\u001b[0;34m\u001b[0m\u001b[0;34m\u001b[0m\u001b[0m\n",
      "\u001b[0;32m~/anaconda3/envs/wokemonkey/lib/python3.7/site-packages/pandas/core/ops/__init__.py\u001b[0m in \u001b[0;36mna_op\u001b[0;34m(x, y)\u001b[0m\n\u001b[1;32m    966\u001b[0m \u001b[0;34m\u001b[0m\u001b[0m\n\u001b[1;32m    967\u001b[0m         \u001b[0;32mtry\u001b[0m\u001b[0;34m:\u001b[0m\u001b[0;34m\u001b[0m\u001b[0;34m\u001b[0m\u001b[0m\n\u001b[0;32m--> 968\u001b[0;31m             \u001b[0mresult\u001b[0m \u001b[0;34m=\u001b[0m \u001b[0mexpressions\u001b[0m\u001b[0;34m.\u001b[0m\u001b[0mevaluate\u001b[0m\u001b[0;34m(\u001b[0m\u001b[0mop\u001b[0m\u001b[0;34m,\u001b[0m \u001b[0mstr_rep\u001b[0m\u001b[0;34m,\u001b[0m \u001b[0mx\u001b[0m\u001b[0;34m,\u001b[0m \u001b[0my\u001b[0m\u001b[0;34m,\u001b[0m \u001b[0;34m**\u001b[0m\u001b[0meval_kwargs\u001b[0m\u001b[0;34m)\u001b[0m\u001b[0;34m\u001b[0m\u001b[0;34m\u001b[0m\u001b[0m\n\u001b[0m\u001b[1;32m    969\u001b[0m         \u001b[0;32mexcept\u001b[0m \u001b[0mTypeError\u001b[0m\u001b[0;34m:\u001b[0m\u001b[0;34m\u001b[0m\u001b[0;34m\u001b[0m\u001b[0m\n\u001b[1;32m    970\u001b[0m             \u001b[0mresult\u001b[0m \u001b[0;34m=\u001b[0m \u001b[0mmasked_arith_op\u001b[0m\u001b[0;34m(\u001b[0m\u001b[0mx\u001b[0m\u001b[0;34m,\u001b[0m \u001b[0my\u001b[0m\u001b[0;34m,\u001b[0m \u001b[0mop\u001b[0m\u001b[0;34m)\u001b[0m\u001b[0;34m\u001b[0m\u001b[0;34m\u001b[0m\u001b[0m\n",
      "\u001b[0;32m~/anaconda3/envs/wokemonkey/lib/python3.7/site-packages/pandas/core/computation/expressions.py\u001b[0m in \u001b[0;36mevaluate\u001b[0;34m(op, op_str, a, b, use_numexpr, **eval_kwargs)\u001b[0m\n\u001b[1;32m    219\u001b[0m     \u001b[0muse_numexpr\u001b[0m \u001b[0;34m=\u001b[0m \u001b[0muse_numexpr\u001b[0m \u001b[0;32mand\u001b[0m \u001b[0m_bool_arith_check\u001b[0m\u001b[0;34m(\u001b[0m\u001b[0mop_str\u001b[0m\u001b[0;34m,\u001b[0m \u001b[0ma\u001b[0m\u001b[0;34m,\u001b[0m \u001b[0mb\u001b[0m\u001b[0;34m)\u001b[0m\u001b[0;34m\u001b[0m\u001b[0;34m\u001b[0m\u001b[0m\n\u001b[1;32m    220\u001b[0m     \u001b[0;32mif\u001b[0m \u001b[0muse_numexpr\u001b[0m\u001b[0;34m:\u001b[0m\u001b[0;34m\u001b[0m\u001b[0;34m\u001b[0m\u001b[0m\n\u001b[0;32m--> 221\u001b[0;31m         \u001b[0;32mreturn\u001b[0m \u001b[0m_evaluate\u001b[0m\u001b[0;34m(\u001b[0m\u001b[0mop\u001b[0m\u001b[0;34m,\u001b[0m \u001b[0mop_str\u001b[0m\u001b[0;34m,\u001b[0m \u001b[0ma\u001b[0m\u001b[0;34m,\u001b[0m \u001b[0mb\u001b[0m\u001b[0;34m,\u001b[0m \u001b[0;34m**\u001b[0m\u001b[0meval_kwargs\u001b[0m\u001b[0;34m)\u001b[0m\u001b[0;34m\u001b[0m\u001b[0;34m\u001b[0m\u001b[0m\n\u001b[0m\u001b[1;32m    222\u001b[0m     \u001b[0;32mreturn\u001b[0m \u001b[0m_evaluate_standard\u001b[0m\u001b[0;34m(\u001b[0m\u001b[0mop\u001b[0m\u001b[0;34m,\u001b[0m \u001b[0mop_str\u001b[0m\u001b[0;34m,\u001b[0m \u001b[0ma\u001b[0m\u001b[0;34m,\u001b[0m \u001b[0mb\u001b[0m\u001b[0;34m)\u001b[0m\u001b[0;34m\u001b[0m\u001b[0;34m\u001b[0m\u001b[0m\n\u001b[1;32m    223\u001b[0m \u001b[0;34m\u001b[0m\u001b[0m\n",
      "\u001b[0;32m~/anaconda3/envs/wokemonkey/lib/python3.7/site-packages/pandas/core/computation/expressions.py\u001b[0m in \u001b[0;36m_evaluate_numexpr\u001b[0;34m(op, op_str, a, b, truediv, reversed, **eval_kwargs)\u001b[0m\n\u001b[1;32m    125\u001b[0m \u001b[0;34m\u001b[0m\u001b[0m\n\u001b[1;32m    126\u001b[0m     \u001b[0;32mif\u001b[0m \u001b[0mresult\u001b[0m \u001b[0;32mis\u001b[0m \u001b[0;32mNone\u001b[0m\u001b[0;34m:\u001b[0m\u001b[0;34m\u001b[0m\u001b[0;34m\u001b[0m\u001b[0m\n\u001b[0;32m--> 127\u001b[0;31m         \u001b[0mresult\u001b[0m \u001b[0;34m=\u001b[0m \u001b[0m_evaluate_standard\u001b[0m\u001b[0;34m(\u001b[0m\u001b[0mop\u001b[0m\u001b[0;34m,\u001b[0m \u001b[0mop_str\u001b[0m\u001b[0;34m,\u001b[0m \u001b[0ma\u001b[0m\u001b[0;34m,\u001b[0m \u001b[0mb\u001b[0m\u001b[0;34m)\u001b[0m\u001b[0;34m\u001b[0m\u001b[0;34m\u001b[0m\u001b[0m\n\u001b[0m\u001b[1;32m    128\u001b[0m \u001b[0;34m\u001b[0m\u001b[0m\n\u001b[1;32m    129\u001b[0m     \u001b[0;32mreturn\u001b[0m \u001b[0mresult\u001b[0m\u001b[0;34m\u001b[0m\u001b[0;34m\u001b[0m\u001b[0m\n",
      "\u001b[0;32m~/anaconda3/envs/wokemonkey/lib/python3.7/site-packages/pandas/core/computation/expressions.py\u001b[0m in \u001b[0;36m_evaluate_standard\u001b[0;34m(op, op_str, a, b, **eval_kwargs)\u001b[0m\n\u001b[1;32m     68\u001b[0m         \u001b[0m_store_test_result\u001b[0m\u001b[0;34m(\u001b[0m\u001b[0;32mFalse\u001b[0m\u001b[0;34m)\u001b[0m\u001b[0;34m\u001b[0m\u001b[0;34m\u001b[0m\u001b[0m\n\u001b[1;32m     69\u001b[0m     \u001b[0;32mwith\u001b[0m \u001b[0mnp\u001b[0m\u001b[0;34m.\u001b[0m\u001b[0merrstate\u001b[0m\u001b[0;34m(\u001b[0m\u001b[0mall\u001b[0m\u001b[0;34m=\u001b[0m\u001b[0;34m\"ignore\"\u001b[0m\u001b[0;34m)\u001b[0m\u001b[0;34m:\u001b[0m\u001b[0;34m\u001b[0m\u001b[0;34m\u001b[0m\u001b[0m\n\u001b[0;32m---> 70\u001b[0;31m         \u001b[0;32mreturn\u001b[0m \u001b[0mop\u001b[0m\u001b[0;34m(\u001b[0m\u001b[0ma\u001b[0m\u001b[0;34m,\u001b[0m \u001b[0mb\u001b[0m\u001b[0;34m)\u001b[0m\u001b[0;34m\u001b[0m\u001b[0;34m\u001b[0m\u001b[0m\n\u001b[0m\u001b[1;32m     71\u001b[0m \u001b[0;34m\u001b[0m\u001b[0m\n\u001b[1;32m     72\u001b[0m \u001b[0;34m\u001b[0m\u001b[0m\n",
      "\u001b[0;31mKeyboardInterrupt\u001b[0m: "
     ]
    }
   ],
   "source": [
    "###\n",
    "# Visualization of Latent Dirichlet Allocation models\n",
    "# using the tf-idf model to visualize TF-IDF\n",
    "pyLDAvis.sklearn.prepare(lda_tfidf, dtm_tfidf, tfidf_vectorizer)\n",
    "\n",
    "# pyLDAvis.sklearn.prepare(lda_tf, dtm_tf, tf_vectorizer)"
   ]
  },
  {
   "cell_type": "markdown",
   "metadata": {},
   "source": [
    "Results from tfidf DTM, with 5 topics\n",
    "- Topic #0: phenibut lyrica adrafinil vinpocetine dmae dhea pregabalin bdo selegiline aniracetam hydergine ultracet mpa atenolol mucuna gvl olmifon tiletamine bup rosea\n",
    "- Topic #1: javier vassopressin pento hughie kirill tess rj sutts lingerie noss zworfin atterall migrazone pmt coricedin burbon usel divinoram prulict empracet\n",
    "- Topic #2: like not time felt would one could experience feel trip back no feeling get really around started still effects much\n",
    "- Topic #3: ich und der zu das es mich auf die ein mir nicht mit war ist den eine auch sich noch\n",
    "- Topic #4: cp5 zam lagochilus zara mulungu slipper paan inebrians ebo cdt snapdragon brennan miguel gannon tamas zippie rollladenschaft pvcs anita serequel\n",
    "\n",
    "\n",
    "Results from tf DTM, with 5 topics\n",
    "- Topic #0: not like effects time feel feeling would much no day hours felt get one experience still good drug first dose\n",
    "- Topic #1: dan non di la che un lance nita ce ci sarina mi come ed sarah per il sickie le sapo\n",
    "- Topic #2: like time felt not would back could one around trip started get really got went friend no still go thought\n",
    "- Topic #3: ich und die der es war das zu mich nicht mir auf mit ein den auch dass noch sich eine\n",
    "- Topic #4: experience not one mind no dmt body world life sense salvia reality state energy psychedelic experiences space consciousness light many"
   ]
  },
  {
   "cell_type": "markdown",
   "metadata": {
    "colab_type": "text",
    "id": "DrMipNNBMFN0"
   },
   "source": [
    "## Below this is archived LDA code from towards data science; very solid stuff"
   ]
  },
  {
   "cell_type": "code",
   "execution_count": 0,
   "metadata": {
    "colab": {},
    "colab_type": "code",
    "id": "MG8KMDeWMFN1",
    "outputId": "e6ef52f1-feaa-4b2f-c14a-7fa61268b0d5",
    "scrolled": true
   },
   "outputs": [
    {
     "ename": "TypeError",
     "evalue": "__init__() got an unexpected keyword argument 'n_topics'",
     "output_type": "error",
     "traceback": [
      "\u001b[0;31m---------------------------------------------------------------------------\u001b[0m",
      "\u001b[0;31mTypeError\u001b[0m                                 Traceback (most recent call last)",
      "\u001b[0;32m<ipython-input-15-da844e728b15>\u001b[0m in \u001b[0;36m<module>\u001b[0;34m\u001b[0m\n\u001b[1;32m      4\u001b[0m \u001b[0;32mfrom\u001b[0m \u001b[0msklearn\u001b[0m\u001b[0;34m.\u001b[0m\u001b[0mdecomposition\u001b[0m \u001b[0;32mimport\u001b[0m \u001b[0mLatentDirichletAllocation\u001b[0m\u001b[0;34m\u001b[0m\u001b[0;34m\u001b[0m\u001b[0m\n\u001b[1;32m      5\u001b[0m \u001b[0;34m\u001b[0m\u001b[0m\n\u001b[0;32m----> 6\u001b[0;31m \u001b[0mlda\u001b[0m \u001b[0;34m=\u001b[0m \u001b[0mLatentDirichletAllocation\u001b[0m\u001b[0;34m(\u001b[0m\u001b[0mn_topics\u001b[0m\u001b[0;34m=\u001b[0m\u001b[0;36m3\u001b[0m\u001b[0;34m,\u001b[0m \u001b[0mmax_iter\u001b[0m\u001b[0;34m=\u001b[0m\u001b[0;36m10000\u001b[0m\u001b[0;34m,\u001b[0m \u001b[0mrandom_state\u001b[0m\u001b[0;34m=\u001b[0m\u001b[0;36m0\u001b[0m\u001b[0;34m)\u001b[0m\u001b[0;34m\u001b[0m\u001b[0;34m\u001b[0m\u001b[0m\n\u001b[0m\u001b[1;32m      7\u001b[0m \u001b[0mdt_matrix\u001b[0m \u001b[0;34m=\u001b[0m \u001b[0mlda\u001b[0m\u001b[0;34m.\u001b[0m\u001b[0mfit_transform\u001b[0m\u001b[0;34m(\u001b[0m\u001b[0mcv_matrix\u001b[0m\u001b[0;34m)\u001b[0m\u001b[0;34m\u001b[0m\u001b[0;34m\u001b[0m\u001b[0m\n\u001b[1;32m      8\u001b[0m \u001b[0mfeatures\u001b[0m \u001b[0;34m=\u001b[0m \u001b[0mpd\u001b[0m\u001b[0;34m.\u001b[0m\u001b[0mDataFrame\u001b[0m\u001b[0;34m(\u001b[0m\u001b[0mdt_matrix\u001b[0m\u001b[0;34m,\u001b[0m \u001b[0mcolumns\u001b[0m\u001b[0;34m=\u001b[0m\u001b[0;34m[\u001b[0m\u001b[0;34m'T1'\u001b[0m\u001b[0;34m,\u001b[0m \u001b[0;34m'T2'\u001b[0m\u001b[0;34m,\u001b[0m \u001b[0;34m'T3'\u001b[0m\u001b[0;34m]\u001b[0m\u001b[0;34m)\u001b[0m\u001b[0;34m\u001b[0m\u001b[0;34m\u001b[0m\u001b[0m\n",
      "\u001b[0;31mTypeError\u001b[0m: __init__() got an unexpected keyword argument 'n_topics'"
     ]
    }
   ],
   "source": [
    "# TODO: LDA Example code\n",
    "# Source: https://towardsdatascience.com/understanding-feature-engineering-part-3-traditional-methods-for-text-data-f6f7d70acd41\n",
    "# TODO: Looks like we can apply LDA on many different matrices, including count vector or tfidf vector\n",
    "from sklearn.decomposition import LatentDirichletAllocation\n",
    "\n",
    "lda = LatentDirichletAllocation(n_components=3, max_iter=10000, random_state=0)\n",
    "dt_matrix = lda.fit_transform(cv_matrix)\n",
    "features = pd.DataFrame(dt_matrix, columns=['T1', 'T2', 'T3'])\n",
    "features"
   ]
  },
  {
   "cell_type": "code",
   "execution_count": 0,
   "metadata": {
    "colab": {},
    "colab_type": "code",
    "collapsed": true,
    "id": "yCX6qs3sMFN2"
   },
   "outputs": [],
   "source": [
    "# TODO: View the words for the topics\n",
    "# Source: https://towardsdatascience.com/understanding-feature-engineering-part-3-traditional-methods-for-text-data-f6f7d70acd41\n",
    "tt_matrix = lda.components_\n",
    "for topic_weights in tt_matrix:\n",
    "    topic = [(token, weight) for token, weight in zip(vocab, topic_weights)]\n",
    "    topic = sorted(topic, key=lambda x: -x[1])\n",
    "    topic = [item for item in topic if item[1] > 0.6]\n",
    "    print(topic)\n",
    "    print()"
   ]
  },
  {
   "cell_type": "code",
   "execution_count": 32,
   "metadata": {
    "colab": {},
    "colab_type": "code",
    "id": "SJsvw_WyMFN4",
    "outputId": "3dbfde3f-44ec-4648-ce78-1c5441e128ec",
    "scrolled": true
   },
   "outputs": [
    {
     "name": "stdout",
     "output_type": "stream",
     "text": [
      "Loading dataset...\n",
      "done in 1.413s.\n",
      "Extracting tf-idf features for NMF...\n",
      "done in 0.313s.\n",
      "Extracting tf features for LDA...\n",
      "done in 0.300s.\n",
      "\n",
      "Fitting the NMF model (Frobenius norm) with tf-idf features, n_samples=2000 and n_features=1000...\n",
      "done in 0.221s.\n",
      "\n",
      "Topics in NMF model (Frobenius norm):\n",
      "Topic #0: just people don think like know time good make way really say right ve want did ll new use years\n",
      "Topic #1: windows use dos using window program os drivers application help software pc running ms screen files version card code work\n",
      "Topic #2: god jesus bible faith christian christ christians does heaven sin believe lord life church mary atheism belief human love religion\n",
      "Topic #3: thanks know does mail advance hi info interested email anybody looking card help like appreciated information send list video need\n",
      "Topic #4: car cars tires miles 00 new engine insurance price condition oil power speed good 000 brake year models used bought\n",
      "Topic #5: edu soon com send university internet mit ftp mail cc pub article information hope program mac email home contact blood\n",
      "Topic #6: file problem files format win sound ftp pub read save site help image available create copy running memory self version\n",
      "Topic #7: game team games year win play season players nhl runs goal hockey toronto division flyers player defense leafs bad teams\n",
      "Topic #8: drive drives hard disk floppy software card mac computer power scsi controller apple mb 00 pc rom sale problem internal\n",
      "Topic #9: key chip clipper keys encryption government public use secure enforcement phone nsa communications law encrypted security clinton used legal standard\n",
      "\n",
      "Fitting the NMF model (generalized Kullback-Leibler divergence) with tf-idf features, n_samples=2000 and n_features=1000...\n",
      "done in 1.232s.\n",
      "\n",
      "Topics in NMF model (generalized Kullback-Leibler divergence):\n",
      "Topic #0: just people don like did know make really right think say things time look way didn ve course probably good\n",
      "Topic #1: help thanks windows know hi need using does looking anybody appreciated card mail software use info email ftp available pc\n",
      "Topic #2: does god believe know mean true christians read point jesus christian church come people fact says religion say agree bible\n",
      "Topic #3: know thanks mail interested like new just bike email edu advance want contact really list heard com post hear information\n",
      "Topic #4: 10 new 30 12 20 50 11 sale 16 15 time 14 old power ago good 100 great offer cost\n",
      "Topic #5: number 1993 data subject government new numbers provide information space following com research include large note group major time talk\n",
      "Topic #6: edu problem file com remember try soon article mike files code program sun free send think cases manager little called\n",
      "Topic #7: game year team games world fact second case won said win division play best clearly claim allow example used doesn\n",
      "Topic #8: think don drive hard need bit mac make sure read apple going comes disk computer case pretty drives software ve\n",
      "Topic #9: good just use like doesn got way don ll going does chip better doing bad key want sure bit car\n",
      "\n",
      "Fitting LDA models with tf features, n_samples=2000 and n_features=1000...\n",
      "done in 4.949s.\n",
      "\n",
      "Topics in LDA model:\n",
      "Topic #0: edu com mail send graphics ftp pub available contact university list faq ca information cs 1993 program sun uk mit\n",
      "Topic #1: don like just know think ve way use right good going make sure ll point got need really time doesn\n",
      "Topic #2: christian think atheism faith pittsburgh new bible radio games alt lot just religion like book read play time subject believe\n",
      "Topic #3: drive disk windows thanks use card drives hard version pc software file using scsi help does new dos controller 16\n",
      "Topic #4: hiv health aids disease april medical care research 1993 light information study national service test led 10 page new drug\n",
      "Topic #5: god people does just good don jesus say israel way life know true fact time law want believe make think\n",
      "Topic #6: 55 10 11 18 15 team game 19 period play 23 12 13 flyers 20 25 22 17 24 16\n",
      "Topic #7: car year just cars new engine like bike good oil insurance better tires 000 thing speed model brake driving performance\n",
      "Topic #8: people said did just didn know time like went think children came come don took years say dead told started\n",
      "Topic #9: key space law government public use encryption earth section security moon probe enforcement keys states lunar military crime surface technology\n",
      "\n"
     ]
    }
   ],
   "source": [
    "# TODO: Example code from https://scikit-learn.org/stable/auto_examples/applications/plot_topics_extraction_with_nmf_lda.html#sphx-glr-auto-examples-applications-plot-topics-extraction-with-nmf-lda-py\n",
    "\n",
    "# Author: Olivier Grisel <olivier.grisel@ensta.org>\n",
    "#         Lars Buitinck\n",
    "#         Chyi-Kwei Yau <chyikwei.yau@gmail.com>\n",
    "# License: BSD 3 clause\n",
    "\n",
    "from time import time\n",
    "\n",
    "from sklearn.feature_extraction.text import TfidfVectorizer, CountVectorizer\n",
    "from sklearn.decomposition import NMF, LatentDirichletAllocation\n",
    "from sklearn.datasets import fetch_20newsgroups\n",
    "\n",
    "n_samples = 2000\n",
    "n_features = 1000\n",
    "n_components = 10\n",
    "n_top_words = 20\n",
    "\n",
    "\n",
    "def print_top_words(model, feature_names, n_top_words):\n",
    "    for topic_idx, topic in enumerate(model.components_):\n",
    "        message = \"Topic #%d: \" % topic_idx\n",
    "        message += \" \".join([feature_names[i]\n",
    "                             for i in topic.argsort()[:-n_top_words - 1:-1]])\n",
    "        print(message)\n",
    "    print()\n",
    "\n",
    "\n",
    "# Load the 20 newsgroups dataset and vectorize it. We use a few heuristics\n",
    "# to filter out useless terms early on: the posts are stripped of headers,\n",
    "# footers and quoted replies, and common English words, words occurring in\n",
    "# only one document or in at least 95% of the documents are removed.\n",
    "\n",
    "print(\"Loading dataset...\")\n",
    "t0 = time()\n",
    "dataset = fetch_20newsgroups(shuffle=True, random_state=1,\n",
    "                             remove=('headers', 'footers', 'quotes'))\n",
    "data_samples = dataset.data[:n_samples]\n",
    "print(\"done in %0.3fs.\" % (time() - t0))\n",
    "\n",
    "# Use tf-idf features for NMF.\n",
    "print(\"Extracting tf-idf features for NMF...\")\n",
    "tfidf_vectorizer = TfidfVectorizer(max_df=0.95, min_df=2,\n",
    "                                   max_features=n_features,\n",
    "                                   stop_words='english')\n",
    "t0 = time()\n",
    "tfidf = tfidf_vectorizer.fit_transform(data_samples)\n",
    "print(\"done in %0.3fs.\" % (time() - t0))\n",
    "\n",
    "# Use tf (raw term count) features for LDA.\n",
    "print(\"Extracting tf features for LDA...\")\n",
    "tf_vectorizer = CountVectorizer(max_df=0.95, min_df=2,\n",
    "                                max_features=n_features,\n",
    "                                stop_words='english')\n",
    "t0 = time()\n",
    "tf = tf_vectorizer.fit_transform(data_samples)\n",
    "print(\"done in %0.3fs.\" % (time() - t0))\n",
    "print()\n",
    "\n",
    "# Fit the NMF model\n",
    "print(\"Fitting the NMF model (Frobenius norm) with tf-idf features, \"\n",
    "      \"n_samples=%d and n_features=%d...\"\n",
    "      % (n_samples, n_features))\n",
    "t0 = time()\n",
    "nmf = NMF(n_components=n_components, random_state=1,\n",
    "          alpha=.1, l1_ratio=.5).fit(tfidf)\n",
    "print(\"done in %0.3fs.\" % (time() - t0))\n",
    "\n",
    "print(\"\\nTopics in NMF model (Frobenius norm):\")\n",
    "tfidf_feature_names = tfidf_vectorizer.get_feature_names()\n",
    "print_top_words(nmf, tfidf_feature_names, n_top_words)\n",
    "\n",
    "# Fit the NMF model\n",
    "print(\"Fitting the NMF model (generalized Kullback-Leibler divergence) with \"\n",
    "      \"tf-idf features, n_samples=%d and n_features=%d...\"\n",
    "      % (n_samples, n_features))\n",
    "t0 = time()\n",
    "nmf = NMF(n_components=n_components, random_state=1,\n",
    "          beta_loss='kullback-leibler', solver='mu', max_iter=1000, alpha=.1,\n",
    "          l1_ratio=.5).fit(tfidf)\n",
    "print(\"done in %0.3fs.\" % (time() - t0))\n",
    "\n",
    "print(\"\\nTopics in NMF model (generalized Kullback-Leibler divergence):\")\n",
    "tfidf_feature_names = tfidf_vectorizer.get_feature_names()\n",
    "print_top_words(nmf, tfidf_feature_names, n_top_words)\n",
    "\n",
    "print(\"Fitting LDA models with tf features, \"\n",
    "      \"n_samples=%d and n_features=%d...\"\n",
    "      % (n_samples, n_features))\n",
    "lda = LatentDirichletAllocation(n_components=n_components, max_iter=5,\n",
    "                                learning_method='online',\n",
    "                                learning_offset=50.,\n",
    "                                random_state=0)\n",
    "t0 = time()\n",
    "lda.fit(tf)\n",
    "print(\"done in %0.3fs.\" % (time() - t0))\n",
    "\n",
    "print(\"\\nTopics in LDA model:\")\n",
    "tf_feature_names = tf_vectorizer.get_feature_names()\n",
    "print_top_words(lda, tf_feature_names, n_top_words)"
   ]
  },
  {
   "cell_type": "markdown",
   "metadata": {
    "colab_type": "text",
    "id": "QACWDxm0MFN5"
   },
   "source": [
    "</br>\n",
    "</br>\n",
    "</br>\n",
    "</br>\n",
    "</br>\n",
    "</br>\n",
    "</br>\n",
    "</br>"
   ]
  },
  {
   "cell_type": "markdown",
   "metadata": {
    "colab_type": "text",
    "id": "uZKOPZXyMFN6"
   },
   "source": [
    "# 7. Word Clouds: Getting the Gist\n",
    "\n",
    "Word Clouds are an intuitively visual way to present vast amounts of textual information, revealing the key themes conveyed in a collection of documents. Prima facie, generating word clouds feel like a simple problem, yet very quickly deeper considerations arise, including (1) using appropriate preprocessing (stop words, stemming, lemmatization), (2) whether to include documents of class $j \\neq i$ when constructing a word cloud for documents of class, and (3) how to scale tokens, given (1) and (2). In this section, we explore combinations of different approaches, and conclude that the most suitable approach depends on our philosophy in constructing these word clouds.\n",
    "\n",
    "\n",
    "## 7.1 Baseline Wordclouds\n",
    "\n",
    "`TODO`\n",
    "\n",
    "For our baselines word clouds for documents of class i, we perform basic stopwords removal, with no stemming and lemmatization. We use: \n",
    "- Token raw frequency (not considering other classes $\\neq i$)\n",
    "- TF-IDF weighting (considering other classes $j \\neq i$)\n",
    "\n",
    "Note that since each trip report may contain multiple classes, we will include a document that contains k classes in k word clouds.\n"
   ]
  },
  {
   "cell_type": "code",
   "execution_count": 0,
   "metadata": {
    "colab": {},
    "colab_type": "code",
    "id": "PGZRTOHkMFN9",
    "outputId": "0180b3ec-ae81-46c9-e94a-45c51bc8e15f"
   },
   "outputs": [
    {
     "name": "stderr",
     "output_type": "stream",
     "text": [
      "[nltk_data] Downloading package stopwords to\n",
      "[nltk_data]     /Users/alextzhao/nltk_data...\n",
      "[nltk_data]   Package stopwords is already up-to-date!\n"
     ]
    }
   ],
   "source": [
    "# Use the wordcloud package to generate baseline wordclouds\n",
    "# https://github.com/amueller/word_cloud\n",
    "# https://www.datacamp.com/community/tutorials/wordcloud-python\n",
    "\n",
    "import numpy as np\n",
    "import pandas as pd\n",
    "from os import path\n",
    "from PIL import Image\n",
    "from wordcloud import WordCloud, ImageColorGenerator\n",
    "from wordcloud import STOPWORDS as wordcloud_STOPWORDS\n",
    "import nltk\n",
    "from nltk.corpus import stopwords as nltk_stopwords\n",
    "nltk.download('stopwords')\n",
    "\n",
    "import matplotlib.pyplot as plt\n",
    "\n",
    "# # utilities to interoperate between R and pandas data frames\n",
    "# # see https://rpy2.github.io/doc/latest/html/pandas.html\n",
    "# import rpy2.robjects as ro\n",
    "# from rpy2.robjects.packages import importr\n",
    "# from rpy2.robjects import pandas2ri\n",
    "# from rpy2.robjects.conversion import localconverter\n",
    "\n",
    "# # convert the R data frame to a pandas dataframe\n",
    "# with localconverter(ro.default_converter + pandas2ri.converter):\n",
    "#   pd_tripReports = ro.conversion.rpy2py(tripReports)\n",
    "\n",
    "# NOTE: We can just read directly from the csv file that we saved earlier\n",
    "pd_tripReports = pd.read_csv(\"tripReportsEncoded.csv\", index_col=0)\n"
   ]
  },
  {
   "cell_type": "markdown",
   "metadata": {
    "colab_type": "text",
    "id": "nFwfZxVAMFOK"
   },
   "source": [
    "**Wordclouds Based on Word Frequency**\n",
    "\n",
    "Note: Using the `wordcloud` package, we are making numerous assumptions, including:\n",
    "- Word scaling based on `frequency` only\n",
    "-  of words: the `wordcloud` package has a `relative_scaling` attribute, which specifies the importance of relative word frequencies for font-size. If `relative_scaling = 0`, the only word-ranks are considered; `relative_scaling=1` means words size is directly proportional to their frequency; Default of `relative_scaling = 0.5` considers both word frequency and word rank, and is used in our analysis. Insight retrieved from `wordcloud` [documentation](http://amueller.github.io/word_cloud/generated/wordcloud.WordCloud.html#wordcloud.WordCloud) and from [this tutorial](https://www.datacamp.com/community/tutorials/wordcloud-python)"
   ]
  },
  {
   "cell_type": "code",
   "execution_count": 0,
   "metadata": {
    "colab": {},
    "colab_type": "code",
    "id": "sGsJ7FznMFOK",
    "outputId": "e606788e-b060-4815-e0c3-756f278881a7"
   },
   "outputs": [
    {
     "name": "stdout",
     "output_type": "stream",
     "text": [
      "Now plotting wordclouds for 5 substances...\n"
     ]
    },
    {
     "ename": "NameError",
     "evalue": "name 'plt' is not defined",
     "output_type": "error",
     "traceback": [
      "\u001b[0;31m---------------------------------------------------------------------------\u001b[0m",
      "\u001b[0;31mNameError\u001b[0m                                 Traceback (most recent call last)",
      "\u001b[0;32m<ipython-input-13-6c346c932534>\u001b[0m in \u001b[0;36m<module>\u001b[0;34m\u001b[0m\n\u001b[1;32m     11\u001b[0m \u001b[0;31m# creating subplots: https://stackoverflow.com/questions/25239933/how-to-add-title-to-subplots-in-matplotlib\u001b[0m\u001b[0;34m\u001b[0m\u001b[0;34m\u001b[0m\u001b[0;34m\u001b[0m\u001b[0m\n\u001b[1;32m     12\u001b[0m \u001b[0;31m# changing figure size: https://stackoverflow.com/questions/332289/how-do-you-change-the-size-of-figures-drawn-with-matplotlib\u001b[0m\u001b[0;34m\u001b[0m\u001b[0;34m\u001b[0m\u001b[0;34m\u001b[0m\u001b[0m\n\u001b[0;32m---> 13\u001b[0;31m \u001b[0mfig\u001b[0m \u001b[0;34m=\u001b[0m \u001b[0mplt\u001b[0m\u001b[0;34m.\u001b[0m\u001b[0mfigure\u001b[0m\u001b[0;34m(\u001b[0m\u001b[0mfigsize\u001b[0m\u001b[0;34m=\u001b[0m\u001b[0;34m(\u001b[0m\u001b[0;36m50\u001b[0m\u001b[0;34m,\u001b[0m \u001b[0;36m10\u001b[0m\u001b[0;34m)\u001b[0m\u001b[0;34m)\u001b[0m\u001b[0;34m\u001b[0m\u001b[0;34m\u001b[0m\u001b[0m\n\u001b[0m\u001b[1;32m     14\u001b[0m \u001b[0mfig\u001b[0m\u001b[0;34m.\u001b[0m\u001b[0msuptitle\u001b[0m\u001b[0;34m(\u001b[0m\u001b[0;34m\"Word Clouds based on word Frequencies\"\u001b[0m\u001b[0;34m,\u001b[0m \u001b[0mfontsize\u001b[0m\u001b[0;34m=\u001b[0m\u001b[0;36m16\u001b[0m\u001b[0;34m)\u001b[0m\u001b[0;34m\u001b[0m\u001b[0;34m\u001b[0m\u001b[0m\n\u001b[1;32m     15\u001b[0m \u001b[0;34m\u001b[0m\u001b[0m\n",
      "\u001b[0;31mNameError\u001b[0m: name 'plt' is not defined"
     ]
    }
   ],
   "source": [
    "#### Create Wordclouds\n",
    "# a list of the \"classical psychedelics\"\n",
    "substances_psychedelics_list = [\"substance_mushrooms\", \"substance_lsd\", \"substance_mescaline\", \"substance_5_meo_dmt\", \"substance_dmt\"]\n",
    "\n",
    "\n",
    "# NOTE: change this line of code to change which substances to plot\n",
    "substances_to_plot = substances_psychedelics_list\n",
    "num_plots = len(substances_to_plot)\n",
    "print(\"Now plotting wordclouds for {} substances...\".format(num_plots))\n",
    "\n",
    "# creating subplots: https://stackoverflow.com/questions/25239933/how-to-add-title-to-subplots-in-matplotlib\n",
    "# changing figure size: https://stackoverflow.com/questions/332289/how-do-you-change-the-size-of-figures-drawn-with-matplotlib\n",
    "fig = plt.figure(figsize=(50, 10))\n",
    "fig.suptitle(\"Word Clouds based on word Frequencies\", fontsize=16)\n",
    "\n",
    "for index, substance in enumerate(substances_to_plot):\n",
    "    wordcloud = WordCloud(stopwords=stopword_list, max_font_size=50, max_words=100, background_color=\"white\").generate(reports_text_tokenized[substance])\n",
    "    ax = plt.subplot(num_plots, 1, index+1) # note here for subplots index must be [1, num_plots]\n",
    "    ax.set_title(\"{} Wordcloud\".format(substance))\n",
    "    plt.imshow(wordcloud, interpolation=\"bilinear\")\n",
    "    plt.axis(\"off\")\n",
    "\n",
    "plt.savefig('wordclouds_naive_psychedelics.png')\n",
    "plt.show()\n",
    "    \n",
    "\n",
    "### Plotting a single wordcloud\n",
    "# wordcloud = WordCloud(stopwords=stopwords_all, max_font_size=50, max_words=100, background_color=\"white\").generate(reports_text_tokenized[\"substance_mushrooms\"])\n",
    "# plt.figure()\n",
    "# plt.imshow(wordcloud, interpolation=\"bilinear\")\n",
    "# plt.axis(\"off\")\n",
    "# plt.show()"
   ]
  },
  {
   "cell_type": "code",
   "execution_count": null,
   "metadata": {},
   "outputs": [],
   "source": []
  },
  {
   "cell_type": "markdown",
   "metadata": {},
   "source": [
    "\n",
    "## 7.2 Intermediate Wordclouds\n",
    "\n",
    "`TODO`\n",
    "\n",
    "## 7.3 Log Odds Ratio, an homage to Statistical Inference\n",
    "\n",
    "`TODO`\n"
   ]
  },
  {
   "cell_type": "markdown",
   "metadata": {
    "colab_type": "text",
    "id": "66IMsS17MFN6"
   },
   "source": [
    "# Visualizing Erowid Corpus with Word Clouds"
   ]
  },
  {
   "cell_type": "markdown",
   "metadata": {
    "colab_type": "text",
    "id": "I2iF_EoiMFN6"
   },
   "source": [
    "### 1.1.1 | Retrieve the reports for different substances"
   ]
  },
  {
   "cell_type": "code",
   "execution_count": 0,
   "metadata": {
    "colab": {},
    "colab_type": "code",
    "collapsed": true,
    "id": "zLlvnzc5MFN7",
    "outputId": "82aa52bc-5b5b-4c37-9ff0-a01eed06d114"
   },
   "outputs": [
    {
     "name": "stderr",
     "output_type": "stream",
     "text": [
      "R[write to console]: Using report, title, substance, substance.unique_label as id variables\n",
      "\n"
     ]
    },
    {
     "name": "stdout",
     "output_type": "stream",
     "text": [
      "\u001b[90m# A tibble: 6 x 2\u001b[39m\n",
      "  title                           `n()`\n",
      "  \u001b[3m\u001b[90m<chr>\u001b[39m\u001b[23m                           \u001b[3m\u001b[90m<int>\u001b[39m\u001b[23m\n",
      "\u001b[90m1\u001b[39m ::: The City of Light :::          21\n",
      "\u001b[90m2\u001b[39m ... Meh                            21\n",
      "\u001b[90m3\u001b[39m ...But I Did Everything Right!     21\n",
      "\u001b[90m4\u001b[39m ...Until the Crystal Cracked!      21\n",
      "\u001b[90m5\u001b[39m ...When I'm Closing in on Death    21\n",
      "\u001b[90m6\u001b[39m .3 PPM of Our Air                  21\n"
     ]
    },
    {
     "ename": "KeyboardInterrupt",
     "evalue": "",
     "output_type": "error",
     "traceback": [
      "\u001b[0;31m---------------------------------------------------------------------------\u001b[0m",
      "\u001b[0;31mKeyboardInterrupt\u001b[0m                         Traceback (most recent call last)",
      "\u001b[0;32m<ipython-input-26-0d07c5064cd7>\u001b[0m in \u001b[0;36m<module>\u001b[0;34m\u001b[0m\n\u001b[0;32m----> 1\u001b[0;31m \u001b[0mget_ipython\u001b[0m\u001b[0;34m(\u001b[0m\u001b[0;34m)\u001b[0m\u001b[0;34m.\u001b[0m\u001b[0mrun_cell_magic\u001b[0m\u001b[0;34m(\u001b[0m\u001b[0;34m'R'\u001b[0m\u001b[0;34m,\u001b[0m \u001b[0;34m'-o tripReports -o tripReports.long'\u001b[0m\u001b[0;34m,\u001b[0m \u001b[0;34m'# ^ export tripReports and tripReports.long for use in python environment\\n# https://stackoverflow.com/questions/55841165/share-variables-between-r-and-python-in-jupyternotebook\\n\\n### create long data format, using report, title, substance, substance.unique_label as id variables\\n# glimpse(tripReports)\\ntripReports.long <- reshape2::melt(tripReports)\\n\\n### validate the long data format\\ntripReports.long %>% select(-report) %>% group_by(title) %>% summarize(n()) %>% head()\\n# glimpse(tripReports.long)\\n# glimpse(tripReports)\\n'\u001b[0m\u001b[0;34m)\u001b[0m\u001b[0;34m\u001b[0m\u001b[0;34m\u001b[0m\u001b[0m\n\u001b[0m",
      "\u001b[0;32m~/opt/anaconda3/lib/python3.7/site-packages/IPython/core/interactiveshell.py\u001b[0m in \u001b[0;36mrun_cell_magic\u001b[0;34m(self, magic_name, line, cell)\u001b[0m\n\u001b[1;32m   2357\u001b[0m             \u001b[0;32mwith\u001b[0m \u001b[0mself\u001b[0m\u001b[0;34m.\u001b[0m\u001b[0mbuiltin_trap\u001b[0m\u001b[0;34m:\u001b[0m\u001b[0;34m\u001b[0m\u001b[0;34m\u001b[0m\u001b[0m\n\u001b[1;32m   2358\u001b[0m                 \u001b[0margs\u001b[0m \u001b[0;34m=\u001b[0m \u001b[0;34m(\u001b[0m\u001b[0mmagic_arg_s\u001b[0m\u001b[0;34m,\u001b[0m \u001b[0mcell\u001b[0m\u001b[0;34m)\u001b[0m\u001b[0;34m\u001b[0m\u001b[0;34m\u001b[0m\u001b[0m\n\u001b[0;32m-> 2359\u001b[0;31m                 \u001b[0mresult\u001b[0m \u001b[0;34m=\u001b[0m \u001b[0mfn\u001b[0m\u001b[0;34m(\u001b[0m\u001b[0;34m*\u001b[0m\u001b[0margs\u001b[0m\u001b[0;34m,\u001b[0m \u001b[0;34m**\u001b[0m\u001b[0mkwargs\u001b[0m\u001b[0;34m)\u001b[0m\u001b[0;34m\u001b[0m\u001b[0;34m\u001b[0m\u001b[0m\n\u001b[0m\u001b[1;32m   2360\u001b[0m             \u001b[0;32mreturn\u001b[0m \u001b[0mresult\u001b[0m\u001b[0;34m\u001b[0m\u001b[0;34m\u001b[0m\u001b[0m\n\u001b[1;32m   2361\u001b[0m \u001b[0;34m\u001b[0m\u001b[0m\n",
      "\u001b[0;32m</Users/alextzhao/opt/anaconda3/lib/python3.7/site-packages/decorator.py:decorator-gen-130>\u001b[0m in \u001b[0;36mR\u001b[0;34m(self, line, cell, local_ns)\u001b[0m\n",
      "\u001b[0;32m~/opt/anaconda3/lib/python3.7/site-packages/IPython/core/magic.py\u001b[0m in \u001b[0;36m<lambda>\u001b[0;34m(f, *a, **k)\u001b[0m\n\u001b[1;32m    185\u001b[0m     \u001b[0;31m# but it's overkill for just that one bit of state.\u001b[0m\u001b[0;34m\u001b[0m\u001b[0;34m\u001b[0m\u001b[0;34m\u001b[0m\u001b[0m\n\u001b[1;32m    186\u001b[0m     \u001b[0;32mdef\u001b[0m \u001b[0mmagic_deco\u001b[0m\u001b[0;34m(\u001b[0m\u001b[0marg\u001b[0m\u001b[0;34m)\u001b[0m\u001b[0;34m:\u001b[0m\u001b[0;34m\u001b[0m\u001b[0;34m\u001b[0m\u001b[0m\n\u001b[0;32m--> 187\u001b[0;31m         \u001b[0mcall\u001b[0m \u001b[0;34m=\u001b[0m \u001b[0;32mlambda\u001b[0m \u001b[0mf\u001b[0m\u001b[0;34m,\u001b[0m \u001b[0;34m*\u001b[0m\u001b[0ma\u001b[0m\u001b[0;34m,\u001b[0m \u001b[0;34m**\u001b[0m\u001b[0mk\u001b[0m\u001b[0;34m:\u001b[0m \u001b[0mf\u001b[0m\u001b[0;34m(\u001b[0m\u001b[0;34m*\u001b[0m\u001b[0ma\u001b[0m\u001b[0;34m,\u001b[0m \u001b[0;34m**\u001b[0m\u001b[0mk\u001b[0m\u001b[0;34m)\u001b[0m\u001b[0;34m\u001b[0m\u001b[0;34m\u001b[0m\u001b[0m\n\u001b[0m\u001b[1;32m    188\u001b[0m \u001b[0;34m\u001b[0m\u001b[0m\n\u001b[1;32m    189\u001b[0m         \u001b[0;32mif\u001b[0m \u001b[0mcallable\u001b[0m\u001b[0;34m(\u001b[0m\u001b[0marg\u001b[0m\u001b[0;34m)\u001b[0m\u001b[0;34m:\u001b[0m\u001b[0;34m\u001b[0m\u001b[0;34m\u001b[0m\u001b[0m\n",
      "\u001b[0;32m~/opt/anaconda3/lib/python3.7/site-packages/rpy2/ipython/rmagic.py\u001b[0m in \u001b[0;36mR\u001b[0;34m(self, line, cell, local_ns)\u001b[0m\n\u001b[1;32m    782\u001b[0m             \u001b[0;32mwith\u001b[0m \u001b[0mlocalconverter\u001b[0m\u001b[0;34m(\u001b[0m\u001b[0mconverter\u001b[0m\u001b[0;34m)\u001b[0m \u001b[0;32mas\u001b[0m \u001b[0mcv\u001b[0m\u001b[0;34m:\u001b[0m\u001b[0;34m\u001b[0m\u001b[0;34m\u001b[0m\u001b[0m\n\u001b[1;32m    783\u001b[0m                 \u001b[0;32mfor\u001b[0m \u001b[0moutput\u001b[0m \u001b[0;32min\u001b[0m \u001b[0;34m','\u001b[0m\u001b[0;34m.\u001b[0m\u001b[0mjoin\u001b[0m\u001b[0;34m(\u001b[0m\u001b[0margs\u001b[0m\u001b[0;34m.\u001b[0m\u001b[0moutput\u001b[0m\u001b[0;34m)\u001b[0m\u001b[0;34m.\u001b[0m\u001b[0msplit\u001b[0m\u001b[0;34m(\u001b[0m\u001b[0;34m','\u001b[0m\u001b[0;34m)\u001b[0m\u001b[0;34m:\u001b[0m\u001b[0;34m\u001b[0m\u001b[0;34m\u001b[0m\u001b[0m\n\u001b[0;32m--> 784\u001b[0;31m                     \u001b[0moutput_ipy\u001b[0m \u001b[0;34m=\u001b[0m \u001b[0mro\u001b[0m\u001b[0;34m.\u001b[0m\u001b[0mglobalenv\u001b[0m\u001b[0;34m.\u001b[0m\u001b[0mfind\u001b[0m\u001b[0;34m(\u001b[0m\u001b[0moutput\u001b[0m\u001b[0;34m)\u001b[0m\u001b[0;34m\u001b[0m\u001b[0;34m\u001b[0m\u001b[0m\n\u001b[0m\u001b[1;32m    785\u001b[0m                     \u001b[0mself\u001b[0m\u001b[0;34m.\u001b[0m\u001b[0mshell\u001b[0m\u001b[0;34m.\u001b[0m\u001b[0mpush\u001b[0m\u001b[0;34m(\u001b[0m\u001b[0;34m{\u001b[0m\u001b[0moutput\u001b[0m\u001b[0;34m:\u001b[0m \u001b[0moutput_ipy\u001b[0m\u001b[0;34m}\u001b[0m\u001b[0;34m)\u001b[0m\u001b[0;34m\u001b[0m\u001b[0;34m\u001b[0m\u001b[0m\n\u001b[1;32m    786\u001b[0m \u001b[0;34m\u001b[0m\u001b[0m\n",
      "\u001b[0;32m~/opt/anaconda3/lib/python3.7/site-packages/rpy2/robjects/environments.py\u001b[0m in \u001b[0;36mfind\u001b[0;34m(self, item, wantfun)\u001b[0m\n\u001b[1;32m     55\u001b[0m         \"\"\"\n\u001b[1;32m     56\u001b[0m         \u001b[0mres\u001b[0m \u001b[0;34m=\u001b[0m \u001b[0msuper\u001b[0m\u001b[0;34m(\u001b[0m\u001b[0mEnvironment\u001b[0m\u001b[0;34m,\u001b[0m \u001b[0mself\u001b[0m\u001b[0;34m)\u001b[0m\u001b[0;34m.\u001b[0m\u001b[0mfind\u001b[0m\u001b[0;34m(\u001b[0m\u001b[0mitem\u001b[0m\u001b[0;34m,\u001b[0m \u001b[0mwantfun\u001b[0m\u001b[0;34m=\u001b[0m\u001b[0mwantfun\u001b[0m\u001b[0;34m)\u001b[0m\u001b[0;34m\u001b[0m\u001b[0;34m\u001b[0m\u001b[0m\n\u001b[0;32m---> 57\u001b[0;31m         \u001b[0mres\u001b[0m \u001b[0;34m=\u001b[0m \u001b[0mconversion\u001b[0m\u001b[0;34m.\u001b[0m\u001b[0mconverter\u001b[0m\u001b[0;34m.\u001b[0m\u001b[0mrpy2py\u001b[0m\u001b[0;34m(\u001b[0m\u001b[0mres\u001b[0m\u001b[0;34m)\u001b[0m\u001b[0;34m\u001b[0m\u001b[0;34m\u001b[0m\u001b[0m\n\u001b[0m\u001b[1;32m     58\u001b[0m         \u001b[0;31m# TODO: There is a design issue here. The attribute __rname__ is\u001b[0m\u001b[0;34m\u001b[0m\u001b[0;34m\u001b[0m\u001b[0;34m\u001b[0m\u001b[0m\n\u001b[1;32m     59\u001b[0m         \u001b[0;31m# intended to store the symbol name of the R object but this is\u001b[0m\u001b[0;34m\u001b[0m\u001b[0;34m\u001b[0m\u001b[0;34m\u001b[0m\u001b[0m\n",
      "\u001b[0;32m~/opt/anaconda3/lib/python3.7/functools.py\u001b[0m in \u001b[0;36mwrapper\u001b[0;34m(*args, **kw)\u001b[0m\n\u001b[1;32m    838\u001b[0m                             '1 positional argument')\n\u001b[1;32m    839\u001b[0m \u001b[0;34m\u001b[0m\u001b[0m\n\u001b[0;32m--> 840\u001b[0;31m         \u001b[0;32mreturn\u001b[0m \u001b[0mdispatch\u001b[0m\u001b[0;34m(\u001b[0m\u001b[0margs\u001b[0m\u001b[0;34m[\u001b[0m\u001b[0;36m0\u001b[0m\u001b[0;34m]\u001b[0m\u001b[0;34m.\u001b[0m\u001b[0m__class__\u001b[0m\u001b[0;34m)\u001b[0m\u001b[0;34m(\u001b[0m\u001b[0;34m*\u001b[0m\u001b[0margs\u001b[0m\u001b[0;34m,\u001b[0m \u001b[0;34m**\u001b[0m\u001b[0mkw\u001b[0m\u001b[0;34m)\u001b[0m\u001b[0;34m\u001b[0m\u001b[0;34m\u001b[0m\u001b[0m\n\u001b[0m\u001b[1;32m    841\u001b[0m \u001b[0;34m\u001b[0m\u001b[0m\n\u001b[1;32m    842\u001b[0m     \u001b[0mfuncname\u001b[0m \u001b[0;34m=\u001b[0m \u001b[0mgetattr\u001b[0m\u001b[0;34m(\u001b[0m\u001b[0mfunc\u001b[0m\u001b[0;34m,\u001b[0m \u001b[0;34m'__name__'\u001b[0m\u001b[0;34m,\u001b[0m \u001b[0;34m'singledispatch function'\u001b[0m\u001b[0;34m)\u001b[0m\u001b[0;34m\u001b[0m\u001b[0;34m\u001b[0m\u001b[0m\n",
      "\u001b[0;32m~/opt/anaconda3/lib/python3.7/site-packages/rpy2/robjects/pandas2ri.py\u001b[0m in \u001b[0;36mrpy2py_listvector\u001b[0;34m(obj)\u001b[0m\n\u001b[1;32m    208\u001b[0m \u001b[0;32mdef\u001b[0m \u001b[0mrpy2py_listvector\u001b[0m\u001b[0;34m(\u001b[0m\u001b[0mobj\u001b[0m\u001b[0;34m)\u001b[0m\u001b[0;34m:\u001b[0m\u001b[0;34m\u001b[0m\u001b[0;34m\u001b[0m\u001b[0m\n\u001b[1;32m    209\u001b[0m     \u001b[0;32mif\u001b[0m \u001b[0;34m'data.frame'\u001b[0m \u001b[0;32min\u001b[0m \u001b[0mobj\u001b[0m\u001b[0;34m.\u001b[0m\u001b[0mrclass\u001b[0m\u001b[0;34m:\u001b[0m\u001b[0;34m\u001b[0m\u001b[0;34m\u001b[0m\u001b[0m\n\u001b[0;32m--> 210\u001b[0;31m         \u001b[0mres\u001b[0m \u001b[0;34m=\u001b[0m \u001b[0mrpy2py\u001b[0m\u001b[0;34m(\u001b[0m\u001b[0mDataFrame\u001b[0m\u001b[0;34m(\u001b[0m\u001b[0mobj\u001b[0m\u001b[0;34m)\u001b[0m\u001b[0;34m)\u001b[0m\u001b[0;34m\u001b[0m\u001b[0;34m\u001b[0m\u001b[0m\n\u001b[0m\u001b[1;32m    211\u001b[0m     \u001b[0;32melse\u001b[0m\u001b[0;34m:\u001b[0m\u001b[0;34m\u001b[0m\u001b[0;34m\u001b[0m\u001b[0m\n\u001b[1;32m    212\u001b[0m         \u001b[0mres\u001b[0m \u001b[0;34m=\u001b[0m \u001b[0mnumpy2ri\u001b[0m\u001b[0;34m.\u001b[0m\u001b[0mrpy2py\u001b[0m\u001b[0;34m(\u001b[0m\u001b[0mobj\u001b[0m\u001b[0;34m)\u001b[0m\u001b[0;34m\u001b[0m\u001b[0;34m\u001b[0m\u001b[0m\n",
      "\u001b[0;32m~/opt/anaconda3/lib/python3.7/functools.py\u001b[0m in \u001b[0;36mwrapper\u001b[0;34m(*args, **kw)\u001b[0m\n\u001b[1;32m    838\u001b[0m                             '1 positional argument')\n\u001b[1;32m    839\u001b[0m \u001b[0;34m\u001b[0m\u001b[0m\n\u001b[0;32m--> 840\u001b[0;31m         \u001b[0;32mreturn\u001b[0m \u001b[0mdispatch\u001b[0m\u001b[0;34m(\u001b[0m\u001b[0margs\u001b[0m\u001b[0;34m[\u001b[0m\u001b[0;36m0\u001b[0m\u001b[0;34m]\u001b[0m\u001b[0;34m.\u001b[0m\u001b[0m__class__\u001b[0m\u001b[0;34m)\u001b[0m\u001b[0;34m(\u001b[0m\u001b[0;34m*\u001b[0m\u001b[0margs\u001b[0m\u001b[0;34m,\u001b[0m \u001b[0;34m**\u001b[0m\u001b[0mkw\u001b[0m\u001b[0;34m)\u001b[0m\u001b[0;34m\u001b[0m\u001b[0;34m\u001b[0m\u001b[0m\n\u001b[0m\u001b[1;32m    841\u001b[0m \u001b[0;34m\u001b[0m\u001b[0m\n\u001b[1;32m    842\u001b[0m     \u001b[0mfuncname\u001b[0m \u001b[0;34m=\u001b[0m \u001b[0mgetattr\u001b[0m\u001b[0;34m(\u001b[0m\u001b[0mfunc\u001b[0m\u001b[0;34m,\u001b[0m \u001b[0;34m'__name__'\u001b[0m\u001b[0;34m,\u001b[0m \u001b[0;34m'singledispatch function'\u001b[0m\u001b[0;34m)\u001b[0m\u001b[0;34m\u001b[0m\u001b[0;34m\u001b[0m\u001b[0m\n",
      "\u001b[0;32m~/opt/anaconda3/lib/python3.7/site-packages/rpy2/robjects/pandas2ri.py\u001b[0m in \u001b[0;36mrpy2py_dataframe\u001b[0;34m(obj)\u001b[0m\n\u001b[1;32m    217\u001b[0m \u001b[0;32mdef\u001b[0m \u001b[0mrpy2py_dataframe\u001b[0m\u001b[0;34m(\u001b[0m\u001b[0mobj\u001b[0m\u001b[0;34m)\u001b[0m\u001b[0;34m:\u001b[0m\u001b[0;34m\u001b[0m\u001b[0;34m\u001b[0m\u001b[0m\n\u001b[1;32m    218\u001b[0m     items = OrderedDict((k, rpy2py(v) if isinstance(v, Sexp) else v)\n\u001b[0;32m--> 219\u001b[0;31m                         for k, v in obj.items())\n\u001b[0m\u001b[1;32m    220\u001b[0m     \u001b[0mres\u001b[0m \u001b[0;34m=\u001b[0m \u001b[0mPandasDataFrame\u001b[0m\u001b[0;34m.\u001b[0m\u001b[0mfrom_dict\u001b[0m\u001b[0;34m(\u001b[0m\u001b[0mitems\u001b[0m\u001b[0;34m)\u001b[0m\u001b[0;34m\u001b[0m\u001b[0;34m\u001b[0m\u001b[0m\n\u001b[1;32m    221\u001b[0m     \u001b[0mres\u001b[0m\u001b[0;34m.\u001b[0m\u001b[0mindex\u001b[0m \u001b[0;34m=\u001b[0m \u001b[0mobj\u001b[0m\u001b[0;34m.\u001b[0m\u001b[0mrownames\u001b[0m\u001b[0;34m\u001b[0m\u001b[0;34m\u001b[0m\u001b[0m\n",
      "\u001b[0;32m~/opt/anaconda3/lib/python3.7/site-packages/rpy2/robjects/pandas2ri.py\u001b[0m in \u001b[0;36m<genexpr>\u001b[0;34m(.0)\u001b[0m\n\u001b[1;32m    216\u001b[0m \u001b[0;34m@\u001b[0m\u001b[0mrpy2py\u001b[0m\u001b[0;34m.\u001b[0m\u001b[0mregister\u001b[0m\u001b[0;34m(\u001b[0m\u001b[0mDataFrame\u001b[0m\u001b[0;34m)\u001b[0m\u001b[0;34m\u001b[0m\u001b[0;34m\u001b[0m\u001b[0m\n\u001b[1;32m    217\u001b[0m \u001b[0;32mdef\u001b[0m \u001b[0mrpy2py_dataframe\u001b[0m\u001b[0;34m(\u001b[0m\u001b[0mobj\u001b[0m\u001b[0;34m)\u001b[0m\u001b[0;34m:\u001b[0m\u001b[0;34m\u001b[0m\u001b[0;34m\u001b[0m\u001b[0m\n\u001b[0;32m--> 218\u001b[0;31m     items = OrderedDict((k, rpy2py(v) if isinstance(v, Sexp) else v)\n\u001b[0m\u001b[1;32m    219\u001b[0m                         for k, v in obj.items())\n\u001b[1;32m    220\u001b[0m     \u001b[0mres\u001b[0m \u001b[0;34m=\u001b[0m \u001b[0mPandasDataFrame\u001b[0m\u001b[0;34m.\u001b[0m\u001b[0mfrom_dict\u001b[0m\u001b[0;34m(\u001b[0m\u001b[0mitems\u001b[0m\u001b[0;34m)\u001b[0m\u001b[0;34m\u001b[0m\u001b[0;34m\u001b[0m\u001b[0m\n",
      "\u001b[0;32m~/opt/anaconda3/lib/python3.7/site-packages/rpy2/robjects/vectors.py\u001b[0m in \u001b[0;36mitems\u001b[0;34m(self)\u001b[0m\n\u001b[1;32m    292\u001b[0m             \u001b[0mit_names\u001b[0m \u001b[0;34m=\u001b[0m \u001b[0miter\u001b[0m\u001b[0;34m(\u001b[0m\u001b[0mself\u001b[0m\u001b[0;34m.\u001b[0m\u001b[0mnames\u001b[0m\u001b[0;34m)\u001b[0m\u001b[0;34m\u001b[0m\u001b[0;34m\u001b[0m\u001b[0m\n\u001b[1;32m    293\u001b[0m         \u001b[0mit_self\u001b[0m \u001b[0;34m=\u001b[0m \u001b[0miter\u001b[0m\u001b[0;34m(\u001b[0m\u001b[0mself\u001b[0m\u001b[0;34m)\u001b[0m\u001b[0;34m\u001b[0m\u001b[0;34m\u001b[0m\u001b[0m\n\u001b[0;32m--> 294\u001b[0;31m         \u001b[0;32mfor\u001b[0m \u001b[0mv\u001b[0m\u001b[0;34m,\u001b[0m \u001b[0mk\u001b[0m \u001b[0;32min\u001b[0m \u001b[0mzip\u001b[0m\u001b[0;34m(\u001b[0m\u001b[0mit_self\u001b[0m\u001b[0;34m,\u001b[0m \u001b[0mit_names\u001b[0m\u001b[0;34m)\u001b[0m\u001b[0;34m:\u001b[0m\u001b[0;34m\u001b[0m\u001b[0;34m\u001b[0m\u001b[0m\n\u001b[0m\u001b[1;32m    295\u001b[0m             \u001b[0;32myield\u001b[0m \u001b[0;34m(\u001b[0m\u001b[0mk\u001b[0m\u001b[0;34m,\u001b[0m \u001b[0mv\u001b[0m\u001b[0;34m)\u001b[0m\u001b[0;34m\u001b[0m\u001b[0;34m\u001b[0m\u001b[0m\n\u001b[1;32m    296\u001b[0m \u001b[0;34m\u001b[0m\u001b[0m\n",
      "\u001b[0;32m~/opt/anaconda3/lib/python3.7/site-packages/rpy2/robjects/vectors.py\u001b[0m in \u001b[0;36m__getitem__\u001b[0;34m(self, i)\u001b[0m\n\u001b[1;32m   1305\u001b[0m             \u001b[0;32mreturn\u001b[0m \u001b[0mDataFrame\u001b[0m\u001b[0;34m(\u001b[0m\u001b[0mtmp\u001b[0m\u001b[0;34m)\u001b[0m\u001b[0;34m\u001b[0m\u001b[0;34m\u001b[0m\u001b[0m\n\u001b[1;32m   1306\u001b[0m         \u001b[0;32melse\u001b[0m\u001b[0;34m:\u001b[0m\u001b[0;34m\u001b[0m\u001b[0;34m\u001b[0m\u001b[0m\n\u001b[0;32m-> 1307\u001b[0;31m             \u001b[0;32mreturn\u001b[0m \u001b[0mconversion\u001b[0m\u001b[0;34m.\u001b[0m\u001b[0mrpy2py\u001b[0m\u001b[0;34m(\u001b[0m\u001b[0mtmp\u001b[0m\u001b[0;34m)\u001b[0m\u001b[0;34m\u001b[0m\u001b[0;34m\u001b[0m\u001b[0m\n\u001b[0m\u001b[1;32m   1308\u001b[0m \u001b[0;34m\u001b[0m\u001b[0m\n\u001b[1;32m   1309\u001b[0m     \u001b[0;32mdef\u001b[0m \u001b[0mcbind\u001b[0m\u001b[0;34m(\u001b[0m\u001b[0mself\u001b[0m\u001b[0;34m,\u001b[0m \u001b[0;34m*\u001b[0m\u001b[0margs\u001b[0m\u001b[0;34m,\u001b[0m \u001b[0;34m**\u001b[0m\u001b[0mkwargs\u001b[0m\u001b[0;34m)\u001b[0m\u001b[0;34m:\u001b[0m\u001b[0;34m\u001b[0m\u001b[0;34m\u001b[0m\u001b[0m\n",
      "\u001b[0;32m~/opt/anaconda3/lib/python3.7/functools.py\u001b[0m in \u001b[0;36mwrapper\u001b[0;34m(*args, **kw)\u001b[0m\n\u001b[1;32m    838\u001b[0m                             '1 positional argument')\n\u001b[1;32m    839\u001b[0m \u001b[0;34m\u001b[0m\u001b[0m\n\u001b[0;32m--> 840\u001b[0;31m         \u001b[0;32mreturn\u001b[0m \u001b[0mdispatch\u001b[0m\u001b[0;34m(\u001b[0m\u001b[0margs\u001b[0m\u001b[0;34m[\u001b[0m\u001b[0;36m0\u001b[0m\u001b[0;34m]\u001b[0m\u001b[0;34m.\u001b[0m\u001b[0m__class__\u001b[0m\u001b[0;34m)\u001b[0m\u001b[0;34m(\u001b[0m\u001b[0;34m*\u001b[0m\u001b[0margs\u001b[0m\u001b[0;34m,\u001b[0m \u001b[0;34m**\u001b[0m\u001b[0mkw\u001b[0m\u001b[0;34m)\u001b[0m\u001b[0;34m\u001b[0m\u001b[0;34m\u001b[0m\u001b[0m\n\u001b[0m\u001b[1;32m    841\u001b[0m \u001b[0;34m\u001b[0m\u001b[0m\n\u001b[1;32m    842\u001b[0m     \u001b[0mfuncname\u001b[0m \u001b[0;34m=\u001b[0m \u001b[0mgetattr\u001b[0m\u001b[0;34m(\u001b[0m\u001b[0mfunc\u001b[0m\u001b[0;34m,\u001b[0m \u001b[0;34m'__name__'\u001b[0m\u001b[0;34m,\u001b[0m \u001b[0;34m'singledispatch function'\u001b[0m\u001b[0;34m)\u001b[0m\u001b[0;34m\u001b[0m\u001b[0;34m\u001b[0m\u001b[0m\n",
      "\u001b[0;32m~/opt/anaconda3/lib/python3.7/site-packages/rpy2/robjects/pandas2ri.py\u001b[0m in \u001b[0;36mri2py_vector\u001b[0;34m(obj)\u001b[0m\n\u001b[1;32m    172\u001b[0m \u001b[0;34m@\u001b[0m\u001b[0mrpy2py\u001b[0m\u001b[0;34m.\u001b[0m\u001b[0mregister\u001b[0m\u001b[0;34m(\u001b[0m\u001b[0mSexpVector\u001b[0m\u001b[0;34m)\u001b[0m\u001b[0;34m\u001b[0m\u001b[0;34m\u001b[0m\u001b[0m\n\u001b[1;32m    173\u001b[0m \u001b[0;32mdef\u001b[0m \u001b[0mri2py_vector\u001b[0m\u001b[0;34m(\u001b[0m\u001b[0mobj\u001b[0m\u001b[0;34m)\u001b[0m\u001b[0;34m:\u001b[0m\u001b[0;34m\u001b[0m\u001b[0;34m\u001b[0m\u001b[0m\n\u001b[0;32m--> 174\u001b[0;31m     \u001b[0mres\u001b[0m \u001b[0;34m=\u001b[0m \u001b[0mnumpy2ri\u001b[0m\u001b[0;34m.\u001b[0m\u001b[0mrpy2py\u001b[0m\u001b[0;34m(\u001b[0m\u001b[0mobj\u001b[0m\u001b[0;34m)\u001b[0m\u001b[0;34m\u001b[0m\u001b[0;34m\u001b[0m\u001b[0m\n\u001b[0m\u001b[1;32m    175\u001b[0m     \u001b[0;32mreturn\u001b[0m \u001b[0mres\u001b[0m\u001b[0;34m\u001b[0m\u001b[0;34m\u001b[0m\u001b[0m\n\u001b[1;32m    176\u001b[0m \u001b[0;34m\u001b[0m\u001b[0m\n",
      "\u001b[0;32m~/opt/anaconda3/lib/python3.7/functools.py\u001b[0m in \u001b[0;36mwrapper\u001b[0;34m(*args, **kw)\u001b[0m\n\u001b[1;32m    838\u001b[0m                             '1 positional argument')\n\u001b[1;32m    839\u001b[0m \u001b[0;34m\u001b[0m\u001b[0m\n\u001b[0;32m--> 840\u001b[0;31m         \u001b[0;32mreturn\u001b[0m \u001b[0mdispatch\u001b[0m\u001b[0;34m(\u001b[0m\u001b[0margs\u001b[0m\u001b[0;34m[\u001b[0m\u001b[0;36m0\u001b[0m\u001b[0;34m]\u001b[0m\u001b[0;34m.\u001b[0m\u001b[0m__class__\u001b[0m\u001b[0;34m)\u001b[0m\u001b[0;34m(\u001b[0m\u001b[0;34m*\u001b[0m\u001b[0margs\u001b[0m\u001b[0;34m,\u001b[0m \u001b[0;34m**\u001b[0m\u001b[0mkw\u001b[0m\u001b[0;34m)\u001b[0m\u001b[0;34m\u001b[0m\u001b[0;34m\u001b[0m\u001b[0m\n\u001b[0m\u001b[1;32m    841\u001b[0m \u001b[0;34m\u001b[0m\u001b[0m\n\u001b[1;32m    842\u001b[0m     \u001b[0mfuncname\u001b[0m \u001b[0;34m=\u001b[0m \u001b[0mgetattr\u001b[0m\u001b[0;34m(\u001b[0m\u001b[0mfunc\u001b[0m\u001b[0;34m,\u001b[0m \u001b[0;34m'__name__'\u001b[0m\u001b[0;34m,\u001b[0m \u001b[0;34m'singledispatch function'\u001b[0m\u001b[0;34m)\u001b[0m\u001b[0;34m\u001b[0m\u001b[0;34m\u001b[0m\u001b[0m\n",
      "\u001b[0;32m~/opt/anaconda3/lib/python3.7/site-packages/rpy2/robjects/numpy2ri.py\u001b[0m in \u001b[0;36mrpy2py_sexp\u001b[0;34m(obj)\u001b[0m\n\u001b[1;32m    170\u001b[0m \u001b[0;32mdef\u001b[0m \u001b[0mrpy2py_sexp\u001b[0m\u001b[0;34m(\u001b[0m\u001b[0mobj\u001b[0m\u001b[0;34m)\u001b[0m\u001b[0;34m:\u001b[0m\u001b[0;34m\u001b[0m\u001b[0;34m\u001b[0m\u001b[0m\n\u001b[1;32m    171\u001b[0m     \u001b[0;32mif\u001b[0m \u001b[0;34m(\u001b[0m\u001b[0mobj\u001b[0m\u001b[0;34m.\u001b[0m\u001b[0mtypeof\u001b[0m \u001b[0;32min\u001b[0m \u001b[0m_vectortypes\u001b[0m\u001b[0;34m)\u001b[0m \u001b[0;32mand\u001b[0m \u001b[0;34m(\u001b[0m\u001b[0mobj\u001b[0m\u001b[0;34m.\u001b[0m\u001b[0mtypeof\u001b[0m \u001b[0;34m!=\u001b[0m \u001b[0mRTYPES\u001b[0m\u001b[0;34m.\u001b[0m\u001b[0mVECSXP\u001b[0m\u001b[0;34m)\u001b[0m\u001b[0;34m:\u001b[0m\u001b[0;34m\u001b[0m\u001b[0;34m\u001b[0m\u001b[0m\n\u001b[0;32m--> 172\u001b[0;31m         \u001b[0mres\u001b[0m \u001b[0;34m=\u001b[0m \u001b[0mnumpy\u001b[0m\u001b[0;34m.\u001b[0m\u001b[0marray\u001b[0m\u001b[0;34m(\u001b[0m\u001b[0mobj\u001b[0m\u001b[0;34m)\u001b[0m\u001b[0;34m\u001b[0m\u001b[0;34m\u001b[0m\u001b[0m\n\u001b[0m\u001b[1;32m    173\u001b[0m     \u001b[0;32melse\u001b[0m\u001b[0;34m:\u001b[0m\u001b[0;34m\u001b[0m\u001b[0;34m\u001b[0m\u001b[0m\n\u001b[1;32m    174\u001b[0m         \u001b[0mres\u001b[0m \u001b[0;34m=\u001b[0m \u001b[0mro\u001b[0m\u001b[0;34m.\u001b[0m\u001b[0mdefault_converter\u001b[0m\u001b[0;34m.\u001b[0m\u001b[0mrpy2py\u001b[0m\u001b[0;34m(\u001b[0m\u001b[0mobj\u001b[0m\u001b[0;34m)\u001b[0m\u001b[0;34m\u001b[0m\u001b[0;34m\u001b[0m\u001b[0m\n",
      "\u001b[0;31mKeyboardInterrupt\u001b[0m: "
     ]
    }
   ],
   "source": [
    "%%R -o tripReports -o tripReports.long\n",
    "# ^ export tripReports and tripReports.long for use in python environment\n",
    "# https://stackoverflow.com/questions/55841165/share-variables-between-r-and-python-in-jupyternotebook\n",
    "\n",
    "### create long data format, using report, title, substance, substance.unique_label as id variables\n",
    "# glimpse(tripReports)\n",
    "tripReports.long <- reshape2::melt(tripReports)\n",
    "\n",
    "### validate the long data format\n",
    "tripReports.long %>% select(-report) %>% group_by(title) %>% summarize(n()) %>% head()\n",
    "# glimpse(tripReports.long)\n",
    "# glimpse(tripReports)\n"
   ]
  },
  {
   "cell_type": "code",
   "execution_count": 0,
   "metadata": {
    "colab": {},
    "colab_type": "code",
    "collapsed": true,
    "id": "4vrUNeOiMFOC"
   },
   "outputs": [],
   "source": [
    "## Prepare a few substances lists for use\n",
    "\n",
    "# a list of all the substances we want word clouds for\n",
    "substances_all_list = pd_tripReports.loc[:, 'substance_mushrooms':'substance_syrian_rue'].columns.tolist()\n",
    "# [ 'mushrooms', 'lsd', 'cannabis', ... etc] for use as stopwords\n",
    "substances_all_plainstring_list = [substance.replace(\"substance_\", \"\") for substance in substances_all_list]\n",
    "\n",
    "# TODO: Prepare regexes to match with all the observed spellings of different substances"
   ]
  },
  {
   "cell_type": "code",
   "execution_count": 0,
   "metadata": {
    "colab": {},
    "colab_type": "code",
    "collapsed": true,
    "id": "5oxjG3Z0MFOD"
   },
   "outputs": [],
   "source": [
    "#### Get the text for interested substances\n",
    "# a dictionary mapping {substance_<name> : text}\n",
    "reports_text = {}\n",
    "# Concatenate with \" \" by default, TODO: Can specify separator as such: str.cat(sep=\"...\")\n",
    "for substance in substances_all_list:\n",
    "    reports_text[substance] = pd_tripReports.query(\"{} == 1\".format(substance))[\"report\"].str.cat().lower()"
   ]
  },
  {
   "cell_type": "code",
   "execution_count": 0,
   "metadata": {
    "colab": {},
    "colab_type": "code",
    "collapsed": true,
    "id": "8rtS2tNkMFOG",
    "outputId": "9d018895-2ef7-4aa7-b051-326bc805069f"
   },
   "outputs": [
    {
     "data": {
      "text/plain": [
       "['an upper',\n",
       " 'base',\n",
       " 'bath salt',\n",
       " 'dream herbal incense)',\n",
       " 'ecstasy (unknown',\n",
       " 'indian leaf',\n",
       " 'london underground dream)',\n",
       " 'magic silver',\n",
       " 'sensory deprivation',\n",
       " 'white rock opium',\n",
       " '(15x extract)',\n",
       " '(2c-t-7',\n",
       " '(amt + mdma)',\n",
       " '(amt + methamphetamine)',\n",
       " '(hydrocodone',\n",
       " '(methyl',\n",
       " '(quetiapine) seroquel',\n",
       " '1',\n",
       " '1 soma',\n",
       " '1-4 butanediol',\n",
       " '10x',\n",
       " '10x extract)',\n",
       " '10x extracts)',\n",
       " '15x extracts)',\n",
       " '19-norandrostenedione (nor-19)',\n",
       " '2-aminoindan',\n",
       " '2-aminoindan (im)',\n",
       " '2-c-t-2',\n",
       " '2-cb',\n",
       " '2-cd']"
      ]
     },
     "execution_count": 102,
     "metadata": {
      "tags": []
     },
     "output_type": "execute_result"
    }
   ],
   "source": [
    "# OPTIONAL\n",
    "# Lammatization\n",
    "# TODO"
   ]
  },
  {
   "cell_type": "code",
   "execution_count": 0,
   "metadata": {
    "colab": {},
    "colab_type": "code",
    "collapsed": true,
    "id": "36Aije6-MFOI"
   },
   "outputs": [],
   "source": []
  },
  {
   "cell_type": "markdown",
   "metadata": {
    "colab_type": "text",
    "id": "LTOARHJbMFON"
   },
   "source": [
    "#### 1.1.3.2 Wordclouds Based on `tf-idf`\n",
    "\n",
    "\n"
   ]
  },
  {
   "cell_type": "code",
   "execution_count": 0,
   "metadata": {
    "colab": {},
    "colab_type": "code",
    "collapsed": true,
    "id": "PQksxl5nMFOO"
   },
   "outputs": [],
   "source": [
    "# TODO: Replace numbers from corpus\n"
   ]
  },
  {
   "cell_type": "markdown",
   "metadata": {
    "colab_type": "text",
    "id": "8kpVxw5uMFOP"
   },
   "source": [
    "##### 1.1.3.2.1 `tfidf wordclouds` >>> Using only 19 different documents\n",
    "\n",
    "We first group all the reports for a particular substance into one document, for a total of 19 documents or `samples`. Under this schema, each substance has precisely one document, which is the concatenation of all the reports corresponding to that substance. Note that there are concerns with doing this, as `idf` typically assumes a large number of documents in the corpora; we will explore an alternative approach later"
   ]
  },
  {
   "cell_type": "code",
   "execution_count": 0,
   "metadata": {
    "colab": {},
    "colab_type": "code",
    "collapsed": true,
    "id": "u3XfgAtIMFOP",
    "scrolled": true
   },
   "outputs": [],
   "source": [
    "## See TFidfVectorizer docs: https://scikit-learn.org/stable/modules/generated/sklearn.feature_extraction.text.TfidfVectorizer.html\n",
    "\n",
    "from sklearn.feature_extraction.text import TfidfVectorizer\n",
    "from scipy.sparse.csr import csr_matrix # need this if we want to save tfidf_matrix; see https://stackoverflow.com/questions/34449127/sklearn-tfidf-transformer-how-to-get-tf-idf-values-of-given-words-in-documen\n",
    "\n",
    "\n",
    "# NOTE: reports_text_tokenized stores the tokenized corpus\n",
    "# List of substances under consideration, sorted to preserve alphabetical ordering\n",
    "substances_list_sorted = sorted(list(reports_text_tokenized.keys()))\n",
    "substances_list_sorted\n",
    "\n",
    "# TfidfVectorizer expects a list of strings, so we prepare the corpus in the appropriate format\n",
    "corpus_psychedelics_sorted = []\n",
    "for substance in substances_list_sorted:\n",
    "    corpus_psychedelics_sorted.append(reports_text_tokenized[substance])"
   ]
  },
  {
   "cell_type": "markdown",
   "metadata": {
    "colab_type": "text",
    "id": "F102xSaeMFOR"
   },
   "source": [
    "Notes on the specification of TfidfVectorizer; additional information found in [documentation](https://scikit-learn.org/stable/modules/generated/sklearn.feature_extraction.text.TfidfVectorizer.html)\n",
    "- `strip_accents=ascii` helps us strip accented characters such as `á` to `a`\n",
    "- `lowercase=True`: automatically converts all the text to lowercase\n",
    "- `analyzer=word`: considers words as the basic unigram unit; we can also do a character level model with `char`\n",
    "- `stop_words=english`: uses built in stopwords given by `sklearn`; Follow these [instructions](https://awhan.wordpress.com/2016/06/05/scikit-learn-nlp-list-english-stopwords/) to view all the stopwords for `sklearn` and `nltk`\n",
    "- `ngram_range=(1, 1)`: setting to (1, 1) gives us unigrams. For bigrams and trigrams, we use (1, 2) and (1, 3) respectively\n",
    "- `max_df=1.0`: using the float `1.0` sets the maximum document frequency to 100\\% of the documents\n",
    "- `min_df=1`: ignores all words with document frequency less than 1\n",
    "- `max_features=None`: Don't put a cap on the number of features\n",
    "- `binary=False`: Use the tf counts, instead of setting all non-zero counts to 1\n",
    "- `dtype=float64`: Default datatype for tf-idf values\n",
    "- `norm=l2`: uses the L2 norm for each row of tf-idf values, so each row sums to 1\n",
    "- `use_idf=True`: use idf weighting (instead of just tf)\n",
    "- `smooth_idf=True`: this is akin to laplace smoothing, and helps us prevent 0 divisions\n",
    "- `sublinear_tf=False`: Do not replace tf with 1 + log(tf)"
   ]
  },
  {
   "cell_type": "code",
   "execution_count": 0,
   "metadata": {
    "colab": {},
    "colab_type": "code",
    "collapsed": true,
    "id": "YJB7M35FMFOR",
    "outputId": "49e27919-80f9-4c57-d212-711466d1aec4"
   },
   "outputs": [
    {
     "name": "stderr",
     "output_type": "stream",
     "text": [
      "/Users/alextzhao/opt/anaconda3/lib/python3.7/site-packages/sklearn/feature_extraction/text.py:1616: UserWarning: Only (<class 'numpy.float64'>, <class 'numpy.float32'>, <class 'numpy.float16'>) 'dtype' should be used. float64 'dtype' will be converted to np.float64.\n",
      "  UserWarning)\n"
     ]
    }
   ],
   "source": [
    "# create and use a TfidfVectorizer\n",
    "# We specify explicitly the parameters used, even for defaults, in order to be precise with our assumptions\n",
    "# and for reproducibity\n",
    "# note: sklearn by default throws away punctuations; we accept this as we are not performing sentiment analysis\n",
    "# and related tasks where punctuations may be highly informative\n",
    "\n",
    "# https://kavita-ganesan.com/tfidftransformer-tfidfvectorizer-usage-differences/#.XeLZRzJKjmE\n",
    "vectorizer_tfidf = TfidfVectorizer(strip_accents='ascii',\n",
    "                                  lowercase=True,\n",
    "                                  analyzer='word',\n",
    "                                  stop_words='english',\n",
    "                                  ngram_range=(1, 1),\n",
    "                                  max_df=1.0,\n",
    "                                  min_df=1,\n",
    "                                  max_features=None,\n",
    "                                  vocabulary=None,\n",
    "                                  binary=False,\n",
    "                                  dtype='float64',\n",
    "                                  norm='l2',\n",
    "                                  use_idf=True,\n",
    "                                  smooth_idf=True,\n",
    "                                  sublinear_tf=False)\n",
    "\n",
    "X_vectors_tfidf = vectorizer_tfidf.fit_transform(corpus_psychedelics_sorted)\n",
    "# vectorizer_tfidf.get_feature_names()\n"
   ]
  },
  {
   "cell_type": "code",
   "execution_count": 0,
   "metadata": {
    "colab": {},
    "colab_type": "code",
    "collapsed": true,
    "id": "TTCjIB42MFOT",
    "outputId": "98e3b199-50f3-47c9-c933-7f4b385b018d"
   },
   "outputs": [
    {
     "data": {
      "text/plain": [
       "['substance_5_meo_dmt',\n",
       " 'substance_alcohol',\n",
       " 'substance_ayahuasca',\n",
       " 'substance_cannabis',\n",
       " 'substance_dmt',\n",
       " 'substance_ibogaine',\n",
       " 'substance_kava',\n",
       " 'substance_ketamine',\n",
       " 'substance_kratom',\n",
       " 'substance_lsd',\n",
       " 'substance_mdma',\n",
       " 'substance_mescaline',\n",
       " 'substance_methamphetamine',\n",
       " 'substance_morning_glory',\n",
       " 'substance_mushrooms',\n",
       " 'substance_nitrous_oxide',\n",
       " 'substance_pcp',\n",
       " 'substance_salvia',\n",
       " 'substance_syrian_rue']"
      ]
     },
     "execution_count": 16,
     "metadata": {
      "tags": []
     },
     "output_type": "execute_result"
    }
   ],
   "source": [
    "# Take a look again at the sorted ordering of the substances\n",
    "substances_list_sorted"
   ]
  },
  {
   "cell_type": "code",
   "execution_count": 0,
   "metadata": {
    "colab": {},
    "colab_type": "code",
    "collapsed": true,
    "id": "WMj4kXK5MFOV"
   },
   "outputs": [],
   "source": [
    "# helper functions to extract keywords from documents\n",
    "# from http://kavita-ganesan.com/extracting-keywords-from-text-tfidf/#.XeLcAzJKjmE\n",
    "def sort_coo(coo_matrix):\n",
    "    tuples = zip(coo_matrix.col, coo_matrix.data)\n",
    "    return sorted(tuples, key=lambda x: (x[1], x[0]), reverse=True)\n",
    " \n",
    "def extract_topn_from_vector(feature_names, sorted_items, topn=10):\n",
    "    \"\"\"get the feature names and tf-idf score of top n items\"\"\"\n",
    "    \n",
    "    #use only topn items from vector\n",
    "    sorted_items = sorted_items[:topn]\n",
    " \n",
    "    score_vals = []\n",
    "    feature_vals = []\n",
    "    \n",
    "    # word index and corresponding tf-idf score\n",
    "    for idx, score in sorted_items:\n",
    "        \n",
    "        #keep track of feature name and its corresponding score\n",
    "        score_vals.append(round(score, 3))\n",
    "        feature_vals.append(feature_names[idx])\n",
    " \n",
    "    #create a tuples of feature,score\n",
    "    #results = zip(feature_vals,score_vals)\n",
    "    results= {}\n",
    "    for idx in range(len(feature_vals)):\n",
    "        results[feature_vals[idx]]=score_vals[idx]\n",
    "    \n",
    "    return results"
   ]
  },
  {
   "cell_type": "code",
   "execution_count": 0,
   "metadata": {
    "colab": {},
    "colab_type": "code",
    "id": "j9wcJFmyMFOX",
    "outputId": "e9f58737-a328-4562-9bb7-503419fde361"
   },
   "outputs": [
    {
     "name": "stdout",
     "output_type": "stream",
     "text": [
      "\n",
      "=====Doc=====\n",
      "\n",
      "===Keywords===\n",
      "seeds 0.381\n",
      "time 0.286\n",
      "experience 0.282\n",
      "felt 0.284\n"
     ]
    }
   ],
   "source": [
    "# Tutorial on how to extract key words based on tf-idf: http://kavita-ganesan.com/extracting-keywords-from-text-tfidf/#.XeLcAzJKjmE\n",
    "\n",
    "# Using the tf-idf frequencies\n",
    "feature_names_tfidf = vectorizer_tfidf.get_feature_names()\n",
    "\n",
    "\n",
    "\n",
    "\n",
    "\n",
    "\n",
    "\n",
    "sorted_items=sort_coo(X_vectors_tfidf.tocoo())\n",
    "\n",
    "#extract only the top n; n here is 10\n",
    "keywords=extract_topn_from_vector(feature_names_tfidf,sorted_items,10)\n",
    " \n",
    "# now print the results\n",
    "print(\"\\n=====Doc=====\")\n",
    "# print(doc[:1000])\n",
    "print(\"\\n===Keywords===\")\n",
    "for k in keywords:\n",
    "    print(k,keywords[k])\n",
    "\n",
    "    \n",
    "# # get the first vector out (for the first document)\n",
    "# first_vector_tfidfvectorizer= X_vectors_tfidf[0]\n",
    " \n",
    "# # place tf-idf values in a pandas data frame\n",
    "# df = pd.DataFrame(first_vector_tfidfvectorizer.T.todense(), index=feature_names_tfidf, columns=[\"tfidf\"])\n",
    "# df.sort_values(by=[\"tfidf\"],ascending=False)"
   ]
  },
  {
   "cell_type": "markdown",
   "metadata": {
    "colab_type": "text",
    "id": "q7cnmnuKMFOY"
   },
   "source": [
    "##### Sidebar: Some Interesting Observations from `Tfidfvectorizer` output\n",
    "It's interesting to note that looking at the Tfidfvectorizer feature_names, we see many numbers. These numbers either stand alone or are followed by units and quantifiers.  ,  \n",
    "\n",
    "These units seem to be used to specify multiple types of quantities, such as:\n",
    "- weight (that of substance ingested or user): \n",
    "    - 'c', 'g', 'gm', 'gram', 'grams', 'lbs', 'mcg', 'mg', 'microgram', 'mics', 'o', 'oz', 'pounds', 'ug'\n",
    "- volume or length\n",
    "    - 'cc', 'cm', 'cup', 'ft', 'i', 'inch', 'iu', 'kg', 'kgs', 'meters', 'metres', 'mile', 'miles', 'ml', 'sq', 'tbs', 'tbsp', 'yards'\n",
    "- time or time period\n",
    "    - \"'s' (e.g.: in 'the 1990s')\", 'XXhXXm', 'am', 'hours', 'hr', 'min', 'minute', 'pm', 'sec'\n",
    "- user age\n",
    "    - 'day', 'y', 'yo', 'yr'\n",
    "- scales and dimensions\n",
    "    - \"'5x' (e.g.: 5x salvia extract)\", '1x15', '1x50mg'\n",
    "- addresses\n",
    "    - \"st\"\n",
    "- speed\n",
    "    - \"mph\"\n",
    "- numerical quantification\n",
    "    - \"'strips' (e.g.: number of lsd strips)\", \"'ths' (as in 100ths times)\", 'nd', 'th'\n",
    "- sound information\n",
    "    - 'bpm', 'bps', 'hz'\n",
    "\n",
    "A closer examination of this numberical data may yield very interesting information about user demographics, set and setting, and dosage. All of this may be extremely valuable since dosage, set and setting, are among the most important factors in determining one's subjective experience when consuming a drug, and demographics may be correlated with the valence of a particular experience."
   ]
  },
  {
   "cell_type": "code",
   "execution_count": 0,
   "metadata": {
    "colab": {},
    "colab_type": "code",
    "collapsed": true,
    "id": "HZtlSYrTMFOY"
   },
   "outputs": [],
   "source": [
    "# TODO: Extension - extracting bigrams and trigrams"
   ]
  },
  {
   "cell_type": "markdown",
   "metadata": {
    "colab_type": "text",
    "id": "QgnFTQp7MFOa"
   },
   "source": [
    "##### 1.1.3.2.2 TODO: `tfidf wordclouds` >>> using all documents separately with multilabel\n",
    "\n",
    "TODO: How do we handle multilabels"
   ]
  },
  {
   "cell_type": "markdown",
   "metadata": {
    "colab_type": "text",
    "id": "n3CtZ1_FMFOb"
   },
   "source": [
    "### 1.1.4: (For Fun) Creating custom word cloud masks\n",
    "\n",
    "To make the wordclouds more interesting, we can add custom image masks to the wordclouds, as inspired by [this article](https://towardsdatascience.com/creating-word-clouds-with-python-f2077c8de5cc), [this tutorial](https://www.datacamp.com/community/tutorials/wordcloud-python), and `wordcloud` package [documentation](http://amueller.github.io/word_cloud/generated/wordcloud.WordCloud.html)"
   ]
  },
  {
   "cell_type": "code",
   "execution_count": 0,
   "metadata": {
    "colab": {},
    "colab_type": "code",
    "collapsed": true,
    "id": "2bX4sIatMFOb",
    "outputId": "ac15eb7f-c79d-4929-f7ac-69155d7fc298"
   },
   "outputs": [
    {
     "data": {
      "image/png": "[encoded data removed]",
      "text/plain": [
       "<Figure size 1440x1440 with 1 Axes>"
      ]
     },
     "metadata": {
      "needs_background": "light",
      "tags": []
     },
     "output_type": "display_data"
    }
   ],
   "source": [
    "## Plot wordcloud with image mask\n",
    "# Make sure white parts are 255 instead of 0, as per: https://www.datacamp.com/community/tutorials/wordcloud-python\n",
    "# TODO: Why is the wordcloud blurry, and why can I not get the mask to work appropriately?\n",
    "def transform_format(val):\n",
    "    if val == 0: return 255\n",
    "    else: return val\n",
    "    \n",
    "mask_mushroom = np.array(Image.open(\"images/util_mushroom_vector_mask.png\"))\n",
    "# vectorization of transform_format function above; invert the mask to be in the right format\n",
    "mask_mushroom[mask_mushroom > 240] = 30\n",
    "mask_mushroom[mask_mushroom == 0] = 255\n",
    "mask_mushroom\n",
    "\n",
    "#plot a mushroom wordmap about mushrooms\n",
    "#increase \"resolution\": https://stackoverflow.com/questions/28786534/increase-resolution-with-word-cloud-and-remove-empty-border\n",
    "\n",
    "# wordcloud_mushroom_masked = WordCloud(width=1000, height=10000, stopwords=stopword_list, mask=mask_mushroom, max_font_size=50, max_words=100, background_color=\"black\").generate(reports_text_tokenized[\"substance_mushrooms\"])\n",
    "wordcloud_mushroom_masked = WordCloud(max_font_size=50, max_words=100, mask=mask_mushroom, stopwords=stopword_list, background_color=\"white\").generate(reports_text_tokenized[\"substance_mushrooms\"])\n",
    "\n",
    "plt.figure(figsize=(20, 20))\n",
    "plt.imshow(wordcloud_mushroom_masked, interpolation=\"bilinear\")\n",
    "plt.axis(\"off\")\n",
    "\n",
    "plt.savefig('wordcloud_naive_mushroom_masked')\n",
    "plt.show()\n"
   ]
  },
  {
   "cell_type": "code",
   "execution_count": 0,
   "metadata": {
    "colab": {},
    "colab_type": "code",
    "collapsed": true,
    "id": "9qdExB2oMFOd"
   },
   "outputs": [],
   "source": []
  },
  {
   "cell_type": "markdown",
   "metadata": {
    "colab_type": "text",
    "id": "24LzCMPJMFOf"
   },
   "source": [
    "## 1.2: Wordclouds with Log Odds Ratio\n",
    "\n",
    "#### TODO\n",
    "\n",
    "This approach uses Informative Prior Log Odds IPLO ratio method, which is used in natural language processing to identify the differences in language usage patters between two groups. The foundations rests upon log odds ratio, a widely used technique in statistical inference and hypothesis testing. Intuitively, we ask, how much more likely is a word to belong to a particular document, as opposed to in another document. In a very deep way, log odds ratio relates to the F statistic in statistical inference, and is used widely for model selection.( // TODO: Cite ISLR / ESM)\n",
    "\n",
    "The theoretical framework is outlined in more detail [here](TODO) // TODO cite CCB's log odds paper\n",
    "\n",
    "In the case of multilabelled psychedelic trip reports, we can take a one-vs-all approach, i.e.: compare documents with the label `substance.mushrooms` and documents without the label `substance.mushrooms`. This will discover words / tokens that are particularly informative of the `substance.mushrooms` class. Note again that reports with a particular `substance.*` label are not necessarily uniquely `substance.*`, and may contain other labels since people have a tendency to consume multiple different types of drugs simultaneously.\n",
    "\n",
    "Code adapted from [john-hewitt](https://github.com/john-hewitt/iplo-analysis) and Chris Callison Burch's research group (reproduction with explicit permission from Callison-Burch)"
   ]
  },
  {
   "cell_type": "code",
   "execution_count": 0,
   "metadata": {
    "colab": {},
    "colab_type": "code",
    "collapsed": true,
    "id": "Ut4lV1UTMFOf"
   },
   "outputs": [],
   "source": [
    "# TODO: Logs Odds Ratio Code Adapted from Chris Callison Burch's Lab!!!\n",
    "# TODO: Implement for psychedelic trip reprots\n",
    "\n",
    "\n",
    "\n",
    "\n",
    "\n",
    "\n"
   ]
  },
  {
   "cell_type": "markdown",
   "metadata": {
    "colab_type": "text",
    "id": "3Ze1-nKuMFOh"
   },
   "source": [
    "## 1.3: Wordclouds with other methods\n",
    "\n",
    "### TODO: \n",
    "\n",
    "- Logistic regression weights\n",
    "- Weights from other classification methods\n",
    "- LDA document embeddings"
   ]
  },
  {
   "cell_type": "markdown",
   "metadata": {
    "colab_type": "text",
    "id": "lU4K7L6CMFOh"
   },
   "source": [
    "<br />\n",
    "<br />\n",
    "<br />\n",
    "<br />\n",
    "<br />\n",
    "<br />\n",
    "<br />\n",
    "<br />\n",
    "<br />\n",
    "<br />\n",
    "<br />\n",
    "<br />\n",
    "<br />\n",
    "<br />\n",
    "<br />\n",
    "<br />\n",
    "<br />"
   ]
  },
  {
   "cell_type": "markdown",
   "metadata": {
    "colab_type": "text",
    "id": "wMR38C23MFOh"
   },
   "source": [
    "# 8. Visualizing High Dimensions: Clustering and Principle Component Analysis (PCA)\n",
    "\n",
    "`TODO`\n",
    "\n",
    "- TODO: Agglomerative Hiearchical Clustering\n",
    "- TODO: KNN (?) - Probably more of a classification algorithm\n",
    "- TODO: Search up state of the art document clustering techniques\n",
    "- TODO: K Means clustering; \"There are multiple ways to select the optimal value of k like using the Sum of Squared Errors metric, Silhouette Coefficients and the Elbow method\"\n",
    "- TODO: [Affinity Propagation](https://en.wikipedia.org/wiki/Affinity_propagation)\n",
    "- TODO: See [advanced techniques](https://towardsdatascience.com/understanding-feature-engineering-part-4-deep-learning-methods-for-text-data-96c44370bbfa) for using dense document embeddings\n",
    "- TODO: Clustering can be based on many diferent document level features:\n",
    "    - TF\n",
    "    - TF IDF\n",
    "    - LDA Term Document Matrix\n",
    "    - Dense Embeddings (average of all the word embeddings, from something like Word2Vec); finetune existing dense word embedding with something like ULMfit\n",
    "- Visualize Clusters with PCA: See [advanced tecniques](https://towardsdatascience.com/understanding-feature-engineering-part-4-deep-learning-methods-for-text-data-96c44370bbfa)\n",
    "\n",
    "## 8.1 High Dimensionality: Everpresent and Difficult to Grok\n",
    "\n",
    "`TODO`\n",
    "\n",
    "## 8.2 Clustering\n",
    "\n",
    "`TODO`\n",
    "\n",
    "## 8.3 Principle Component Analysis\n",
    "\n",
    "`TODO`\n",
    "\n",
    "## 8.4 Other Methods\n",
    "\n",
    "`TODO`\n"
   ]
  },
  {
   "cell_type": "code",
   "execution_count": 0,
   "metadata": {
    "colab": {},
    "colab_type": "code",
    "collapsed": true,
    "id": "W_2iL30LMFOk",
    "outputId": "9a6be0ad-fd32-4401-e43e-b90dfb0dd3cd"
   },
   "outputs": [
    {
     "ename": "NameError",
     "evalue": "name 'similarity_matrix' is not defined",
     "output_type": "error",
     "traceback": [
      "\u001b[0;31m---------------------------------------------------------------------------\u001b[0m",
      "\u001b[0;31mNameError\u001b[0m                                 Traceback (most recent call last)",
      "\u001b[0;32m<ipython-input-54-0cece96fdad0>\u001b[0m in \u001b[0;36m<module>\u001b[0;34m\u001b[0m\n\u001b[1;32m      4\u001b[0m \u001b[0;32mfrom\u001b[0m \u001b[0mscipy\u001b[0m\u001b[0;34m.\u001b[0m\u001b[0mcluster\u001b[0m\u001b[0;34m.\u001b[0m\u001b[0mhierarchy\u001b[0m \u001b[0;32mimport\u001b[0m \u001b[0mdendrogram\u001b[0m\u001b[0;34m,\u001b[0m \u001b[0mlinkage\u001b[0m\u001b[0;34m\u001b[0m\u001b[0;34m\u001b[0m\u001b[0m\n\u001b[1;32m      5\u001b[0m \u001b[0;34m\u001b[0m\u001b[0m\n\u001b[0;32m----> 6\u001b[0;31m \u001b[0mZ\u001b[0m \u001b[0;34m=\u001b[0m \u001b[0mlinkage\u001b[0m\u001b[0;34m(\u001b[0m\u001b[0msimilarity_matrix\u001b[0m\u001b[0;34m,\u001b[0m \u001b[0;34m'ward'\u001b[0m\u001b[0;34m)\u001b[0m\u001b[0;34m\u001b[0m\u001b[0;34m\u001b[0m\u001b[0m\n\u001b[0m\u001b[1;32m      7\u001b[0m pd.DataFrame(Z, columns=['Document\\Cluster 1', 'Document\\Cluster 2', \n\u001b[1;32m      8\u001b[0m                          'Distance', 'Cluster Size'], dtype='object')\n",
      "\u001b[0;31mNameError\u001b[0m: name 'similarity_matrix' is not defined"
     ]
    }
   ],
   "source": [
    "# TODO\n",
    "# Example of Agglomerative Hiearchical Clustering \n",
    "# Source: https://towardsdatascience.com/understanding-feature-engineering-part-3-traditional-methods-for-text-data-f6f7d70acd41\n",
    "from scipy.cluster.hierarchy import dendrogram, linkage\n",
    "\n",
    "Z = linkage(similarity_matrix, 'ward')\n",
    "pd.DataFrame(Z, columns=['Document\\Cluster 1', 'Document\\Cluster 2', \n",
    "                         'Distance', 'Cluster Size'], dtype='object')\n",
    "\n",
    "\n",
    "\n",
    "###### Visualizing the clustering process\n",
    "plt.figure(figsize=(8, 3))\n",
    "plt.title('Hierarchical Clustering Dendrogram')\n",
    "plt.xlabel('Data point')\n",
    "plt.ylabel('Distance')\n",
    "dendrogram(Z)\n",
    "plt.axhline(y=1.0, c='k', ls='--', lw=0.5)\n",
    "\n",
    "\n",
    "\n"
   ]
  },
  {
   "cell_type": "code",
   "execution_count": 0,
   "metadata": {
    "colab": {},
    "colab_type": "code",
    "collapsed": true,
    "id": "u26zH32JMFOm",
    "outputId": "e1ea09e3-a37e-4b5b-ac0a-43f3ad8492cc"
   },
   "outputs": [
    {
     "ename": "NameError",
     "evalue": "name 'Z' is not defined",
     "output_type": "error",
     "traceback": [
      "\u001b[0;31m---------------------------------------------------------------------------\u001b[0m",
      "\u001b[0;31mNameError\u001b[0m                                 Traceback (most recent call last)",
      "\u001b[0;32m<ipython-input-55-37f3dcb1584c>\u001b[0m in \u001b[0;36m<module>\u001b[0;34m\u001b[0m\n\u001b[1;32m      4\u001b[0m \u001b[0mmax_dist\u001b[0m \u001b[0;34m=\u001b[0m \u001b[0;36m1.0\u001b[0m\u001b[0;34m\u001b[0m\u001b[0;34m\u001b[0m\u001b[0m\n\u001b[1;32m      5\u001b[0m \u001b[0;34m\u001b[0m\u001b[0m\n\u001b[0;32m----> 6\u001b[0;31m \u001b[0mcluster_labels\u001b[0m \u001b[0;34m=\u001b[0m \u001b[0mfcluster\u001b[0m\u001b[0;34m(\u001b[0m\u001b[0mZ\u001b[0m\u001b[0;34m,\u001b[0m \u001b[0mmax_dist\u001b[0m\u001b[0;34m,\u001b[0m \u001b[0mcriterion\u001b[0m\u001b[0;34m=\u001b[0m\u001b[0;34m'distance'\u001b[0m\u001b[0;34m)\u001b[0m\u001b[0;34m\u001b[0m\u001b[0;34m\u001b[0m\u001b[0m\n\u001b[0m\u001b[1;32m      7\u001b[0m \u001b[0mcluster_labels\u001b[0m \u001b[0;34m=\u001b[0m \u001b[0mpd\u001b[0m\u001b[0;34m.\u001b[0m\u001b[0mDataFrame\u001b[0m\u001b[0;34m(\u001b[0m\u001b[0mcluster_labels\u001b[0m\u001b[0;34m,\u001b[0m \u001b[0mcolumns\u001b[0m\u001b[0;34m=\u001b[0m\u001b[0;34m[\u001b[0m\u001b[0;34m'ClusterLabel'\u001b[0m\u001b[0;34m]\u001b[0m\u001b[0;34m)\u001b[0m\u001b[0;34m\u001b[0m\u001b[0;34m\u001b[0m\u001b[0m\n\u001b[1;32m      8\u001b[0m \u001b[0mpd\u001b[0m\u001b[0;34m.\u001b[0m\u001b[0mconcat\u001b[0m\u001b[0;34m(\u001b[0m\u001b[0;34m[\u001b[0m\u001b[0mcorpus_df\u001b[0m\u001b[0;34m,\u001b[0m \u001b[0mcluster_labels\u001b[0m\u001b[0;34m]\u001b[0m\u001b[0;34m,\u001b[0m \u001b[0maxis\u001b[0m\u001b[0;34m=\u001b[0m\u001b[0;36m1\u001b[0m\u001b[0;34m)\u001b[0m\u001b[0;34m\u001b[0m\u001b[0;34m\u001b[0m\u001b[0m\n",
      "\u001b[0;31mNameError\u001b[0m: name 'Z' is not defined"
     ]
    }
   ],
   "source": [
    "# TODO: Obtain cluster levels\n",
    "# Source: https://towardsdatascience.com/understanding-feature-engineering-part-3-traditional-methods-for-text-data-f6f7d70acd41\n",
    "# TODO: Compare the automatic clusters with the substance multilables\n",
    "# TODO: Can use a \"vector\" of the labels as a training label?\n",
    "from scipy.cluster.hierarchy import fcluster\n",
    "max_dist = 1.0\n",
    "\n",
    "cluster_labels = fcluster(Z, max_dist, criterion='distance')\n",
    "cluster_labels = pd.DataFrame(cluster_labels, columns=['ClusterLabel'])\n",
    "pd.concat([corpus_df, cluster_labels], axis=1)"
   ]
  },
  {
   "cell_type": "markdown",
   "metadata": {
    "colab_type": "text",
    "id": "2I2pVgYZMFOn"
   },
   "source": [
    "# Clustering based on LDA features"
   ]
  },
  {
   "cell_type": "code",
   "execution_count": 0,
   "metadata": {
    "colab": {},
    "colab_type": "code",
    "collapsed": true,
    "id": "XI_pD3lsMFOo"
   },
   "outputs": [],
   "source": [
    "# TODO: Example code for clustering with LDA embeddings\n",
    "# Source: https://towardsdatascience.com/understanding-feature-engineering-part-3-traditional-methods-for-text-data-f6f7d70acd41\n",
    "from sklearn.cluster import KMeans\n",
    "\n",
    "km = KMeans(n_clusters=3, random_state=0)\n",
    "km.fit_transform(features)\n",
    "cluster_labels = km.labels_\n",
    "cluster_labels = pd.DataFrame(cluster_labels, columns=['ClusterLabel'])\n",
    "pd.concat([corpus_df, cluster_labels], axis=1)"
   ]
  },
  {
   "cell_type": "markdown",
   "metadata": {
    "colab_type": "text",
    "id": "AGaF4ZfOMFOp"
   },
   "source": [
    "#### Other ways of Visualizing Trip reports\n",
    "\n",
    "- Clustering with ordinary `K-means` and `minibatch K-means`; see [sklearn example](https://scikit-learn.org/stable/auto_examples/text/plot_document_clustering.html#sphx-glr-auto-examples-text-plot-document-clustering-py)\n",
    "- `Principle Components Analysis (PCA)` of trip reports\n"
   ]
  },
  {
   "cell_type": "code",
   "execution_count": 0,
   "metadata": {
    "colab": {},
    "colab_type": "code",
    "collapsed": true,
    "id": "ThzsQlmPMFOp",
    "outputId": "468f1005-2583-4574-bd0c-8d43fa0be772"
   },
   "outputs": [
    {
     "name": "stderr",
     "output_type": "stream",
     "text": [
      "Downloading 20news dataset. This may take a few minutes.\n",
      "2019-11-30 00:37:12,265 INFO Downloading 20news dataset. This may take a few minutes.\n",
      "Downloading dataset from https://ndownloader.figshare.com/files/5975967 (14 MB)\n",
      "2019-11-30 00:37:12,270 INFO Downloading dataset from https://ndownloader.figshare.com/files/5975967 (14 MB)\n"
     ]
    },
    {
     "name": "stdout",
     "output_type": "stream",
     "text": [
      "Automatically created module for IPython interactive environment\n",
      "Usage: ipykernel_launcher.py [options]\n",
      "\n",
      "Options:\n",
      "  -h, --help            show this help message and exit\n",
      "  --lsa=N_COMPONENTS    Preprocess documents with latent semantic analysis.\n",
      "  --no-minibatch        Use ordinary k-means algorithm (in batch mode).\n",
      "  --no-idf              Disable Inverse Document Frequency feature weighting.\n",
      "  --use-hashing         Use a hashing feature vectorizer\n",
      "  --n-features=N_FEATURES\n",
      "                        Maximum number of features (dimensions) to extract\n",
      "                        from text.\n",
      "  --verbose             Print progress reports inside k-means algorithm.\n",
      "Loading 20 newsgroups dataset for categories:\n",
      "['alt.atheism', 'talk.religion.misc', 'comp.graphics', 'sci.space']\n",
      "3387 documents\n",
      "4 categories\n",
      "\n",
      "Extracting features from the training dataset using a sparse vectorizer\n",
      "done in 1.086469s\n",
      "n_samples: 3387, n_features: 10000\n",
      "\n",
      "Clustering sparse data with MiniBatchKMeans(batch_size=1000, compute_labels=True, init='k-means++',\n",
      "                init_size=1000, max_iter=100, max_no_improvement=10,\n",
      "                n_clusters=4, n_init=1, random_state=None,\n",
      "                reassignment_ratio=0.01, tol=0.0, verbose=False)\n",
      "done in 0.154s\n",
      "\n",
      "Homogeneity: 0.539\n",
      "Completeness: 0.572\n",
      "V-measure: 0.555\n",
      "Adjusted Rand-Index: 0.576\n",
      "Silhouette Coefficient: 0.007\n",
      "\n",
      "Top terms per cluster:\n",
      "Cluster 0: god people jesus say don believe christian bible com religion\n",
      "Cluster 1: graphics university image thanks ac files uk file com 3d\n",
      "Cluster 2: space com nasa access henry digex gov article pat toronto\n",
      "Cluster 3: sandvik keith sgi com livesey kent caltech apple newton solntze\n"
     ]
    }
   ],
   "source": [
    "# TODO: Example code from: https://scikit-learn.org/stable/auto_examples/text/plot_document_clustering.html#sphx-glr-auto-examples-text-plot-document-clustering-py\n",
    "\n",
    "# Author: Peter Prettenhofer <peter.prettenhofer@gmail.com>\n",
    "#         Lars Buitinck\n",
    "# License: BSD 3 clause\n",
    "from sklearn.datasets import fetch_20newsgroups\n",
    "from sklearn.decomposition import TruncatedSVD\n",
    "from sklearn.feature_extraction.text import TfidfVectorizer\n",
    "from sklearn.feature_extraction.text import HashingVectorizer\n",
    "from sklearn.feature_extraction.text import TfidfTransformer\n",
    "from sklearn.pipeline import make_pipeline\n",
    "from sklearn.preprocessing import Normalizer\n",
    "from sklearn import metrics\n",
    "\n",
    "from sklearn.cluster import KMeans, MiniBatchKMeans\n",
    "\n",
    "import logging\n",
    "from optparse import OptionParser\n",
    "import sys\n",
    "from time import time\n",
    "\n",
    "import numpy as np\n",
    "\n",
    "\n",
    "# Display progress logs on stdout\n",
    "logging.basicConfig(level=logging.INFO,\n",
    "                    format='%(asctime)s %(levelname)s %(message)s')\n",
    "\n",
    "# parse commandline arguments\n",
    "op = OptionParser()\n",
    "op.add_option(\"--lsa\",\n",
    "              dest=\"n_components\", type=\"int\",\n",
    "              help=\"Preprocess documents with latent semantic analysis.\")\n",
    "op.add_option(\"--no-minibatch\",\n",
    "              action=\"store_false\", dest=\"minibatch\", default=True,\n",
    "              help=\"Use ordinary k-means algorithm (in batch mode).\")\n",
    "op.add_option(\"--no-idf\",\n",
    "              action=\"store_false\", dest=\"use_idf\", default=True,\n",
    "              help=\"Disable Inverse Document Frequency feature weighting.\")\n",
    "op.add_option(\"--use-hashing\",\n",
    "              action=\"store_true\", default=False,\n",
    "              help=\"Use a hashing feature vectorizer\")\n",
    "op.add_option(\"--n-features\", type=int, default=10000,\n",
    "              help=\"Maximum number of features (dimensions)\"\n",
    "                   \" to extract from text.\")\n",
    "op.add_option(\"--verbose\",\n",
    "              action=\"store_true\", dest=\"verbose\", default=False,\n",
    "              help=\"Print progress reports inside k-means algorithm.\")\n",
    "\n",
    "print(__doc__)\n",
    "op.print_help()\n",
    "\n",
    "\n",
    "def is_interactive():\n",
    "    return not hasattr(sys.modules['__main__'], '__file__')\n",
    "\n",
    "\n",
    "# work-around for Jupyter notebook and IPython console\n",
    "argv = [] if is_interactive() else sys.argv[1:]\n",
    "(opts, args) = op.parse_args(argv)\n",
    "if len(args) > 0:\n",
    "    op.error(\"this script takes no arguments.\")\n",
    "    sys.exit(1)\n",
    "\n",
    "\n",
    "# #############################################################################\n",
    "# Load some categories from the training set\n",
    "categories = [\n",
    "    'alt.atheism',\n",
    "    'talk.religion.misc',\n",
    "    'comp.graphics',\n",
    "    'sci.space',\n",
    "]\n",
    "# Uncomment the following to do the analysis on all the categories\n",
    "# categories = None\n",
    "\n",
    "print(\"Loading 20 newsgroups dataset for categories:\")\n",
    "print(categories)\n",
    "\n",
    "dataset = fetch_20newsgroups(subset='all', categories=categories,\n",
    "                             shuffle=True, random_state=42)\n",
    "\n",
    "print(\"%d documents\" % len(dataset.data))\n",
    "print(\"%d categories\" % len(dataset.target_names))\n",
    "print()\n",
    "\n",
    "labels = dataset.target\n",
    "true_k = np.unique(labels).shape[0]\n",
    "\n",
    "print(\"Extracting features from the training dataset \"\n",
    "      \"using a sparse vectorizer\")\n",
    "t0 = time()\n",
    "if opts.use_hashing:\n",
    "    if opts.use_idf:\n",
    "        # Perform an IDF normalization on the output of HashingVectorizer\n",
    "        hasher = HashingVectorizer(n_features=opts.n_features,\n",
    "                                   stop_words='english', alternate_sign=False,\n",
    "                                   norm=None, binary=False)\n",
    "        vectorizer = make_pipeline(hasher, TfidfTransformer())\n",
    "    else:\n",
    "        vectorizer = HashingVectorizer(n_features=opts.n_features,\n",
    "                                       stop_words='english',\n",
    "                                       alternate_sign=False, norm='l2',\n",
    "                                       binary=False)\n",
    "else:\n",
    "    vectorizer = TfidfVectorizer(max_df=0.5, max_features=opts.n_features,\n",
    "                                 min_df=2, stop_words='english',\n",
    "                                 use_idf=opts.use_idf)\n",
    "X = vectorizer.fit_transform(dataset.data)\n",
    "\n",
    "print(\"done in %fs\" % (time() - t0))\n",
    "print(\"n_samples: %d, n_features: %d\" % X.shape)\n",
    "print()\n",
    "\n",
    "if opts.n_components:\n",
    "    print(\"Performing dimensionality reduction using LSA\")\n",
    "    t0 = time()\n",
    "    # Vectorizer results are normalized, which makes KMeans behave as\n",
    "    # spherical k-means for better results. Since LSA/SVD results are\n",
    "    # not normalized, we have to redo the normalization.\n",
    "    svd = TruncatedSVD(opts.n_components)\n",
    "    normalizer = Normalizer(copy=False)\n",
    "    lsa = make_pipeline(svd, normalizer)\n",
    "\n",
    "    X = lsa.fit_transform(X)\n",
    "\n",
    "    print(\"done in %fs\" % (time() - t0))\n",
    "\n",
    "    explained_variance = svd.explained_variance_ratio_.sum()\n",
    "    print(\"Explained variance of the SVD step: {}%\".format(\n",
    "        int(explained_variance * 100)))\n",
    "\n",
    "    print()\n",
    "\n",
    "\n",
    "# #############################################################################\n",
    "# Do the actual clustering\n",
    "\n",
    "if opts.minibatch:\n",
    "    km = MiniBatchKMeans(n_clusters=true_k, init='k-means++', n_init=1,\n",
    "                         init_size=1000, batch_size=1000, verbose=opts.verbose)\n",
    "else:\n",
    "    km = KMeans(n_clusters=true_k, init='k-means++', max_iter=100, n_init=1,\n",
    "                verbose=opts.verbose)\n",
    "\n",
    "print(\"Clustering sparse data with %s\" % km)\n",
    "t0 = time()\n",
    "km.fit(X)\n",
    "print(\"done in %0.3fs\" % (time() - t0))\n",
    "print()\n",
    "\n",
    "print(\"Homogeneity: %0.3f\" % metrics.homogeneity_score(labels, km.labels_))\n",
    "print(\"Completeness: %0.3f\" % metrics.completeness_score(labels, km.labels_))\n",
    "print(\"V-measure: %0.3f\" % metrics.v_measure_score(labels, km.labels_))\n",
    "print(\"Adjusted Rand-Index: %.3f\"\n",
    "      % metrics.adjusted_rand_score(labels, km.labels_))\n",
    "print(\"Silhouette Coefficient: %0.3f\"\n",
    "      % metrics.silhouette_score(X, km.labels_, sample_size=1000))\n",
    "\n",
    "print()\n",
    "\n",
    "\n",
    "if not opts.use_hashing:\n",
    "    print(\"Top terms per cluster:\")\n",
    "\n",
    "    if opts.n_components:\n",
    "        original_space_centroids = svd.inverse_transform(km.cluster_centers_)\n",
    "        order_centroids = original_space_centroids.argsort()[:, ::-1]\n",
    "    else:\n",
    "        order_centroids = km.cluster_centers_.argsort()[:, ::-1]\n",
    "\n",
    "    terms = vectorizer.get_feature_names()\n",
    "    for i in range(true_k):\n",
    "        print(\"Cluster %d:\" % i, end='')\n",
    "        for ind in order_centroids[i, :10]:\n",
    "            print(' %s' % terms[ind], end='')\n",
    "        print()"
   ]
  },
  {
   "cell_type": "code",
   "execution_count": 0,
   "metadata": {
    "colab": {},
    "colab_type": "code",
    "collapsed": true,
    "id": "3pnubpyNMFOt"
   },
   "outputs": [],
   "source": []
  },
  {
   "cell_type": "markdown",
   "metadata": {
    "colab_type": "text",
    "id": "hMcanwNSMFOv"
   },
   "source": [
    "<br />\n",
    "<br />\n",
    "<br />\n",
    "<br />\n",
    "<br />\n",
    "<br />\n",
    "<br />\n",
    "<br />\n",
    "<br />\n",
    "<br />\n",
    "<br />\n",
    "<br />\n",
    "<br />\n",
    "<br />\n",
    "<br />\n",
    "<br />\n",
    "<br />"
   ]
  },
  {
   "cell_type": "markdown",
   "metadata": {
    "colab_type": "text",
    "id": "ScKmmYeRMFOv"
   },
   "source": [
    "# 9: Predicting Substance Labels from Trip Reports\n",
    "\n",
    "`TODO`\n",
    "\n",
    "- Baseline: multinomial Bayes and other techniques; see sklearn [classifying text documents](https://scikit-learn.org/stable/auto_examples/text/plot_document_classification_20newsgroups.html#sphx-glr-auto-examples-text-plot-document-classification-20newsgroups-py)\n",
    "- Baseline: Logistic Regression:\n",
    "    - Coefficients returned by logistic regression can be used as weights to scale words in worclouds\n",
    "    - TODO: How do we handle the multilabel case?\n",
    "    - Appropriate regularization like LASSO / Ridge (Elastic Net) for feature selection\n",
    "- Baseline: Naive Bayes classifier\n",
    "- BERT fine-tuning\n",
    "    - [Huggingface](https://github.com/huggingface/transformers) + transformers - See Chris Callison-Burch’s recommendations\n",
    "- Handling `multilabel learning`, see [sklearn multiclass and multilabel learning](https://scikit-learn.org/stable/modules/multiclass.html#multiclass-and-multilabel-algorithms)\n",
    "\n"
   ]
  },
  {
   "cell_type": "markdown",
   "metadata": {
    "colab_type": "text",
    "id": "R_F-ygOdMFOw"
   },
   "source": [
    "## 9.1 The Classification Problem: Our Goals\n",
    "`TODO`\n",
    "\n",
    "## 9.2 Multilabel Considerations\n",
    "`TODO`\n",
    "\n",
    "\n",
    "Using [multilabel classification example](https://scikit-learn.org/stable/auto_examples/plot_multilabel.html#multilabel-classification) from sklearn"
   ]
  },
  {
   "cell_type": "code",
   "execution_count": 0,
   "metadata": {
    "colab": {},
    "colab_type": "code",
    "collapsed": true,
    "id": "6urnRKHwMFOw"
   },
   "outputs": [],
   "source": [
    "## TODO: Example code from sklearn, see: https://scikit-learn.org/stable/auto_examples/plot_multilabel.html#multilabel-classification\n",
    "print(__doc__)\n",
    "\n",
    "import numpy as np\n",
    "import matplotlib.pyplot as plt\n",
    "\n",
    "from sklearn.datasets import make_multilabel_classification\n",
    "from sklearn.multiclass import OneVsRestClassifier\n",
    "from sklearn.svm import SVC\n",
    "from sklearn.decomposition import PCA\n",
    "from sklearn.cross_decomposition import CCA\n",
    "\n",
    "\n",
    "def plot_hyperplane(clf, min_x, max_x, linestyle, label):\n",
    "    # get the separating hyperplane\n",
    "    w = clf.coef_[0]\n",
    "    a = -w[0] / w[1]\n",
    "    xx = np.linspace(min_x - 5, max_x + 5)  # make sure the line is long enough\n",
    "    yy = a * xx - (clf.intercept_[0]) / w[1]\n",
    "    plt.plot(xx, yy, linestyle, label=label)\n",
    "\n",
    "\n",
    "def plot_subfigure(X, Y, subplot, title, transform):\n",
    "    if transform == \"pca\":\n",
    "        X = PCA(n_components=2).fit_transform(X)\n",
    "    elif transform == \"cca\":\n",
    "        X = CCA(n_components=2).fit(X, Y).transform(X)\n",
    "    else:\n",
    "        raise ValueError\n",
    "\n",
    "    min_x = np.min(X[:, 0])\n",
    "    max_x = np.max(X[:, 0])\n",
    "\n",
    "    min_y = np.min(X[:, 1])\n",
    "    max_y = np.max(X[:, 1])\n",
    "\n",
    "    classif = OneVsRestClassifier(SVC(kernel='linear'))\n",
    "    classif.fit(X, Y)\n",
    "\n",
    "    plt.subplot(2, 2, subplot)\n",
    "    plt.title(title)\n",
    "\n",
    "    zero_class = np.where(Y[:, 0])\n",
    "    one_class = np.where(Y[:, 1])\n",
    "    plt.scatter(X[:, 0], X[:, 1], s=40, c='gray', edgecolors=(0, 0, 0))\n",
    "    plt.scatter(X[zero_class, 0], X[zero_class, 1], s=160, edgecolors='b',\n",
    "                facecolors='none', linewidths=2, label='Class 1')\n",
    "    plt.scatter(X[one_class, 0], X[one_class, 1], s=80, edgecolors='orange',\n",
    "                facecolors='none', linewidths=2, label='Class 2')\n",
    "\n",
    "    plot_hyperplane(classif.estimators_[0], min_x, max_x, 'k--',\n",
    "                    'Boundary\\nfor class 1')\n",
    "    plot_hyperplane(classif.estimators_[1], min_x, max_x, 'k-.',\n",
    "                    'Boundary\\nfor class 2')\n",
    "    plt.xticks(())\n",
    "    plt.yticks(())\n",
    "\n",
    "    plt.xlim(min_x - .5 * max_x, max_x + .5 * max_x)\n",
    "    plt.ylim(min_y - .5 * max_y, max_y + .5 * max_y)\n",
    "    if subplot == 2:\n",
    "        plt.xlabel('First principal component')\n",
    "        plt.ylabel('Second principal component')\n",
    "        plt.legend(loc=\"upper left\")\n",
    "\n",
    "\n",
    "plt.figure(figsize=(8, 6))\n",
    "\n",
    "X, Y = make_multilabel_classification(n_classes=2, n_labels=1,\n",
    "                                      allow_unlabeled=True,\n",
    "                                      random_state=1)\n",
    "\n",
    "plot_subfigure(X, Y, 1, \"With unlabeled samples + CCA\", \"cca\")\n",
    "plot_subfigure(X, Y, 2, \"With unlabeled samples + PCA\", \"pca\")\n",
    "\n",
    "X, Y = make_multilabel_classification(n_classes=2, n_labels=1,\n",
    "                                      allow_unlabeled=False,\n",
    "                                      random_state=1)\n",
    "\n",
    "plot_subfigure(X, Y, 3, \"Without unlabeled samples + CCA\", \"cca\")\n",
    "plot_subfigure(X, Y, 4, \"Without unlabeled samples + PCA\", \"pca\")\n",
    "\n",
    "plt.subplots_adjust(.04, .02, .97, .94, .09, .2)\n",
    "plt.show()"
   ]
  },
  {
   "cell_type": "markdown",
   "metadata": {
    "colab_type": "text",
    "id": "-KqeOVrpMFOx"
   },
   "source": [
    "## 9.3 Initial Attempts\n",
    "`TODO`\n",
    "\n",
    "## 9.4 The Power of Transfer Learning: State of the Art\n",
    "`TODO`"
   ]
  },
  {
   "cell_type": "markdown",
   "metadata": {
    "colab_type": "text",
    "id": "TRIch4iTMFOx"
   },
   "source": [
    "## 9.5 NLP in Practice: Using automatic piplines for text feature extraction and classification\n",
    "See sklearn [pipline example](https://scikit-learn.org/stable/auto_examples/model_selection/grid_search_text_feature_extraction.html#sphx-glr-auto-examples-model-selection-grid-search-text-feature-extraction-py)\n",
    "\n",
    "TODO: Modify to suit multi-label learning"
   ]
  },
  {
   "cell_type": "code",
   "execution_count": 0,
   "metadata": {
    "colab": {},
    "colab_type": "code",
    "collapsed": true,
    "id": "3WgjRVptMFOy"
   },
   "outputs": [],
   "source": [
    "# TODO: CODE FROM https://scikit-learn.org/stable/auto_examples/model_selection/grid_search_text_feature_extraction.html#sphx-glr-auto-examples-model-selection-grid-search-text-feature-extraction-py\n",
    "\n",
    "# Author: Olivier Grisel <olivier.grisel@ensta.org>\n",
    "#         Peter Prettenhofer <peter.prettenhofer@gmail.com>\n",
    "#         Mathieu Blondel <mathieu@mblondel.org>\n",
    "# License: BSD 3 clause\n",
    "from pprint import pprint\n",
    "from time import time\n",
    "import logging\n",
    "\n",
    "from sklearn.datasets import fetch_20newsgroups\n",
    "from sklearn.feature_extraction.text import CountVectorizer\n",
    "from sklearn.feature_extraction.text import TfidfTransformer\n",
    "from sklearn.linear_model import SGDClassifier\n",
    "from sklearn.model_selection import GridSearchCV\n",
    "from sklearn.pipeline import Pipeline\n",
    "\n",
    "print(__doc__)\n",
    "\n",
    "# Display progress logs on stdout\n",
    "logging.basicConfig(level=logging.INFO,\n",
    "                    format='%(asctime)s %(levelname)s %(message)s')\n",
    "\n",
    "\n",
    "# #############################################################################\n",
    "# Load some categories from the training set\n",
    "categories = [\n",
    "    'alt.atheism',\n",
    "    'talk.religion.misc',\n",
    "]\n",
    "# Uncomment the following to do the analysis on all the categories\n",
    "#categories = None\n",
    "\n",
    "print(\"Loading 20 newsgroups dataset for categories:\")\n",
    "print(categories)\n",
    "\n",
    "data = fetch_20newsgroups(subset='train', categories=categories)\n",
    "print(\"%d documents\" % len(data.filenames))\n",
    "print(\"%d categories\" % len(data.target_names))\n",
    "print()\n",
    "\n",
    "# #############################################################################\n",
    "# Define a pipeline combining a text feature extractor with a simple\n",
    "# classifier\n",
    "pipeline = Pipeline([\n",
    "    ('vect', CountVectorizer()),\n",
    "    ('tfidf', TfidfTransformer()),\n",
    "    ('clf', SGDClassifier(tol=1e-3)),\n",
    "])\n",
    "\n",
    "# uncommenting more parameters will give better exploring power but will\n",
    "# increase processing time in a combinatorial way\n",
    "parameters = {\n",
    "    'vect__max_df': (0.5, 0.75, 1.0),\n",
    "    # 'vect__max_features': (None, 5000, 10000, 50000),\n",
    "    'vect__ngram_range': ((1, 1), (1, 2)),  # unigrams or bigrams\n",
    "    # 'tfidf__use_idf': (True, False),\n",
    "    # 'tfidf__norm': ('l1', 'l2'),\n",
    "    'clf__max_iter': (20,),\n",
    "    'clf__alpha': (0.00001, 0.000001),\n",
    "    'clf__penalty': ('l2', 'elasticnet'),\n",
    "    # 'clf__max_iter': (10, 50, 80),\n",
    "}\n",
    "\n",
    "if __name__ == \"__main__\":\n",
    "    # multiprocessing requires the fork to happen in a __main__ protected\n",
    "    # block\n",
    "\n",
    "    # find the best parameters for both the feature extraction and the\n",
    "    # classifier\n",
    "    grid_search = GridSearchCV(pipeline, parameters, cv=5,\n",
    "                               n_jobs=-1, verbose=1)\n",
    "\n",
    "    print(\"Performing grid search...\")\n",
    "    print(\"pipeline:\", [name for name, _ in pipeline.steps])\n",
    "    print(\"parameters:\")\n",
    "    pprint(parameters)\n",
    "    t0 = time()\n",
    "    grid_search.fit(data.data, data.target)\n",
    "    print(\"done in %0.3fs\" % (time() - t0))\n",
    "    print()\n",
    "\n",
    "    print(\"Best score: %0.3f\" % grid_search.best_score_)\n",
    "    print(\"Best parameters set:\")\n",
    "    best_parameters = grid_search.best_estimator_.get_params()\n",
    "    for param_name in sorted(parameters.keys()):\n",
    "        print(\"\\t%s: %r\" % (param_name, best_parameters[param_name]))"
   ]
  },
  {
   "cell_type": "markdown",
   "metadata": {
    "colab_type": "text",
    "id": "V4usz0cRMFO1"
   },
   "source": [
    "<br />\n",
    "<br />\n",
    "<br />\n",
    "<br />\n",
    "<br />\n",
    "<br />\n",
    "<br />\n",
    "<br />\n",
    "<br />\n",
    "<br />\n",
    "<br />\n",
    "<br />\n",
    "<br />\n",
    "<br />\n",
    "<br />\n",
    "<br />\n",
    "<br />"
   ]
  },
  {
   "cell_type": "markdown",
   "metadata": {
    "colab_type": "text",
    "id": "iidWGl9WMFO2"
   },
   "source": [
    "# 10. Generation of Trip Reports\n",
    "`TODO`\n",
    "\n",
    "- Hidden Markov Model baseline\n",
    "- LSTM baselines\n",
    "    - Character Model\n",
    "    - Word model\n",
    "- Finetuning BERT to generate trip reports\n",
    "\n",
    "\n",
    "## 10.1 The Generation Problem: Our Goals\n",
    "`TODO`\n",
    "## 10.2 Hidden Markov Baseline\n",
    "`TODO`\n",
    "## 10.3 Long Short Term Memory Network Baseline\n",
    "`TODO`\n",
    "## 10.4 Fine Tuning BERT: State of the Art\n",
    "`TODO`\n"
   ]
  },
  {
   "cell_type": "markdown",
   "metadata": {
    "colab_type": "text",
    "id": "JS1wR3fVMFO2"
   },
   "source": [
    "<br />\n",
    "<br />\n",
    "<br />\n",
    "<br />\n",
    "<br />\n",
    "<br />\n",
    "<br />\n",
    "<br />\n",
    "<br />\n",
    "<br />\n",
    "<br />\n",
    "<br />\n",
    "<br />\n",
    "<br />\n",
    "<br />\n",
    "<br />\n",
    "<br />"
   ]
  },
  {
   "cell_type": "markdown",
   "metadata": {
    "colab_type": "text",
    "id": "rZwNeJWNMFO3"
   },
   "source": [
    "# 11. Feature Importance\n",
    "\n",
    "`TODO`\n",
    "\n",
    "## 11.1 The Revealing Nature of Noticing\n",
    "\n",
    "`TODO`\n",
    "\n",
    "## 11.2 LIME: State of the Art Feature Importance\n",
    "\n",
    "`TODO`\n",
    "\n",
    "<br />\n",
    "<br />\n",
    "<br />\n",
    "<br />\n",
    "<br />\n",
    "<br />\n",
    "<br />\n",
    "<br />\n",
    "<br />\n",
    "<br />\n",
    "<br />\n",
    "<br />\n",
    "<br />\n",
    "<br />\n",
    "<br />\n",
    "<br />\n",
    "<br />"
   ]
  },
  {
   "cell_type": "markdown",
   "metadata": {
    "colab_type": "text",
    "id": "sihQ7WgMMFO4"
   },
   "source": [
    "# 12. Meta-discussions: Neuroscience, Ethics, Mycelial Connectedness, and Future Directions - The Truly Important Stuff\n",
    "\n",
    "## 12.1 What is Language\n",
    "→ model discussed with Daniel Colson\n",
    "\n",
    "`TODO`\n",
    "\n",
    "## 12.2 What is (Big) Data\n",
    "\n",
    "`TODO`\n",
    "\n",
    "## 12.3 What is Data Privacy and Security\n",
    "\n",
    "`TODO`\n",
    "\n",
    "## 12.4 What is Reproducibility\n",
    "\n",
    "`TODO`\n",
    "\n",
    "## 12.5 Open Science: A Proposal for Collaborative Research\n",
    "\n",
    "`TODO`\n",
    "\n",
    "## 12.6 Towards Mycelial Connectedness\n",
    "\n",
    "`TODO`\n",
    "\n",
    "## 12.7 The Institute of Paradise Engineering\n",
    "\n",
    "`TODO`\n",
    "\n",
    "<br />\n",
    "<br />\n",
    "<br />\n",
    "<br />\n",
    "<br />\n",
    "<br />\n",
    "<br />\n",
    "<br />\n",
    "<br />\n",
    "<br />\n",
    "<br />\n",
    "<br />\n",
    "<br />\n",
    "<br />\n",
    "<br />\n",
    "<br />\n",
    "<br />"
   ]
  },
  {
   "cell_type": "markdown",
   "metadata": {
    "colab_type": "text",
    "id": "dOeBLfL8MFO6"
   },
   "source": [
    "# 13. Gratefulness: Acknowledgements of Foundational Connectness\n",
    "\n",
    "`TODO`\n",
    "\n",
    "<br />\n",
    "<br />\n",
    "<br />\n",
    "<br />\n",
    "<br />\n",
    "<br />\n",
    "<br />\n",
    "<br />\n",
    "<br />\n",
    "<br />\n",
    "<br />\n",
    "<br />\n",
    "<br />\n",
    "<br />\n",
    "<br />\n",
    "<br />\n",
    "<br />"
   ]
  },
  {
   "cell_type": "markdown",
   "metadata": {
    "colab_type": "text",
    "id": "U1W_CCgXMFO7"
   },
   "source": [
    "# 14. Appendix: archived code, explanations, and miscellaneous musings\n",
    "\n",
    "## 14.1 Word Cloud of this thesis\n",
    "\n",
    "`TODO`\n",
    "\n",
    "## 14.2 Word Clouds of Pivotal Conversations\n",
    "\n",
    "`TODO`\n",
    "\n",
    "## 14.3 Original Thesis Proposal\n",
    "\n",
    "`TODO`\n",
    "\n",
    "## 14.4 Updated Thesis Proposal\n",
    "\n",
    "`TODO`\n",
    "\n",
    "## 14.5 The Mathematics of Higher Dimensions\n",
    "\n",
    "`TODO`\n",
    "\n",
    "\n",
    "<br />\n",
    "<br />\n",
    "<br />\n",
    "<br />\n",
    "<br />\n",
    "<br />\n",
    "<br />\n",
    "<br />\n",
    "<br />\n",
    "<br />\n",
    "<br />\n",
    "<br />\n",
    "<br />\n",
    "<br />\n",
    "<br />\n",
    "<br />\n",
    "<br />"
   ]
  },
  {
   "cell_type": "markdown",
   "metadata": {
    "colab_type": "text",
    "id": "gjJcO3qEMFO7"
   },
   "source": [
    "# References\n",
    "\n",
    "- TODO: Use Bibtex  \n",
    "- TODO: Is there a way to link to citations from Jupyter Notebook? Maybe just use latex\n",
    "- [Workflow for citations in jupyter notebook](https://sylvaindeville.net/2015/07/17/writing-academic-papers-in-plain-text-with-markdown-and-jupyter-notebook/)\n",
    "- [The Automated Academic](https://sylvaindeville.net/2015/01/04/the-automated-academic/)\n",
    "- TODO: Cite scikit learn\n",
    "- [Publishing on Figshare](https://figshare.com/)\n",
    "- [Fine tuning word embeddings on smaller dataset](https://arxiv.org/abs/1801.06146)\n",
    "- TODO: [Latent Semantic Analysis](https://en.wikipedia.org/wiki/Latent_semantic_analysis)\n",
    "- TODO: [Use sciPy pretrain transfer learning](https://spacy.io/usage/v2-1#pretraining) to improve the accuracy of model, similar to `Google`'s BERT and `fast.ai`'s ULMFiT\n",
    "- TODO: [spaCy Visualizers](https://spacy.io/usage/visualizers) SOOOO COOOL!!\n",
    "- Publishing my paper:\n",
    "    - [Binder, turn git repo into notebooks](https://mybinder.org/) with docker images\n",
    "    - [Jupyter Hub, serve notebooks to multiple users](https://jupyterhub.readthedocs.io/en/latest/)"
   ]
  },
  {
   "cell_type": "code",
   "execution_count": 0,
   "metadata": {
    "colab": {},
    "colab_type": "code",
    "collapsed": true,
    "id": "SgQHbW_HMFO8",
    "outputId": "f9019ab2-35ba-4a45-e0b8-9d5631156941"
   },
   "outputs": [
    {
     "name": "stdout",
     "output_type": "stream",
     "text": [
      "['report', 'title', 'substance']\n",
      "[\"After having had some success with other forms of legal highs, I decided to experiment with salvia.  I had heard it was an intense but short acting psychedelic, which intrigued me.  Although I have loved psychedelics since I first discovered them eight years ago, I dont use them that often in part because of the time involved in tripping and analyzing the experience.  That said I have used psychedelics somewhere around three dozen times in my life.  My favorite method of tripping is LSD, but I have also used mushrooms, morning glory and baby woodrose seeds.  I have also used a variety of other drugs, including stimulants, depressants, empathogens, and deleriants.\\n\\n\\n\\nI ordered salvia online, choosing a 5x extract.  When the package arrived my husband wanted to try it immediately.  I prefer to prepare more for trips but knowing the effects werent supposed to last very long I said why not?  My husband, who uses psychedelics rarely now but used them a lot when he was younger, went first.  He took a large hit from our glass pipe.  He coughed a lot but reported no initial effects.  Only two minutes later he took two smaller but decent sized hits.  He started to smile that tripped out smile and I knew it had hit him.  He was silent but looked around like everything was captivating.  After a few minutes I asked how he felt and he said great and started to laugh.  He described a pouring feeling as though he was being poured into his body.  When he had recovered a bit more he told me it was like acid, which surprised me as the reports I read were not really acidlike.  He stumbled a bit but seemed to be mostly normal after ten minutes.  I asked him to hand me the pipe when he felt sober enough to babysit me and he handed it over five minutes later (15 minutes after smoking).\\n\\n\\n\\nHere is where I made a big mistake.  Seeing that it had required 3 hits to get my husband off, I decided to take two hits.  I had read enough reports to know better, but the extremely short duration of the trip made me feel safe.  I took the first hit slowly and smoothly (a pleasant smoke I might add), holding it in for about 20 seconds.  I blew out a huge cloud of smoke, and started to take another hit.  Halfway through the second hit (while still inhaling) I got tunnel vision.  I hardly felt the smoke leave my lungs.  The whole room was spinning and everything had trails.  I was shocked and amazed at the change in my surroundings.  It was like a cross between shroom trails and the bed spins (like from too much alcohol).  I felt two things at once.  Part of me was feeling totally disoriented and wanted everything to stop moving.  And part of me was having fun.  I realized that if I looked at the center of the room things were much better and I started to laugh really hard.  I was in ecstasy and in pain.\\n\\n\\n\\nThen the center of the room began to spin wildly too.  I felt like I was in the hold of a ship being thrashed about by massive waves.  My husband was standing half on the balcony smoking.  At this point he walked in a step and said Welcome to my world.  At that instant the whole room landed hard on its side, taking my husband and me with it.  Gravity was now pulling me in towards the kitchen, which is normally North.  South, the direction of the balcony, was up.  Both me and my husband were stuck sideways, our legs dangling in the air, inches from the kitchen counter's side, which was now the floor.  I was able to move my parts around my center of gravity, but not able to move my center of gravity.  I did not fall to the 'floor' because I was caught in the grip of two opposing forces.  One at my back and the other at my front.\\n\\n\\n\\nI was certain that I had been sucked into an alternate dimension or world, which I called sideways world.  This was what my husband meant when he said welcome to my world, or so I thought at the time. Although this new world had definite direction it was spinning about this new axis at lightening speed. I kept trying to turn, hoping that a new perspective would stop everything, but I felt as much as saw the added trails this caused.  In fact my whole body was spinning and contracting around its axis, which ran down the spine.  This was highly painful and utterly terrifying.  I have had scary moments on drugs before but nothing that comes close to this.  I didnt know that fear could be like that.  I had had one terrifying moment of clarity in a dream once, when I knew that there was no afterlife and that my consciousness would cease to exist.  This rivaled that dream in the fear department but was far more frantic.\\n\\n\\n\\nI hated my husband for damning me to this world.  I knew that it was a drug experience, and that it would end, but I had forgotten how long it would take and thought I would be like this for hours.  I was certain that he was sideways too, that he knew what this drug would do to me and let me do it anyway, so that he wouldn't be alone in this sideways world.  I looked at the door to the balcony.  The door my husband had stepped through before he turned over.  It was salvation.  The way out.  The door to the straight world.  I tried very hard to reach that door, but the world was spinning too wildly and all I could do was spin about my axis.  The door seemed to be closer at times and farther at others but I dont recall ever making progress toward it or moving away.  I yelled at my husband for putting me here, though I wasnt sure if the words came out.  I remember him talking to me but I was too frantic to listen.  His answers made no sense either.  In response to something I said he replied But Im from this world.  This struck me as utterly stupid.  He had walked into the sideways world through that door.  I saw him do it.  How could he deny it?  But as I told him this something clicked.\\n\\n\\n\\nThat door wasnt the door to the straight world!  At the same time the spinning slowed and I realized I was coming down.  Thank God!  I lay on the couch for several minutes, letting the feeling slip away.  Still terrified and in pain but now with the knowledge that it was ending.  All I had to do was wait.\\n\\n\\n\\nWhen the last of the terror had subsided I sat up and looked around.  Things were glowy and trippy like the come up of acid and I felt stoned with a mdma edge.  This lasted for about half an hour and was great.  If this was all salvia did I would smoke it all the time.  I no longer felt fear at all but a sense of awe at what the drug had done to me.  My hubby was obviously very shaken.  I knew I put him through a lot and told him several times that I was better now.  As the come down progressed I discussed my experience with him and discovered that what he saw was quite different from what I had perceived.\\n\\n\\n\\nFor his point of view, everything was fine at first.  I was laughing for at least three minutes and appeared to be enjoying myself (though in reality the fear was already there).  He stepped in after finishing a cigarette and said Welcome to my world because everything was funny to him too.  At this point I apparently jumped up and said I had to get out of this world.  I ran for the balcony door and my husband, afraid I meant to jump off the balcony, stopped me.  The next five minutes were a drag out physical struggle in which I constantly lunged for the door while he restrained me and tried to talk me down.  He said he told me a lot of things that I have no memory of.  I was also yelling and screaming at the top of my lungs.  Hubby was afraid someone would call the cops with all the ruckus I was causing.  Most of this time I was on the floor, but I fought my way up again (apparently I managed to get up several times which is surprising because my husband is much stronger than I am physically) and he put me on the couch were I lay and went limp for the first time.  This is were I came back to reality.\\n\\n\\n\\nA few days later I decided to try again, this time with less salvia.  I did not want to experience a full salvia trip again but was curious where this powerful drug might take me with more caution.  I filled the pipe bowl with a 80/20 mixture of mugwort (gives a nice stoned feeling) and salvia.  I smoked this in two hits and found myself in the happy glowy MDMA like state that I had experienced before as a come down.  I waited 5 minutes and nothing else happened so I made another bowl with a half and half mixture of the same drugs.  A hit of that put me in a deeper trip.  I experience the same feeling but with far less intensity.  This time it was the closet door that I felt I needed to go to.  I closed my eyes and buried my head in my husbands shirt until the feeling past.  I can see how many people see tunnels on salvia, since I keep focusing on doors.  After this second attempt I realized that salvia was going to keep taking me to the same place until I had a better idea of where I wanted to go and how to get there.\\n\\n\\n\\nI came away from this trip terrified of salvia but also deeply intrigued.  Someday I would like to try it again, at a smaller dose and with more preparation.  This drug has the power to take me somewhere amazing but I am not ready for it yet.\", 'Sideways World', 'Salvia divinorum (5x extract)']\n"
     ]
    }
   ],
   "source": [
    "# Explore the dataset trips.csv\n",
    "import csv\n",
    "printed = 0\n",
    "with open('trips.csv') as f:\n",
    "  csv_reader = csv.reader(f)\n",
    "  for line in csv_reader:\n",
    "    if printed < 2:\n",
    "        print(line)\n",
    "        printed += 1\n",
    "    else:\n",
    "        break"
   ]
  },
  {
   "cell_type": "markdown",
   "metadata": {
    "colab_type": "text",
    "id": "0PLwYoYTMFO_"
   },
   "source": [
    "# Epilogue: The Stories that are Not Part of the Story\n",
    "\n",
    "`TODO`\n",
    "\n",
    "<br />\n",
    "<br />\n",
    "<br />\n",
    "<br />\n",
    "<br />\n",
    "<br />\n",
    "<br />\n",
    "<br />\n",
    "<br />\n",
    "<br />\n",
    "<br />\n",
    "<br />\n",
    "<br />\n",
    "<br />\n",
    "<br />\n",
    "<br />\n",
    "<br />"
   ]
  },
  {
   "cell_type": "markdown",
   "metadata": {
    "colab_type": "text",
    "id": "HRjDNGpjMFPA"
   },
   "source": [
    "## > Issues Encoutered, and solutions\n",
    "\n",
    "- Python not working:  \n",
    "`brew install python`  \n",
    "`brew update python`  \n",
    "- Need to update xcode command line tools after every major / minor os upgrade: `xcode-select --install`; see [here](https://stackoverflow.com/questions/52522565/git-is-not-working-after-macos-update-xcrun-error-invalid-active-developer-pa)\n",
    "\n",
    "- Issues with installing [wordcloud](https://www.datacamp.com/community/tutorials/wordcloud-python)\n",
    "- TODO: Write an article explaining managing python versions on Mac, using both `Anacoda` and `pip`\n",
    "- Cannot do `brew link <packageName>`; see [here](https://github.com/caskformula/homebrew-caskformula/issues/10)\n",
    "- Adding `autocompletion` to jupyter notebook with [this tool](https://github.com/ipython-contrib/jupyter_contrib_nbextensions)\n",
    "- Could not for the life of me get `toc2` to work\n",
    "- 5 tries... with trying to get code hiding to work; 2019-12-04, still no luck...\n",
    "- `TODO`: Putting a pin in this for now rip\n",
    "- see [this](https://gist.github.com/parente/35f5d3a9145bd3f030c8#file-nbviewer_code_toggle-ipynb)\n",
    "\n",
    "\n",
    "<br />\n",
    "<br />\n",
    "<br />\n",
    "<br />\n",
    "<br />\n",
    "<br />\n",
    "<br />\n",
    "<br />\n",
    "<br />\n",
    "<br />\n",
    "<br />\n",
    "<br />\n",
    "<br />\n",
    "<br />\n",
    "<br />\n",
    "<br />\n",
    "<br />\n"
   ]
  },
  {
   "cell_type": "markdown",
   "metadata": {
    "colab_type": "text",
    "id": "klZgi3AQMFPA"
   },
   "source": [
    "## > Fun (Optional) things discovered while working on Project\n",
    "- Add [animated progress nav](https://lab.hakim.se/progress-nav/)\n",
    "- [New York Times recommendation system](https://open.blogs.nytimes.com/2015/08/11/building-the-next-new-york-times-recommendation-engine)\n",
    "- [CSS background tricks](https://tympanus.net/codrops/css_reference/background/)\n",
    "- [spaCy webapplication demo](https://explosion.ai/demos/displacy)\n",
    "- [spaCy NER visulizer demo](https://explosion.ai/demos/displacy-ent)\n",
    "- [NLP with spaCy course](https://course.spacy.io/)"
   ]
  },
  {
   "cell_type": "code",
   "execution_count": 0,
   "metadata": {
    "colab": {},
    "colab_type": "code",
    "id": "t9ARq4FbMFPA",
    "outputId": "343c86dd-7be0-4ce5-9f87-0b65360fddb2"
   },
   "outputs": [
    {
     "data": {
      "text/html": [
       "<script src=\"https://cdn.rawgit.com/parente/4c3e6936d0d7a46fd071/raw/65b816fb9bdd3c28b4ddf3af602bfd6015486383/code_toggle.js\"></script>\n"
      ],
      "text/plain": [
       "<IPython.core.display.HTML object>"
      ]
     },
     "metadata": {
      "tags": []
     },
     "output_type": "display_data"
    }
   ],
   "source": [
    "%%html\n",
    "<script src=\"https://cdn.rawgit.com/parente/4c3e6936d0d7a46fd071/raw/65b816fb9bdd3c28b4ddf3af602bfd6015486383/code_toggle.js\"></script>"
   ]
  }
 ],
 "metadata": {
  "accelerator": "GPU",
  "colab": {
   "collapsed_sections": [
    "u8fV7T4fMFMC",
    "DheynHhTMFMq",
    "yKTfJkwhMFM2",
    "PQeY7facMFM7",
    "ji6UVIgVMFM8",
    "PgS72yzBMFM9",
    "vCF-7LBMMFM-",
    "AtL_hbqDMFM-",
    "7_07skQvMFM_",
    "T2hZ6KUTMFNA",
    "fM6_hS1AMFNd",
    "SYmKZ_9BMFNk",
    "EmAqQ_CAMFNo",
    "effsJXdgMFNs",
    "DrMipNNBMFN0",
    "I2iF_EoiMFN6",
    "nFwfZxVAMFOK",
    "LTOARHJbMFON",
    "n3CtZ1_FMFOb",
    "24LzCMPJMFOf",
    "3Ze1-nKuMFOh",
    "AGaF4ZfOMFOp",
    "R_F-ygOdMFOw",
    "-KqeOVrpMFOx",
    "TRIch4iTMFOx",
    "HRjDNGpjMFPA",
    "klZgi3AQMFPA"
   ],
   "machine_shape": "hm",
   "name": "AlexZhao_SeniorThesis_Notebook.ipynb",
   "provenance": [],
   "toc_visible": true
  },
  "kernelspec": {
   "display_name": "Python (wokemonkey)",
   "language": "python",
   "name": "wokemonkey"
  },
  "language_info": {
   "codemirror_mode": {
    "name": "ipython",
    "version": 3
   },
   "file_extension": ".py",
   "mimetype": "text/x-python",
   "name": "python",
   "nbconvert_exporter": "python",
   "pygments_lexer": "ipython3",
   "version": "3.7.5"
  },
  "toc": {
   "base_numbering": 1,
   "nav_menu": {},
   "number_sections": false,
   "sideBar": true,
   "skip_h1_title": false,
   "title_cell": "Table of Contents",
   "title_sidebar": "Contents",
   "toc_cell": false,
   "toc_position": {
    "height": "calc(100% - 180px)",
    "left": "10px",
    "top": "150px",
    "width": "384px"
   },
   "toc_section_display": true,
   "toc_window_display": true
  }
 },
 "nbformat": 4,
 "nbformat_minor": 1
}
